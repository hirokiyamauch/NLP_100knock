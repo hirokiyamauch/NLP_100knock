{
  "nbformat": 4,
  "nbformat_minor": 0,
  "metadata": {
    "colab": {
      "provenance": [],
      "collapsed_sections": [],
      "mount_file_id": "1sQomNU20soVULTIJHhF7fSH451W9YGui",
      "authorship_tag": "ABX9TyMvf/iDTOXJG2/9hB5GAjUy",
      "include_colab_link": true
    },
    "kernelspec": {
      "name": "python3",
      "display_name": "Python 3"
    },
    "language_info": {
      "name": "python"
    },
    "accelerator": "GPU",
    "gpuClass": "standard"
  },
  "cells": [
    {
      "cell_type": "markdown",
      "metadata": {
        "id": "view-in-github",
        "colab_type": "text"
      },
      "source": [
        "<a href=\"https://colab.research.google.com/github/hirokiyamauch/NLP_100knock/blob/%E7%AC%AC9%E7%AB%A0/80_89.ipynb\" target=\"_parent\"><img src=\"https://colab.research.google.com/assets/colab-badge.svg\" alt=\"Open In Colab\"/></a>"
      ]
    },
    {
      "cell_type": "code",
      "execution_count": null,
      "metadata": {
        "colab": {
          "base_uri": "https://localhost:8080/"
        },
        "id": "F3J08qthCtGO",
        "outputId": "4fbe5ef2-ff76-43e3-ca88-c446f8220515"
      },
      "outputs": [
        {
          "output_type": "stream",
          "name": "stdout",
          "text": [
            "--2022-08-24 16:18:23--  https://archive.ics.uci.edu/ml/machine-learning-databases/00359/NewsAggregatorDataset.zip\n",
            "Resolving archive.ics.uci.edu (archive.ics.uci.edu)... 128.195.10.252\n",
            "Connecting to archive.ics.uci.edu (archive.ics.uci.edu)|128.195.10.252|:443... connected.\n",
            "HTTP request sent, awaiting response... 200 OK\n",
            "Length: 29224203 (28M) [application/x-httpd-php]\n",
            "Saving to: ‘NewsAggregatorDataset.zip’\n",
            "\n",
            "NewsAggregatorDatas 100%[===================>]  27.87M  21.3MB/s    in 1.3s    \n",
            "\n",
            "2022-08-24 16:18:25 (21.3 MB/s) - ‘NewsAggregatorDataset.zip’ saved [29224203/29224203]\n",
            "\n",
            "Archive:  NewsAggregatorDataset.zip\n",
            "  inflating: 2pageSessions.csv       \n",
            "   creating: __MACOSX/\n",
            "  inflating: __MACOSX/._2pageSessions.csv  \n",
            "  inflating: newsCorpora.csv         \n",
            "  inflating: __MACOSX/._newsCorpora.csv  \n",
            "  inflating: readme.txt              \n",
            "  inflating: __MACOSX/._readme.txt   \n"
          ]
        }
      ],
      "source": [
        "# データのダウンロード\n",
        "!wget https://archive.ics.uci.edu/ml/machine-learning-databases/00359/NewsAggregatorDataset.zip\n",
        "!unzip NewsAggregatorDataset.zip"
      ]
    },
    {
      "cell_type": "code",
      "source": [
        "!sed -e 's/\"/'\\''/g' ./newsCorpora.csv > ./newsCorpora_re.csv"
      ],
      "metadata": {
        "id": "ZIhC5lMH3SWT"
      },
      "execution_count": null,
      "outputs": []
    },
    {
      "cell_type": "code",
      "source": [
        "import pandas as pd\n",
        "\n",
        "data = pd.read_csv(\"/content/newsCorpora_re.csv\", header=None, sep=\"\\t\", names=[\"ID\" ,\"TITLE\" ,\"URL\" ,\"PUBLISHER\" ,\"CATEGORY\" ,\"STORY\" ,\"HOSTNAME\" ,\"TIMESTAMP\"])\n",
        "\n",
        "print(data)"
      ],
      "metadata": {
        "id": "Zyy0WuXOC2pF",
        "colab": {
          "base_uri": "https://localhost:8080/"
        },
        "outputId": "10dc40f1-f278-40b2-c894-9f7b1079b6ce"
      },
      "execution_count": null,
      "outputs": [
        {
          "output_type": "stream",
          "name": "stdout",
          "text": [
            "            ID                                              TITLE  \\\n",
            "0            1  Fed official says weak data caused by weather,...   \n",
            "1            2  Fed's Charles Plosser sees high bar for change...   \n",
            "2            3  US open: Stocks fall after Fed official hints ...   \n",
            "3            4  Fed risks falling 'behind the curve', Charles ...   \n",
            "4            5  Fed's Plosser: Nasty Weather Has Curbed Job Gr...   \n",
            "...        ...                                                ...   \n",
            "422932  422933  Surgeons to remove 4-year-old's rib to rebuild...   \n",
            "422933  422934  Boy to have surgery on esophagus after battery...   \n",
            "422934  422935  Child who swallowed battery to have reconstruc...   \n",
            "422935  422936  Phoenix boy undergoes surgery to repair throat...   \n",
            "422936  422937  Phoenix boy undergoes surgery to repair throat...   \n",
            "\n",
            "                                                      URL          PUBLISHER  \\\n",
            "0       http://www.latimes.com/business/money/la-fi-mo...  Los Angeles Times   \n",
            "1       http://www.livemint.com/Politics/H2EvwJSK2VE6O...           Livemint   \n",
            "2       http://www.ifamagazine.com/news/us-open-stocks...       IFA Magazine   \n",
            "3       http://www.ifamagazine.com/news/fed-risks-fall...       IFA Magazine   \n",
            "4       http://www.moneynews.com/Economy/federal-reser...          Moneynews   \n",
            "...                                                   ...                ...   \n",
            "422932  http://www.cbs3springfield.com/story/26378648/...            WSHM-TV   \n",
            "422933  http://www.wlwt.com/news/boy-to-have-surgery-o...    WLWT Cincinnati   \n",
            "422934  http://www.newsnet5.com/news/local-news/child-...       NewsNet5.com   \n",
            "422935  http://www.wfsb.com/story/26368078/phoenix-boy...               WFSB   \n",
            "422936  http://www.cbs3springfield.com/story/26368078/...            WSHM-TV   \n",
            "\n",
            "       CATEGORY                          STORY                 HOSTNAME  \\\n",
            "0             b  ddUyU0VZz0BRneMioxUPQVP6sIxvM          www.latimes.com   \n",
            "1             b  ddUyU0VZz0BRneMioxUPQVP6sIxvM         www.livemint.com   \n",
            "2             b  ddUyU0VZz0BRneMioxUPQVP6sIxvM      www.ifamagazine.com   \n",
            "3             b  ddUyU0VZz0BRneMioxUPQVP6sIxvM      www.ifamagazine.com   \n",
            "4             b  ddUyU0VZz0BRneMioxUPQVP6sIxvM        www.moneynews.com   \n",
            "...         ...                            ...                      ...   \n",
            "422932        m  dpcLMoJD69UYMXMxaoEFnWql9YjQM  www.cbs3springfield.com   \n",
            "422933        m  dpcLMoJD69UYMXMxaoEFnWql9YjQM             www.wlwt.com   \n",
            "422934        m  dpcLMoJD69UYMXMxaoEFnWql9YjQM         www.newsnet5.com   \n",
            "422935        m  dpcLMoJD69UYMXMxaoEFnWql9YjQM             www.wfsb.com   \n",
            "422936        m  dpcLMoJD69UYMXMxaoEFnWql9YjQM  www.cbs3springfield.com   \n",
            "\n",
            "            TIMESTAMP  \n",
            "0       1394470370698  \n",
            "1       1394470371207  \n",
            "2       1394470371550  \n",
            "3       1394470371793  \n",
            "4       1394470372027  \n",
            "...               ...  \n",
            "422932  1409229190251  \n",
            "422933  1409229190508  \n",
            "422934  1409229190771  \n",
            "422935  1409229191071  \n",
            "422936  1409229191565  \n",
            "\n",
            "[422937 rows x 8 columns]\n"
          ]
        }
      ]
    },
    {
      "cell_type": "code",
      "source": [
        "from sklearn.model_selection import train_test_split\n",
        "file_df = data.loc[data['PUBLISHER'].isin(['Reuters', 'Huffington Post', 'Businessweek', 'Contactmusic.com', 'Daily Mail']), ['TITLE', 'CATEGORY']]\n",
        "\n",
        "train_data, teva_data = train_test_split(file_df, shuffle=True, test_size=0.2, random_state=42, stratify= file_df['CATEGORY'])\n",
        "valid_data, test_data = train_test_split(teva_data, shuffle=True, test_size=0.5, random_state=42, stratify= teva_data['CATEGORY'])\n",
        "train_data.to_csv(\"train.txt\", sep=\"\\t\")\n",
        "valid_data.to_csv(\"valid.txt\", sep=\"\\t\")\n",
        "test_data.to_csv(\"test.txt\", sep=\"\\t\")"
      ],
      "metadata": {
        "id": "xpcC_120C4Es"
      },
      "execution_count": null,
      "outputs": []
    },
    {
      "cell_type": "code",
      "source": [
        "# 事例数の確認\n",
        "print('【学習データ】')\n",
        "print(train_data['CATEGORY'].value_counts())\n",
        "print('【検証データ】')\n",
        "print(valid_data['CATEGORY'].value_counts())\n",
        "print('【評価データ】')\n",
        "print(test_data['CATEGORY'].value_counts())"
      ],
      "metadata": {
        "id": "tI3vvZGw59Lq",
        "colab": {
          "base_uri": "https://localhost:8080/"
        },
        "outputId": "814d10b9-131c-4b0f-dc77-7cb2ec963c11"
      },
      "execution_count": null,
      "outputs": [
        {
          "output_type": "stream",
          "name": "stdout",
          "text": [
            "【学習データ】\n",
            "b    4501\n",
            "e    4235\n",
            "t    1220\n",
            "m     728\n",
            "Name: CATEGORY, dtype: int64\n",
            "【検証データ】\n",
            "b    563\n",
            "e    529\n",
            "t    153\n",
            "m     91\n",
            "Name: CATEGORY, dtype: int64\n",
            "【評価データ】\n",
            "b    563\n",
            "e    530\n",
            "t    152\n",
            "m     91\n",
            "Name: CATEGORY, dtype: int64\n"
          ]
        }
      ]
    },
    {
      "cell_type": "code",
      "source": [
        "def word_counter(file):\n",
        "  counter_dic = {}\n",
        "  for lines in file:\n",
        "    sentence = lines.split()\n",
        "    for word in sentence:\n",
        "        #出現しない言語は新しく保存\n",
        "        if not word in counter_dic:\n",
        "            counter_dic[word] = 1\n",
        "        #出現する場合はcounterを増やす\n",
        "        else:\n",
        "           cnt = counter_dic[word]\n",
        "           cnt += 1\n",
        "           counter_dic[word] = cnt\n",
        "\n",
        "  count_list = sorted(counter_dic.items(), reverse=True, key=lambda x : x[1])\n",
        "  counter_dic.clear()\n",
        "  counter_dic.update(count_list)\n",
        "\n",
        "  id_word_dic = make_count_ID(count_list)\n",
        "\n",
        "  return id_word_dic\n",
        "\n",
        "#頻出単語順にIDをわりふり\n",
        "def make_count_ID(count_list):\n",
        "    id_word_dic = {}\n",
        "    for i, li in enumerate(count_list):\n",
        "        if li[1] >= 2:\n",
        "            id_word_dic[li[0]] = (i+1)\n",
        "    \n",
        "    return id_word_dic\n",
        "\n",
        "df_title = train_data[\"TITLE\"]\n",
        "id_word_dic = word_counter(df_title) "
      ],
      "metadata": {
        "id": "pTdryrAYD7Lq"
      },
      "execution_count": null,
      "outputs": []
    },
    {
      "cell_type": "code",
      "source": [
        "def id_transform(lines, id_word_dic=id_word_dic):\n",
        "  id_transform_file = []\n",
        "  sentence = lines.split()\n",
        "  ids = []\n",
        "  #一単語ごとにdicで出現頻度が2回以上の場合、IDを付与\n",
        "  for word in sentence:\n",
        "        if word in id_word_dic:\n",
        "            ids.append(int(id_word_dic[word]))\n",
        "        else:\n",
        "            ids.append(0)\n",
        "  id_transform_file = ids\n",
        "  \n",
        "  return id_transform_file"
      ],
      "metadata": {
        "id": "eEmCIfebFOTN"
      },
      "execution_count": null,
      "outputs": []
    },
    {
      "cell_type": "markdown",
      "source": [
        "81"
      ],
      "metadata": {
        "id": "7XEXJHEGuMo1"
      }
    },
    {
      "cell_type": "code",
      "source": [
        "from torch.utils.data import Dataset\n",
        "\n",
        "class CreateDataset(Dataset):\n",
        "  def __init__(self, X, y, tokenizer):\n",
        "    self.data = X\n",
        "    self.label = y\n",
        "    self.tokenizer = tokenizer\n",
        "\n",
        "  def __len__(self):  # len(Dataset)で返す値を指定\n",
        "    return len(self.label)\n",
        "\n",
        "  def __getitem__(self, index):  # Dataset[index]で返す値を指定\n",
        "    text = self.data[index]\n",
        "    label_puts = self.label[index]\n",
        "\n",
        "    if self.tokenizer:\n",
        "        inputs = self.tokenizer(text)\n",
        "        \n",
        "    return torch.tensor(inputs, dtype=torch.int64), torch.tensor(label_puts, dtype=torch.int64)"
      ],
      "metadata": {
        "id": "JZ1mGRlne8dy"
      },
      "execution_count": null,
      "outputs": []
    },
    {
      "cell_type": "code",
      "source": [
        "import torch\n",
        "import torch.nn as nn\n",
        "\n",
        "class MyRNN(torch.nn.Module):\n",
        "    # 埋め込み層, 隠れ層, 全結合層の定義 \n",
        "    def __init__(self, vocab_size, input_size,padding_idx, output_size, hidden_size, device):\n",
        "        super().__init__()\n",
        "        self.device = device\n",
        "        self.hidden_size = hidden_size\n",
        "        self.emb = nn.Embedding(vocab_size, input_size, padding_idx=padding_idx)\n",
        "        self.rnn = torch.nn.RNN(input_size, hidden_size, batch_first=True)\n",
        "        self.fc = torch.nn.Linear(hidden_size, output_size)\n",
        "    \n",
        "    # 順伝播\n",
        "    def forward(self, x):\n",
        "        self.batch_size = x.size()[0]\n",
        "        hidden = self.init_hidden() \n",
        "        output, h = self.rnn(self.emb(x), hidden)\n",
        "        output = self.fc(output[:, -1, :])\n",
        "        return output\n",
        "\n",
        "    def init_hidden(self):\n",
        "        hidden = torch.zeros(1, self.batch_size, self.hidden_size).to(self.device)\n",
        "        return hidden"
      ],
      "metadata": {
        "id": "J1J955-RuN4l"
      },
      "execution_count": null,
      "outputs": []
    },
    {
      "cell_type": "code",
      "source": [
        "train_data['TITLE'].values.tolist()[0]"
      ],
      "metadata": {
        "id": "hD1ovy_W1heD",
        "colab": {
          "base_uri": "https://localhost:8080/",
          "height": 35
        },
        "outputId": "d0e990ca-7a51-4f45-fcac-94b590db88bb"
      },
      "execution_count": null,
      "outputs": [
        {
          "output_type": "execute_result",
          "data": {
            "text/plain": [
              "'UPDATE 1-Sandwich chain Quiznos files for bankruptcy protection'"
            ],
            "application/vnd.google.colaboratory.intrinsic+json": {
              "type": "string"
            }
          },
          "metadata": {},
          "execution_count": 17
        }
      ]
    },
    {
      "cell_type": "code",
      "source": [
        "from torch.utils.data import Dataset\n",
        "# ラベルベクトルの作成\n",
        "category_dict = {'b': 0, 't': 1, 'e':2, 'm':3}\n",
        "y_train = train_data[\"CATEGORY\"].map(lambda x: category_dict[x]).values\n",
        "y_valid = valid_data[\"CATEGORY\"].map(lambda x: category_dict[x]).values\n",
        "y_test = test_data[\"CATEGORY\"].map(lambda x: category_dict[x]).values\n"
      ],
      "metadata": {
        "id": "-hp2wvDG1tt6"
      },
      "execution_count": null,
      "outputs": []
    },
    {
      "cell_type": "code",
      "source": [
        "# Datasetの作成\n",
        "dataset_train = CreateDataset(train_data[\"TITLE\"].values.tolist(), y_train, id_transform)\n",
        "dataset_valid = CreateDataset(valid_data[\"TITLE\"].values.tolist(), y_valid, id_transform)\n",
        "dataset_test = CreateDataset(test_data[\"TITLE\"].values.tolist(), y_test, id_transform)\n",
        "print('Dataset[index]の出力:')\n",
        "print(dataset_train[0])"
      ],
      "metadata": {
        "id": "6-SZLsk_j_Jv",
        "colab": {
          "base_uri": "https://localhost:8080/"
        },
        "outputId": "f8acef0f-7641-4893-94bd-9fa481ff3ca1"
      },
      "execution_count": null,
      "outputs": [
        {
          "output_type": "stream",
          "name": "stdout",
          "text": [
            "Dataset[index]の出力:\n",
            "(tensor([   5,    0, 1657,    0,  669,    9, 1272, 3277]), tensor(0))\n"
          ]
        }
      ]
    },
    {
      "cell_type": "code",
      "source": [
        "# パラメータの設定\n",
        "VOCAB_SIZE = len(set(id_word_dic.values())) + 1  # 辞書のID数 + パディングID\n",
        "EMB_SIZE = 300\n",
        "PADDING_IDX = len(set(id_word_dic.values()))\n",
        "OUTPUT_SIZE = 4\n",
        "HIDDEN_SIZE = 50\n",
        "device = torch.device(\"cpu\")\n",
        "# モデルの定義\n",
        "model = MyRNN(VOCAB_SIZE, EMB_SIZE, PADDING_IDX, OUTPUT_SIZE, HIDDEN_SIZE,device)\n",
        "\n",
        "for i in range(10):\n",
        "  X = dataset_train[i][0]\n",
        "  print(torch.softmax(model(X.unsqueeze(0)), dim=-1))"
      ],
      "metadata": {
        "id": "-DXGcf3IpiXJ",
        "colab": {
          "base_uri": "https://localhost:8080/"
        },
        "outputId": "d6b3d417-2fdf-4c99-8d00-6413f6d02d72"
      },
      "execution_count": null,
      "outputs": [
        {
          "output_type": "stream",
          "name": "stdout",
          "text": [
            "tensor([[0.1862, 0.2059, 0.3159, 0.2921]], grad_fn=<SoftmaxBackward0>)\n",
            "tensor([[0.2380, 0.2404, 0.3621, 0.1596]], grad_fn=<SoftmaxBackward0>)\n",
            "tensor([[0.2353, 0.3172, 0.0700, 0.3775]], grad_fn=<SoftmaxBackward0>)\n",
            "tensor([[0.3127, 0.1111, 0.4381, 0.1382]], grad_fn=<SoftmaxBackward0>)\n",
            "tensor([[0.2081, 0.3013, 0.1488, 0.3418]], grad_fn=<SoftmaxBackward0>)\n",
            "tensor([[0.4683, 0.1495, 0.1630, 0.2191]], grad_fn=<SoftmaxBackward0>)\n",
            "tensor([[0.3597, 0.1627, 0.2883, 0.1893]], grad_fn=<SoftmaxBackward0>)\n",
            "tensor([[0.3670, 0.1257, 0.1317, 0.3756]], grad_fn=<SoftmaxBackward0>)\n",
            "tensor([[0.1501, 0.4690, 0.1844, 0.1966]], grad_fn=<SoftmaxBackward0>)\n",
            "tensor([[0.2003, 0.3011, 0.1837, 0.3149]], grad_fn=<SoftmaxBackward0>)\n"
          ]
        }
      ]
    },
    {
      "cell_type": "markdown",
      "source": [
        "82"
      ],
      "metadata": {
        "id": "IDwWJ_Nv4UoA"
      }
    },
    {
      "cell_type": "code",
      "source": [
        "from torch.utils.data import DataLoader\n",
        "\n",
        "batch_size = 1\n",
        "\n",
        "#データセットからデータローダを作成\n",
        "train_loader = DataLoader(dataset_train, batch_size=batch_size, shuffle=True)\n",
        "valid_loader = DataLoader(dataset_valid, batch_size=batch_size, shuffle=False)\n",
        "test_loader = DataLoader(dataset_test, batch_size=batch_size, shuffle=False)"
      ],
      "metadata": {
        "id": "RPxe0o8x4V6i"
      },
      "execution_count": null,
      "outputs": []
    },
    {
      "cell_type": "code",
      "source": [
        "from sklearn.metrics import accuracy_score\n",
        "\n",
        "\n",
        "\n",
        "def calculate_loss_and_accuracy(model, criterion, dataloader, device):\n",
        "  \"\"\"損失・正解率を計算\"\"\"\n",
        "  loss = 0\n",
        "  with torch.no_grad():\n",
        "      acc_list = []\n",
        "      for batch in dataloader:\n",
        "        x, t = batch\n",
        "        # デバイスの指定\n",
        "        x = x.to(device)\n",
        "        t = t.to(device)\n",
        "\n",
        "        # 順伝播\n",
        "        outputs = model(x)\n",
        "\n",
        "        # 損失計算\n",
        "        loss += criterion(outputs, t).item()\n",
        "\n",
        "        # 正解率計算\n",
        "        pred = torch.argmax(outputs, dim=-1)\n",
        "        acc = accuracy_score(pred, t)\n",
        "        acc_list.append(acc)\n",
        "\n",
        "  return loss / len(dataloader), torch.tensor(acc_list).mean()"
      ],
      "metadata": {
        "id": "63cCOVha4kUz"
      },
      "execution_count": null,
      "outputs": []
    },
    {
      "cell_type": "code",
      "source": [
        "# パラメータの設定\n",
        "VOCAB_SIZE = len(set(id_word_dic.values())) + 1  # 辞書のID数 + パディングID\n",
        "EMB_SIZE = 300\n",
        "PADDING_IDX = len(set(id_word_dic.values()))\n",
        "OUTPUT_SIZE = 4\n",
        "HIDDEN_SIZE = 50\n",
        "\n",
        "\n",
        "# モデルの定義\n",
        "model = MyRNN(VOCAB_SIZE, EMB_SIZE, PADDING_IDX, OUTPUT_SIZE, HIDDEN_SIZE, device)\n",
        "model = model.to(device)\n",
        "criterion = nn.CrossEntropyLoss()\n",
        "optimizer = torch.optim.SGD(model.parameters(), lr=0.01)\n",
        "\n",
        "max_epoch=10\n",
        "train_loss_log, train_acc_log = [], [] \n",
        "valid_loss_log, valid_acc_log = [], [] \n",
        "for epoch in range(max_epoch):\n",
        "    for batch in train_loader:\n",
        "        x, t = batch  # バッチサイズ分のサンプルを抽出\n",
        "        optimizer.zero_grad()   # 勾配を初期化\n",
        "\n",
        "        # 順伝播\n",
        "        y = model(x) \n",
        "        loss = criterion(y, t)\n",
        "        # 誤差逆伝播\n",
        "        loss.backward()\n",
        "        optimizer.step() \n",
        "\n",
        "    # 学習データの損失、正解率を確認\n",
        "    train_loss, train_acc = calculate_loss_and_accuracy(model, criterion, train_loader, device)\n",
        "    # 検証データの損失、正解率を確認\n",
        "    valid_loss, valid_acc = calculate_loss_and_accuracy(model, criterion, valid_loader, device)\n",
        "    print(\"epoch: %d    train_loss: %.3f   train_acc: %.3f   valid_loss: %.3f   valid_acc: %.3f\" % (epoch+1, train_loss, train_acc, valid_loss, valid_acc))\n",
        "\n",
        "    # 進捗状況の保存\n",
        "    train_loss_log.append(train_loss)\n",
        "    train_acc_log.append(train_acc)\n",
        "    valid_loss_log.append(valid_loss)\n",
        "    valid_acc_log.append(valid_acc)"
      ],
      "metadata": {
        "colab": {
          "base_uri": "https://localhost:8080/",
          "height": 402
        },
        "id": "JCqML9kl47CM",
        "outputId": "3d0b0667-4762-4d8c-bbc4-f8155cb3604a"
      },
      "execution_count": null,
      "outputs": [
        {
          "output_type": "error",
          "ename": "KeyboardInterrupt",
          "evalue": "ignored",
          "traceback": [
            "\u001b[0;31m---------------------------------------------------------------------------\u001b[0m",
            "\u001b[0;31mKeyboardInterrupt\u001b[0m                         Traceback (most recent call last)",
            "\u001b[0;32m<ipython-input-29-ae420fc8dba8>\u001b[0m in \u001b[0;36m<module>\u001b[0;34m\u001b[0m\n\u001b[1;32m     26\u001b[0m         \u001b[0;31m# 誤差逆伝播\u001b[0m\u001b[0;34m\u001b[0m\u001b[0;34m\u001b[0m\u001b[0;34m\u001b[0m\u001b[0m\n\u001b[1;32m     27\u001b[0m         \u001b[0mloss\u001b[0m\u001b[0;34m.\u001b[0m\u001b[0mbackward\u001b[0m\u001b[0;34m(\u001b[0m\u001b[0;34m)\u001b[0m\u001b[0;34m\u001b[0m\u001b[0;34m\u001b[0m\u001b[0m\n\u001b[0;32m---> 28\u001b[0;31m         \u001b[0moptimizer\u001b[0m\u001b[0;34m.\u001b[0m\u001b[0mstep\u001b[0m\u001b[0;34m(\u001b[0m\u001b[0;34m)\u001b[0m\u001b[0;34m\u001b[0m\u001b[0;34m\u001b[0m\u001b[0m\n\u001b[0m\u001b[1;32m     29\u001b[0m \u001b[0;34m\u001b[0m\u001b[0m\n\u001b[1;32m     30\u001b[0m     \u001b[0;31m# 学習データの損失、正解率を確認\u001b[0m\u001b[0;34m\u001b[0m\u001b[0;34m\u001b[0m\u001b[0;34m\u001b[0m\u001b[0m\n",
            "\u001b[0;32m/usr/local/lib/python3.7/dist-packages/torch/optim/optimizer.py\u001b[0m in \u001b[0;36mwrapper\u001b[0;34m(*args, **kwargs)\u001b[0m\n\u001b[1;32m    111\u001b[0m                 \u001b[0mprofile_name\u001b[0m \u001b[0;34m=\u001b[0m \u001b[0;34m\"Optimizer.step#{}.step\"\u001b[0m\u001b[0;34m.\u001b[0m\u001b[0mformat\u001b[0m\u001b[0;34m(\u001b[0m\u001b[0mobj\u001b[0m\u001b[0;34m.\u001b[0m\u001b[0m__class__\u001b[0m\u001b[0;34m.\u001b[0m\u001b[0m__name__\u001b[0m\u001b[0;34m)\u001b[0m\u001b[0;34m\u001b[0m\u001b[0;34m\u001b[0m\u001b[0m\n\u001b[1;32m    112\u001b[0m                 \u001b[0;32mwith\u001b[0m \u001b[0mtorch\u001b[0m\u001b[0;34m.\u001b[0m\u001b[0mautograd\u001b[0m\u001b[0;34m.\u001b[0m\u001b[0mprofiler\u001b[0m\u001b[0;34m.\u001b[0m\u001b[0mrecord_function\u001b[0m\u001b[0;34m(\u001b[0m\u001b[0mprofile_name\u001b[0m\u001b[0;34m)\u001b[0m\u001b[0;34m:\u001b[0m\u001b[0;34m\u001b[0m\u001b[0;34m\u001b[0m\u001b[0m\n\u001b[0;32m--> 113\u001b[0;31m                     \u001b[0;32mreturn\u001b[0m \u001b[0mfunc\u001b[0m\u001b[0;34m(\u001b[0m\u001b[0;34m*\u001b[0m\u001b[0margs\u001b[0m\u001b[0;34m,\u001b[0m \u001b[0;34m**\u001b[0m\u001b[0mkwargs\u001b[0m\u001b[0;34m)\u001b[0m\u001b[0;34m\u001b[0m\u001b[0;34m\u001b[0m\u001b[0m\n\u001b[0m\u001b[1;32m    114\u001b[0m             \u001b[0;32mreturn\u001b[0m \u001b[0mwrapper\u001b[0m\u001b[0;34m\u001b[0m\u001b[0;34m\u001b[0m\u001b[0m\n\u001b[1;32m    115\u001b[0m \u001b[0;34m\u001b[0m\u001b[0m\n",
            "\u001b[0;32m/usr/local/lib/python3.7/dist-packages/torch/autograd/grad_mode.py\u001b[0m in \u001b[0;36mdecorate_context\u001b[0;34m(*args, **kwargs)\u001b[0m\n\u001b[1;32m     25\u001b[0m         \u001b[0;32mdef\u001b[0m \u001b[0mdecorate_context\u001b[0m\u001b[0;34m(\u001b[0m\u001b[0;34m*\u001b[0m\u001b[0margs\u001b[0m\u001b[0;34m,\u001b[0m \u001b[0;34m**\u001b[0m\u001b[0mkwargs\u001b[0m\u001b[0;34m)\u001b[0m\u001b[0;34m:\u001b[0m\u001b[0;34m\u001b[0m\u001b[0;34m\u001b[0m\u001b[0m\n\u001b[1;32m     26\u001b[0m             \u001b[0;32mwith\u001b[0m \u001b[0mself\u001b[0m\u001b[0;34m.\u001b[0m\u001b[0mclone\u001b[0m\u001b[0;34m(\u001b[0m\u001b[0;34m)\u001b[0m\u001b[0;34m:\u001b[0m\u001b[0;34m\u001b[0m\u001b[0;34m\u001b[0m\u001b[0m\n\u001b[0;32m---> 27\u001b[0;31m                 \u001b[0;32mreturn\u001b[0m \u001b[0mfunc\u001b[0m\u001b[0;34m(\u001b[0m\u001b[0;34m*\u001b[0m\u001b[0margs\u001b[0m\u001b[0;34m,\u001b[0m \u001b[0;34m**\u001b[0m\u001b[0mkwargs\u001b[0m\u001b[0;34m)\u001b[0m\u001b[0;34m\u001b[0m\u001b[0;34m\u001b[0m\u001b[0m\n\u001b[0m\u001b[1;32m     28\u001b[0m         \u001b[0;32mreturn\u001b[0m \u001b[0mcast\u001b[0m\u001b[0;34m(\u001b[0m\u001b[0mF\u001b[0m\u001b[0;34m,\u001b[0m \u001b[0mdecorate_context\u001b[0m\u001b[0;34m)\u001b[0m\u001b[0;34m\u001b[0m\u001b[0;34m\u001b[0m\u001b[0m\n\u001b[1;32m     29\u001b[0m \u001b[0;34m\u001b[0m\u001b[0m\n",
            "\u001b[0;32m/usr/local/lib/python3.7/dist-packages/torch/optim/sgd.py\u001b[0m in \u001b[0;36mstep\u001b[0;34m(self, closure)\u001b[0m\n\u001b[1;32m    154\u001b[0m                 \u001b[0mmaximize\u001b[0m\u001b[0;34m=\u001b[0m\u001b[0mgroup\u001b[0m\u001b[0;34m[\u001b[0m\u001b[0;34m'maximize'\u001b[0m\u001b[0;34m]\u001b[0m\u001b[0;34m,\u001b[0m\u001b[0;34m\u001b[0m\u001b[0;34m\u001b[0m\u001b[0m\n\u001b[1;32m    155\u001b[0m                 \u001b[0mhas_sparse_grad\u001b[0m\u001b[0;34m=\u001b[0m\u001b[0mhas_sparse_grad\u001b[0m\u001b[0;34m,\u001b[0m\u001b[0;34m\u001b[0m\u001b[0;34m\u001b[0m\u001b[0m\n\u001b[0;32m--> 156\u001b[0;31m                 foreach=group['foreach'])\n\u001b[0m\u001b[1;32m    157\u001b[0m \u001b[0;34m\u001b[0m\u001b[0m\n\u001b[1;32m    158\u001b[0m             \u001b[0;31m# update momentum_buffers in state\u001b[0m\u001b[0;34m\u001b[0m\u001b[0;34m\u001b[0m\u001b[0;34m\u001b[0m\u001b[0m\n",
            "\u001b[0;32m/usr/local/lib/python3.7/dist-packages/torch/optim/sgd.py\u001b[0m in \u001b[0;36msgd\u001b[0;34m(params, d_p_list, momentum_buffer_list, has_sparse_grad, foreach, weight_decay, momentum, lr, dampening, nesterov, maximize)\u001b[0m\n\u001b[1;32m    204\u001b[0m          \u001b[0mnesterov\u001b[0m\u001b[0;34m=\u001b[0m\u001b[0mnesterov\u001b[0m\u001b[0;34m,\u001b[0m\u001b[0;34m\u001b[0m\u001b[0;34m\u001b[0m\u001b[0m\n\u001b[1;32m    205\u001b[0m          \u001b[0mhas_sparse_grad\u001b[0m\u001b[0;34m=\u001b[0m\u001b[0mhas_sparse_grad\u001b[0m\u001b[0;34m,\u001b[0m\u001b[0;34m\u001b[0m\u001b[0;34m\u001b[0m\u001b[0m\n\u001b[0;32m--> 206\u001b[0;31m          maximize=maximize)\n\u001b[0m\u001b[1;32m    207\u001b[0m \u001b[0;34m\u001b[0m\u001b[0m\n\u001b[1;32m    208\u001b[0m def _single_tensor_sgd(params: List[Tensor],\n",
            "\u001b[0;32m/usr/local/lib/python3.7/dist-packages/torch/optim/sgd.py\u001b[0m in \u001b[0;36m_single_tensor_sgd\u001b[0;34m(params, d_p_list, momentum_buffer_list, weight_decay, momentum, lr, dampening, nesterov, maximize, has_sparse_grad)\u001b[0m\n\u001b[1;32m    239\u001b[0m \u001b[0;34m\u001b[0m\u001b[0m\n\u001b[1;32m    240\u001b[0m         \u001b[0malpha\u001b[0m \u001b[0;34m=\u001b[0m \u001b[0mlr\u001b[0m \u001b[0;32mif\u001b[0m \u001b[0mmaximize\u001b[0m \u001b[0;32melse\u001b[0m \u001b[0;34m-\u001b[0m\u001b[0mlr\u001b[0m\u001b[0;34m\u001b[0m\u001b[0;34m\u001b[0m\u001b[0m\n\u001b[0;32m--> 241\u001b[0;31m         \u001b[0mparam\u001b[0m\u001b[0;34m.\u001b[0m\u001b[0madd_\u001b[0m\u001b[0;34m(\u001b[0m\u001b[0md_p\u001b[0m\u001b[0;34m,\u001b[0m \u001b[0malpha\u001b[0m\u001b[0;34m=\u001b[0m\u001b[0malpha\u001b[0m\u001b[0;34m)\u001b[0m\u001b[0;34m\u001b[0m\u001b[0;34m\u001b[0m\u001b[0m\n\u001b[0m\u001b[1;32m    242\u001b[0m \u001b[0;34m\u001b[0m\u001b[0m\n\u001b[1;32m    243\u001b[0m \u001b[0;34m\u001b[0m\u001b[0m\n",
            "\u001b[0;31mKeyboardInterrupt\u001b[0m: "
          ]
        }
      ]
    },
    {
      "cell_type": "code",
      "source": [
        "import matplotlib.pyplot as plt\n",
        "def visualize_logs():\n",
        "  fig, ax = plt.subplots(1, 2, figsize=(15, 5))\n",
        "  ax[0].plot(train_loss_log, label='train')\n",
        "  ax[0].plot(valid_loss_log, label='valid')\n",
        "  ax[0].set_xlabel('epoch')\n",
        "  ax[0].set_ylabel('loss')\n",
        "  ax[0].legend()\n",
        "  ax[1].plot(train_acc_log, label='train')\n",
        "  ax[1].plot(valid_acc_log, label='valid')\n",
        "  ax[1].set_xlabel('epoch')\n",
        "  ax[1].set_ylabel('accuracy')\n",
        "  ax[1].legend()\n",
        "  plt.show()\n",
        "visualize_logs()"
      ],
      "metadata": {
        "colab": {
          "base_uri": "https://localhost:8080/",
          "height": 311
        },
        "id": "v9AIcyhADgHL",
        "outputId": "c9dd8ebe-02c5-406e-93f3-563c4e8ed2d7"
      },
      "execution_count": null,
      "outputs": [
        {
          "output_type": "display_data",
          "data": {
            "text/plain": [
              "<Figure size 1080x360 with 2 Axes>"
            ],
            "image/png": "[encoded data removed]"
          },
          "metadata": {
            "needs_background": "light"
          }
        }
      ]
    },
    {
      "cell_type": "markdown",
      "source": [
        "83"
      ],
      "metadata": {
        "id": "6hOqovdzT7iE"
      }
    },
    {
      "cell_type": "code",
      "source": [
        "device = torch.device(\"cuda:0\" if torch.cuda.is_available() else \"cpu\")\n",
        "print(device)"
      ],
      "metadata": {
        "colab": {
          "base_uri": "https://localhost:8080/"
        },
        "id": "Jr-lhMGiG3ez",
        "outputId": "fdc68c65-463f-4e4c-d9e6-5caaae6abdac"
      },
      "execution_count": null,
      "outputs": [
        {
          "output_type": "stream",
          "name": "stdout",
          "text": [
            "cpu\n"
          ]
        }
      ]
    },
    {
      "cell_type": "code",
      "source": [
        "from torch.nn.utils.rnn import pad_sequence\n",
        "\n",
        "def padsequence(batch):\n",
        "  #Dataloaderからミニバッチを取り出すごとに最大系列長でパディング\n",
        "    sorted_batch = sorted(batch, key=lambda x: x[0].shape[0], reverse=True)\n",
        "    sequences = [x[0] for x in sorted_batch]\n",
        "    sequences_padded = torch.nn.utils.rnn.pad_sequence(sequences, batch_first=True, padding_value=PADDING_IDX)\n",
        "    labels = torch.LongTensor([x[1] for x in sorted_batch])\n",
        "\n",
        "    return sequences_padded,labels"
      ],
      "metadata": {
        "id": "vT8b-OI3ITLY"
      },
      "execution_count": null,
      "outputs": []
    },
    {
      "cell_type": "code",
      "source": [
        "def calculate_loss_and_accuracy(model, criterion, dataloader, device):\n",
        "  \"\"\"損失・正解率を計算\"\"\"\n",
        "  loss = 0\n",
        "  with torch.no_grad():\n",
        "      acc_list = []\n",
        "      for batch in dataloader:\n",
        "        x, t = batch\n",
        "        # デバイスの指定\n",
        "        x = x.to(device)\n",
        "        t = t.to(device)\n",
        "\n",
        "        # 順伝播\n",
        "        outputs = model(x)\n",
        "\n",
        "        # 損失計算\n",
        "        loss += criterion(outputs, t).item()\n",
        "\n",
        "        # 正解率計算\n",
        "        pred = torch.argmax(outputs, dim=-1)\n",
        "        acc = (pred == t).sum() * 1.0 / len(t)\n",
        "        acc_list.append(acc)\n",
        "\n",
        "  return loss / len(dataloader), torch.tensor(acc_list).mean()"
      ],
      "metadata": {
        "id": "bLiDZzCKLtxH"
      },
      "execution_count": null,
      "outputs": []
    },
    {
      "cell_type": "code",
      "source": [
        "# パラメータの設定\n",
        "VOCAB_SIZE = len(set(id_word_dic.values())) + 1  # 辞書のID数 + パディングID\n",
        "EMB_SIZE = 300\n",
        "PADDING_IDX = len(set(id_word_dic.values()))\n",
        "OUTPUT_SIZE = 4\n",
        "HIDDEN_SIZE = 50\n",
        "\n",
        "\n",
        "# モデルの定義\n",
        "model = MyRNN(VOCAB_SIZE, EMB_SIZE, PADDING_IDX, OUTPUT_SIZE, HIDDEN_SIZE, device)\n",
        "criterion = nn.CrossEntropyLoss()\n",
        "optimizer = torch.optim.SGD(model.parameters(), lr=0.01)\n",
        "\n",
        "model = model.to(device)\n",
        "\n",
        "max_epoch=1\n",
        "train_loss_log, train_acc_log = [], [] \n",
        "valid_loss_log, valid_acc_log = [], [] \n",
        "\n",
        "for batch_size in [2,4,6,8,10]:\n",
        "    train_loader = DataLoader(dataset_train, batch_size=batch_size, shuffle=True, collate_fn=padsequence)\n",
        "    valid_loader = DataLoader(dataset_valid, batch_size=batch_size, shuffle=False, collate_fn=padsequence)\n",
        "    for epoch in range(max_epoch):\n",
        "        for batch in train_loader:\n",
        "            x, t = batch  # バッチサイズ分のサンプルを抽出\n",
        "            x = x.to(device)\n",
        "            t = t.to(device)\n",
        "\n",
        "            optimizer.zero_grad()   # 勾配を初期化\n",
        "            # 順伝播\n",
        "            y = model(x) \n",
        "            loss = criterion(y, t)\n",
        "            # 誤差逆伝播\n",
        "            loss.backward()\n",
        "            optimizer.step() \n",
        "\n",
        "        # 学習データの損失、正解率を確認\n",
        "        train_loss, train_acc = calculate_loss_and_accuracy(model, criterion, train_loader, device)\n",
        "        # 検証データの損失、正解率を確認\n",
        "        valid_loss, valid_acc = calculate_loss_and_accuracy(model, criterion, valid_loader, device)\n",
        "        print(\"batch_size: %d   epoch: %d    train_loss: %.3f   train_acc: %.3f   valid_loss: %.3f   valid_acc: %.3f\" % (batch_size, epoch+1, train_loss, train_acc, valid_loss, valid_acc))\n",
        "\n",
        "        # 進捗状況の保存\n",
        "        train_loss_log.append(train_loss)\n",
        "        train_acc_log.append(train_acc)\n",
        "        valid_loss_log.append(valid_loss)\n",
        "        valid_acc_log.append(valid_acc)"
      ],
      "metadata": {
        "id": "ETO8eIedIhlY"
      },
      "execution_count": null,
      "outputs": []
    },
    {
      "cell_type": "markdown",
      "source": [
        "84"
      ],
      "metadata": {
        "id": "vGh9_xBET-0X"
      }
    },
    {
      "cell_type": "code",
      "source": [
        "! pip install gensim==4.0.1\n",
        "\n",
        "import gensim\n",
        "gensim.__version__"
      ],
      "metadata": {
        "id": "ZV9bfdfzR8Z6",
        "colab": {
          "base_uri": "https://localhost:8080/",
          "height": 316
        },
        "outputId": "103ef11a-15ce-4153-892d-4892845b78ad"
      },
      "execution_count": null,
      "outputs": [
        {
          "output_type": "stream",
          "name": "stdout",
          "text": [
            "Looking in indexes: https://pypi.org/simple, https://us-python.pkg.dev/colab-wheels/public/simple/\n",
            "Collecting gensim==4.0.1\n",
            "  Downloading gensim-4.0.1-cp37-cp37m-manylinux1_x86_64.whl (23.9 MB)\n",
            "\u001b[K     |████████████████████████████████| 23.9 MB 1.3 MB/s \n",
            "\u001b[?25hRequirement already satisfied: smart-open>=1.8.1 in /usr/local/lib/python3.7/dist-packages (from gensim==4.0.1) (5.2.1)\n",
            "Requirement already satisfied: scipy>=0.18.1 in /usr/local/lib/python3.7/dist-packages (from gensim==4.0.1) (1.7.3)\n",
            "Requirement already satisfied: numpy>=1.11.3 in /usr/local/lib/python3.7/dist-packages (from gensim==4.0.1) (1.21.6)\n",
            "Installing collected packages: gensim\n",
            "  Attempting uninstall: gensim\n",
            "    Found existing installation: gensim 3.6.0\n",
            "    Uninstalling gensim-3.6.0:\n",
            "      Successfully uninstalled gensim-3.6.0\n",
            "Successfully installed gensim-4.0.1\n"
          ]
        },
        {
          "output_type": "stream",
          "name": "stderr",
          "text": [
            "/usr/local/lib/python3.7/dist-packages/gensim/similarities/__init__.py:15: UserWarning: The gensim.similarities.levenshtein submodule is disabled, because the optional Levenshtein package <https://pypi.org/project/python-Levenshtein/> is unavailable. Install Levenhstein (e.g. `pip install python-Levenshtein`) to suppress this warning.\n",
            "  warnings.warn(msg)\n"
          ]
        },
        {
          "output_type": "execute_result",
          "data": {
            "text/plain": [
              "'4.0.1'"
            ],
            "application/vnd.google.colaboratory.intrinsic+json": {
              "type": "string"
            }
          },
          "metadata": {},
          "execution_count": 24
        }
      ]
    },
    {
      "cell_type": "code",
      "source": [
        "# 学習済み単語ベクトルのダウンロード\n",
        "FILE_ID = \"0B7XkCwpI5KDYNlNUTTlSS21pQmM\"\n",
        "FILE_NAME = \"GoogleNews-vectors-negative300.bin.gz\"\n",
        "!wget --load-cookies /tmp/cookies.txt \"https://docs.google.com/uc?export=download&confirm=$(wget --quiet --save-cookies /tmp/cookies.txt --keep-session-cookies --no-check-certificate 'https://docs.google.com/uc?export=download&id=$FILE_ID' -O- | sed -rn 's/.*confirm=([0-9A-Za-z_]+).*/\\1\\n/p')&id=$FILE_ID\" -O $FILE_NAME && rm -rf /tmp/cookies.txt"
      ],
      "metadata": {
        "colab": {
          "base_uri": "https://localhost:8080/"
        },
        "id": "LZ_V8bPCVyir",
        "outputId": "25751453-aeb3-4237-f9a8-c0e86be9a9b8"
      },
      "execution_count": null,
      "outputs": [
        {
          "output_type": "stream",
          "name": "stdout",
          "text": [
            "--2022-08-24 16:20:05--  https://docs.google.com/uc?export=download&confirm=&id=0B7XkCwpI5KDYNlNUTTlSS21pQmM\n",
            "Resolving docs.google.com (docs.google.com)... 142.251.107.113, 142.251.107.139, 142.251.107.100, ...\n",
            "Connecting to docs.google.com (docs.google.com)|142.251.107.113|:443... connected.\n",
            "HTTP request sent, awaiting response... 200 OK\n",
            "Length: unspecified [text/html]\n",
            "Saving to: ‘GoogleNews-vectors-negative300.bin.gz’\n",
            "\n",
            "GoogleNews-vectors-     [ <=>                ]   2.33K  --.-KB/s    in 0s      \n",
            "\n",
            "2022-08-24 16:20:05 (23.1 MB/s) - ‘GoogleNews-vectors-negative300.bin.gz’ saved [2386]\n",
            "\n"
          ]
        }
      ]
    },
    {
      "cell_type": "code",
      "source": [
        "from gensim.models import KeyedVectors\n",
        "\n",
        "vector = KeyedVectors.load_word2vec_format(\"/content/drive/MyDrive/GoogleNews-vectors-negative300.bin.gz\", binary=True)"
      ],
      "metadata": {
        "id": "adP0IzJqWHVM"
      },
      "execution_count": null,
      "outputs": []
    },
    {
      "cell_type": "code",
      "source": [
        "import numpy as np\n",
        "\n",
        "# 学習済み単語ベクトルの取得\n",
        "VOCAB_SIZE = len(set(id_word_dic.values())) + 1\n",
        "EMB_SIZE = 300\n",
        "weights = np.zeros((VOCAB_SIZE, EMB_SIZE))\n",
        "words_in_pretrained = 0\n",
        "for i, word in enumerate(id_word_dic.keys()):\n",
        "  try:\n",
        "    weights[i] = vector[word]\n",
        "    words_in_pretrained += 1\n",
        "  except KeyError:\n",
        "    weights[i] = np.random.normal(scale=0.4, size=(EMB_SIZE,))\n",
        "weights = torch.from_numpy(weights.astype((np.float32)))\n",
        "\n",
        "print(f'学習済みベクトル利用単語数: {words_in_pretrained} / {VOCAB_SIZE}')\n",
        "print(weights.size())"
      ],
      "metadata": {
        "colab": {
          "base_uri": "https://localhost:8080/"
        },
        "id": "CN7nEJ-LXeDG",
        "outputId": "618b28c2-6958-4b73-f1de-2966cca9cc36"
      },
      "execution_count": null,
      "outputs": [
        {
          "output_type": "stream",
          "name": "stdout",
          "text": [
            "学習済みベクトル利用単語数: 8295 / 10306\n",
            "torch.Size([10306, 300])\n"
          ]
        }
      ]
    },
    {
      "cell_type": "code",
      "source": [
        "class MyRNN(nn.Module):\n",
        "  def __init__(self, vocab_size, emb_size, hidden_size, num_layers, output_size, padding_idx, bidirectional, device, emb_weights=None):\n",
        "    super().__init__()\n",
        "    self.device = device\n",
        "    self.hidden_size = hidden_size\n",
        "    self.num_layers = num_layers\n",
        "    self.num_directions = bidirectional + 1  # 単方向：1、双方向：2\n",
        "    if emb_weights != None:  # 指定があれば埋め込み層の重みをemb_weightsで初期化\n",
        "      self.emb = nn.Embedding.from_pretrained(emb_weights, padding_idx=padding_idx)\n",
        "    else:\n",
        "      self.emb = nn.Embedding(vocab_size, emb_size, padding_idx=padding_idx)\n",
        "    self.rnn = nn.RNN(emb_size, hidden_size, num_layers, bidirectional=bidirectional, batch_first=True)\n",
        "    self.fc = nn.Linear(hidden_size * self.num_directions, output_size)\n",
        "\n",
        "  def forward(self, x):\n",
        "        self.batch_size = x.size()[0]\n",
        "        hidden = self.init_hidden() \n",
        "        output, h = self.rnn(self.emb(x), hidden)\n",
        "        output = self.fc(output[:, -1, :])\n",
        "        return output\n",
        "\n",
        "  def init_hidden(self):\n",
        "    hidden = torch.zeros(self.num_layers * self.num_directions, self.batch_size, self.hidden_size).to(self.device)\n",
        "    return hidden"
      ],
      "metadata": {
        "id": "Gp8rRprYY7un"
      },
      "execution_count": null,
      "outputs": []
    },
    {
      "cell_type": "code",
      "source": [
        "# パラメータの設定\n",
        "VOCAB_SIZE = len(set(id_word_dic.values())) + 1  # 辞書のID数 + パディングID\n",
        "EMB_SIZE = 300\n",
        "PADDING_IDX = len(set(id_word_dic.values()))\n",
        "num_layers=1\n",
        "OUTPUT_SIZE = 4\n",
        "HIDDEN_SIZE = 50\n",
        "bidirectional = False\n",
        "print(device)\n",
        "\n",
        "# モデルの定義\n",
        "model = MyRNN(VOCAB_SIZE, EMB_SIZE, HIDDEN_SIZE, num_layers, OUTPUT_SIZE, PADDING_IDX, bidirectional, device, emb_weights=weights)\n",
        "model = model.to(device)\n",
        "criterion = nn.CrossEntropyLoss()\n",
        "optimizer = torch.optim.SGD(model.parameters(), lr=0.01)\n",
        "\n",
        "max_epoch=1\n",
        "train_loss_log, train_acc_log = [], [] \n",
        "valid_loss_log, valid_acc_log = [], [] \n",
        "for epoch in range(max_epoch):\n",
        "    for batch in train_loader:\n",
        "        x, t = batch  # バッチサイズ分のサンプルを抽出\n",
        "        optimizer.zero_grad()   # 勾配を初期化\n",
        "\n",
        "        # 順伝播\n",
        "        y = model(x) \n",
        "        loss = criterion(y, t)\n",
        "        # 誤差逆伝播\n",
        "        loss.backward()\n",
        "        optimizer.step() \n",
        "\n",
        "    # 学習データの損失、正解率を確認\n",
        "    train_loss, train_acc = calculate_loss_and_accuracy(model, criterion, train_loader, device)\n",
        "    # 検証データの損失、正解率を確認\n",
        "    valid_loss, valid_acc = calculate_loss_and_accuracy(model, criterion, valid_loader, device)\n",
        "    print(\"epoch: %d    train_loss: %.3f   train_acc: %.3f   valid_loss: %.3f   valid_acc: %.3f\" % (epoch+1, train_loss, train_acc, valid_loss, valid_acc))\n",
        "\n",
        "    # 進捗状況の保存\n",
        "    train_loss_log.append(train_loss)\n",
        "    train_acc_log.append(train_acc)\n",
        "    valid_loss_log.append(valid_loss)\n",
        "    valid_acc_log.append(valid_acc)"
      ],
      "metadata": {
        "colab": {
          "base_uri": "https://localhost:8080/"
        },
        "id": "zNZpFzVaZMds",
        "outputId": "30f6a1ec-1c23-4a20-a729-740fc078c084"
      },
      "execution_count": null,
      "outputs": [
        {
          "output_type": "stream",
          "name": "stdout",
          "text": [
            "cpu\n",
            "epoch: 1    train_loss: 0.979   train_acc: 0.643   valid_loss: 1.009   valid_acc: 0.635\n"
          ]
        }
      ]
    },
    {
      "cell_type": "code",
      "source": [
        "import matplotlib.pyplot as plt\n",
        "def visualize_logs():\n",
        "  fig, ax = plt.subplots(1, 2, figsize=(15, 5))\n",
        "  ax[0].plot(train_loss_log, label='train')\n",
        "  ax[0].plot(valid_loss_log, label='valid')\n",
        "  ax[0].set_xlabel('epoch')\n",
        "  ax[0].set_ylabel('loss')\n",
        "  ax[0].legend()\n",
        "  ax[1].plot(train_acc_log, label='train')\n",
        "  ax[1].plot(valid_acc_log, label='valid')\n",
        "  ax[1].set_xlabel('epoch')\n",
        "  ax[1].set_ylabel('accuracy')\n",
        "  ax[1].legend()\n",
        "  plt.show()\n",
        "visualize_logs()"
      ],
      "metadata": {
        "colab": {
          "base_uri": "https://localhost:8080/",
          "height": 314
        },
        "id": "bH0ffWhlkf6q",
        "outputId": "6b5c3e31-d855-4f94-be70-c32a12aa623d"
      },
      "execution_count": null,
      "outputs": [
        {
          "output_type": "display_data",
          "data": {
            "text/plain": [
              "<Figure size 1080x360 with 2 Axes>"
            ],
            "image/png": "[encoded data removed]"
          },
          "metadata": {
            "needs_background": "light"
          }
        }
      ]
    },
    {
      "cell_type": "markdown",
      "source": [
        "85. 双方向RNN・多層化"
      ],
      "metadata": {
        "id": "kSJYca7hikR4"
      }
    },
    {
      "cell_type": "code",
      "source": [
        "# パラメータの設定\n",
        "VOCAB_SIZE = len(set(id_word_dic.values())) + 1  # 辞書のID数 + パディングID\n",
        "EMB_SIZE = 300\n",
        "PADDING_IDX = len(set(id_word_dic.values()))\n",
        "num_layers=1\n",
        "OUTPUT_SIZE = 4\n",
        "HIDDEN_SIZE = 50\n",
        "bidirectional = True\n",
        "print(device)\n",
        "\n",
        "# モデルの定義\n",
        "model = MyRNN(VOCAB_SIZE, EMB_SIZE, HIDDEN_SIZE, num_layers, OUTPUT_SIZE, PADDING_IDX, bidirectional, device, emb_weights=weights)\n",
        "model = model.to(device)\n",
        "criterion = nn.CrossEntropyLoss()\n",
        "optimizer = torch.optim.SGD(model.parameters(), lr=0.01)\n",
        "\n",
        "max_epoch=1\n",
        "train_loss_log, train_acc_log = [], [] \n",
        "valid_loss_log, valid_acc_log = [], [] \n",
        "for epoch in range(max_epoch):\n",
        "    for batch in train_loader:\n",
        "        x, t = batch  # バッチサイズ分のサンプルを抽出\n",
        "        optimizer.zero_grad()   # 勾配を初期化\n",
        "\n",
        "        # 順伝播\n",
        "        y = model(x) \n",
        "        loss = criterion(y, t)\n",
        "        # 誤差逆伝播\n",
        "        loss.backward()\n",
        "        optimizer.step() \n",
        "\n",
        "    # 学習データの損失、正解率を確認\n",
        "    train_loss, train_acc = calculate_loss_and_accuracy(model, criterion, train_loader, device)\n",
        "    # 検証データの損失、正解率を確認\n",
        "    valid_loss, valid_acc = calculate_loss_and_accuracy(model, criterion, valid_loader, device)\n",
        "    print(\"epoch: %d    train_loss: %.3f   train_acc: %.3f   valid_loss: %.3f   valid_acc: %.3f\" % (epoch+1, train_loss, train_acc, valid_loss, valid_acc))\n",
        "\n",
        "    # 進捗状況の保存\n",
        "    train_loss_log.append(train_loss)\n",
        "    train_acc_log.append(train_acc)\n",
        "    valid_loss_log.append(valid_loss)\n",
        "    valid_acc_log.append(valid_acc)"
      ],
      "metadata": {
        "colab": {
          "base_uri": "https://localhost:8080/"
        },
        "id": "BexvpwELik_1",
        "outputId": "2218a8ea-5f85-4917-e919-837c06c18aa6"
      },
      "execution_count": null,
      "outputs": [
        {
          "output_type": "stream",
          "name": "stdout",
          "text": [
            "cpu\n",
            "epoch: 1    train_loss: 0.912   train_acc: 0.667   valid_loss: 0.971   valid_acc: 0.635\n"
          ]
        }
      ]
    },
    {
      "cell_type": "markdown",
      "source": [
        "86"
      ],
      "metadata": {
        "id": "myO1CYxPpBsu"
      }
    },
    {
      "cell_type": "code",
      "source": [
        "from torch.nn import functional as F\n",
        "\n",
        "class MyCNN(nn.Module):\n",
        "  def __init__(self, vocab_size, emb_size, padding_idx, output_size, out_channels, kernel_heights, stride, padding, emb_weights=None):\n",
        "    super().__init__()\n",
        "    if emb_weights != None:  # 指定があれば埋め込み層の重みをemb_weightsで初期化\n",
        "      self.emb = nn.Embedding.from_pretrained(emb_weights, padding_idx=padding_idx)\n",
        "    else:\n",
        "      self.emb = nn.Embedding(vocab_size, emb_size, padding_idx=padding_idx)\n",
        "    self.conv = nn.Conv2d(1, out_channels, (kernel_heights, emb_size), stride, (padding, 0))\n",
        "    self.drop = nn.Dropout(0.3)\n",
        "    self.fc = nn.Linear(out_channels, output_size)\n",
        "\n",
        "  def forward(self, x):\n",
        "    # x.size() = (batch_size, seq_len)\n",
        "    emb = self.emb(x).unsqueeze(1)\n",
        "    # emb.size() = (batch_size, 1, seq_len, emb_size)\n",
        "    conv = self.conv(emb)\n",
        "    # conv.size() = (batch_size, out_channels, seq_len, 1)\n",
        "    act = F.relu(conv.squeeze(3))\n",
        "    # act.size() = (batch_size, out_channels, seq_len)\n",
        "    max_pool = F.max_pool1d(act, act.size()[2])\n",
        "    # max_pool.size() = (batch_size, out_channels, 1) -> seq_len方向に最大値を取得\n",
        "    out = self.fc(self.drop(max_pool.squeeze(2)))\n",
        "    # out.size() = (batch_size, output_size)\n",
        "    return out"
      ],
      "metadata": {
        "id": "1KUuSLCxpDkh"
      },
      "execution_count": null,
      "outputs": []
    },
    {
      "cell_type": "code",
      "source": [
        "# パラメータの設定\n",
        "VOCAB_SIZE = len(set(id_word_dic.values())) + 1\n",
        "EMB_SIZE = 300\n",
        "PADDING_IDX = len(set(id_word_dic.values()))\n",
        "OUTPUT_SIZE = 4\n",
        "OUT_CHANNELS = 100\n",
        "KERNEL_HEIGHTS = 3\n",
        "STRIDE = 1\n",
        "PADDING = 1\n",
        "\n",
        "# モデルの定義\n",
        "model = MyCNN(VOCAB_SIZE, EMB_SIZE, PADDING_IDX, OUTPUT_SIZE, OUT_CHANNELS, KERNEL_HEIGHTS, STRIDE, PADDING, emb_weights=weights)\n",
        "\n",
        "# 先頭10件の予測値取得\n",
        "for i in range(10):\n",
        "  X = dataset_train[i][0]\n",
        "  print(torch.softmax(model(X.unsqueeze(0)), dim=-1))"
      ],
      "metadata": {
        "colab": {
          "base_uri": "https://localhost:8080/"
        },
        "id": "KNlzvaPIpQd-",
        "outputId": "c3f6b608-0184-4798-f012-dc5c0ef1efd6"
      },
      "execution_count": null,
      "outputs": [
        {
          "output_type": "stream",
          "name": "stdout",
          "text": [
            "tensor([[0.2586, 0.2016, 0.2231, 0.3166]], grad_fn=<SoftmaxBackward0>)\n",
            "tensor([[0.2354, 0.2531, 0.2349, 0.2766]], grad_fn=<SoftmaxBackward0>)\n",
            "tensor([[0.2430, 0.2149, 0.2223, 0.3197]], grad_fn=<SoftmaxBackward0>)\n",
            "tensor([[0.1922, 0.2413, 0.2252, 0.3413]], grad_fn=<SoftmaxBackward0>)\n",
            "tensor([[0.2166, 0.2546, 0.2294, 0.2994]], grad_fn=<SoftmaxBackward0>)\n",
            "tensor([[0.2274, 0.2574, 0.2024, 0.3127]], grad_fn=<SoftmaxBackward0>)\n",
            "tensor([[0.2391, 0.2813, 0.2025, 0.2771]], grad_fn=<SoftmaxBackward0>)\n",
            "tensor([[0.2571, 0.2559, 0.2241, 0.2629]], grad_fn=<SoftmaxBackward0>)\n",
            "tensor([[0.2494, 0.2862, 0.1735, 0.2909]], grad_fn=<SoftmaxBackward0>)\n",
            "tensor([[0.2198, 0.2234, 0.2339, 0.3229]], grad_fn=<SoftmaxBackward0>)\n"
          ]
        }
      ]
    },
    {
      "cell_type": "markdown",
      "source": [
        "87"
      ],
      "metadata": {
        "id": "4Q-kNZGjqKVk"
      }
    },
    {
      "cell_type": "code",
      "source": [
        "# パラメータの設定\n",
        "VOCAB_SIZE = len(set(id_word_dic.values())) + 1\n",
        "EMB_SIZE = 300\n",
        "PADDING_IDX = len(set(id_word_dic.values()))\n",
        "OUTPUT_SIZE = 4\n",
        "OUT_CHANNELS = 100\n",
        "KERNEL_HEIGHTS = 3\n",
        "STRIDE = 1\n",
        "PADDING = 1\n",
        "\n",
        "# モデルの定義\n",
        "model = MyCNN(VOCAB_SIZE, EMB_SIZE, PADDING_IDX, OUTPUT_SIZE, OUT_CHANNELS, KERNEL_HEIGHTS, STRIDE, PADDING, emb_weights=weights)\n",
        "model = model.to(device)\n",
        "criterion = nn.CrossEntropyLoss()\n",
        "optimizer = torch.optim.SGD(model.parameters(), lr=0.01)\n",
        "\n",
        "max_epoch=1\n",
        "train_loss_log, train_acc_log = [], [] \n",
        "valid_loss_log, valid_acc_log = [], [] \n",
        "for epoch in range(max_epoch):\n",
        "    for batch in train_loader:\n",
        "        x, t = batch  # バッチサイズ分のサンプルを抽出\n",
        "        optimizer.zero_grad()   # 勾配を初期化\n",
        "\n",
        "        # 順伝播\n",
        "        y = model(x) \n",
        "        loss = criterion(y, t)\n",
        "        # 誤差逆伝播\n",
        "        loss.backward()\n",
        "        optimizer.step() \n",
        "\n",
        "    # 学習データの損失、正解率を確認\n",
        "    train_loss, train_acc = calculate_loss_and_accuracy(model, criterion, train_loader, device)\n",
        "    # 検証データの損失、正解率を確認\n",
        "    valid_loss, valid_acc = calculate_loss_and_accuracy(model, criterion, valid_loader, device)\n",
        "    print(\"epoch: %d    train_loss: %.3f   train_acc: %.3f   valid_loss: %.3f   valid_acc: %.3f\" % (epoch+1, train_loss, train_acc, valid_loss, valid_acc))\n",
        "\n",
        "    # 進捗状況の保存\n",
        "    train_loss_log.append(train_loss)\n",
        "    train_acc_log.append(train_acc)\n",
        "    valid_loss_log.append(valid_loss)\n",
        "    valid_acc_log.append(valid_acc)"
      ],
      "metadata": {
        "colab": {
          "base_uri": "https://localhost:8080/"
        },
        "id": "-AmTcb86qLq4",
        "outputId": "cdd4e0ba-9eaa-4a97-e0ad-e48336c4bf5f"
      },
      "execution_count": null,
      "outputs": [
        {
          "output_type": "stream",
          "name": "stdout",
          "text": [
            "cpu\n",
            "epoch: 1    train_loss: 0.740   train_acc: 0.725   valid_loss: 0.874   valid_acc: 0.678\n"
          ]
        }
      ]
    },
    {
      "cell_type": "markdown",
      "source": [
        "88"
      ],
      "metadata": {
        "id": "Wxuw8htJqzDy"
      }
    },
    {
      "cell_type": "code",
      "source": [
        "def objective(trial):\n",
        "    # チューニング対象パラメータのセット\n",
        "    emb_size = int(trial.suggest_discrete_uniform('emb_size', 100, 400, 100))\n",
        "    out_channels = int(trial.suggest_discrete_uniform('out_channels', 50, 200, 50))\n",
        "    drop_rate = trial.suggest_discrete_uniform('drop_rate', 0.0, 0.5, 0.1)\n",
        "    learning_rate = trial.suggest_loguniform('learning_rate', 5e-4, 5e-2)\n",
        "    momentum = trial.suggest_discrete_uniform('momentum', 0.5, 0.9, 0.1)\n",
        "    batch_size = int(trial.suggest_discrete_uniform('batch_size', 16, 128, 16))\n",
        "\n",
        "    # 固定パラメータの設定\n",
        "    VOCAB_SIZE = len(set(id_word_dic.values())) + 1\n",
        "    PADDING_IDX = len(set(id_word_dic.values()))\n",
        "    OUTPUT_SIZE = 4\n",
        "    CONV_PARAMS = [[2, 0], [3, 1], [4, 2]]\n",
        "    NUM_EPOCHS = 30\n",
        "\n",
        "    # モデルの定義\n",
        "    model = MyCNN(VOCAB_SIZE, EMB_SIZE, PADDING_IDX, OUTPUT_SIZE, OUT_CHANNELS, KERNEL_HEIGHTS, STRIDE, PADDING, emb_weights=weights)\n",
        "\n",
        "    # 損失関数の定義\n",
        "    criterion = nn.CrossEntropyLoss()\n",
        "\n",
        "    # オプティマイザの定義\n",
        "    optimizer = torch.optim.SGD(model.parameters(), lr=learning_rate, momentum=momentum)\n",
        "\n",
        "    # デバイスの指定\n",
        "    device = torch.device('cuda')\n",
        "\n",
        "    # モデルの学習\n",
        "    max_epoch=1\n",
        "    for epoch in range(max_epoch):\n",
        "        for batch in train_loader:\n",
        "            x, t = batch  # バッチサイズ分のサンプルを抽出\n",
        "            optimizer.zero_grad()   # 勾配を初期化\n",
        "\n",
        "            # 順伝播\n",
        "            y = model(x) \n",
        "            loss = criterion(y, t)\n",
        "            # 誤差逆伝播\n",
        "            loss.backward()\n",
        "            optimizer.step() \n",
        "\n",
        "        # 学習データの損失、正解率を確認\n",
        "        train_loss, train_acc = calculate_loss_and_accuracy(model, criterion, train_loader, device)\n",
        "        # 検証データの損失、正解率を確認\n",
        "        valid_loss, valid_acc = calculate_loss_and_accuracy(model, criterion, valid_loader, device)\n",
        "        print(\"epoch: %d    train_loss: %.3f   train_acc: %.3f   valid_loss: %.3f   valid_acc: %.3f\" % (epoch+1, train_loss, train_acc, valid_loss, valid_acc))\n",
        "\n",
        "        # 進捗状況の保存\n",
        "        train_loss_log.append(train_loss)\n",
        "        train_acc_log.append(train_acc)\n",
        "        valid_loss_log.append(valid_loss)\n",
        "        valid_acc_log.append(valid_acc)\n",
        "\n",
        "  # 損失の算出\n",
        "        valid_loss, valid_acc = calculate_loss_and_accuracy(model, criterion, valid_loader, device)\n",
        "    return valid_loss"
      ],
      "metadata": {
        "id": "24vgIbZonVCh"
      },
      "execution_count": null,
      "outputs": []
    },
    {
      "cell_type": "code",
      "source": [
        "pip install optuna"
      ],
      "metadata": {
        "colab": {
          "base_uri": "https://localhost:8080/"
        },
        "id": "ltYah7TlonB9",
        "outputId": "112a7271-41b1-426a-a8b8-79763e5c5266"
      },
      "execution_count": null,
      "outputs": [
        {
          "output_type": "stream",
          "name": "stdout",
          "text": [
            "Looking in indexes: https://pypi.org/simple, https://us-python.pkg.dev/colab-wheels/public/simple/\n",
            "Collecting optuna\n",
            "  Downloading optuna-2.10.1-py3-none-any.whl (308 kB)\n",
            "\u001b[K     |████████████████████████████████| 308 kB 5.2 MB/s \n",
            "\u001b[?25hRequirement already satisfied: sqlalchemy>=1.1.0 in /usr/local/lib/python3.7/dist-packages (from optuna) (1.4.40)\n",
            "Requirement already satisfied: scipy!=1.4.0 in /usr/local/lib/python3.7/dist-packages (from optuna) (1.7.3)\n",
            "Collecting cmaes>=0.8.2\n",
            "  Downloading cmaes-0.8.2-py3-none-any.whl (15 kB)\n",
            "Requirement already satisfied: PyYAML in /usr/local/lib/python3.7/dist-packages (from optuna) (6.0)\n",
            "Requirement already satisfied: numpy in /usr/local/lib/python3.7/dist-packages (from optuna) (1.21.6)\n",
            "Requirement already satisfied: packaging>=20.0 in /usr/local/lib/python3.7/dist-packages (from optuna) (21.3)\n",
            "Requirement already satisfied: tqdm in /usr/local/lib/python3.7/dist-packages (from optuna) (4.64.0)\n",
            "Collecting colorlog\n",
            "  Downloading colorlog-6.6.0-py2.py3-none-any.whl (11 kB)\n",
            "Collecting cliff\n",
            "  Downloading cliff-3.10.1-py3-none-any.whl (81 kB)\n",
            "\u001b[K     |████████████████████████████████| 81 kB 9.7 MB/s \n",
            "\u001b[?25hCollecting alembic\n",
            "  Downloading alembic-1.8.1-py3-none-any.whl (209 kB)\n",
            "\u001b[K     |████████████████████████████████| 209 kB 38.1 MB/s \n",
            "\u001b[?25hRequirement already satisfied: pyparsing!=3.0.5,>=2.0.2 in /usr/local/lib/python3.7/dist-packages (from packaging>=20.0->optuna) (3.0.9)\n",
            "Requirement already satisfied: greenlet!=0.4.17 in /usr/local/lib/python3.7/dist-packages (from sqlalchemy>=1.1.0->optuna) (1.1.2)\n",
            "Requirement already satisfied: importlib-metadata in /usr/local/lib/python3.7/dist-packages (from sqlalchemy>=1.1.0->optuna) (4.12.0)\n",
            "Requirement already satisfied: importlib-resources in /usr/local/lib/python3.7/dist-packages (from alembic->optuna) (5.9.0)\n",
            "Collecting Mako\n",
            "  Downloading Mako-1.2.1-py3-none-any.whl (78 kB)\n",
            "\u001b[K     |████████████████████████████████| 78 kB 3.7 MB/s \n",
            "\u001b[?25hCollecting autopage>=0.4.0\n",
            "  Downloading autopage-0.5.1-py3-none-any.whl (29 kB)\n",
            "Collecting stevedore>=2.0.1\n",
            "  Downloading stevedore-3.5.0-py3-none-any.whl (49 kB)\n",
            "\u001b[K     |████████████████████████████████| 49 kB 6.6 MB/s \n",
            "\u001b[?25hCollecting pbr!=2.1.0,>=2.0.0\n",
            "  Downloading pbr-5.10.0-py2.py3-none-any.whl (112 kB)\n",
            "\u001b[K     |████████████████████████████████| 112 kB 57.2 MB/s \n",
            "\u001b[?25hCollecting cmd2>=1.0.0\n",
            "  Downloading cmd2-2.4.2-py3-none-any.whl (147 kB)\n",
            "\u001b[K     |████████████████████████████████| 147 kB 60.2 MB/s \n",
            "\u001b[?25hRequirement already satisfied: PrettyTable>=0.7.2 in /usr/local/lib/python3.7/dist-packages (from cliff->optuna) (3.3.0)\n",
            "Requirement already satisfied: attrs>=16.3.0 in /usr/local/lib/python3.7/dist-packages (from cmd2>=1.0.0->cliff->optuna) (22.1.0)\n",
            "Collecting pyperclip>=1.6\n",
            "  Downloading pyperclip-1.8.2.tar.gz (20 kB)\n",
            "Requirement already satisfied: wcwidth>=0.1.7 in /usr/local/lib/python3.7/dist-packages (from cmd2>=1.0.0->cliff->optuna) (0.2.5)\n",
            "Requirement already satisfied: typing-extensions in /usr/local/lib/python3.7/dist-packages (from cmd2>=1.0.0->cliff->optuna) (4.1.1)\n",
            "Requirement already satisfied: zipp>=0.5 in /usr/local/lib/python3.7/dist-packages (from importlib-metadata->sqlalchemy>=1.1.0->optuna) (3.8.1)\n",
            "Requirement already satisfied: MarkupSafe>=0.9.2 in /usr/local/lib/python3.7/dist-packages (from Mako->alembic->optuna) (2.0.1)\n",
            "Building wheels for collected packages: pyperclip\n",
            "  Building wheel for pyperclip (setup.py) ... \u001b[?25l\u001b[?25hdone\n",
            "  Created wheel for pyperclip: filename=pyperclip-1.8.2-py3-none-any.whl size=11137 sha256=23682d31ca71a9db587f9a10e7e84ee44eb290cd7d2d7ab4cd0ff9d72d340d63\n",
            "  Stored in directory: /root/.cache/pip/wheels/9f/18/84/8f69f8b08169c7bae2dde6bd7daf0c19fca8c8e500ee620a28\n",
            "Successfully built pyperclip\n",
            "Installing collected packages: pyperclip, pbr, stevedore, Mako, cmd2, autopage, colorlog, cmaes, cliff, alembic, optuna\n",
            "Successfully installed Mako-1.2.1 alembic-1.8.1 autopage-0.5.1 cliff-3.10.1 cmaes-0.8.2 cmd2-2.4.2 colorlog-6.6.0 optuna-2.10.1 pbr-5.10.0 pyperclip-1.8.2 stevedore-3.5.0\n"
          ]
        }
      ]
    },
    {
      "cell_type": "code",
      "source": [
        "import optuna\n",
        "\n",
        "para=optuna.create_study()\n",
        "para.optimize(objective, n_trials=5)\n",
        "best = para.best_trial\n",
        "print(best)"
      ],
      "metadata": {
        "colab": {
          "base_uri": "https://localhost:8080/",
          "height": 593
        },
        "id": "jnF3NZUloj1l",
        "outputId": "6f3c0ce4-3b71-46f5-cd20-0e526e3b0a4f"
      },
      "execution_count": null,
      "outputs": [
        {
          "output_type": "stream",
          "name": "stderr",
          "text": [
            "\u001b[32m[I 2022-08-24 16:22:48,458]\u001b[0m A new study created in memory with name: no-name-01dbe0ab-a1e5-4604-a023-cfae74621ec3\u001b[0m\n",
            "\u001b[33m[W 2022-08-24 16:23:05,772]\u001b[0m Trial 0 failed because of the following error: RuntimeError('No CUDA GPUs are available')\u001b[0m\n",
            "Traceback (most recent call last):\n",
            "  File \"/usr/local/lib/python3.7/dist-packages/optuna/study/_optimize.py\", line 213, in _run_trial\n",
            "    value_or_values = func(trial)\n",
            "  File \"<ipython-input-30-64025ec19850>\", line 44, in objective\n",
            "    train_loss, train_acc = calculate_loss_and_accuracy(model, criterion, train_loader, device)\n",
            "  File \"<ipython-input-32-74265d89aad4>\", line 9, in calculate_loss_and_accuracy\n",
            "    x = x.to(device)\n",
            "  File \"/usr/local/lib/python3.7/dist-packages/torch/cuda/__init__.py\", line 217, in _lazy_init\n",
            "    torch._C._cuda_init()\n",
            "RuntimeError: No CUDA GPUs are available\n"
          ]
        },
        {
          "output_type": "error",
          "ename": "RuntimeError",
          "evalue": "ignored",
          "traceback": [
            "\u001b[0;31m---------------------------------------------------------------------------\u001b[0m",
            "\u001b[0;31mRuntimeError\u001b[0m                              Traceback (most recent call last)",
            "\u001b[0;32m<ipython-input-33-e86afc9de33e>\u001b[0m in \u001b[0;36m<module>\u001b[0;34m\u001b[0m\n\u001b[1;32m      2\u001b[0m \u001b[0;34m\u001b[0m\u001b[0m\n\u001b[1;32m      3\u001b[0m \u001b[0mpara\u001b[0m\u001b[0;34m=\u001b[0m\u001b[0moptuna\u001b[0m\u001b[0;34m.\u001b[0m\u001b[0mcreate_study\u001b[0m\u001b[0;34m(\u001b[0m\u001b[0;34m)\u001b[0m\u001b[0;34m\u001b[0m\u001b[0;34m\u001b[0m\u001b[0m\n\u001b[0;32m----> 4\u001b[0;31m \u001b[0mpara\u001b[0m\u001b[0;34m.\u001b[0m\u001b[0moptimize\u001b[0m\u001b[0;34m(\u001b[0m\u001b[0mobjective\u001b[0m\u001b[0;34m,\u001b[0m \u001b[0mn_trials\u001b[0m\u001b[0;34m=\u001b[0m\u001b[0;36m5\u001b[0m\u001b[0;34m)\u001b[0m\u001b[0;34m\u001b[0m\u001b[0;34m\u001b[0m\u001b[0m\n\u001b[0m\u001b[1;32m      5\u001b[0m \u001b[0mbest\u001b[0m \u001b[0;34m=\u001b[0m \u001b[0mpara\u001b[0m\u001b[0;34m.\u001b[0m\u001b[0mbest_trial\u001b[0m\u001b[0;34m\u001b[0m\u001b[0;34m\u001b[0m\u001b[0m\n\u001b[1;32m      6\u001b[0m \u001b[0mprint\u001b[0m\u001b[0;34m(\u001b[0m\u001b[0mbest\u001b[0m\u001b[0;34m)\u001b[0m\u001b[0;34m\u001b[0m\u001b[0;34m\u001b[0m\u001b[0m\n",
            "\u001b[0;32m/usr/local/lib/python3.7/dist-packages/optuna/study/study.py\u001b[0m in \u001b[0;36moptimize\u001b[0;34m(self, func, n_trials, timeout, n_jobs, catch, callbacks, gc_after_trial, show_progress_bar)\u001b[0m\n\u001b[1;32m    407\u001b[0m             \u001b[0mcallbacks\u001b[0m\u001b[0;34m=\u001b[0m\u001b[0mcallbacks\u001b[0m\u001b[0;34m,\u001b[0m\u001b[0;34m\u001b[0m\u001b[0;34m\u001b[0m\u001b[0m\n\u001b[1;32m    408\u001b[0m             \u001b[0mgc_after_trial\u001b[0m\u001b[0;34m=\u001b[0m\u001b[0mgc_after_trial\u001b[0m\u001b[0;34m,\u001b[0m\u001b[0;34m\u001b[0m\u001b[0;34m\u001b[0m\u001b[0m\n\u001b[0;32m--> 409\u001b[0;31m             \u001b[0mshow_progress_bar\u001b[0m\u001b[0;34m=\u001b[0m\u001b[0mshow_progress_bar\u001b[0m\u001b[0;34m,\u001b[0m\u001b[0;34m\u001b[0m\u001b[0;34m\u001b[0m\u001b[0m\n\u001b[0m\u001b[1;32m    410\u001b[0m         )\n\u001b[1;32m    411\u001b[0m \u001b[0;34m\u001b[0m\u001b[0m\n",
            "\u001b[0;32m/usr/local/lib/python3.7/dist-packages/optuna/study/_optimize.py\u001b[0m in \u001b[0;36m_optimize\u001b[0;34m(study, func, n_trials, timeout, n_jobs, catch, callbacks, gc_after_trial, show_progress_bar)\u001b[0m\n\u001b[1;32m     74\u001b[0m                 \u001b[0mreseed_sampler_rng\u001b[0m\u001b[0;34m=\u001b[0m\u001b[0;32mFalse\u001b[0m\u001b[0;34m,\u001b[0m\u001b[0;34m\u001b[0m\u001b[0;34m\u001b[0m\u001b[0m\n\u001b[1;32m     75\u001b[0m                 \u001b[0mtime_start\u001b[0m\u001b[0;34m=\u001b[0m\u001b[0;32mNone\u001b[0m\u001b[0;34m,\u001b[0m\u001b[0;34m\u001b[0m\u001b[0;34m\u001b[0m\u001b[0m\n\u001b[0;32m---> 76\u001b[0;31m                 \u001b[0mprogress_bar\u001b[0m\u001b[0;34m=\u001b[0m\u001b[0mprogress_bar\u001b[0m\u001b[0;34m,\u001b[0m\u001b[0;34m\u001b[0m\u001b[0;34m\u001b[0m\u001b[0m\n\u001b[0m\u001b[1;32m     77\u001b[0m             )\n\u001b[1;32m     78\u001b[0m         \u001b[0;32melse\u001b[0m\u001b[0;34m:\u001b[0m\u001b[0;34m\u001b[0m\u001b[0;34m\u001b[0m\u001b[0m\n",
            "\u001b[0;32m/usr/local/lib/python3.7/dist-packages/optuna/study/_optimize.py\u001b[0m in \u001b[0;36m_optimize_sequential\u001b[0;34m(study, func, n_trials, timeout, catch, callbacks, gc_after_trial, reseed_sampler_rng, time_start, progress_bar)\u001b[0m\n\u001b[1;32m    161\u001b[0m \u001b[0;34m\u001b[0m\u001b[0m\n\u001b[1;32m    162\u001b[0m         \u001b[0;32mtry\u001b[0m\u001b[0;34m:\u001b[0m\u001b[0;34m\u001b[0m\u001b[0;34m\u001b[0m\u001b[0m\n\u001b[0;32m--> 163\u001b[0;31m             \u001b[0mtrial\u001b[0m \u001b[0;34m=\u001b[0m \u001b[0m_run_trial\u001b[0m\u001b[0;34m(\u001b[0m\u001b[0mstudy\u001b[0m\u001b[0;34m,\u001b[0m \u001b[0mfunc\u001b[0m\u001b[0;34m,\u001b[0m \u001b[0mcatch\u001b[0m\u001b[0;34m)\u001b[0m\u001b[0;34m\u001b[0m\u001b[0;34m\u001b[0m\u001b[0m\n\u001b[0m\u001b[1;32m    164\u001b[0m         \u001b[0;32mexcept\u001b[0m \u001b[0mException\u001b[0m\u001b[0;34m:\u001b[0m\u001b[0;34m\u001b[0m\u001b[0;34m\u001b[0m\u001b[0m\n\u001b[1;32m    165\u001b[0m             \u001b[0;32mraise\u001b[0m\u001b[0;34m\u001b[0m\u001b[0;34m\u001b[0m\u001b[0m\n",
            "\u001b[0;32m/usr/local/lib/python3.7/dist-packages/optuna/study/_optimize.py\u001b[0m in \u001b[0;36m_run_trial\u001b[0;34m(study, func, catch)\u001b[0m\n\u001b[1;32m    262\u001b[0m \u001b[0;34m\u001b[0m\u001b[0m\n\u001b[1;32m    263\u001b[0m     \u001b[0;32mif\u001b[0m \u001b[0mstate\u001b[0m \u001b[0;34m==\u001b[0m \u001b[0mTrialState\u001b[0m\u001b[0;34m.\u001b[0m\u001b[0mFAIL\u001b[0m \u001b[0;32mand\u001b[0m \u001b[0mfunc_err\u001b[0m \u001b[0;32mis\u001b[0m \u001b[0;32mnot\u001b[0m \u001b[0;32mNone\u001b[0m \u001b[0;32mand\u001b[0m \u001b[0;32mnot\u001b[0m \u001b[0misinstance\u001b[0m\u001b[0;34m(\u001b[0m\u001b[0mfunc_err\u001b[0m\u001b[0;34m,\u001b[0m \u001b[0mcatch\u001b[0m\u001b[0;34m)\u001b[0m\u001b[0;34m:\u001b[0m\u001b[0;34m\u001b[0m\u001b[0;34m\u001b[0m\u001b[0m\n\u001b[0;32m--> 264\u001b[0;31m         \u001b[0;32mraise\u001b[0m \u001b[0mfunc_err\u001b[0m\u001b[0;34m\u001b[0m\u001b[0;34m\u001b[0m\u001b[0m\n\u001b[0m\u001b[1;32m    265\u001b[0m     \u001b[0;32mreturn\u001b[0m \u001b[0mtrial\u001b[0m\u001b[0;34m\u001b[0m\u001b[0;34m\u001b[0m\u001b[0m\n\u001b[1;32m    266\u001b[0m \u001b[0;34m\u001b[0m\u001b[0m\n",
            "\u001b[0;32m/usr/local/lib/python3.7/dist-packages/optuna/study/_optimize.py\u001b[0m in \u001b[0;36m_run_trial\u001b[0;34m(study, func, catch)\u001b[0m\n\u001b[1;32m    211\u001b[0m \u001b[0;34m\u001b[0m\u001b[0m\n\u001b[1;32m    212\u001b[0m     \u001b[0;32mtry\u001b[0m\u001b[0;34m:\u001b[0m\u001b[0;34m\u001b[0m\u001b[0;34m\u001b[0m\u001b[0m\n\u001b[0;32m--> 213\u001b[0;31m         \u001b[0mvalue_or_values\u001b[0m \u001b[0;34m=\u001b[0m \u001b[0mfunc\u001b[0m\u001b[0;34m(\u001b[0m\u001b[0mtrial\u001b[0m\u001b[0;34m)\u001b[0m\u001b[0;34m\u001b[0m\u001b[0;34m\u001b[0m\u001b[0m\n\u001b[0m\u001b[1;32m    214\u001b[0m     \u001b[0;32mexcept\u001b[0m \u001b[0mexceptions\u001b[0m\u001b[0;34m.\u001b[0m\u001b[0mTrialPruned\u001b[0m \u001b[0;32mas\u001b[0m \u001b[0me\u001b[0m\u001b[0;34m:\u001b[0m\u001b[0;34m\u001b[0m\u001b[0;34m\u001b[0m\u001b[0m\n\u001b[1;32m    215\u001b[0m         \u001b[0;31m# TODO(mamu): Handle multi-objective cases.\u001b[0m\u001b[0;34m\u001b[0m\u001b[0;34m\u001b[0m\u001b[0;34m\u001b[0m\u001b[0m\n",
            "\u001b[0;32m<ipython-input-30-64025ec19850>\u001b[0m in \u001b[0;36mobjective\u001b[0;34m(trial)\u001b[0m\n\u001b[1;32m     42\u001b[0m \u001b[0;34m\u001b[0m\u001b[0m\n\u001b[1;32m     43\u001b[0m         \u001b[0;31m# 学習データの損失、正解率を確認\u001b[0m\u001b[0;34m\u001b[0m\u001b[0;34m\u001b[0m\u001b[0;34m\u001b[0m\u001b[0m\n\u001b[0;32m---> 44\u001b[0;31m         \u001b[0mtrain_loss\u001b[0m\u001b[0;34m,\u001b[0m \u001b[0mtrain_acc\u001b[0m \u001b[0;34m=\u001b[0m \u001b[0mcalculate_loss_and_accuracy\u001b[0m\u001b[0;34m(\u001b[0m\u001b[0mmodel\u001b[0m\u001b[0;34m,\u001b[0m \u001b[0mcriterion\u001b[0m\u001b[0;34m,\u001b[0m \u001b[0mtrain_loader\u001b[0m\u001b[0;34m,\u001b[0m \u001b[0mdevice\u001b[0m\u001b[0;34m)\u001b[0m\u001b[0;34m\u001b[0m\u001b[0;34m\u001b[0m\u001b[0m\n\u001b[0m\u001b[1;32m     45\u001b[0m         \u001b[0;31m# 検証データの損失、正解率を確認\u001b[0m\u001b[0;34m\u001b[0m\u001b[0;34m\u001b[0m\u001b[0;34m\u001b[0m\u001b[0m\n\u001b[1;32m     46\u001b[0m         \u001b[0mvalid_loss\u001b[0m\u001b[0;34m,\u001b[0m \u001b[0mvalid_acc\u001b[0m \u001b[0;34m=\u001b[0m \u001b[0mcalculate_loss_and_accuracy\u001b[0m\u001b[0;34m(\u001b[0m\u001b[0mmodel\u001b[0m\u001b[0;34m,\u001b[0m \u001b[0mcriterion\u001b[0m\u001b[0;34m,\u001b[0m \u001b[0mvalid_loader\u001b[0m\u001b[0;34m,\u001b[0m \u001b[0mdevice\u001b[0m\u001b[0;34m)\u001b[0m\u001b[0;34m\u001b[0m\u001b[0;34m\u001b[0m\u001b[0m\n",
            "\u001b[0;32m<ipython-input-32-74265d89aad4>\u001b[0m in \u001b[0;36mcalculate_loss_and_accuracy\u001b[0;34m(model, criterion, dataloader, device)\u001b[0m\n\u001b[1;32m      7\u001b[0m         \u001b[0mx\u001b[0m\u001b[0;34m,\u001b[0m \u001b[0mt\u001b[0m \u001b[0;34m=\u001b[0m \u001b[0mbatch\u001b[0m\u001b[0;34m\u001b[0m\u001b[0;34m\u001b[0m\u001b[0m\n\u001b[1;32m      8\u001b[0m         \u001b[0;31m# デバイスの指定\u001b[0m\u001b[0;34m\u001b[0m\u001b[0;34m\u001b[0m\u001b[0;34m\u001b[0m\u001b[0m\n\u001b[0;32m----> 9\u001b[0;31m         \u001b[0mx\u001b[0m \u001b[0;34m=\u001b[0m \u001b[0mx\u001b[0m\u001b[0;34m.\u001b[0m\u001b[0mto\u001b[0m\u001b[0;34m(\u001b[0m\u001b[0mdevice\u001b[0m\u001b[0;34m)\u001b[0m\u001b[0;34m\u001b[0m\u001b[0;34m\u001b[0m\u001b[0m\n\u001b[0m\u001b[1;32m     10\u001b[0m         \u001b[0mt\u001b[0m \u001b[0;34m=\u001b[0m \u001b[0mt\u001b[0m\u001b[0;34m.\u001b[0m\u001b[0mto\u001b[0m\u001b[0;34m(\u001b[0m\u001b[0mdevice\u001b[0m\u001b[0;34m)\u001b[0m\u001b[0;34m\u001b[0m\u001b[0;34m\u001b[0m\u001b[0m\n\u001b[1;32m     11\u001b[0m \u001b[0;34m\u001b[0m\u001b[0m\n",
            "\u001b[0;32m/usr/local/lib/python3.7/dist-packages/torch/cuda/__init__.py\u001b[0m in \u001b[0;36m_lazy_init\u001b[0;34m()\u001b[0m\n\u001b[1;32m    215\u001b[0m         \u001b[0;31m# This function throws if there's a driver initialization error, no GPUs\u001b[0m\u001b[0;34m\u001b[0m\u001b[0;34m\u001b[0m\u001b[0;34m\u001b[0m\u001b[0m\n\u001b[1;32m    216\u001b[0m         \u001b[0;31m# are found or any other error occurs\u001b[0m\u001b[0;34m\u001b[0m\u001b[0;34m\u001b[0m\u001b[0;34m\u001b[0m\u001b[0m\n\u001b[0;32m--> 217\u001b[0;31m         \u001b[0mtorch\u001b[0m\u001b[0;34m.\u001b[0m\u001b[0m_C\u001b[0m\u001b[0;34m.\u001b[0m\u001b[0m_cuda_init\u001b[0m\u001b[0;34m(\u001b[0m\u001b[0;34m)\u001b[0m\u001b[0;34m\u001b[0m\u001b[0;34m\u001b[0m\u001b[0m\n\u001b[0m\u001b[1;32m    218\u001b[0m         \u001b[0;31m# Some of the queued calls may reentrantly call _lazy_init();\u001b[0m\u001b[0;34m\u001b[0m\u001b[0;34m\u001b[0m\u001b[0;34m\u001b[0m\u001b[0m\n\u001b[1;32m    219\u001b[0m         \u001b[0;31m# we need to just return without initializing in that case.\u001b[0m\u001b[0;34m\u001b[0m\u001b[0;34m\u001b[0m\u001b[0;34m\u001b[0m\u001b[0m\n",
            "\u001b[0;31mRuntimeError\u001b[0m: No CUDA GPUs are available"
          ]
        }
      ]
    },
    {
      "cell_type": "markdown",
      "source": [
        "89"
      ],
      "metadata": {
        "id": "hYAMSFl2x86v"
      }
    },
    {
      "cell_type": "code",
      "source": [
        "# ====================\n",
        "# ライブラリのインストール\n",
        "# ====================\n",
        "\n",
        "! pip install transformers==4.5.0\n",
        "! pip install fugashi==1.1.0\n",
        "! pip install ipadic==1.0.0\n",
        "! pip install pytorch-lightning==1.2.7\n",
        "\n",
        "import glob\n",
        "import random\n",
        "from tqdm import tqdm\n",
        "\n",
        "import torch\n",
        "import pytorch_lightning as pl\n",
        "from torch.utils.data import DataLoader\n",
        "from transformers import BertJapaneseTokenizer\n",
        "from transformers import BertForSequenceClassification"
      ],
      "metadata": {
        "id": "moobr7urqVko"
      },
      "execution_count": null,
      "outputs": []
    },
    {
      "cell_type": "code",
      "source": [
        "# ====================\n",
        "# 前処理：データ形式の整理\n",
        "# ====================\n",
        "\n",
        "label2id = {\"b\":0, \"t\":1, \"e\":2, \"m\":3} \n",
        "\n",
        "model_name = \"cl-tohoku/bert-base-japanese-whole-word-masking\"\n",
        "\n",
        "# 単語分割器の読み込み\n",
        "tokenizer = BertJapaneseTokenizer.from_pretrained(model_name)\n",
        "\n",
        "# 最大文長さの設定\n",
        "max_length = 128\n",
        "\n",
        "def make_dataset(tokenizer, max_length, fname):\n",
        "    dataset_for_loader = list()\n",
        "    \n",
        "    fin = open(fname, \"r\")\n",
        "    for line in fin:\n",
        "        # ラベルとテキストを読み込み\n",
        "        label, text = line.strip().split(\"\\t\")\n",
        "\n",
        "        # テキストをトークンに分割する。ただし、最大文長は \"max_length\" で指定したトークン数である。\n",
        "        # 最大文長より短い文については、 \"[PAD]\" などの特殊トークンで残りの長さを埋める。\n",
        "        # 最大文長を超える文については、はみ出す部分を無視する。\n",
        "        encoding = tokenizer(text, max_length=max_length, padding=\"max_length\", truncation=True)\n",
        "\n",
        "        # tokenizerメソッドは辞書を返す。その辞書にラベルのIDも持たせる。\n",
        "        encoding[\"labels\"] = label2id[label]\n",
        "\n",
        "        # テンソルに変換\n",
        "        encoding = {key: torch.tensor(value) for key, value in encoding.items()}\n",
        "\n",
        "        # 前処理済みのデータを保存して次の文へ\n",
        "        dataset_for_loader.append(encoding)\n",
        "    fin.close()\n",
        "\n",
        "    return dataset_for_loader\n",
        "\n",
        "dataset_train = make_dataset(tokenizer, max_length, fname_train)\n",
        "dataset_val = make_dataset(tokenizer, max_length, fname_val)\n",
        "dataset_test = make_dataset(tokenizer, max_length, fname_test)\n",
        "\n",
        "# データローダを作成。訓練用データはシャッフルしながら使う。\n",
        "# 検証用と評価用は損失の勾配を計算する必要がないため、バッチサイズを大きめにとれる。\n",
        "dataloader_train = DataLoader(dataset_train, batch_size=32, shuffle=True)\n",
        "dataloader_val = DataLoader(dataset_val, batch_size=256, shuffle=False)\n",
        "dataloader_test = DataLoader(dataset_test, batch_size=256, shuffle=False)"
      ],
      "metadata": {
        "id": "yFz4iyI5x9t_"
      },
      "execution_count": null,
      "outputs": []
    },
    {
      "cell_type": "code",
      "source": [
        "# ====================\n",
        "# BERTによるテキスト分類\n",
        "# ====================\n",
        "\n",
        "class Bert4Classification(pl.LightningModule):\n",
        "\n",
        "    # モデルの読み込みなど。損失関数は自動的に設定される。\n",
        "    # num_labels == 1 -> 回帰タスクなので MSELoss()\n",
        "    # num_labels > 1 -> 分類タスクなので CrossEntropyLoss()\n",
        "    def __init__(self, model_name, num_labels, lr):\n",
        "        super().__init__()\n",
        "        self.save_hyperparameters()    # num_labelsとlrを保存する。例えば、self.hparams.lrでlrにアクセスできる。\n",
        "        self.bert_sc = BertForSequenceClassification.from_pretrained(model_name, num_labels=num_labels)\n",
        "\n",
        "    # 訓練用データのバッチを受け取って損失を計算\n",
        "    def training_step(self, batch, batch_idx):\n",
        "        output = self.bert_sc(**batch)\n",
        "        loss = output.loss\n",
        "        self.log(\"train_loss\", loss)\n",
        "        return loss\n",
        "\n",
        "    # 検証用データのバッチを受け取って損失を計算\n",
        "    def validation_step(self, batch, batch_idx):\n",
        "        output = self.bert_sc(**batch)\n",
        "        val_loss = output.loss\n",
        "        self.log(\"val_loss\", val_loss)\n",
        "\n",
        "    # 評価用データのバッチを受け取って分類の正解率を計算\n",
        "    def test_step(self, batch, batch_idx):\n",
        "        # ラベルの推定\n",
        "        output = self.bert_sc(**batch)\n",
        "        labels_predicted = output.logits.argmax(-1)\n",
        "        # 正解率の計算\n",
        "        labels = batch.pop(\"labels\")\n",
        "        num_correct = (labels_predicted == labels).sum().item()\n",
        "        accuracy = num_correct / labels.size(0)\n",
        "        self.log(\"accuracy\", accuracy)\n",
        "\n",
        "    # 最適化手法を設定\n",
        "    def configure_optimizers(self):\n",
        "        return torch.optim.Adam(self.parameters(), lr=self.hparams.lr)"
      ],
      "metadata": {
        "id": "7h2KnXCrqQAE"
      },
      "execution_count": null,
      "outputs": []
    },
    {
      "cell_type": "code",
      "source": [
        "# ====================\n",
        "# 訓練\n",
        "# ====================\n",
        "\n",
        "model = Bert4Classification(model_name, num_labels=len(label2id), lr=1e-5)\n",
        "\n",
        "# 訓練中にモデルを保存するための設定\n",
        "checkpoint = pl.callbacks.ModelCheckpoint(\n",
        "    # 検証用データにおける損失が最も小さいモデルを保存する\n",
        "    monitor=\"val_loss\", mode=\"min\", save_top_k=1,\n",
        "    # モデルファイル（重みのみ）を \"model\" というディレクトリに保存する\n",
        "    save_weights_only=True, dirpath=\"model/\"\n",
        ")\n",
        "\n",
        "# 訓練\n",
        "trainer = pl.Trainer(gpus=1, max_epochs=3, callbacks=[checkpoint])\n",
        "trainer.fit(model, dataloader_train, dataloader_val)\n",
        "\n",
        "# ベストモデルの確認\n",
        "print(\"ベストモデル: \", checkpoint.best_model_path)\n",
        "print(\"ベストモデルの検証用データにおける損失: \", checkpoint.best_model_score)"
      ],
      "metadata": {
        "id": "RShq3c7hqRp3"
      },
      "execution_count": null,
      "outputs": []
    },
    {
      "cell_type": "code",
      "source": [
        "# ====================\n",
        "# 評価\n",
        "# ====================\n",
        "\n",
        "test = trainer.test(test_dataloaders=dataloader_test)\n",
        "print(\"Test accuracy = %.3f\" % (test[0][\"accuracy\"]))"
      ],
      "metadata": {
        "id": "CLPD7EClqTBb"
      },
      "execution_count": null,
      "outputs": []
    }
  ]
}