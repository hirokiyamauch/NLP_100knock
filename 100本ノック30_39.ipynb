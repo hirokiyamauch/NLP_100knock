{
  "nbformat": 4,
  "nbformat_minor": 0,
  "metadata": {
    "colab": {
      "provenance": [],
      "collapsed_sections": [],
      "mount_file_id": "1rSzqbsJkTgK2cay9ZjV8rG_5JZTbZFDJ",
      "authorship_tag": "ABX9TyNH/JtpyoZ6rrCftzgDMygu",
      "include_colab_link": true
    },
    "kernelspec": {
      "name": "python3",
      "display_name": "Python 3"
    },
    "language_info": {
      "name": "python"
    }
  },
  "cells": [
    {
      "cell_type": "markdown",
      "metadata": {
        "id": "view-in-github",
        "colab_type": "text"
      },
      "source": [
        "<a href=\"https://colab.research.google.com/github/hirokiyamauch/NLP_100knock/blob/%E7%AC%AC4%E7%AB%A0/100%E6%9C%AC%E3%83%8E%E3%83%83%E3%82%AF30_39.ipynb\" target=\"_parent\"><img src=\"https://colab.research.google.com/assets/colab-badge.svg\" alt=\"Open In Colab\"/></a>"
      ]
    },
    {
      "cell_type": "code",
      "source": [
        "!wget https://nlp100.github.io/data/neko.txt"
      ],
      "metadata": {
        "colab": {
          "base_uri": "https://localhost:8080/"
        },
        "id": "VnzrHUoXv-QO",
        "outputId": "1e78f399-c552-40bc-8bea-ae1618716490"
      },
      "execution_count": null,
      "outputs": [
        {
          "output_type": "stream",
          "name": "stdout",
          "text": [
            "--2021-12-27 12:28:38--  https://nlp100.github.io/data/neko.txt\n",
            "Resolving nlp100.github.io (nlp100.github.io)... 185.199.108.153, 185.199.109.153, 185.199.110.153, ...\n",
            "Connecting to nlp100.github.io (nlp100.github.io)|185.199.108.153|:443... connected.\n",
            "HTTP request sent, awaiting response... 200 OK\n",
            "Length: 975789 (953K) [text/plain]\n",
            "Saving to: ‘neko.txt’\n",
            "\n",
            "neko.txt            100%[===================>] 952.92K  --.-KB/s    in 0.06s   \n",
            "\n",
            "2021-12-27 12:28:38 (16.7 MB/s) - ‘neko.txt’ saved [975789/975789]\n",
            "\n"
          ]
        }
      ]
    },
    {
      "cell_type": "code",
      "source": [
        "!apt install aptitude\n",
        "!aptitude install mecab libmecab-dev mecab-ipadic-utf8 git make curl xz-utils file -y\n",
        "!pip install mecab-python3==0.7"
      ],
      "metadata": {
        "colab": {
          "base_uri": "https://localhost:8080/"
        },
        "id": "1tzM22an2k4i",
        "outputId": "3e93491d-2c1b-4d58-9ba6-917c2b853cb4"
      },
      "execution_count": null,
      "outputs": [
        {
          "output_type": "stream",
          "name": "stdout",
          "text": [
            "Reading package lists... Done\n",
            "Building dependency tree       \n",
            "Reading state information... Done\n",
            "The following additional packages will be installed:\n",
            "  aptitude-common libcgi-fast-perl libcgi-pm-perl libclass-accessor-perl\n",
            "  libcwidget3v5 libencode-locale-perl libfcgi-perl libhtml-parser-perl\n",
            "  libhtml-tagset-perl libhttp-date-perl libhttp-message-perl libio-html-perl\n",
            "  libio-string-perl liblwp-mediatypes-perl libparse-debianchangelog-perl\n",
            "  libsigc++-2.0-0v5 libsub-name-perl libtimedate-perl liburi-perl libxapian30\n",
            "Suggested packages:\n",
            "  aptitude-doc-en | aptitude-doc apt-xapian-index debtags tasksel\n",
            "  libcwidget-dev libdata-dump-perl libhtml-template-perl libxml-simple-perl\n",
            "  libwww-perl xapian-tools\n",
            "The following NEW packages will be installed:\n",
            "  aptitude aptitude-common libcgi-fast-perl libcgi-pm-perl\n",
            "  libclass-accessor-perl libcwidget3v5 libencode-locale-perl libfcgi-perl\n",
            "  libhtml-parser-perl libhtml-tagset-perl libhttp-date-perl\n",
            "  libhttp-message-perl libio-html-perl libio-string-perl\n",
            "  liblwp-mediatypes-perl libparse-debianchangelog-perl libsigc++-2.0-0v5\n",
            "  libsub-name-perl libtimedate-perl liburi-perl libxapian30\n",
            "0 upgraded, 21 newly installed, 0 to remove and 37 not upgraded.\n",
            "Need to get 3,877 kB of archives.\n",
            "After this operation, 15.6 MB of additional disk space will be used.\n",
            "Get:1 http://archive.ubuntu.com/ubuntu bionic/main amd64 aptitude-common all 0.8.10-6ubuntu1 [1,014 kB]\n",
            "Get:2 http://archive.ubuntu.com/ubuntu bionic/main amd64 libsigc++-2.0-0v5 amd64 2.10.0-2 [10.9 kB]\n",
            "Get:3 http://archive.ubuntu.com/ubuntu bionic/main amd64 libcwidget3v5 amd64 0.5.17-7 [286 kB]\n",
            "Get:4 http://archive.ubuntu.com/ubuntu bionic-updates/main amd64 libxapian30 amd64 1.4.5-1ubuntu0.1 [631 kB]\n",
            "Get:5 http://archive.ubuntu.com/ubuntu bionic/main amd64 aptitude amd64 0.8.10-6ubuntu1 [1,269 kB]\n",
            "Get:6 http://archive.ubuntu.com/ubuntu bionic/main amd64 libhtml-tagset-perl all 3.20-3 [12.1 kB]\n",
            "Get:7 http://archive.ubuntu.com/ubuntu bionic/main amd64 liburi-perl all 1.73-1 [77.2 kB]\n",
            "Get:8 http://archive.ubuntu.com/ubuntu bionic/main amd64 libhtml-parser-perl amd64 3.72-3build1 [85.9 kB]\n",
            "Get:9 http://archive.ubuntu.com/ubuntu bionic/main amd64 libcgi-pm-perl all 4.38-1 [185 kB]\n",
            "Get:10 http://archive.ubuntu.com/ubuntu bionic/main amd64 libfcgi-perl amd64 0.78-2build1 [32.8 kB]\n",
            "Get:11 http://archive.ubuntu.com/ubuntu bionic/main amd64 libcgi-fast-perl all 1:2.13-1 [9,940 B]\n",
            "Get:12 http://archive.ubuntu.com/ubuntu bionic/main amd64 libsub-name-perl amd64 0.21-1build1 [11.6 kB]\n",
            "Get:13 http://archive.ubuntu.com/ubuntu bionic/main amd64 libclass-accessor-perl all 0.51-1 [21.2 kB]\n",
            "Get:14 http://archive.ubuntu.com/ubuntu bionic/main amd64 libencode-locale-perl all 1.05-1 [12.3 kB]\n",
            "Get:15 http://archive.ubuntu.com/ubuntu bionic/main amd64 libtimedate-perl all 2.3000-2 [37.5 kB]\n",
            "Get:16 http://archive.ubuntu.com/ubuntu bionic/main amd64 libhttp-date-perl all 6.02-1 [10.4 kB]\n",
            "Get:17 http://archive.ubuntu.com/ubuntu bionic/main amd64 libio-html-perl all 1.001-1 [14.9 kB]\n",
            "Get:18 http://archive.ubuntu.com/ubuntu bionic/main amd64 liblwp-mediatypes-perl all 6.02-1 [21.7 kB]\n",
            "Get:19 http://archive.ubuntu.com/ubuntu bionic/main amd64 libhttp-message-perl all 6.14-1 [72.1 kB]\n",
            "Get:20 http://archive.ubuntu.com/ubuntu bionic/main amd64 libio-string-perl all 1.08-3 [11.1 kB]\n",
            "Get:21 http://archive.ubuntu.com/ubuntu bionic/main amd64 libparse-debianchangelog-perl all 1.2.0-12 [49.5 kB]\n",
            "Fetched 3,877 kB in 3s (1,281 kB/s)\n",
            "Selecting previously unselected package aptitude-common.\n",
            "(Reading database ... 155222 files and directories currently installed.)\n",
            "Preparing to unpack .../00-aptitude-common_0.8.10-6ubuntu1_all.deb ...\n",
            "Unpacking aptitude-common (0.8.10-6ubuntu1) ...\n",
            "Selecting previously unselected package libsigc++-2.0-0v5:amd64.\n",
            "Preparing to unpack .../01-libsigc++-2.0-0v5_2.10.0-2_amd64.deb ...\n",
            "Unpacking libsigc++-2.0-0v5:amd64 (2.10.0-2) ...\n",
            "Selecting previously unselected package libcwidget3v5:amd64.\n",
            "Preparing to unpack .../02-libcwidget3v5_0.5.17-7_amd64.deb ...\n",
            "Unpacking libcwidget3v5:amd64 (0.5.17-7) ...\n",
            "Selecting previously unselected package libxapian30:amd64.\n",
            "Preparing to unpack .../03-libxapian30_1.4.5-1ubuntu0.1_amd64.deb ...\n",
            "Unpacking libxapian30:amd64 (1.4.5-1ubuntu0.1) ...\n",
            "Selecting previously unselected package aptitude.\n",
            "Preparing to unpack .../04-aptitude_0.8.10-6ubuntu1_amd64.deb ...\n",
            "Unpacking aptitude (0.8.10-6ubuntu1) ...\n",
            "Selecting previously unselected package libhtml-tagset-perl.\n",
            "Preparing to unpack .../05-libhtml-tagset-perl_3.20-3_all.deb ...\n",
            "Unpacking libhtml-tagset-perl (3.20-3) ...\n",
            "Selecting previously unselected package liburi-perl.\n",
            "Preparing to unpack .../06-liburi-perl_1.73-1_all.deb ...\n",
            "Unpacking liburi-perl (1.73-1) ...\n",
            "Selecting previously unselected package libhtml-parser-perl.\n",
            "Preparing to unpack .../07-libhtml-parser-perl_3.72-3build1_amd64.deb ...\n",
            "Unpacking libhtml-parser-perl (3.72-3build1) ...\n",
            "Selecting previously unselected package libcgi-pm-perl.\n",
            "Preparing to unpack .../08-libcgi-pm-perl_4.38-1_all.deb ...\n",
            "Unpacking libcgi-pm-perl (4.38-1) ...\n",
            "Selecting previously unselected package libfcgi-perl.\n",
            "Preparing to unpack .../09-libfcgi-perl_0.78-2build1_amd64.deb ...\n",
            "Unpacking libfcgi-perl (0.78-2build1) ...\n",
            "Selecting previously unselected package libcgi-fast-perl.\n",
            "Preparing to unpack .../10-libcgi-fast-perl_1%3a2.13-1_all.deb ...\n",
            "Unpacking libcgi-fast-perl (1:2.13-1) ...\n",
            "Selecting previously unselected package libsub-name-perl.\n",
            "Preparing to unpack .../11-libsub-name-perl_0.21-1build1_amd64.deb ...\n",
            "Unpacking libsub-name-perl (0.21-1build1) ...\n",
            "Selecting previously unselected package libclass-accessor-perl.\n",
            "Preparing to unpack .../12-libclass-accessor-perl_0.51-1_all.deb ...\n",
            "Unpacking libclass-accessor-perl (0.51-1) ...\n",
            "Selecting previously unselected package libencode-locale-perl.\n",
            "Preparing to unpack .../13-libencode-locale-perl_1.05-1_all.deb ...\n",
            "Unpacking libencode-locale-perl (1.05-1) ...\n",
            "Selecting previously unselected package libtimedate-perl.\n",
            "Preparing to unpack .../14-libtimedate-perl_2.3000-2_all.deb ...\n",
            "Unpacking libtimedate-perl (2.3000-2) ...\n",
            "Selecting previously unselected package libhttp-date-perl.\n",
            "Preparing to unpack .../15-libhttp-date-perl_6.02-1_all.deb ...\n",
            "Unpacking libhttp-date-perl (6.02-1) ...\n",
            "Selecting previously unselected package libio-html-perl.\n",
            "Preparing to unpack .../16-libio-html-perl_1.001-1_all.deb ...\n",
            "Unpacking libio-html-perl (1.001-1) ...\n",
            "Selecting previously unselected package liblwp-mediatypes-perl.\n",
            "Preparing to unpack .../17-liblwp-mediatypes-perl_6.02-1_all.deb ...\n",
            "Unpacking liblwp-mediatypes-perl (6.02-1) ...\n",
            "Selecting previously unselected package libhttp-message-perl.\n",
            "Preparing to unpack .../18-libhttp-message-perl_6.14-1_all.deb ...\n",
            "Unpacking libhttp-message-perl (6.14-1) ...\n",
            "Selecting previously unselected package libio-string-perl.\n",
            "Preparing to unpack .../19-libio-string-perl_1.08-3_all.deb ...\n",
            "Unpacking libio-string-perl (1.08-3) ...\n",
            "Selecting previously unselected package libparse-debianchangelog-perl.\n",
            "Preparing to unpack .../20-libparse-debianchangelog-perl_1.2.0-12_all.deb ...\n",
            "Unpacking libparse-debianchangelog-perl (1.2.0-12) ...\n",
            "Setting up libhtml-tagset-perl (3.20-3) ...\n",
            "Setting up libxapian30:amd64 (1.4.5-1ubuntu0.1) ...\n",
            "Setting up libencode-locale-perl (1.05-1) ...\n",
            "Setting up libtimedate-perl (2.3000-2) ...\n",
            "Setting up libio-html-perl (1.001-1) ...\n",
            "Setting up aptitude-common (0.8.10-6ubuntu1) ...\n",
            "Setting up liblwp-mediatypes-perl (6.02-1) ...\n",
            "Setting up liburi-perl (1.73-1) ...\n",
            "Setting up libhtml-parser-perl (3.72-3build1) ...\n",
            "Setting up libcgi-pm-perl (4.38-1) ...\n",
            "Setting up libio-string-perl (1.08-3) ...\n",
            "Setting up libsub-name-perl (0.21-1build1) ...\n",
            "Setting up libfcgi-perl (0.78-2build1) ...\n",
            "Setting up libsigc++-2.0-0v5:amd64 (2.10.0-2) ...\n",
            "Setting up libclass-accessor-perl (0.51-1) ...\n",
            "Setting up libhttp-date-perl (6.02-1) ...\n",
            "Setting up libcgi-fast-perl (1:2.13-1) ...\n",
            "Setting up libparse-debianchangelog-perl (1.2.0-12) ...\n",
            "Setting up libhttp-message-perl (6.14-1) ...\n",
            "Setting up libcwidget3v5:amd64 (0.5.17-7) ...\n",
            "Setting up aptitude (0.8.10-6ubuntu1) ...\n",
            "update-alternatives: using /usr/bin/aptitude-curses to provide /usr/bin/aptitude (aptitude) in auto mode\n",
            "Processing triggers for man-db (2.8.3-2ubuntu0.1) ...\n",
            "Processing triggers for libc-bin (2.27-3ubuntu1.3) ...\n",
            "/sbin/ldconfig.real: /usr/local/lib/python3.7/dist-packages/ideep4py/lib/libmkldnn.so.0 is not a symbolic link\n",
            "\n",
            "git is already installed at the requested version (1:2.17.1-1ubuntu0.9)\n",
            "make is already installed at the requested version (4.1-9.1ubuntu1)\n",
            "curl is already installed at the requested version (7.58.0-2ubuntu3.16)\n",
            "xz-utils is already installed at the requested version (5.2.2-1.3)\n",
            "git is already installed at the requested version (1:2.17.1-1ubuntu0.9)\n",
            "make is already installed at the requested version (4.1-9.1ubuntu1)\n",
            "curl is already installed at the requested version (7.58.0-2ubuntu3.16)\n",
            "xz-utils is already installed at the requested version (5.2.2-1.3)\n",
            "The following NEW packages will be installed:\n",
            "  file libmagic-mgc{a} libmagic1{a} libmecab-dev libmecab2{a} mecab mecab-ipadic{a} mecab-ipadic-utf8 mecab-jumandic{a} mecab-jumandic-utf8{a} mecab-utils{a} \n",
            "0 packages upgraded, 11 newly installed, 0 to remove and 37 not upgraded.\n",
            "Need to get 29.3 MB of archives. After unpacking 282 MB will be used.\n",
            "Get: 1 http://archive.ubuntu.com/ubuntu bionic-updates/main amd64 libmagic-mgc amd64 1:5.32-2ubuntu0.4 [184 kB]\n",
            "Get: 2 http://archive.ubuntu.com/ubuntu bionic-updates/main amd64 libmagic1 amd64 1:5.32-2ubuntu0.4 [68.6 kB]\n",
            "Get: 3 http://archive.ubuntu.com/ubuntu bionic-updates/main amd64 file amd64 1:5.32-2ubuntu0.4 [22.1 kB]\n",
            "Get: 4 http://archive.ubuntu.com/ubuntu bionic/universe amd64 libmecab2 amd64 0.996-5 [257 kB]\n",
            "Get: 5 http://archive.ubuntu.com/ubuntu bionic/universe amd64 libmecab-dev amd64 0.996-5 [308 kB]\n",
            "Get: 6 http://archive.ubuntu.com/ubuntu bionic/universe amd64 mecab-utils amd64 0.996-5 [4,856 B]\n",
            "Get: 7 http://archive.ubuntu.com/ubuntu bionic/universe amd64 mecab-jumandic-utf8 all 7.0-20130310-4 [16.2 MB]\n",
            "Get: 8 http://archive.ubuntu.com/ubuntu bionic/universe amd64 mecab-jumandic all 7.0-20130310-4 [2,212 B]\n",
            "Get: 9 http://archive.ubuntu.com/ubuntu bionic/universe amd64 mecab-ipadic all 2.7.0-20070801+main-1 [12.1 MB]\n",
            "Get: 10 http://archive.ubuntu.com/ubuntu bionic/universe amd64 mecab amd64 0.996-5 [132 kB]\n",
            "Get: 11 http://archive.ubuntu.com/ubuntu bionic/universe amd64 mecab-ipadic-utf8 all 2.7.0-20070801+main-1 [3,522 B]\n",
            "Fetched 29.3 MB in 5s (5,636 kB/s)\n",
            "Selecting previously unselected package libmagic-mgc.\n",
            "(Reading database ... 155681 files and directories currently installed.)\n",
            "Preparing to unpack .../00-libmagic-mgc_1%3a5.32-2ubuntu0.4_amd64.deb ...\n",
            "Unpacking libmagic-mgc (1:5.32-2ubuntu0.4) ...\n",
            "Selecting previously unselected package libmagic1:amd64.\n",
            "Preparing to unpack .../01-libmagic1_1%3a5.32-2ubuntu0.4_amd64.deb ...\n",
            "Unpacking libmagic1:amd64 (1:5.32-2ubuntu0.4) ...\n",
            "Selecting previously unselected package file.\n",
            "Preparing to unpack .../02-file_1%3a5.32-2ubuntu0.4_amd64.deb ...\n",
            "Unpacking file (1:5.32-2ubuntu0.4) ...\n",
            "Selecting previously unselected package libmecab2:amd64.\n",
            "Preparing to unpack .../03-libmecab2_0.996-5_amd64.deb ...\n",
            "Unpacking libmecab2:amd64 (0.996-5) ...\n",
            "Selecting previously unselected package libmecab-dev.\n",
            "Preparing to unpack .../04-libmecab-dev_0.996-5_amd64.deb ...\n",
            "Unpacking libmecab-dev (0.996-5) ...\n",
            "Selecting previously unselected package mecab-utils.\n",
            "Preparing to unpack .../05-mecab-utils_0.996-5_amd64.deb ...\n",
            "Unpacking mecab-utils (0.996-5) ...\n",
            "Selecting previously unselected package mecab-jumandic-utf8.\n",
            "Preparing to unpack .../06-mecab-jumandic-utf8_7.0-20130310-4_all.deb ...\n",
            "Unpacking mecab-jumandic-utf8 (7.0-20130310-4) ...\n",
            "Selecting previously unselected package mecab-jumandic.\n",
            "Preparing to unpack .../07-mecab-jumandic_7.0-20130310-4_all.deb ...\n",
            "Unpacking mecab-jumandic (7.0-20130310-4) ...\n",
            "Selecting previously unselected package mecab-ipadic.\n",
            "Preparing to unpack .../08-mecab-ipadic_2.7.0-20070801+main-1_all.deb ...\n",
            "Unpacking mecab-ipadic (2.7.0-20070801+main-1) ...\n",
            "Selecting previously unselected package mecab.\n",
            "Preparing to unpack .../09-mecab_0.996-5_amd64.deb ...\n",
            "Unpacking mecab (0.996-5) ...\n",
            "Selecting previously unselected package mecab-ipadic-utf8.\n",
            "Preparing to unpack .../10-mecab-ipadic-utf8_2.7.0-20070801+main-1_all.deb ...\n",
            "Unpacking mecab-ipadic-utf8 (2.7.0-20070801+main-1) ...\n",
            "Setting up libmecab2:amd64 (0.996-5) ...\n",
            "Setting up libmagic-mgc (1:5.32-2ubuntu0.4) ...\n",
            "Setting up libmagic1:amd64 (1:5.32-2ubuntu0.4) ...\n",
            "Setting up mecab-utils (0.996-5) ...\n",
            "Setting up mecab-ipadic (2.7.0-20070801+main-1) ...\n",
            "Compiling IPA dictionary for Mecab.  This takes long time...\n",
            "reading /usr/share/mecab/dic/ipadic/unk.def ... 40\n",
            "emitting double-array: 100% |###########################################| \n",
            "/usr/share/mecab/dic/ipadic/model.def is not found. skipped.\n",
            "reading /usr/share/mecab/dic/ipadic/Others.csv ... 2\n",
            "reading /usr/share/mecab/dic/ipadic/Noun.csv ... 60477\n",
            "reading /usr/share/mecab/dic/ipadic/Interjection.csv ... 252\n",
            "reading /usr/share/mecab/dic/ipadic/Verb.csv ... 130750\n",
            "reading /usr/share/mecab/dic/ipadic/Noun.place.csv ... 72999\n",
            "reading /usr/share/mecab/dic/ipadic/Noun.name.csv ... 34202\n",
            "reading /usr/share/mecab/dic/ipadic/Auxil.csv ... 199\n",
            "reading /usr/share/mecab/dic/ipadic/Noun.demonst.csv ... 120\n",
            "reading /usr/share/mecab/dic/ipadic/Adj.csv ... 27210\n",
            "reading /usr/share/mecab/dic/ipadic/Adverb.csv ... 3032\n",
            "reading /usr/share/mecab/dic/ipadic/Prefix.csv ... 221\n",
            "reading /usr/share/mecab/dic/ipadic/Adnominal.csv ... 135\n",
            "reading /usr/share/mecab/dic/ipadic/Noun.verbal.csv ... 12146\n",
            "reading /usr/share/mecab/dic/ipadic/Filler.csv ... 19\n",
            "reading /usr/share/mecab/dic/ipadic/Noun.number.csv ... 42\n",
            "reading /usr/share/mecab/dic/ipadic/Symbol.csv ... 208\n",
            "reading /usr/share/mecab/dic/ipadic/Noun.others.csv ... 151\n",
            "reading /usr/share/mecab/dic/ipadic/Noun.proper.csv ... 27327\n",
            "reading /usr/share/mecab/dic/ipadic/Noun.nai.csv ... 42\n",
            "reading /usr/share/mecab/dic/ipadic/Postp.csv ... 146\n",
            "reading /usr/share/mecab/dic/ipadic/Noun.adverbal.csv ... 795\n",
            "reading /usr/share/mecab/dic/ipadic/Suffix.csv ... 1393\n",
            "reading /usr/share/mecab/dic/ipadic/Conjunction.csv ... 171\n",
            "reading /usr/share/mecab/dic/ipadic/Noun.adjv.csv ... 3328\n",
            "reading /usr/share/mecab/dic/ipadic/Postp-col.csv ... 91\n",
            "reading /usr/share/mecab/dic/ipadic/Noun.org.csv ... 16668\n",
            "emitting double-array: 100% |###########################################| \n",
            "reading /usr/share/mecab/dic/ipadic/matrix.def ... 1316x1316\n",
            "emitting matrix      : 100% |###########################################| \n",
            "\n",
            "done!\n",
            "update-alternatives: using /var/lib/mecab/dic/ipadic to provide /var/lib/mecab/dic/debian (mecab-dictionary) in auto mode\n",
            "Setting up libmecab-dev (0.996-5) ...\n",
            "Setting up file (1:5.32-2ubuntu0.4) ...\n",
            "Setting up mecab-jumandic-utf8 (7.0-20130310-4) ...\n",
            "Compiling Juman dictionary for Mecab.\n",
            "reading /usr/share/mecab/dic/juman/unk.def ... 37\n",
            "emitting double-array: 100% |###########################################| \n",
            "reading /usr/share/mecab/dic/juman/ContentW.csv ... 551145\n",
            "reading /usr/share/mecab/dic/juman/AuxV.csv ... 593\n",
            "reading /usr/share/mecab/dic/juman/Special.csv ... 158\n",
            "reading /usr/share/mecab/dic/juman/Rengo.csv ... 1118\n",
            "reading /usr/share/mecab/dic/juman/Demonstrative.csv ... 97\n",
            "reading /usr/share/mecab/dic/juman/Auto.csv ... 18931\n",
            "reading /usr/share/mecab/dic/juman/Wikipedia.csv ... 167709\n",
            "reading /usr/share/mecab/dic/juman/Noun.suusi.csv ... 49\n",
            "reading /usr/share/mecab/dic/juman/Noun.hukusi.csv ... 81\n",
            "reading /usr/share/mecab/dic/juman/Prefix.csv ... 90\n",
            "reading /usr/share/mecab/dic/juman/Noun.keishiki.csv ... 8\n",
            "reading /usr/share/mecab/dic/juman/Noun.koyuu.csv ... 7964\n",
            "reading /usr/share/mecab/dic/juman/Postp.csv ... 108\n",
            "reading /usr/share/mecab/dic/juman/Suffix.csv ... 2128\n",
            "reading /usr/share/mecab/dic/juman/Assert.csv ... 34\n",
            "reading /usr/share/mecab/dic/juman/Emoticon.csv ... 972\n",
            "emitting double-array: 100% |###########################################| \n",
            "reading /usr/share/mecab/dic/juman/matrix.def ... 1876x1876\n",
            "emitting matrix      : 100% |###########################################| \n",
            "\n",
            "done!\n",
            "Setting up mecab-ipadic-utf8 (2.7.0-20070801+main-1) ...\n",
            "Compiling IPA dictionary for Mecab.  This takes long time...\n",
            "reading /usr/share/mecab/dic/ipadic/unk.def ... 40\n",
            "emitting double-array: 100% |###########################################| \n",
            "/usr/share/mecab/dic/ipadic/model.def is not found. skipped.\n",
            "reading /usr/share/mecab/dic/ipadic/Others.csv ... 2\n",
            "reading /usr/share/mecab/dic/ipadic/Noun.csv ... 60477\n",
            "reading /usr/share/mecab/dic/ipadic/Interjection.csv ... 252\n",
            "reading /usr/share/mecab/dic/ipadic/Verb.csv ... 130750\n",
            "reading /usr/share/mecab/dic/ipadic/Noun.place.csv ... 72999\n",
            "reading /usr/share/mecab/dic/ipadic/Noun.name.csv ... 34202\n",
            "reading /usr/share/mecab/dic/ipadic/Auxil.csv ... 199\n",
            "reading /usr/share/mecab/dic/ipadic/Noun.demonst.csv ... 120\n",
            "reading /usr/share/mecab/dic/ipadic/Adj.csv ... 27210\n",
            "reading /usr/share/mecab/dic/ipadic/Adverb.csv ... 3032\n",
            "reading /usr/share/mecab/dic/ipadic/Prefix.csv ... 221\n",
            "reading /usr/share/mecab/dic/ipadic/Adnominal.csv ... 135\n",
            "reading /usr/share/mecab/dic/ipadic/Noun.verbal.csv ... 12146\n",
            "reading /usr/share/mecab/dic/ipadic/Filler.csv ... 19\n",
            "reading /usr/share/mecab/dic/ipadic/Noun.number.csv ... 42\n",
            "reading /usr/share/mecab/dic/ipadic/Symbol.csv ... 208\n",
            "reading /usr/share/mecab/dic/ipadic/Noun.others.csv ... 151\n",
            "reading /usr/share/mecab/dic/ipadic/Noun.proper.csv ... 27327\n",
            "reading /usr/share/mecab/dic/ipadic/Noun.nai.csv ... 42\n",
            "reading /usr/share/mecab/dic/ipadic/Postp.csv ... 146\n",
            "reading /usr/share/mecab/dic/ipadic/Noun.adverbal.csv ... 795\n",
            "reading /usr/share/mecab/dic/ipadic/Suffix.csv ... 1393\n",
            "reading /usr/share/mecab/dic/ipadic/Conjunction.csv ... 171\n",
            "reading /usr/share/mecab/dic/ipadic/Noun.adjv.csv ... 3328\n",
            "reading /usr/share/mecab/dic/ipadic/Postp-col.csv ... 91\n",
            "reading /usr/share/mecab/dic/ipadic/Noun.org.csv ... 16668\n",
            "emitting double-array: 100% |###########################################| \n",
            "reading /usr/share/mecab/dic/ipadic/matrix.def ... 1316x1316\n",
            "emitting matrix      : 100% |###########################################| \n",
            "\n",
            "done!\n",
            "update-alternatives: using /var/lib/mecab/dic/ipadic-utf8 to provide /var/lib/mecab/dic/debian (mecab-dictionary) in auto mode\n",
            "Setting up mecab (0.996-5) ...\n",
            "Compiling IPA dictionary for Mecab.  This takes long time...\n",
            "reading /usr/share/mecab/dic/ipadic/unk.def ... 40\n",
            "emitting double-array: 100% |###########################################| \n",
            "/usr/share/mecab/dic/ipadic/model.def is not found. skipped.\n",
            "reading /usr/share/mecab/dic/ipadic/Others.csv ... 2\n",
            "reading /usr/share/mecab/dic/ipadic/Noun.csv ... 60477\n",
            "reading /usr/share/mecab/dic/ipadic/Interjection.csv ... 252\n",
            "reading /usr/share/mecab/dic/ipadic/Verb.csv ... 130750\n",
            "reading /usr/share/mecab/dic/ipadic/Noun.place.csv ... 72999\n",
            "reading /usr/share/mecab/dic/ipadic/Noun.name.csv ... 34202\n",
            "reading /usr/share/mecab/dic/ipadic/Auxil.csv ... 199\n",
            "reading /usr/share/mecab/dic/ipadic/Noun.demonst.csv ... 120\n",
            "reading /usr/share/mecab/dic/ipadic/Adj.csv ... 27210\n",
            "reading /usr/share/mecab/dic/ipadic/Adverb.csv ... 3032\n",
            "reading /usr/share/mecab/dic/ipadic/Prefix.csv ... 221\n",
            "reading /usr/share/mecab/dic/ipadic/Adnominal.csv ... 135\n",
            "reading /usr/share/mecab/dic/ipadic/Noun.verbal.csv ... 12146\n",
            "reading /usr/share/mecab/dic/ipadic/Filler.csv ... 19\n",
            "reading /usr/share/mecab/dic/ipadic/Noun.number.csv ... 42\n",
            "reading /usr/share/mecab/dic/ipadic/Symbol.csv ... 208\n",
            "reading /usr/share/mecab/dic/ipadic/Noun.others.csv ... 151\n",
            "reading /usr/share/mecab/dic/ipadic/Noun.proper.csv ... 27327\n",
            "reading /usr/share/mecab/dic/ipadic/Noun.nai.csv ... 42\n",
            "reading /usr/share/mecab/dic/ipadic/Postp.csv ... 146\n",
            "reading /usr/share/mecab/dic/ipadic/Noun.adverbal.csv ... 795\n",
            "reading /usr/share/mecab/dic/ipadic/Suffix.csv ... 1393\n",
            "reading /usr/share/mecab/dic/ipadic/Conjunction.csv ... 171\n",
            "reading /usr/share/mecab/dic/ipadic/Noun.adjv.csv ... 3328\n",
            "reading /usr/share/mecab/dic/ipadic/Postp-col.csv ... 91\n",
            "reading /usr/share/mecab/dic/ipadic/Noun.org.csv ... 16668\n",
            "emitting double-array: 100% |###########################################| \n",
            "reading /usr/share/mecab/dic/ipadic/matrix.def ... 1316x1316\n",
            "emitting matrix      : 100% |###########################################| \n",
            "\n",
            "done!\n",
            "Setting up mecab-jumandic (7.0-20130310-4) ...\n",
            "Processing triggers for man-db (2.8.3-2ubuntu0.1) ...\n",
            "Processing triggers for libc-bin (2.27-3ubuntu1.3) ...\n",
            "/sbin/ldconfig.real: /usr/local/lib/python3.7/dist-packages/ideep4py/lib/libmkldnn.so.0 is not a symbolic link\n",
            "\n",
            "                            \n",
            "Collecting mecab-python3==0.7\n",
            "  Downloading mecab-python3-0.7.tar.gz (41 kB)\n",
            "\u001b[K     |████████████████████████████████| 41 kB 224 kB/s \n",
            "\u001b[?25hBuilding wheels for collected packages: mecab-python3\n",
            "  Building wheel for mecab-python3 (setup.py) ... \u001b[?25l\u001b[?25hdone\n",
            "  Created wheel for mecab-python3: filename=mecab_python3-0.7-cp37-cp37m-linux_x86_64.whl size=156613 sha256=1e8c61c803863419bd2f163f492f199562be7e29e03f087daf4fe8613fccd55a\n",
            "  Stored in directory: /root/.cache/pip/wheels/47/46/95/3748ec2c4936cb69ee4d248a85e862064ea1e84819344c5292\n",
            "Successfully built mecab-python3\n",
            "Installing collected packages: mecab-python3\n",
            "Successfully installed mecab-python3-0.7\n"
          ]
        }
      ]
    },
    {
      "cell_type": "markdown",
      "source": [
        "再起動"
      ],
      "metadata": {
        "id": "5sk3sFAX4j-h"
      }
    },
    {
      "cell_type": "code",
      "source": [
        "!mecab -o neko.txt.mecab neko.txt"
      ],
      "metadata": {
        "id": "bitgaghy6gYa"
      },
      "execution_count": null,
      "outputs": []
    },
    {
      "cell_type": "markdown",
      "source": [
        "30"
      ],
      "metadata": {
        "id": "HToTI2tz3rby"
      }
    },
    {
      "cell_type": "code",
      "source": [
        "!head -n 100 '/content/neko.txt.mecab'"
      ],
      "metadata": {
        "colab": {
          "base_uri": "https://localhost:8080/"
        },
        "id": "gWZgFlIl3KNK",
        "outputId": "2a4af0a8-d288-4aad-84df-b00b386c5aea"
      },
      "execution_count": null,
      "outputs": [
        {
          "output_type": "stream",
          "name": "stdout",
          "text": [
            "一\t名詞,数,*,*,*,*,一,イチ,イチ\n",
            "\r\t記号,一般,*,*,*,*,*\n",
            "EOS\n",
            "\r\t記号,一般,*,*,*,*,*\n",
            "EOS\n",
            "　\t記号,空白,*,*,*,*,　,　,　\n",
            "吾輩\t名詞,代名詞,一般,*,*,*,吾輩,ワガハイ,ワガハイ\n",
            "は\t助詞,係助詞,*,*,*,*,は,ハ,ワ\n",
            "猫\t名詞,一般,*,*,*,*,猫,ネコ,ネコ\n",
            "で\t助動詞,*,*,*,特殊・ダ,連用形,だ,デ,デ\n",
            "ある\t助動詞,*,*,*,五段・ラ行アル,基本形,ある,アル,アル\n",
            "。\t記号,句点,*,*,*,*,。,。,。\n",
            "\r\t記号,一般,*,*,*,*,*\n",
            "EOS\n",
            "名前\t名詞,一般,*,*,*,*,名前,ナマエ,ナマエ\n",
            "は\t助詞,係助詞,*,*,*,*,は,ハ,ワ\n",
            "まだ\t副詞,助詞類接続,*,*,*,*,まだ,マダ,マダ\n",
            "無い\t形容詞,自立,*,*,形容詞・アウオ段,基本形,無い,ナイ,ナイ\n",
            "。\t記号,句点,*,*,*,*,。,。,。\n",
            "\r\t記号,一般,*,*,*,*,*\n",
            "EOS\n",
            "\r\t記号,一般,*,*,*,*,*\n",
            "EOS\n",
            "　\t記号,空白,*,*,*,*,　,　,　\n",
            "どこ\t名詞,代名詞,一般,*,*,*,どこ,ドコ,ドコ\n",
            "で\t助詞,格助詞,一般,*,*,*,で,デ,デ\n",
            "生れ\t動詞,自立,*,*,一段,連用形,生れる,ウマレ,ウマレ\n",
            "た\t助動詞,*,*,*,特殊・タ,基本形,た,タ,タ\n",
            "か\t助詞,副助詞／並立助詞／終助詞,*,*,*,*,か,カ,カ\n",
            "とんと\t副詞,一般,*,*,*,*,とんと,トント,トント\n",
            "見当\t名詞,サ変接続,*,*,*,*,見当,ケントウ,ケントー\n",
            "が\t助詞,格助詞,一般,*,*,*,が,ガ,ガ\n",
            "つか\t動詞,自立,*,*,五段・カ行イ音便,未然形,つく,ツカ,ツカ\n",
            "ぬ\t助動詞,*,*,*,特殊・ヌ,基本形,ぬ,ヌ,ヌ\n",
            "。\t記号,句点,*,*,*,*,。,。,。\n",
            "\r\t記号,一般,*,*,*,*,*\n",
            "EOS\n",
            "何\t名詞,代名詞,一般,*,*,*,何,ナニ,ナニ\n",
            "でも\t助詞,副助詞,*,*,*,*,でも,デモ,デモ\n",
            "薄暗い\t形容詞,自立,*,*,形容詞・アウオ段,基本形,薄暗い,ウスグライ,ウスグライ\n",
            "じめじめ\t副詞,一般,*,*,*,*,じめじめ,ジメジメ,ジメジメ\n",
            "し\t動詞,自立,*,*,サ変・スル,連用形,する,シ,シ\n",
            "た\t助動詞,*,*,*,特殊・タ,基本形,た,タ,タ\n",
            "所\t名詞,非自立,副詞可能,*,*,*,所,トコロ,トコロ\n",
            "で\t助詞,格助詞,一般,*,*,*,で,デ,デ\n",
            "ニャーニャー\t名詞,一般,*,*,*,*,*\n",
            "泣い\t動詞,自立,*,*,五段・カ行イ音便,連用タ接続,泣く,ナイ,ナイ\n",
            "て\t助詞,接続助詞,*,*,*,*,て,テ,テ\n",
            "いた事\t名詞,一般,*,*,*,*,いた事,イタコト,イタコト\n",
            "だけ\t助詞,副助詞,*,*,*,*,だけ,ダケ,ダケ\n",
            "は\t助詞,係助詞,*,*,*,*,は,ハ,ワ\n",
            "記憶\t名詞,サ変接続,*,*,*,*,記憶,キオク,キオク\n",
            "し\t動詞,自立,*,*,サ変・スル,連用形,する,シ,シ\n",
            "て\t助詞,接続助詞,*,*,*,*,て,テ,テ\n",
            "いる\t動詞,非自立,*,*,一段,基本形,いる,イル,イル\n",
            "。\t記号,句点,*,*,*,*,。,。,。\n",
            "\r\t記号,一般,*,*,*,*,*\n",
            "EOS\n",
            "吾輩\t名詞,代名詞,一般,*,*,*,吾輩,ワガハイ,ワガハイ\n",
            "は\t助詞,係助詞,*,*,*,*,は,ハ,ワ\n",
            "ここ\t名詞,代名詞,一般,*,*,*,ここ,ココ,ココ\n",
            "で\t助詞,格助詞,一般,*,*,*,で,デ,デ\n",
            "始め\t動詞,自立,*,*,一段,連用形,始める,ハジメ,ハジメ\n",
            "て\t助詞,接続助詞,*,*,*,*,て,テ,テ\n",
            "人間\t名詞,一般,*,*,*,*,人間,ニンゲン,ニンゲン\n",
            "という\t助詞,格助詞,連語,*,*,*,という,トイウ,トユウ\n",
            "もの\t名詞,非自立,一般,*,*,*,もの,モノ,モノ\n",
            "を\t助詞,格助詞,一般,*,*,*,を,ヲ,ヲ\n",
            "見\t動詞,自立,*,*,一段,連用形,見る,ミ,ミ\n",
            "た\t助動詞,*,*,*,特殊・タ,基本形,た,タ,タ\n",
            "。\t記号,句点,*,*,*,*,。,。,。\n",
            "\r\t記号,一般,*,*,*,*,*\n",
            "EOS\n",
            "しかも\t接続詞,*,*,*,*,*,しかも,シカモ,シカモ\n",
            "あと\t名詞,一般,*,*,*,*,あと,アト,アト\n",
            "で\t助詞,格助詞,一般,*,*,*,で,デ,デ\n",
            "聞く\t動詞,自立,*,*,五段・カ行イ音便,基本形,聞く,キク,キク\n",
            "と\t助詞,接続助詞,*,*,*,*,と,ト,ト\n",
            "それ\t名詞,代名詞,一般,*,*,*,それ,ソレ,ソレ\n",
            "は\t助詞,係助詞,*,*,*,*,は,ハ,ワ\n",
            "書生\t名詞,一般,*,*,*,*,書生,ショセイ,ショセイ\n",
            "という\t助詞,格助詞,連語,*,*,*,という,トイウ,トユウ\n",
            "人間\t名詞,一般,*,*,*,*,人間,ニンゲン,ニンゲン\n",
            "中\t名詞,接尾,副詞可能,*,*,*,中,チュウ,チュー\n",
            "で\t助詞,格助詞,一般,*,*,*,で,デ,デ\n",
            "一番\t名詞,副詞可能,*,*,*,*,一番,イチバン,イチバン\n",
            "獰悪\t名詞,形容動詞語幹,*,*,*,*,獰悪,ドウアク,ドーアク\n",
            "な\t助動詞,*,*,*,特殊・ダ,体言接続,だ,ナ,ナ\n",
            "種族\t名詞,一般,*,*,*,*,種族,シュゾク,シュゾク\n",
            "で\t助動詞,*,*,*,特殊・ダ,連用形,だ,デ,デ\n",
            "あっ\t助動詞,*,*,*,五段・ラ行アル,連用タ接続,ある,アッ,アッ\n",
            "た\t助動詞,*,*,*,特殊・タ,基本形,た,タ,タ\n",
            "そう\t名詞,特殊,助動詞語幹,*,*,*,そう,ソウ,ソー\n",
            "だ\t助動詞,*,*,*,特殊・ダ,基本形,だ,ダ,ダ\n",
            "。\t記号,句点,*,*,*,*,。,。,。\n",
            "\r\t記号,一般,*,*,*,*,*\n",
            "EOS\n",
            "この\t連体詞,*,*,*,*,*,この,コノ,コノ\n",
            "書生\t名詞,一般,*,*,*,*,書生,ショセイ,ショセイ\n",
            "という\t助詞,格助詞,連語,*,*,*,という,トイウ,トユウ\n"
          ]
        }
      ]
    },
    {
      "cell_type": "code",
      "source": [
        "def read_mecab(fname):\n",
        " sentence_dic = []\n",
        " word_analysis = []\n",
        " with open(fname) as f:\n",
        "    for line in f:\n",
        "        #EOS以外の場合\n",
        "        if line != 'EOS\\n':\n",
        "          #改行のみの場合スキップ\n",
        "          if line != '\\n':\n",
        "            #空白で区切る\n",
        "            phrase = line.split('\\t')\n",
        "            #,で区切る\n",
        "            if phrase[0] != '':\n",
        "              subphrase = phrase[1].split(',')\n",
        "              #単語のマッピング型\n",
        "              word_map = {'surface':phrase[0], 'base':subphrase[6], 'pos':subphrase[0], 'pos1':subphrase[1]}\n",
        "              word_analysis.append(word_map)\n",
        "        #EOS文末の場合\n",
        "        else :\n",
        "           #リストがない場合スキップ\n",
        "           if word_analysis != []:\n",
        "             #全体のマッピングに付け加える\n",
        "             sentence_dic.append(word_analysis)\n",
        "             #一文の結果を白紙\n",
        "             word_analysis = []\n",
        "\n",
        " return sentence_dic\n",
        "\n",
        "sentence_dic = []\n",
        "sentence_dic = read_mecab('/content/neko.txt.mecab')\n",
        "\n"
      ],
      "metadata": {
        "id": "EgUDpn8w7K16"
      },
      "execution_count": null,
      "outputs": []
    },
    {
      "cell_type": "code",
      "source": [
        "sentence_dic[2]"
      ],
      "metadata": {
        "colab": {
          "base_uri": "https://localhost:8080/"
        },
        "id": "Js0gT-d5F2dq",
        "outputId": "0da0d98c-fed1-4d47-a560-6488ea37fd53"
      },
      "execution_count": null,
      "outputs": [
        {
          "output_type": "execute_result",
          "data": {
            "text/plain": [
              "[{'base': '名前', 'pos': '名詞', 'pos1': '一般', 'surface': '名前'},\n",
              " {'base': 'は', 'pos': '助詞', 'pos1': '係助詞', 'surface': 'は'},\n",
              " {'base': 'まだ', 'pos': '副詞', 'pos1': '助詞類接続', 'surface': 'まだ'},\n",
              " {'base': '無い', 'pos': '形容詞', 'pos1': '自立', 'surface': '無い'},\n",
              " {'base': '。', 'pos': '記号', 'pos1': '句点', 'surface': '。'}]"
            ]
          },
          "metadata": {},
          "execution_count": 28
        }
      ]
    },
    {
      "cell_type": "markdown",
      "source": [
        "31"
      ],
      "metadata": {
        "id": "q3uGdBR5HTt5"
      }
    },
    {
      "cell_type": "code",
      "source": [
        "def verd_surface(sentence_dic):\n",
        "  verd=[]\n",
        "  for word in sentence_dic:\n",
        "    for phrase in word:\n",
        "        if phrase['pos'] == '動詞':\n",
        "            verd.append(phrase['surface'])\n",
        "\n",
        "  return set(verd)\n",
        "\n",
        "surface = []\n",
        "surface = verd_surface(sentence_dic)\n",
        "print(surface)"
      ],
      "metadata": {
        "colab": {
          "base_uri": "https://localhost:8080/"
        },
        "id": "i2-5PhM1HUPS",
        "outputId": "5a8ac0b4-6431-484e-949a-cddf4e7e24a4"
      },
      "execution_count": null,
      "outputs": [
        {
          "output_type": "stream",
          "name": "stdout",
          "text": [
            "{'やめ', '傾ける', '切り付ける', 'うけ', '刈っ', '飛び出す', '与えん', 'ふう', '立ちすくん', '迎え', '奉る', '輝い', '凝らす', '引っ張っ', '従っ', '括っ', '進める', '入っ', '見える', '考え出し', '透し', '飲ま', 'あがる', 'あらわす', '動く', '取り払う', '流れれ', '承る', '終り', '対し', '近づい', '知っ', '埋め', '変ら', 'きき', '浸っ', 'わく', '御する', '凹まし', '衝く', '覆う', '誤', '決し', '上り', 'あか', '驚かす', 'でき', '平らげ', 'いら', '丸め', '埋っ', 'はちきれん', '暮れれ', '待っ', '揺れ', '燃える', '逃げ出す', 'なくなる', 'いじっ', '省け', '書き散らし', '磨き', '明い', '急き込ん', '出掛ける', '言い兼ね', '追払わ', '伏し', '明け放し', '刻ん', '真似る', '語ら', 'こ', '突こ', '落ちつか', 'つづき', '舞い', 'ならべる', '繰り返す', '書く', 'ほり', '嗅ぎ', '悟っ', '捲い', '期し', '冒し', '見識張っ', '見廻す', '変っ', '変じ', '癒せる', '噛め', 'ぱくつく', 'おっしゃい', 'こしらえ', '連れ出し', '誘わ', '相成り', '逝い', '送', 'くらべ', 'あらし', '落ちる', '洩れ', '臨ん', '見廻し', '出す', '吹き込む', '懸っ', '生え', 'こびりつく', '見くびら', 'れよ', 'くべ', '込めん', '迷わさ', '廃せ', '苦しん', '解し', '臨む', '逃がす', '噛む', '肥り', '禿げ', 'ちまう', '持っ', 'つくっ', 'ひやかし', '騒ぎ出す', '貫く', '歴', '改まる', '抛り', '奪い', '浚い', '痛ん', '聞き返し', 'はみ出し', '告げん', '散らし', '引掻い', '起き直っ', '肥っ', '証拠立て', '植え付け', '降りる', '阿', '聴い', '覚える', '捕れん', '責める', '窺う', '生ん', '承っ', '云う', '追い出し', '観', '踞る', '利かす', 'しまっ', '申し聞ける', '巻き込ま', '償お', 'こぼす', '来っ', '譲っ', '極める', '得よ', '移し', '聞きゃ', '噴き出し', '買っ', '話せる', 'しなび', '打ち抜い', '悟る', '吹き', '陥っ', 'なりゃ', '熱し', 'ぶらつい', 'のぞく', '無くなっ', '聞きつけ', '持ち上げる', '知らし', '唱え', '参っ', '犯し', '泣く', '浮ぶ', '厭き', '召し上がり', '黙っ', '生やし', '向く', '思い', '食お', '暮れ', '甘んじ', '潜れ', '流れる', '潰れ', '務まる', '居', '中る', '這う', '走ら', '刈り', 'られる', '絞め殺さ', 'しゃべる', '起こさ', '取払っ', '考えつい', '障っ', '突き戻す', 'とろけ', '納まり', 'しめん', '引きずり出し', '突き', '売り飛ばし', '奪っ', '移る', '立ち行か', '去っ', '濡れる', 'あら', '響く', '説き', '洩る', 'いき', '果せる', '挑む', '断わっ', '垂れる', '限ら', 'こらし', '重んずる', 'おる', '差出す', '叱', '入れる', 'おっしゃら', '上る', 'ざれ', 'くれ', '至っ', '役に立つ', '嵌っ', '払い', '終え', '吊るし', '立ち返っ', 'させる', 'なし', '引き返す', '打殺さ', '落とし', '着い', '流れ出し', 'からまっ', '得', '威張る', '吹き出す', '及ぶ', 'しろ', 'おくれ', 'あつめ', '能い', '張り付け', '寄っ', '来ら', '待ち構え', 'のろけ', '睨め', '送ら', '過す', '開け放し', '跳ね', 'もぐる', 'がす', '縊れる', '遇っ', '払わ', 'しから', '待ち兼ね', 'づく', '咎めん', '亡くなら', '寄せる', '呈し', '鑑みる', 'ふれ', 'きれ', '従え', '叫ぶ', '跳ね返し', 'いやし', '言い放っ', '引き', 'たっ', '済み', '案ずる', '寝つき', '届け', '交ぜ返す', 'もぐり込ん', '売り', '飲ん', '通れ', '気が付か', 'つかえる', '立ち退く', '指し', '食いつく', '引張る', '称し', 'なげ', '来ん', 'おこ', '伝え', '折れる', 'しまお', '転じ', 'くらむ', 'しゃくい', 'ござる', '懸ら', '合わ', '寄せ', '省い', '捧げ', '逆らっ', '布か', 'はやる', '分かる', '帰し', '捕る', 'やれる', '掻い込ん', '離れ', '解さ', 'わり', '損ね', '雇わ', '引き受ける', '発する', '冷やかす', 'つき', '聞き分ける', 'しくじっ', 'たらし', '動き', '浸す', '教え', '過ぎ去っ', '慮', '焼か', '吸い込ん', '思いやら', '押し', '沈めろ', 'おこせ', '離す', '寝転び', 'かかっ', '吐く', '揃え', '行き過ぎよ', '狼狽え', '損なっ', '憤る', '抜ける', '戻る', '引き寄せ', '云っ', '仕ろ', 'すべれ', '強い', '潰れる', '担い', 'すかし', 'かたまっ', '合い', '纏める', '叫ん', '湧き出', '写っ', '拾わ', 'かぶっ', 'わっ', '済まし', '助かり', 'よら', '評し', '溺れ', '施し', 'もとづく', '鳴き', '落ちれ', 'たたく', '犯さ', '片づか', '綻び', '生れる', '探', '捕える', 'つけ込ん', '懲り', '捻り出し', '拭い', '振りかけ', '拱い', 'かきまぜ', '光り', 'れりゃ', '見よ', '攻め', '切り上げよ', '償わ', '書き入れ', '切り刻ん', '容れ', 'あてつける', '究め', 'あやまっ', '作り上げ', '靡く', '縺れ', '端折っ', 'もぐっ', '盗ら', '蹴返す', '察し', '寝', 'できる', '定め', '寝る', '買え', '装っ', '弱ら', 'させ', 'おける', 'からかっ', '貼り', '亡ぼさ', '張れ', '退く', '初める', '取り寄せる', '嚇し', '織', '張り上げ', '惜しめ', 'やき', '沈ん', '錬', '借', '通そ', '釣っ', '繰り', '願い', '依る', 'やってのけ', '酬い', 'がかっ', '浮き出し', 'こす', '散らす', '勝と', '織り', 'かさね', '直る', '重ねる', '逃げ', '割り込ん', '敷い', '積ま', '飛び降りる', '候え', '乗っ', '響け', '心付か', '含める', '断わり', '仕ら', '下され', 'うなら', '暮らし', 'くれる', '供し', '向け', '逢い', '悲しむ', 'いれ', '起さ', '踏ま', 'がら', 'つつま', '振っ', '殺さ', '捲か', 'あばか', '巡っ', '掻きむしる', '教わっ', '捻る', 'めで', '固まっ', '待たさ', '振り立てる', '噛ん', '疑っ', 'しっ', '足そ', 'くれれ', '果す', '告げる', '食わせ', 'ふっ', '寝れ', '待て', '斬り', '当る', '見違える', '見え', '務める', '切らし', '負け', '書きつけ', '極め込ん', '押しかけ', '作ろ', 'ぶら下がる', '娶る', '吐き出す', '溯ら', '果さ', '追い出さ', '寄り', '仕', '引越す', '盗ま', '捕まる', '伺い', '添える', '問い返さ', '踞っ', '乗ん', '知り', '布い', '負ける', 'つづい', 'どい', 'える', '謹ん', 'あげ', '推し', '飲み込め', 'しら', '連れ添う', '減ぜ', '充たさ', '構っ', '込ん', '清め', '光ら', '飛び', '減ら', 'かう', '較べ', '差し込む', '仰ぐ', '現われ', '貪り', '思いつい', '撓る', 'しゃべり', '望ん', 'はめ', '扱か', '参る', '確かめ', '構い', 'とまり', '誘い出す', '振り立て', '転げ落ち', '行き違う', 'おっしゃる', 'やけ', 'あばれ', '疑', '途切れ', '扱が', '成っ', '貰い', 'おく', '癒す', 'つまむ', '下がれ', '及ば', '奢り', '契っ', '陳べ', '据え', 'せれ', '乗せ', '下りる', '塗り', '承ら', 'ひる', '飛び込ん', '腐れ', '弾きゃ', '掠め', '活かす', '生ず', 'しゃがん', 'えん', '払う', '遊ば', '沸き上がっ', '見れ', '突き立て', '気がつく', 'から', '殖えれ', '立ち上がっ', '若か', 'もがけ', '利か', '巡り', 'もとめ', '極まっ', '登ら', '立ち退き', '印し', '延ばし', '学ぶ', '振ら', '聞き合わせ', '揉ま', '這い出す', 'ひやかさ', '遮っ', '誘う', '奪い合っ', '吹きかけ', '呼ぶ', 'とき', 'おどかす', '下がろ', '捕り', '極まる', 'あてがう', '弾く', '売っ', '沈む', '舂き', '伺っ', '追いつく', '移っ', '出掛けよ', '異な', '感じ', 'うかがっ', '手伝っ', '消し', '湧き出る', 'のしかかる', '嘲', '候わ', '恐れる', '行っ', '付か', '掛れ', '叶え', '迂', '動い', '笑い', '触る', 'なさっ', '帰れ', '飛び上がっ', 'たまる', '祈ら', '罵っ', 'かすん', '見渡す', '困りゃ', '痛め', '起し', 'くれろ', '読み直し', '気に入っ', 'かく', 'ぶら下がっ', '合せ', '羨む', '出会わ', '振り向く', 'はなす', '込め', '戻ら', '続け', '寝ころん', 'じゃらし', '儲け', 'すむ', '外し', 'くっつい', '集まっ', '舞い戻っ', 'たなびき', '見て取る', '拭き込ん', '残る', 'たまら', '合せる', '服せ', 'とり', '奏し', 'こじ開ける', '見せびらかす', '散っ', 'どく', '耽る', '消え失せ', '響き', '挿し', '有っ', '見', 'フケ', '留める', '有りゃ', '通ら', '脱ぎ', '重んず', '重んぜ', 'うたい', 'いつく', '古る', '打ち出し', '説く', '掘り', 'よごれる', '飛ば', '処せ', '冷かす', '起こそ', '見つかっ', '載っけ', 'あ', '相成っ', '売れ残っ', '見かね', '溜まっ', '叱る', '振れ', '徹っ', 'もらわ', 'よそ', '費やさ', 'たたき', 'めさ', '来る', '受取る', 'くらさ', '通ずる', '論じ', '敷か', '包み', '見離さ', '吹き払い', '通し', 'かれ', '近寄る', '聞き返す', '焦る', 'はぐっ', '聞き糺し', '気に入り', 'おどし', '取り払わ', '降らせる', '見付け', '働く', 'あつまっ', '迷う', 'あて', '振り', '間に合わ', '立て通す', '申し渡し', 'いやがれ', 'ひねくっ', '染め出し', '泣かせ', '尋ねる', '致し', '炊き', 'なれ', '起ら', '迷い込ん', 'のしかから', '云え', '眩む', 'ふるえ', '生ぜ', '反り', '剥がれ', '隠れ', '引き付け', '構わ', '立てれ', '撓め', '積み込ま', 'たどっ', '直す', '好み', '構え', 'はれ', '訪う', '捨て', '劃し', '調べ', '抛っ', '懸', '届か', '立て', 'ころばし', 'ふくれる', '出れ', 'さり', '雇っ', '化ける', '乗ら', '考える', '着け', '通り', 'あたわ', '儲ける', '擦', '乗る', '掘っ', 'ぶら下げ', '縮ま', 'ちまお', '洩らし', '貼っ', '掛る', '打ち消す', '栄える', '復する', '行う', '吐い', '接し', '流行っ', 'しでかす', '給え', '好い', '腐る', 'たくっ', '過ぎん', '離さ', '出る', '叩き上げ', 'じらせる', 'くらす', '撃ち', '係わら', '有する', '勝れん', 'ともっ', '繙け', '調子づい', '磨る', 'なぐりつける', '閉じ', 'かかり', '怒鳴っ', '好ん', '恐れ入る', '違っ', 'くだけ', '禁ずる', 'ここ', '換える', '拾っ', '救っ', '擦る', '考え直し', '還す', '帰ろ', 'からかお', '放し', '拾う', 'ちまい', '滅す', 'のむ', '被る', '騰', '喜ぶ', '焚い', '尽き', '破っ', '略する', '洗え', '結い', '見縊', '使わ', '響い', '寝かさ', 'あるい', '断っ', '痛む', '食え', '生れ', '突き通し', 'ほかなら', '減っ', 'うく', 'ぶっ', 'かね', '割り出さ', 'しらべ', '魅入ら', '行き詰る', '残し', 'いり', '壊し', '称え', '盛り込ま', '削る', 'たれ', '廻す', '茂っ', '出来', 'なさる', 'かん', '沁み', '涼み', '鳴る', '欺く', '帰っ', '驚かし', 'やら', '信じよ', '臭え', '復し', '装い', '撮っ', 'あきれ返っ', '分りゃ', '磨っ', '害し', 'あせっ', 'からかう', 'すくっ', 'だまっ', '切り抜か', '愛し', '問う', '慕っ', 'たかる', '差し控え', 'そい', 'や', 'こし', 'ぬっ', '跳ね返る', '作っ', '返り', '乗', '気づかい', '掘り出す', 'ぶる', '素っ破抜く', '交ぜ', 'かぎっ', '咎める', '絞める', '及ぼし', '棄て', 'つくり', '上げる', '笑う', 'もし', 'じらし', 'ききつけ', '問わ', '逆らわ', '包ん', '断わら', '変る', '飛び込み', '勝た', '頼み', 'あまる', '合わせ', 'さめ', 'ぬか', '詰め', '描き出し', '当り', '持て', '追っ', '遊ん', '捨てる', '弾か', 'しい', '見馴れ', '揉ん', 'いろ', '割い', 'しかり', '食う', '笑われる', '過し', 'いに', '登っ', '亡くなり', '休める', '吊ら', '見る', '亡くなっ', '握ろ', '煎じ', 'づけ', '泣き', 'ふざけ', '伝える', '止せ', '熾ん', '取り合せ', 'むく', 'はね', '怒り', '開く', '弁じ', '寝過ごし', '冷め', '動こ', '廻れ', '覚え', '陥ら', '当て', '帰そ', '洒落', '取れ', 'くっ', '浮べ', '致す', 'まし', '連ね', '伝わる', '書き流し', '食い', 'きかかっ', '欠く', '飼わ', 'とおっ', 'やり込め', 'ひ', '食べ', 'もぐり込む', '噛ま', '入ら', '授ける', '登る', 'ねじ伏せる', '抛り出す', 'じれ', 'あせる', '突きつけ', '降っ', '上がん', 'なん', 'きつける', '持ち直す', '撚', '投げ入れる', '放さ', '叩い', '立ち入っ', '煩わし', '逃げ込む', '好む', '遺す', 'くりゃる', 'けら', '途切れる', '応える', '追いやっ', 'さしゃ', 'ごろつい', '渡り', '飛び上がろ', '心づか', '残っ', '駆ら', '知れる', '砕い', '飛出', '扱き', '気に入る', '下さる', '持た', '怒', 'まごつい', '恐る', 'どやし', '話そ', 'くずれ', '名づける', '開か', '有す', 'すり抜け', '飾る', '抱え', '依', '運ん', '倦ん', 'はち切れる', '尽くさ', 'さすっ', '已めろ', '飛び越え', '掻い', '驚き', '解せ', 'つけ', '仰', 'かくす', 'つい', '取り極め', '掬い', '利く', '引き裂い', 'まわる', 'ともり', '寝ぼけ', '上がる', '押し込む', '話さ', '開け', 'うめろ', '歩み寄っ', '聞き', '願お', '見せる', '蒙っ', '見届け', '預っ', '抓み', '余っ', 'なろ', '降る', '向ける', '仕る', 'すう', '着せる', '圧し', 'くだら', '向い', '思い出せ', '過ぎれ', '塗りつけ', '取', 'やん', 'せる', 'まぜ返し', '分っ', '存じ', 'はじめる', '使お', '拭く', 'のぼせ', '傾い', 'さげる', 'せら', '読み出し', 'ぬかり', '守ら', 'られれ', 'よす', '留まり', 'すん', 'こびりつい', 'つぶやい', '企て', 'よこし', '縮まる', 'かきつけ', '汚す', '恥ずる', '振り向い', '罷り', 'かがやい', '防ぐ', '込ま', '重ね', '属し', '引き立た', '引き起し', 'いらせられ', '期する', '生れ変っ', '呼ばわり', 'よそい', '引き受け', '届け出る', '沁む', '立てる', '凝り固まっ', '伺わ', '重んじ', '写し', '明けれ', '選ん', '相成る', 'よせ', '授け', '問いかける', 'やれ', 'こたえる', 'やりゃ', '動じ', 'いただき', '誘い出し', 'やってくる', '撲', '覗い', 'いただい', '張り詰め', '目立っ', '恐', '敗れ', '障', '聞け', '生き返る', '置き', '鋳', '顧みる', '訳し', '張れる', '気に入ら', '始め', '溜ら', 'やめよ', '光らし', '切り抜けよ', '怒鳴りつけれ', '数え立て', '申し込も', '窺っ', '溜め', 'なやん', 'もぐり', 'て', '鳴らし', 'かたちづくっ', 'よべ', '染み', 'つめ', 'もてなす', '寄り付く', '挙げる', '見張っ', '片付い', 'さす', '見習お', '潰す', '引っ張る', '訴え', 'こすり', '悩み', '敲い', '通う', '戻す', 'いじめ', '呑ん', 'まじり', '食わす', '弾ずる', '言いつけ', '悔やん', '達し', 'かぶる', '試し', '飛び込む', '見せよ', '断わる', '吹く', '引き上げ', '結え', '這入り', 'あつまる', '進ぜる', '呑み込ま', 'しむ', '召し上がら', '絶え', '引い', '這い', '生き', '貪る', 'かざら', '心付く', '始まら', '減る', '申さ', '入れ違い', '見計らっ', 'はっ', '出来れ', 'むけ', '比し', '引込め', '狭め', '窘め', '縮める', '流れ', '陥れ', '拵え', '言い触らす', '弾き', '込み', '見合せよ', '祝い', '鳴らす', '承り', '休ま', '思い立っ', '呑み込む', '収める', 'だい', '合わせる', '問い掛ける', '見せびらかし', '正す', '騒ぎ立て', 'のせ', '立ち行く', 'あがり', 'ぶらさがっ', '覚め', '借り', '燻り', '建つ', '着こなし', '煮', '図ら', 'つづか', '挟まっ', '這入ら', 'くらん', '起きろ', '過ごす', 'あつかう', '引きずり', 'つくばい', 'る', '始まっ', '転ずる', '押し出し', '揮っ', '舞っ', 'せい', '取りかかる', '受ける', '立ち寄っ', '投げ込む', '飛び下り', '視る', '持て余し', 'ゆき', 'ゆ', 'いい', '滑べっ', '浴びせかける', '食わせれ', '知ら', '眺め', '聞かし', '振', 'ち', 'まがっ', 'きめ', '盛っ', 'しく', 'ひそめ', '置ける', '撞く', '返る', '吹き付け', '咎め', '放り込ん', '出直す', '読みかけ', 'あびせる', '焦', '覚っ', '殺せ', '帯び', '釣れ', '律すれ', 'うむ', '送れ', '遊ぶ', 'あらわ', '仰せつけ', '飽き飽きし', '下がっ', '噛み', '舞わ', 'ひやかす', '引か', '見習う', '捻っ', '近付く', '罹っ', '抜い', '向き直っ', 'せまら', '取り去る', '引きかえそ', '目立つ', 'なさろ', '張り', '行く', '掛け', '吸い取ら', '奉じ', 'いよ', '散る', '下げる', '懲らしめ', '泳い', '取り巻い', '陥る', 'なめる', '考え込む', '知れ', '寄れ', '陣取っ', 'へい', '垂らす', '死ぬ', '拗じ', '懸り', '取上げ', '具え', '択ば', '擦り付け', '飛び込め', '描き出さ', '起き直り', '聞き及び', 'きい', '吸い出し', '打ち明ける', '習お', '片付け', '差し出し', '誂える', '破る', '与える', '寄りつか', '近付い', '異なる', 'あつかい', '直さ', '喰わ', 'ひねくり', '上げ', '活け', '捏ね', '引っ掻い', '捲く', '掻く', 'さ', '放り出し', 'はいら', '舐め', '切れる', '在り', 'ほめ', '縛せ', '行こ', 'くるまっ', '和する', '見せ', '戴い', 'かなう', 'ずる', '余す', 'ひく', 'ほてる', '為し', 'まぜ返す', '見向き', '折れろ', '言い付け', '汚れ', 'さがし', '造っ', '込める', 'やって来', '臨め', '逆上せん', '褒める', 'なる', 'わす', '下がる', 'あたっ', 'からかい', 'か', '困り', '纏まる', '掛', 'さげ', 'ねだん', '可愛がら', 'してやろ', 'とまら', '接い', '来よ', '交ぜ返し', 'きら', '堪り', 'ふくらまし', 'いやがる', '混ぜ', '揚げ', '滅入っ', '寄ら', '終る', 'かこう', '譲る', '用い', '討と', '話し', '付く', '勤まっ', '醒ます', '釣り合わ', '穿い', '聞こえよ', '背負っ', '見廻っ', '憤っ', '燻っ', '超し', '真面目くさっ', '広げ', '使う', '叶っ', '覚し', '忌み嫌っ', '越す', '述べる', '改める', '働け', '緩め', 'ひっくり返っ', '利き', '衒う', '造る', '有ろ', '向き直る', '聞い', '試みる', '生き延び', '惚れ', '返', '斬っ', 'うる', '折れん', '添え', '布く', 'かしこまる', '留め', '魂消る', '吐か', 'むき出し', '知れ渡っ', '貰わ', '受け取ら', '逃げ延び', 'せ', 'まっ', '衒い', '忌む', '語る', '食い込ん', '達する', '照り付け', '呑み込ん', '釣り込ま', 'られりゃ', '損じ', '住む', '正し', '圧さ', '惚れる', '思い出す', 'しつくし', '弾き出す', '近寄り', '懸る', 'き', '遣わし', '儲かっ', '下せる', 'かむ', '買わ', '出直そ', 'あるき', 'さえ', 'たべ', '至ら', '浮き', 'よむ', '叩か', '据わっ', 'あらわし', '甘える', '煙り', '待ち受け', 'もらえ', '律す', '引っ繰り返し', '有る', '拡げ', '持ち切っ', '追い詰め', 'かねる', '承', '踊り', '決する', '連れ', 'とりゃ', '眠る', '渋り', '蓄える', 'おこす', '直そ', 'つづける', '違わ', '嘆ぜ', '満ち', '別れ', '飛込め', 'だまる', '乗り出し', 'やられる', 'かき合せ', '追え', '擲つ', '行きゃ', '苦しめん', '食っ', 'たのま', '思い切っ', '食わせる', '這い出そ', '上げよ', '続く', 'とまっ', '潰そ', '雇う', 'すっ', '極め', 'ふさい', 'とめ', '見つけ', '提げ', '荒立て', 'ころがる', '畏まっ', '下る', '住ん', 'あばれる', '困る', '敲き', '仰向き', 'じみ', '及ぼ', '罵り', '勤まる', 'あったまり', '蹶', 'つまん', 'なぐさみ', '吹き出し', '入り', '繰返し', '喰っ', 'つまり', '帰ら', '出よ', '慰む', '飛びつき', 'やってのける', '潜ら', '攫ん', '読め', '疲れ', '終っ', 'くずさ', '分から', '踏み出せ', '致さ', '貪', 'すり', '張り切れ', '彩っ', '滑っ', 'だし', '受合え', '戴く', 'なり', '結べ', '制する', '通り抜け', '卸す', 'ねじ上げ', 'ふわ', '割り切れる', '見付かる', 'おえ', '衰え', '通り抜ける', 'ふかし', '敷き', '推す', '受け', '病み', '囃し', '振る', 'たてる', '驚か', '求む', '司', '乗り出す', '頬張る', '敬い', '打ち殺し', 'はりつけ', '這出', '崩す', '磨け', '落ちつき', '結っ', '直し', 'そそのかさ', '兼ねる', 'かえる', '動き出し', '得る', '晴れ', 'ぶんなぐる', '留まる', 'いる', '押し付け', '吹き込ん', '片付く', 'なす', '置け', 'され', '書い', '終', '研ぎ', '飛び降り', '飲み下し', '濁す', '諦め', '留っ', '差支え', '穿つ', '見詰め', 'つけ加え', 'わかる', '越え', '充ち', '動け', '翻せ', '踏ん', '褪め', '直ら', 'かよう', '申し込む', 'かか', '笑える', '破れ', '解い', '動かす', '通せ', '放つ', 'うなされる', '話しかける', 'こい', '踏み付け', 'かき', '優っ', '仕上がっ', '喚び', 'からげる', 'かる', 'おけ', 'のび', '起き', '計ら', 'ぬける', '取れん', '超える', '演ずる', '被れ', '廻る', '擦っ', 'しまわ', '反り返っ', 'やり直す', '化け', '降さ', '去る', '写し出す', '言っ', '抱い', '縮め', 'ゆく', '痛み入る', '足る', '残ら', '殺す', '鳴か', 'まかり', '決める', 'もうし', 'やり', '休む', '引きつけ', '価する', '滅すれ', '吹かし', '遣っ', '取払う', 'せよ', '進ん', '見下ろし', '懸かっ', '心掛け', '云い', '知ろ', 'よる', '断て', '損する', '漕ぎつけ', '呼びつけ', 'なぐる', '釣ら', 'だす', '有れ', '思い出し', '叱りつけ', 'やる', '照らし', '上がっ', 'からかわ', '刺し', '示し', '呼びかけ', '起こし', 'こきゃ', '漕ぎ', '舐める', '狂わせ', '傾く', '振り返っ', '争っ', '切っ', '更け', '逢える', '勝ち', '愛する', 'とち', '使える', '光っ', 'かけ', '食わし', '除き', '助から', '反し', '殺し', '考え込ん', '変りゃ', '脱する', 'はなち', 'のみ', 'めぐらし', '能わ', 'わかれ', '禁じ', 'からげ', '光る', '聞き惚れ', '振り撒い', '見出し', '参らせる', '数え切れ', '附け', '晴れ渡っ', '違う', '落す', '話す', '有し', 'くば', 'こすっ', '焚け', 'どやさ', '引きずっ', 'かえ', '焚く', '書こ', '合っ', 'ふかす', '注い', '馴れ', '投げ', '守っ', '押し込ん', '売り捌い', '斬る', '産まれ', '堪え', '遠ざかる', '泳ぐ', '迷っ', 'かため', '張ら', '忘れろ', 'わかれる', '己惚れ', '買い被っ', 'こぼし', 'わから', '飛びつい', 'もがい', '通り掛っ', '来し', '奉っ', '崩し', '見下し', '送っ', '彫っ', '押しつける', 'おどかさ', '似', 'いそが', 'ゆるめ', '取り寄せ', '下ろし', 'いける', '抜け出し', '飲み込む', '起っ', 'ぬから', '畳ん', '採る', '着く', 'すまさ', '間違え', '伝っ', '奪わ', '計る', 'ぐれ', '教えろ', 'わかり', '拾え', 'よし', 'にたて', '来', '舞い込ん', '買お', '廻さ', '見出す', '捕れる', 'からん', 'しめる', 'もたし', '取っ', '崩れ', '取る', '割り出し', 'むける', '取り掛る', '巻き', '切り落し', '限っ', '聴く', 'はいり', '気がつい', '述べ', '限る', '併せ', '勝る', '握る', '遺し', '居り', '使っ', '流れ出す', '絶っ', '続ける', '弱っ', '切らす', 'つかみ合い', 'ならん', '浴びる', '穿く', '引き込ん', '占め', '蒙ろ', 'あるけ', 'ほのめい', '聞か', 'あけ', '書か', '眠れ', '返ら', '召し', 'もったいぶっ', '分', 'らっしゃい', '失う', '待ち合せ', '写せ', '歩き', 'さまし', '抜け', '見送っ', 'とん', '焦げ', '流し', '名乗る', '抛り出さ', '持ち上がっ', 'いがみ合い', '隣り', '詰る', '凋ん', '並みいる', 'やっ', '奉', 'こめ', '保と', '組み合せ', '頼む', '有り', '買い込ん', '起きる', '曲る', '睨みつける', 'いらっしゃい', '剃っ', '凌い', '掻か', '振り落とそ', 'いわ', '返さ', '掛っ', 'かい出す', '似合わ', '知らせ', '附し', '処する', '寝そべっ', '伏せ', '告げ', '逆立て', 'のさばり', '踏み込ん', '受け取り', 'はいっ', '尽し', '焦っ', '講ずる', 'あろ', '交わし', 'きつけ', '取ら', 'あきれ', '急い', '炊い', 'あずかり', '弄する', '浮かれ', 'く', '走る', '窮する', 'わかし', '奢る', '射る', '仕切っ', 'なわ', '知る', '追い廻し', '抜き', 'れれ', 'られ', '唸っ', '関する', '被っ', 'なりすまし', 'けりゃ', '答え', '遊ばし', 'かかわら', 'もらお', '乗り', '枯れ', '来い', '延し', 'かえし', '突き出し', '打ち殺す', '砕けよ', '障ら', 'やり過ごし', '当ら', '頂い', '誓っ', 'とりとめ', '労する', '流す', '寄り添う', '祟り', '坐り込ん', '飲み干し', '下れ', 'こなし', 'つかみ', '障る', '据える', '攫み', 'こぼれ', '病ん', '禿げる', 'いっ', '吃', '映り', 'いっし', '馴らし', 'すべり', 'こうっ', 'よれ', '支え', '通す', '醸す', '履い', '恨も', 'かかわる', '依っ', '踏む', '頬張っ', '起す', '施す', '越さ', '降りよ', '折れ', '転がり', 'しきら', '備われ', 'ゆか', '襲う', '給う', '洩', 'つき合わ', '巻き付け', '叶わ', '乗り込ん', 'ひっくり返る', '見舞う', '得れ', 'とれ', '向わ', '転がる', '許さ', '曲っ', '鳴い', '切り', 'ぬくもっ', '適する', '巫山戯', 'のばし', '洩らさ', 'なっ', '生かし', '追う', '括り', '仰向い', 'ほてっ', '出し', '膨れ', '入り乱れ', 'いつわり', '行き', 'とら', '取りあげ', '考え出す', 'おどろかさ', 'くばり', '乗り越え', '飾り付け', 'かくし', '洗い', '設け', '挙っ', '鼓する', '喩える', '近づく', '制さ', 'ぬう', '助け', '生し', '担ぎ', '拝む', '関せ', '這い出し', 'ぼり', '気が付い', '死な', '済ませ', '痛み入っ', '控え', '外れ', '欲する', '抓ま', 'こまっ', '考え', '持たし', '認め', '鳴かせる', '習っ', '進む', '抑え', '滅する', '用いる', '生ずる', '打ち解け', '揃っ', '聞き合せ', '乞わ', '通り抜けよ', '打ち', '担ぎ出す', '浮ん', '寝転ぶ', '仰ぎ', '刺し通し', '死ね', '成れ', 'きか', 'とぼけ', '迎えれ', 'し', '増し', '静まり返っ', '思え', '通る', '祝う', '受け取れ', '注ぎ', '行き過ぎ', 'とまる', '切り開い', 'ござい', '渡す', 'っ', '中っ', '呑ま', '踊っ', '罵', '作る', '引き取っ', '縫う', '窶し', '数え', '許し', '為す', '寄りつい', '問い返し', 'ぬすみ', 'しゃべら', '世帯染み', '横切っ', '振り翳し', '捉え', '引ずり', '吹きかける', 'なくなっ', '叩きつける', 'よん', 'ぶら', '競っ', '見つかる', '焦がれ', '起き上がる', '込む', '飛び上がる', '窶す', '放す', 'ゆい', '動ずる', '磨り潰し', '回っ', '関し', '包む', '向う', '畳み込ん', '繋が', '怖がっ', '忍び込む', '律する', '言う', '充たす', '棄てる', '云わ', 'のしかかっ', 'あらわれる', 'こしらえれ', 'すて', 'あるか', '造ろ', '待ちかね', '戦っ', '感ずる', '悟れ', 'しごき', 'かこつ', 'なれん', '得ん', '持ち上げ', '見つかり', 'かかる', '干し', '見上ぐる', '出向い', 'こり', '運ば', '生じ', '隔て', 'おい', '済ます', '使い', '脱ぐ', '片づい', '較べる', '割っ', 'まじない', 'いえ', '考えれ', '捲き', '詰ら', '張付け', '見上げ', '留まっ', '売', '解する', '伝わっ', 'さばけ', '痛み', '争う', '欠い', '持ち上がる', '信ずる', '通じ', '焼け', '洗っ', '起こす', '這入ろ', '達せ', '起そ', '下さい', '忍ん', '追っかけ', '咲い', '遊び', '測る', '名づけ', '並べ立て', '脱が', '間に合い', 'ためし', '片づけ', 'かじっ', '取り乱さ', '通り越し', '過ぎ', '言い', 'おいたっ', '発し', '頼ん', '暮し', '志す', '出せる', 'おどる', '惹か', 'つくろっ', '掛ける', '費やし', '合し', 'あやまる', '仕立てる', '押し返し', '御し', 'まえる', 'なさい', '印せ', '逃げる', '見積っ', '刈り込ま', '講じ', 'てっ', '申し込ま', '押し倒し', '怒っ', '下し', '覆せ', '蒙る', '頑張っ', '気に入れ', '召し上がれ', 'いらっ', '張る', '腐っ', '出逢え', 'とばす', 'いん', '避ける', '越し', '縛り付け', '訳す', 'たまり', '跳ねかす', '練り', '聞える', '返し', '嫌う', '押し込め', '恐れ入っ', '向か', 'ひねくる', '乗り越す', 'はおり', '重なっ', '疲れる', '群がる', '映ずる', '分ける', '打っ', '飛込ん', '穿っ', '跳ねのけ', 'したがっ', '剥い', '打ちつけ', 'ふくれ', '通さ', 'おれ', '失せる', '出さ', '引っかかっ', 'けれ', 'あいかわら', 'ねじり', 'たたる', '狂っ', '隠し', '立ち入り', '持て余す', 'すすめる', 'なら', '張りつめ', '積ん', '間に合う', '凌ぐ', '這入ん', '貰え', '消す', '捧げる', '任せ', '詰め込ん', '計り', '忘れる', '落つ', 'いこ', '進も', 'こせつい', 'つかまえ', '垂れん', '背い', '付けよ', 'すい', 'いか', '引っ掛け', '開け放っ', 'つかっ', 'ちょろまかし', '還せ', '惹く', '驚く', 'ござっ', '勝つ', '崇め', '飽き', '載せる', '苦しむ', 'ぬい', 'だまさ', 'とりかかる', '出直し', '相成', '蒔い', '覗き', '澄まし', '弾け', '兼ね', 'なさ', '傾け', 'やむを得ん', '消える', 'とれる', 'ふり', '飲も', 'じゃれ', '保っ', '透き', '飲み込ん', 'むい', 'やめる', '飛び込も', '奏する', '張り付ける', '優る', '惹い', '逢わ', 'てりゃ', '上がろ', '表わし', '列ね', '死す', '評せ', '廻', '登り', '指す', 'つら', '撚っ', '投げ込ん', 'くん', '落ちつけ', 'とく', '挟む', '卸せ', 'やらし', '坐る', '考え出そ', '入れ', 'ころがり', '取りとめ', '取り払っ', '失っ', '瞬く', '朽ち', 'つとめ', '回ら', 'とどめ', '引き戻し', '忍び込ん', '下り', '観る', '掻き', '片付ける', '化す', '伺お', '蒸し', '叩き込み', '思い及ば', '勝れ', '濡れ', 'のぼる', '判ぜ', '続か', '浴びろ', '翳す', '泣か', 'い', '逢え', '潜っ', '眠っ', 'もが', '這っ', 'まくっ', '忘れ', 'もらい', 'うたっ', '降ら', '敲く', '心得る', 'ごまかす', '廃する', '草臥れ', '帰さ', '籠っ', '立ち至り', '養う', '罵る', '得ろ', '催し', '浴び', '出会っ', 'ひき', '好く', 'うっ', '盗む', '吐き出し', '陥れる', 'すま', '切れ', '見抜い', '画い', '可愛がっ', '落ち', '恐れ入り', '突く', 'ずれ', 'いらっしゃれ', 'しめ', '収め', '売る', '這入っ', '含ん', '任じ', '涸らす', 'はずれ', 'うなり', '見廻', '坐', '執る', '描き', '起せ', 'かしこまっ', 'あれ', 'こん', '奮っ', '着ける', '引き続い', '見詰める', '生れれ', '乗り越える', '思い込ん', '歩い', '飛び出し', '試み', '合わし', '崩れる', 'いたす', '並べる', '躍り込ん', 'かくれる', '掛ら', '至る', 'ごまかし', 'やま', '悩まし', '叱りつける', '加える', '返す', '撫で', 'しめつける', '冠せ', 'たて', '思い付い', '果し', '磨い', '絞', '太れる', '抜か', '呑む', '重なる', '恨む', 'かろ', 'せしめ', '記し', '尖ん', '利かし', '見逃し', '仕損じ', '揚げる', 'しかけ', '愛す', '言いつける', '延びる', '払え', '頼ま', '出来る', '倒れ', 'かから', '分かれ', 'わける', '開き', 'あしらっ', '潜り込ん', 'やって退け', '踏み', 'つかん', '置く', '済し', '突か', '見当り', 'そろ', '間違っ', 'どき', '似合う', '踊ら', '読み', '刈り込ん', '適し', '気取っ', '放と', '切ろ', '溢れる', '突っ伏し', 'かける', '沈み', 'のぼせる', '返っ', '洒落れ', '持ちかけ', '背く', 'あつかっ', '止めよ', '周章てる', '保つ', '云お', 'なれる', '取り合わ', 'われ', '押し通そ', '待つ', '取り扱っ', '掛り', '負っ', '憤', '逐っ', 'つづけ', 'ふむ', '平伏し', 'してやり', '称せ', '暮す', '折り', '負え', '落ちつい', '流行り', '下っ', '呼ば', '参り', 'かたどっ', 'はずし', '据え付け', '着る', 'くぐっ', '焚き', '当っ', 'ちまっ', '取り', '押しつけ', '分れ', '習う', '載っ', '押しやり', 'ほ', '絞る', '戒め', '差し出す', '撚り', '敬す', 'いただか', '教える', '裏返し', '振い落し', 'もらっ', '忍ばし', '並ん', '増す', '蘇', '逢う', '取り上げる', '余ら', '吸取り', '見上げる', '詫び', '引け', '出合っ', '引き寄せる', '騒ぐ', '剰', '栄え', '突き当っ', '運ぶ', 'やい', '褒め', '顧み', '壊れる', '真似れ', '納め', '折っ', '働か', 'はいる', '破', 'やむを得', '隠す', '吹き付ける', '睨み合っ', '出', '上がら', '着', '思い返し', 'かくれ', '尋ね', '働い', '歌っ', '損なう', '略し', '巻く', '引張っ', '示す', '伺う', '習い', 'しる', '飛ばさ', '置こ', 'づい', '突い', '蒙り', '引っ込ん', '貰お', 'たとえ', '捕え', '書き立て', '冷やかし', '卸し', '曝さ', '誇る', '集まる', '休み', '捩じ', 'こぼれ落ちる', '揉み', '傭っ', '欠き', '詰まら', '撫でる', '起る', 'ひねっ', 'うて', '求める', '騒が', '踏みつけ', '真似', '心得', '押し出す', 'かぶせ', '疑う', 'わる', '浮かれ出す', '述べよ', '填める', 'で', '睨ま', '見つめ', '整え', '踏み込む', '嘲り', '頼も', 'あび', '殖え', '済む', '立つ', '滑り込む', 'たで', '追い込ん', '弾い', '注する', '引き払う', '吐き', '洗う', '止め', '張り込ん', '劣る', '侮る', '係わり', '立ち去っ', 'あぶり', 'おひゃらかす', '蹴ら', 'あこがれ', '溶かし', '越せ', '描い', '隠', 'かせ', 'あり', '吸っ', '遣', 'あまり', 'わめく', '漲っ', '比すれ', 'つけろ', '除い', '変ずる', '措い', '浸ら', '飼い', 'しまえ', '通っ', '謡わ', 'ふ', '食える', '嗅い', '照らさ', 'あてがえ', '蹴', '砕ける', 'てる', '入り込み', '受け合う', 'はす', '見つかれ', '鳴', '安んずる', '浮かし', '発せ', 'おっしゃれ', '因っ', '抗する', '調子づく', '縛ら', 'がる', '見合わせ', '釣る', '喜ん', '解く', '申し', '投げ出さ', '取り殺し', 'がっ', '逆上せ', '古ぼけ', 'あぶら', '浮い', '開ける', '擦り', '暮さ', '立ち上る', '怠っ', 'あたら', 'くる', '問いかけ', '割き', '滑る', '責め', '立ち上っ', '綻びる', '暮らさ', '着せ', '枉げ', '滞り', '並べ', 'かおっ', '在っ', '申し上げ', 'やり込める', '冷え', '聞き出し', '集まれ', 'すぎる', '振り返る', 'せき込む', 'つくす', '許す', '描く', 'まかり間違っ', '祭り', '出逢っ', 'たべる', 'こか', '渡っ', '鳴かし', '取り落し', '塗っ', '信じ', '曲がり', '差し', '盗ん', 'ぼっ', '繰り返さ', 'ゆるん', '仕込む', '合う', '消そ', 'ととのう', 'せめ', '震わせ', 'すわ', '見立て', '燃え', '撰ん', '上っ', '曝し', '停', 'あく', 'すべっ', '躍り出', '割り切れ', '比べ', '取り違える', 'しだす', '集っ', '悟ら', '守る', '失する', 'すまし', '下さら', '破ら', '追払っ', 'おき', '乱れ', '飛び越える', '分け', '交っ', 'してやれ', 'やろ', '間に合っ', '営む', '切り落す', '表する', '嘯い', 'わかっ', '引き揚げ', 'あきらめ', 'よごれ', '冷かし', '抱え込ん', '失わ', '凝らし', '放っ', 'つくし', 'はずす', '驚かさ', '捧ぐ', 'ぬけ', '気が付く', '瘠せ', 'ある', '見捨て', '足りん', '覚ます', '見て取っ', 'たつ', 'そらす', 'うつし', 'きる', '折る', '詰め込む', 'きっ', 'すくい', 'みん', '疑わ', '切る', '纏う', '分る', '引き摺り込ま', 'おろす', '行け', '漲ら', '埋', '目ざす', '見せろ', '参ろ', '読ん', '弾こ', '押しやる', '翳し', '越える', '明かし', '逸す', '面し', '乱す', '見受け', '魂消', '見合せ', 'ける', '抱く', '自惚れ', '生きる', '突っつい', '詠ん', '突き付け', 'やみ', '近づき', '引きあげる', '引き込ま', '退い', '係わる', '笑っ', '洩り', '表し', '取り扱い', '騒ぎ立てる', '焦れる', '曲げ', '就い', '読む', '覚まし', '心付い', '繋い', 'いざっ', '落ち着く', '離れる', '臨ま', '持ち', '借りる', 'かかえ', '結う', '鳴らさ', '評する', '下げ渡し', '取り囲ん', '割り込む', '就く', '死に', '沿う', '富ん', '図抜け', 'いりゃ', '祝し', 'きまっ', 'ぱちつかせ', '食べる', '明か', '転がっ', 'すてる', '挟ま', 'あてこすり', 'れん', '応ずる', '吸い', '究めよ', '食わせろ', 'おり', '分ら', '来たし', 'ねぼけ', '困ら', '泊っ', '飛ぶ', '違い', 'さし', '引込ん', 'まえ', '差し引か', '避け', 'かくそ', 'なされ', '貰う', '見棄て', '追付こ', 'つかまっ', 'ひっくり返し', '坐っ', '寝込ん', '号する', '放', '刻み', 'おっしゃっ', '寝つか', '取り留め', '及ん', '拭う', '寝込ま', 'たた', '転がれ', '飲み', '繰返す', '極め付け', '逸する', '膨らまし', '始まる', '驚きゃ', '代り', '削り取ら', '目だた', '探し', '飾っ', '潰し', '払っ', '取り上げ', '始める', 'つかし', '欠ける', '引き上げる', '受け合わ', 'とろ', '仰せ', 'あるく', 'はおら', '命じ', '拾える', 'つん', '洩らす', '点じ', '破れる', '遠のい', '笑わ', '担が', '伺えれ', '下す', '行ける', 'ぶ', '留ら', '繰り返し', '引き抜く', '怪しま', 'みよ', '勝っ', '受合っ', '追いかけ', '念じ', '稼い', '証拠立てよ', '積み', '推せ', 'くう', '挙げ', '曇っ', '鳴っ', '執っ', '記さ', 'よそう', '切り上げ', 'え', '答える', '傭う', '減り', '整っ', '属する', '逃げ惑う', 'うたう', '致そ', '捕まっ', '飛び込ま', '縫っ', '於け', 'なか', '問い返す', 'つきつける', 'しまい', '湧い', '眺める', 'ささ', '着か', '済ん', 'かわし', '勧め', '移ら', 'つっ', '躍る', '命ずる', 'しかっ', '促し', 'あき', 'つけよ', '書き付け', '怒鳴る', '上がれ', '聞こ', 'はらっ', 'ぼ', 'がたつく', '動かし', 'きく', 'まつわっ', '撲っ', '祟っ', '取り残さ', '聳やかし', 'あやまれ', 'あい', '取り出し', '開き直っ', '拝する', '退ける', '書き', 'くらし', '与', '突き合せ', '嵌め', '任せる', '反っ', '好ま', 'ほのめかし', '透かし', '連れ出さ', '収めん', '悟り', '思っ', '初め', 'ととのっ', 'どっ', '鳴り', '爛れ', '抓ん', '騒い', '立た', '引っ掻き', '置か', '失し', '現われる', '控える', 'せろ', 'とる', '置い', '聳え', '呼ん', '済ま', 'くべる', 'ひろげる', 'そそのかし', '滑らし', 'よみ', 'しかめ', '申し込ん', '転がし', '降り', 'いただく', 'しかる', '這入る', '捕っ', 'つまら', '干', '漬け', 'やれん', 'ひるん', '使い分け', '申す', 'いいかえ', '泣い', '劣ら', '裂き', 'あける', '付い', 'やむ', '絞め', '説い', 'ざんす', '来たそ', '突っ込ん', '訴える', 'れる', '組ん', '構う', '歩く', 'におっ', '足し', '寝転ん', '浮く', '惚れ込ま', 'なで', '過ぎる', '感じ入る', 'ねむり', '威張っ', '乾かす', '忍び', '坐せ', '使え', 'わら', 'おか', '誘っ', '下げ', '漂う', '思い立ち', '付ける', '流行る', '恋い', '捕ら', '釣れる', '受け合え', '萌す', '睡ら', '薫ずる', 'あっ', 'おら', '感じ入っ', '話せ', '怒ら', 'ふくらし', 'やっつける', '滑れ', '遂げ', '垂れ', 'ねぶっ', '懸かり', '浴びせかけ', '変り', '降り込ん', 'してやる', '役に立た', 'あきらめる', '吹か', '担ぐ', '下さっ', 'とっ', '疲らし', '曲がろ', 'いたろ', '仕入れ', '帰る', '打た', '捌け', '届い', 'おくっ', '廻り', 'うかがう', '在る', '伏せっ', '口走る', '手こずっ', 'ありがたがる', '綴っ', '起り', '解き', 'られん', '使いこなせ', '応じ', '期す', 'する', '舞い込む', 'つける', 'ござら', '抜こ', 'ならべ', '焼い', '冷える', '恐れ入ら', '分捕っ', '引っ込ま', '飛び離れ', 'いう', '濁っ', '填め', '懸ける', '好か', '消え', '目する', '振り上げ', '砕け', 'とりのけ', '見透かさ', '折ら', '潜り', '祝す', '感ぜ', '吟じ', '漏る', '差し支える', '躍っ', 'す', 'ありゃ', '弱り', 'ほのめかす', 'まします', '喰う', '慣れ', '含まっ', '打ち立て', 'ゆす', 'ぶら下げる', 'たまっ', '行か', '見おろす', '害する', '飲め', 'やって来る', '聞こえ', 'つか', 'つぐ', '聴き', '暴く', '明け放っ', '命ぜ', '煮え', '咽び', 'ふる', '凹ん', 'そり返っ', 'がり', '失せ', 'もぐれ', '思わ', '形づくる', '載せ', '勤め', 'ごねる', 'わか', '出張っ', '見ろ', 'つ', '買い', '譲ら', '寝よ', '入れよ', '計っ', '行わ', '試みよ', '触れ', '貰っ', '脱い', '開い', '抜く', 'おどり', 'まする', 'しまう', '廻し', '続い', 'あう', '諭し', '係ら', '追い', '縫いつけ', '障り', '張れれ', '喰い', '引っ張り', '諦める', '聞く', 'たぎり', '向っ', '能う', '凝っ', '投ぜ', '逢っ', '力め', '喫せ', '落し', 'ふて', '鍛え上げ', '入る', '映じ', '集め', 'なすっ', '怪しん', '差し支え', '結び付け', 'おっ', '潰せる', 'み', '嫌っ', '削っ', '与っ', '察せ', '及び', '驚い', 'いらっしゃる', '這入', 'いけ', '付け', '買う', '聞かさ', '求め', '怒る', '住め', '要する', '減れ', '引く', '醒め', '張っ', 'つかれ', 'かい', '気が付き', 'もらう', '思う', '浴びせ', '出せ', '読み出す', '添う', '加わっ', 'れ', '浮ば', '泣かし', '剥げる', '糺せ', '切ら', '代え', '飛ばし', '惚れ込ん', 'つまみ出す', '覚める', '換え', '端折り', '仕り', 'れろ', '動かさ', '倍し', '出掛け', '切り抜ける', '招い', '聞え', '唱う', '代っ', '食い切っ', '押し寄せ', 'すくん', '分り', '休ん', '飛びつく', '小突き', '割る', '考え付い', '焦れ', '生える', '糺し', '怠', '経っ', '渡る', '踏切り', '浮かば', '成し', 'やっつけ', '演じ', '申し合せ', 'かしこまり', '飛ん', '溜っ', '引き起す', '加え', 'たけ', 'やむをえ', '吹い', 'ふい', '択ぶ', '食み出し', '明け', '恐れ', '打つ', '融け', '延び', '救い出し', 'すき', '読ま', '止す', '塞ぐ', '躍ら', '作り', '突き飛ばし', '追っかける', '着こなさ', '抛り出し', '味わう', '綯っ', '磨く', '吠え', 'ぶらさげ', '乗りゃ', '握っ', 'ねじる', '比べる', '退', 'たれる', '死ん', '見下せる', '弁ずる', '戻っ', '脱し', 'いたっ', '困っ', '尖', '釣り合う', '呼び立て', '見渡し', '飛び下りる', '罹る', 'すぎ', '伸し', '侵し', '怒鳴り', '彫り', '反り返る', 'せり出し', 'くるん', '忍ば', 'つまみ出さ', 'すぼめる', '籠る', '見や', '跨い', '廻っ', '暮れる', '息ん', '変え', '押す', '差しかかっ', '屠ら', 'つれ', '滑ら', 'あん', '供える', '言わ', 'しょ', '取れれ', '綴る', 'きせ', '断り', '出来ん', '挟ん', '引き下がる', '願う', 'すら', '劣っ', '引き返し', '結びつけ', '流れ込む', '事足る', 'すも', 'なさら', '待た', '押し通す', '立っ', 'むすん', '乞う', '去ら', '衰える', '居ら', '寄こし', '蒔き', '持つ', '就き', '打て', 'つく', 'ちゃい', '覗く', 'もっ', '引っ張ら', '後れ', '書きゃ', '立ち', 'おろし', '取り立て', '申し聞け', '絶つ', 'どけ', '注す', 'すみ', '証す', '持ち出し', '利い', '叩く', 'のぼら', '食わ', '上ら', '畳む', '存する', '引き下がっ', '寝かし', '擦り切れ', '感じる', '取りつい', '名乗っ', '迎える', '来れ', '値する', '妨げ', 'しよ', '磨り', '繙く', '叩き付ける', '罹り', 'とれん', 'かま', '住み込ん', '許せ', '勧める', '構える', 'まて', '送る', '気がつか', 'た', '称する', '誂え', 'のべる', '帰り', 'さておい', '携え', 'すれ', '略す', '画き', '叩き', '撓り', '蒙', 'ほめる', '起つ', 'つけれ', '打ちゃ', '入り込ん', 'のめり', '余る', '足り', '改めれ', '消え去っ', '打ち返し', '角張っ', '佇ん', 'くるみ', '動か', '振い落す', '滑', 'すまい', 'いいかね', '掻ける', '酔っ払っ', '呑み', '及ぼす', '延べ', '進め', '溯っ', '通り過ぎる', '懸け', '曲がっ', '足ら', '叫び', '拾い', 'ときゃ', 'でる', 'より', 'あらそう', '抜き取っ', '除け', '付き添う', '申し立て', '蔽う', '移す', '鳴く', 'あたる', '出来上がっ', '届く', '下ら', 'あらわれ', '抑える', 'もぎとる', '春めい', '乗じ', '欠け', '剥げ', '這入れ', '飲む', 'ねばり', 'ねる', '詣り', '論ずる', '問い', '抛', '結ん', '打ち落す', '通り過ぎ', '詫び入る', '読める', '有ん', '羨ま', '直っ', '参ら', 'しつけ', 'おっしゃろ', '隠れる', '引こ', '取りはずす', '立ち上がる', '与え'}\n"
          ]
        }
      ]
    },
    {
      "cell_type": "markdown",
      "source": [
        "32"
      ],
      "metadata": {
        "id": "__thEQIqKzXH"
      }
    },
    {
      "cell_type": "code",
      "source": [
        "def verd_base(sentence_dic):\n",
        "  verd=[]\n",
        "  for word in sentence_dic:\n",
        "    for phrase in word:\n",
        "        if phrase['pos'] == '動詞':\n",
        "            verd.append(phrase['base'])\n",
        "\n",
        "  return set(verd)\n",
        "\n",
        "base = []\n",
        "base = verd_base(sentence_dic)\n",
        "print(base)"
      ],
      "metadata": {
        "colab": {
          "base_uri": "https://localhost:8080/"
        },
        "id": "Up5xDeRjJNJB",
        "outputId": "c646296d-1fc0-4fc8-949a-02691207c177"
      },
      "execution_count": null,
      "outputs": [
        {
          "output_type": "stream",
          "name": "stdout",
          "text": [
            "{'謹む', '傾ける', '切り付ける', '代える', '息む', '飛び出す', 'うめる', 'ふう', '抓む', '奉る', '凝らす', '涼む', '進める', '見える', '躍り出る', 'あらわす', 'あがる', '取り払う', '動く', '漲る', '固まる', '承る', '焼く', 'とろける', '追付く', '浮かぶ', '瘠せる', '書きつける', '御する', '畳み込む', 'わく', '衝く', '覆う', '通じる', '植え付ける', '驚かす', '下ろす', 'じらす', '燃える', '逃げ出す', 'なくなる', '費やす', '已める', '出掛ける', '引掻く', '競う', '染め出す', '真似る', 'あったまる', 'ならべる', '繰り返す', '明け放す', '書く', 'かすむ', '減ずる', '懲らしめる', '囃す', '濁る', '見廻す', '癒せる', '持てる', 'ぱくつく', '吸う', 'えむ', '凋む', '落ちる', '招く', '出す', '吹き込む', 'よべる', 'こびりつく', '行き過ぎる', '蒸す', '敗れる', 'かさねる', '臨む', '逃がす', '噛む', '与る', 'ちまう', '坐り込む', '騒ぎ出す', '貫く', '踏み出せる', '放り出す', '改まる', 'ねむる', 'ふさぐ', 'あきれる', '降りる', '刈る', '覚える', '存じる', '責める', '窺う', '因る', '云う', '繰る', '解せる', '踞る', '連れる', '利かす', '申し聞ける', '揃う', 'こぼす', '捩じる', '極める', '罷る', '取り落す', '誓う', '詫びる', 'まかり間違う', '話せる', '思い立つ', '通り越す', '悟る', '冒す', 'のぞく', '持ち上げる', '隣る', 'なげる', '泣く', '浮ぶ', 'くらべる', 'おいたつ', '変じる', '向く', '忍ばす', '流れる', '務まる', '中る', '這う', 'しゃべる', 'られる', 'さます', '突き戻す', 'おきる', '疑る', '突き出す', '言い付ける', '恋う', 'じゃらす', '遇う', '移る', '濡れる', '響く', '洩る', '並ぶ', 'なく', '備わる', '果せる', '挑む', '張り上げる', '思い出せる', '垂れる', '重んずる', 'おる', 'やらす', '差出す', '住み込む', '入れる', '上る', '待たす', '役に立つ', '成す', 'ゆる', 'させる', '剃る', '装う', '引き返す', '端折る', '使いこなせる', '得', '威張る', '吹き出す', '及ぶ', '過す', '待ち構える', 'もぐる', '縊れる', 'たける', 'づく', '申し上げる', '寄せる', '鑑みる', '叫ぶ', '講じる', '帰す', '案ずる', '交ぜ返す', 'たくる', 'つかえる', '立ち退く', '焼ける', '動き出す', '食いつく', '引張る', 'いじめる', '折れる', 'くらむ', '言い兼ねる', 'ござる', '仰せつける', 'はやる', '分かる', '忌み嫌う', 'かじる', '捕る', 'ひそめる', 'やれる', '制す', '冷やかす', '引き受ける', '発する', '溯る', 'くずす', '聞き分ける', '略する', '浸す', '自惚れる', '占める', '離す', '刺し通す', '詠む', 'はなつ', '吐く', '横切る', '狭める', '頂く', '舞い戻る', '憤る', '抜ける', '戻る', '潰れる', '狂わせる', '具える', '纏める', '読みかける', '出来上がる', '磨り潰す', 'もとづく', 'たたく', 'たどる', '生れる', '捕える', '数え立てる', '受合う', '焦がれる', '伝う', '見送る', '叩き込む', 'あてつける', '靡く', 'おりる', '蹴返す', 'できる', '曲げる', '寝る', 'おける', 'かぎる', '退く', '初める', '冠する', '取り寄せる', '吃る', '貼る', '追い込む', '引き付ける', '睨む', '調べる', '省ける', '依る', '隠る', '散らす', 'こす', '明かす', '直る', '重ねる', '飛び降りる', '騰る', 'もたす', '歌う', '含める', '絞め殺す', '下げ渡す', 'うなる', 'くれる', '悲しむ', 'いっす', 'つかれる', '掻きむしる', 'しくじる', '捻る', '発す', '振り立てる', '繋ぐ', '果す', '告げる', '張りつめる', '当る', '寝ぼける', '見違える', '吠える', '務める', '狂う', 'せまる', 'ぶら下がる', '娶る', '吐き出す', '切り抜く', '引越す', '捕まる', '添える', '負ける', 'える', '生じる', 'つかす', '連れ添う', 'さがす', '嗅ぐ', '浮かれる', '認める', 'かう', '差し込む', '迷い込む', '仰ぐ', '若く', '綯う', '撓る', 'はみ出す', '入れ違う', '参る', '誘い出す', '行き違う', 'こらす', 'はねる', 'フケる', 'おっしゃる', '上がれる', 'おく', '癒す', 'つまむ', 'いぬ', '練る', '尽す', '下りる', 'ひる', 'ふく', '引き裂く', '活かす', 'しきる', '接す', '見かねる', '払う', '気がつく', '剥ぐ', 'のめる', '見張る', '妨げる', '学ぶ', '勤める', '売り捌く', '這い出す', '徹る', '触れる', '誘う', '滞る', '呼ぶ', 'やむを得る', '飲み込める', 'おどかす', '極まる', '弾く', 'あてがう', '干る', '救い出す', '沈む', '追いつく', 'わする', '遂げる', '酔っ払う', '湧き出る', 'のしかかる', 'かせる', 'はずれる', 'ころばす', '恐れる', '突き通す', '知らす', '切り上げる', 'ゆする', '触る', '光らす', 'あびる', 'くるまる', 'たまる', '刈り込む', '通せる', '見渡す', '生れ変る', '入り込む', '促す', '写る', '逝く', 'かく', '羨む', 'ひっくり返す', '振り向く', '載っける', '煙る', '蹶る', 'たのむ', 'はなす', 'すむ', '見て取る', '諭す', '残る', '合せる', '契る', 'あたう', 'こじ開ける', '見せびらかす', 'どく', '耽る', '留める', 'いつく', '古る', '説く', '煮える', 'よごれる', '冷かす', '叱る', 'いらせられる', '尖る', '延す', '来る', '害す', '受取る', '通ずる', '見上ぐ', 'ふざける', '見つかる', '近寄る', '聞き返す', '焦る', '降らせる', '働く', '撰ぶ', '含む', 'うつ', '迷う', '立て通す', '尋ねる', '曲がる', '煩わす', '疲らす', '片づく', '服せる', '見抜く', '膨らます', '生む', '懲りる', 'かれる', '直す', '祟る', '訪う', '干す', '察する', '据え付ける', '働ける', 'ふくれる', '退る', '適す', '化ける', '変える', '考える', '仕上がる', '投げる', '絶える', '通り掛る', '儲ける', '乗る', '掘る', '掛る', '打ち消す', '栄える', '書き散らす', 'ちょろまかす', '復する', '行う', '死ねる', '翻す', '溜まる', 'しでかす', '打ち抜く', '忍ぶ', '腐る', '潜り込む', '出る', '駆る', 'じらせる', 'くらす', '有する', '厭きる', 'はする', '磨る', 'なぐりつける', '負う', '明ける', '引き戻す', '曝す', '比す', '恐れ入る', '禁ずる', '換える', 'むき出す', '擦る', '還す', '割く', 'くるむ', '頑張る', '拾う', 'のむ', '被る', '喜ぶ', '透す', '溺れる', '強いる', '寄れる', 'かがやく', '混ぜる', '着こなす', '痛む', 'うく', '預る', '行き詰る', '飾り付ける', '削る', '廻す', 'なさる', 'せく', '見馴れる', '極め付ける', '鳴る', '欺く', 'いざる', 'ぶらつく', 'あらう', '遠のく', 'からかう', '突っ込む', 'へぐ', '交わす', '問う', 'たかる', '仰る', '知らせる', '跳ね返る', '誤る', 'おれる', '惜しむ', '戒める', '掘り出す', 'ぶる', '素っ破抜く', '受け取る', '釣り込む', '融ける', 'もぐ', '咎める', '見付ける', '絞める', '急ぐ', '売り飛ばす', '閉じる', '上げる', '跳ねのける', '笑う', '並べ立てる', '集める', '変る', '塗る', 'あまる', 'ふてる', '剰る', 'ふるえる', '撚る', '捨てる', 'きめる', 'めぐらす', '笑われる', '食う', '狼狽える', '休める', '荒立てる', '見る', '平伏す', '伝える', 'むく', '開く', '撮る', '盗る', '似る', '取り合せる', '致す', '伏す', '伝わる', '振り落とす', '欠く', '喚ぶ', '聞き惚れる', '枯れる', 'つめる', 'もぐり込む', '授ける', 'あらす', '経つ', '登る', 'ねじ伏せる', '抛り出す', 'あせる', '敬する', '踏切る', '印せる', '坐する', 'きつける', '持ち直す', '投げ入れる', '助ける', '書き入れる', '逃げ込む', '好む', '遺す', 'くりゃる', '途切れる', '評す', '応える', '畏まる', '打殺す', '緩める', '知れる', '打てる', '脱す', '気に入る', 'しつける', '下さる', 'こうる', '恐る', 'なう', '鳴かす', '怒鳴りつける', '活ける', '名づける', '復す', '有す', '飾る', 'はち切れる', '慕う', '引き立つ', 'かくす', '利く', 'まわる', '押し込む', '上がる', 'ねじ上げる', '見せる', '仕る', 'すう', '降る', '向ける', '挙る', '呼びつける', '割り出す', '着せる', '於く', 'のびる', 'せる', 'はじめる', '記す', '拭く', '張付ける', '見捨てる', 'さげる', '裏返す', '差し控える', '連ねる', '集う', '禁じる', 'よす', '暮らす', '攻める', '跳ねる', 'あいかわる', 'たとえる', '可愛がる', '縮まる', '汚す', 'そり返る', '防ぐ', '期する', '張り込む', '吊るす', 'すく', '浮き出す', '届け出る', '沁む', '立てる', '溜める', '相成る', '問いかける', '扱ぐ', 'こたえる', 'とめる', '溶かす', '済ませる', 'やってくる', '引っかかる', '取り残す', '生き返る', '顧みる', '張れる', '取り極める', 'ねぼける', '買い被る', 'はれる', 'つくろう', '怖がる', 'さめる', '劃する', '召し上がる', '立ち至る', '突っつく', '睨み合う', 'つかう', 'わかす', 'もてなす', '寄り付く', '挙げる', '転げ落ちる', '阿る', 'さす', 'つつむ', '潰す', '引っ張る', '判ずる', '通う', '戻す', '食わす', '思える', 'むすぶ', '弾ずる', 'かぶる', '飛び込む', '断わる', '窘める', '待ち合せる', '吹く', '堪る', 'あつまる', '進ぜる', '終える', 'しむ', '貪る', 'かおる', '心付く', '減る', '打ち返す', '吊る', '縮める', '言い触らす', '擦り切れる', '鳴らす', '凹む', '収める', '呑み込む', '出会う', '咽ぶ', '合わせる', '古ぼける', '問い掛ける', '正す', '立ち行く', '戦う', '叩き上げる', '建つ', '遊ばす', '押しかける', '考え直す', '肥る', '過ごす', 'あつかう', 'ます', '酬いる', '睨める', 'る', '延べる', '寝込む', '迂る', '転ずる', 'ほる', '取りかかる', '食い切る', '受ける', '褪める', '入り乱れる', '投げ込む', '視る', '浴びせかける', 'さる', '映じる', '浚う', '後れる', '泣かす', 'しく', '心掛ける', '見識張る', '重んじる', '置ける', '撞く', '返る', '出直す', 'あびせる', '合わす', '引ずる', 'うむ', '遊ぶ', '渋る', 'ひやかす', '見習う', '近付く', '伸す', '立ち去る', '取り去る', '漕ぐ', '目立つ', '突っ伏す', '揃える', '行く', '図抜ける', '散る', '追い出す', '下げる', 'もうす', '企てる', '措く', '陥る', 'なめる', '考え込む', '漬ける', '垂らす', '死ぬ', 'ふれる', '臭う', '慮る', '飛出る', '唸る', '打ち明ける', '誂える', '破る', '突き付ける', '与える', '異なる', '捲く', 'ぱちつかせる', '掻く', 'ちゃう', '切れる', '聞こえる', '和する', 'じれる', 'かなう', 'ずる', '余す', '病む', 'ひく', 'ほてる', 'まぜ返す', '跨ぐ', '込める', '拱く', '踏み付ける', '褒める', 'なる', '下がる', 'からまる', '纏まる', 'つき合う', '呼ばわる', 'つまる', '潜る', '属す', 'いやがる', 'こりる', '終る', 'かこう', '譲る', '集る', '付く', '醒ます', 'かかえる', '間違う', 'きかかる', '引ける', 'こまる', '転がす', '突きつける', '使う', '越す', '躍り込む', '述べる', '見受ける', '見当る', '改める', '引っ掛ける', '呼びかける', '造る', '衒う', 'いがみ合う', '向き直る', '試みる', 'とぼける', '解す', 'うる', '聞かす', '確かめる', 'いむ', 'かしこまる', '布く', '魂消る', '待ち受ける', '忌む', '語る', '達する', '住む', '倦む', '拡げる', '惚れる', '思い出す', '司る', '弾き出す', '懸る', '成る', 'とぶ', '下せる', 'かむ', '仕切る', 'よむ', '無くなる', '甘える', '飛込む', '律す', '有る', 'あつめる', 'かねる', '決する', '眠る', '蓄える', '積む', 'おこす', 'つづける', '交う', '嘆ずる', 'だまる', '引っ掻く', 'やられる', '擲つ', '溜る', '彩る', '取り立てる', '食わせる', '続く', '雇う', '放る', '生やす', '飛び離れる', 'しごく', 'ころがる', '悩ます', '下る', 'あばれる', '思い付く', '困る', '追払う', 'つとめる', 'ぐれる', '掠める', '勤まる', '仰せる', '捏ねる', '思い切る', 'ゆるめる', 'のろける', '慰む', 'やってのける', 'すくむ', 'かす', '片づける', 'まじなう', '戴く', '制する', '卸す', '叶う', '見付かる', '割り切れる', 'せめる', '提げる', '通り抜ける', '推す', '振る', '見縊る', 'たてる', '求む', '乗り出す', '頬張る', '抱え込む', '沁みる', '聞きつける', '崩す', 'はおる', '兼ねる', 'かえる', '結ぶ', '得る', 'ぶんなぐる', '侵す', '飲み干す', '留まる', 'いる', '片付く', 'なす', '係る', '張り詰める', '濁す', '浮べる', '救う', '穿つ', '持ち出す', '鋳る', 'わかる', '寄りつく', '見透かす', '逆立てる', 'かよう', '申し込む', '笑える', '動かす', '放つ', 'うなされる', '話しかける', '表す', '砕く', 'かき合せる', 'からげる', 'かる', '間違える', 'さておく', '引きかえす', 'ぬける', 'ききつける', '巻き付ける', '超える', 'もす', '演ずる', 'はぐる', '廻る', '盛り込む', 'やり直す', '去る', '熱す', '併せる', '写し出す', 'ゆく', '痛み入る', '足る', '殺す', '決める', '屠る', '休む', '価する', '止める', '思いつく', '降り込む', '取払う', 'よる', '損する', 'なぐる', 'くばる', 'だす', '負える', 'やる', '泣かせる', '舐める', '傾く', '逢える', '愛する', '見計らう', '使える', '論じる', '吸い取る', 'つけ込む', '引き揚げる', '引きずる', 'まじる', '脱する', '光る', '奏す', 'もつ', '参らせる', '読み直す', 'そる', '馴らす', '違う', '話す', '落す', '剥く', 'あずかる', '転じる', '差しかかる', '更ける', '焚く', 'ふかす', '扱く', '定める', '結びつける', '汚れる', '斬る', '佇む', '反る', '遠ざかる', '背負う', '泳ぐ', '追いかける', 'だく', '乗せる', 'わかれる', 'しゃがむ', '見合せる', '急き込む', '損じる', '立ち入る', 'こめる', '押しつける', 'とちる', 'かたまる', 'こむ', 'いける', '飲み込む', '覆す', '採る', '着く', '晴れる', '計る', '追いやる', '待ちかねる', '見つめる', '煮る', 'まくる', '見出す', '開き直る', '捕れる', 'しめる', '取る', '取りつく', 'むける', '取り掛る', '聴く', '償う', '催す', 'たる', '数え切れる', '限る', '勝る', '握る', '流れ出す', '続ける', '切らす', '浴びる', '塗りつける', '穿く', '抛る', '懸かる', '明け放つ', '堪える', '悔やむ', '手こずる', '聞き合わせる', 'やける', '凝り固まる', '輝く', 'つけ加える', '失う', 'とどめる', 'なする', '名乗る', 'かたちづくる', '縛する', '詰る', '撓める', '並みいる', '別れる', 'あしらう', '研ぐ', '頼む', '亡ぼす', '起きる', '浸る', '曲る', 'いえる', '睨みつける', '達す', 'ざんする', '曇る', '逃げ延びる', '沈める', '取り殺す', '飽く', '仕入れる', 'かい出す', '処する', '遣る', '押し返す', '打ちつける', 'ゆう', '講ずる', '取れる', '弄する', '窮する', 'く', '走る', '振り上げる', 'あてこする', '奢る', '射る', 'しなびる', '知る', '関する', 'すれる', 'なやむ', 'ねばる', '磨ける', 'ほかなる', '聞き及ぶ', '足りる', '取り留める', '打ち殺す', '彫る', '届ける', 'すかす', 'かぶせる', '労する', '通れる', '流す', 'いそぐ', '寄り添う', 'こせつく', '障る', '据える', '禿げる', 'どける', 'つぶやく', '通す', 'はめる', '醸す', 'のばす', '凝る', 'かかわる', '回る', '踏む', '損ねる', '舂く', '起す', '施す', '考えつく', '襲う', '給う', 'とりとめる', 'しかける', 'ひっくり返る', '見舞う', '縫いつける', '震わせる', '転がる', '映る', '適する', '引っ繰り返す', 'われる', '寝そべる', '追う', '嵌る', 'もとめる', '引きつける', '考え出す', '広げる', '鼓する', '近づく', '喩える', '省く', '犯す', 'ぬう', '拝む', '組み合せる', '済す', '極め込む', 'たなびく', '出逢う', '欲する', '鳴かせる', '進む', '滅する', '揉む', '用いる', '生ずる', '食み出す', 'ずれる', '担ぎ出す', '寝転ぶ', '洗える', '飲める', '奮う', '祝う', '生す', '通る', '稼ぐ', 'あこがれる', 'とまる', '渡す', 'こしらえる', '壊す', '作る', '画く', '縫う', '為す', '蹴る', '噴き出す', '馴れる', '振り翳す', '攫む', '附す', '縮む', 'やって退ける', '呈す', '吹きかける', '叩きつける', '縛り付ける', '過ぎ去る', 'まがる', '起き上がる', '込む', '飛び上がる', '放す', '窶す', 'きせる', 'ぬく', '動ずる', '放り込む', '包む', '望む', '揮う', '向う', '小突く', '丸める', '忍び込む', '律する', 'いいかえる', '言う', '充たす', '棄てる', '錬る', '対す', 'あらわれる', '失す', '感ずる', 'かこつ', '飼う', 'かかる', '巻き込む', '見立てる', '任じる', 'たでる', '済ます', '足す', '詣る', '脱ぐ', '較べる', '踏みつける', '燻る', '解する', '突き立てる', '外す', '持ち上がる', '争う', '書き付ける', '拵える', 'つかまる', '成れる', '信ずる', '起こす', '担う', '測る', '浮かす', '使い分ける', '志す', '出せる', 'おどる', '寝かす', '掛ける', '除ける', '仕立てる', 'あやまる', '停る', '仕損じる', '逃げる', '延ばす', '究める', '含まる', '聳やかす', '演じる', 'つれる', '蒙る', '喫する', '張る', 'とばす', '避ける', '訳す', '居る', '跳ねかす', '聞える', '嫌う', 'ひねくる', '乗り越す', '念じる', '分ける', '疲れる', '群がる', '映ずる', '外れる', '突き飛ばす', '生かす', '失せる', '吸い出す', '転がれる', '書き立てる', '寝過ごす', 'くっつく', 'まつ', '供する', 'たたる', 'づける', '持て余す', 'すすめる', 'かたどる', 'さする', 'だます', '間に合う', '凌ぐ', '消す', '捧げる', '忘れる', '落つ', '黙る', '惹く', '驚く', '勝つ', '載せる', '苦しむ', '抱える', '覚す', '揺れる', 'とりかかる', '尽くす', '勝れる', 'まかる', 'いつわる', 'ゆるむ', '消える', 'ねだる', 'とれる', '弱る', '伺える', '見くびる', 'せしめる', 'ぶらさがる', '倍する', 'やめる', '奏する', '出張る', '張り付ける', '優る', '押し倒す', '打ち立てる', '祭る', '死す', '埋める', '指す', '奪い合う', '突き合せる', '吟じる', 'とく', '挟む', '坐る', 'じゃれる', '据わる', '瞬く', '嘯く', '観る', '片付ける', '化す', 'めす', '眩む', '思い返す', 'のぼる', '翳す', '浴びせる', '透かす', '静まり返る', '清める', 'かきつける', 'つる', 'すくう', '敲く', '心得る', 'ごまかす', '廃する', '起き直る', '養う', '罵る', '取りあげる', '整える', '煎じる', 'おくれる', '好く', '取り合う', '振り撒く', 'ぬる', '盗む', '擦り付ける', '陥れる', 'やく', '逆らう', '聞き糺す', '突く', '除く', '売る', '遣わす', '取りとめる', 'くだる', '涸らす', '執る', '腐れる', '見詰める', '着ける', '振れる', '乗り越える', 'いたす', '崩れる', '奪う', '並べる', 'かくれる', '至る', '叱りつける', '加える', '返す', 'しめつける', '連れ出す', '太れる', '透く', '呑む', '重なる', '開け放つ', '恨む', '惚れ込む', '巫山戯る', '角張る', '揚げる', '言いつける', '愛す', '痛める', '延びる', '差す', '出来る', '焚ける', 'わける', 'しかめる', '置く', '厭く', '受け取れる', '弾ける', '似合う', '裂く', 'ぼる', '溢れる', 'かける', 'のぼせる', 'しまる', '背く', 'なれる', '保つ', '周章てる', 'つくる', '苦しめる', '待つ', '世帯染みる', '咲く', 'からむ', '取上げる', 'ふむ', 'ぬくもる', '暮す', '押し付ける', '取り囲む', '嵌める', '着る', 'よぶ', '目だつ', '習う', '差し引く', '絞る', '来す', '接ぐ', '亡くなる', '撃つ', 'じみる', '立ちすくむ', '差し出す', '教える', '来たす', '引き続く', '増す', '甘んじる', '逢う', '産まれる', '取り上げる', '見上げる', '乗り込む', '引き寄せる', '騒ぐ', '挟まる', '運ぶ', '呼び立てる', '消え去る', '縛る', '壊れる', '捻り出す', '挿す', 'はいる', 'さえる', '打ち出す', '隠す', '吹き付ける', 'ふくらす', 'そそのかす', '損なう', '巻く', 'すべる', '示す', '伺う', 'しる', '動ける', '沸き上がる', '討つ', '動じる', 'はる', '撲る', '枉げる', '誇る', '集まる', '点じる', '支える', 'こぼれ落ちる', 'うつす', '撫でる', '生き延びる', 'あぶる', '起る', '察す', '求める', '取り巻く', '拭き込む', '印す', 'いじる', '探る', '押し出す', 'がかる', '疑う', 'わる', '浮かれ出す', '剥がれる', '填める', '刺す', '踏み込む', '睡る', 'ほのめく', '済む', '立つ', '滑り込む', '引き払う', '注する', 'ぬすむ', '詰まる', '洗う', '劣る', '侮る', '持ちかける', '嚇す', '逆上せる', 'おひゃらかす', 'あり', 'わめく', '張り切れる', '変ずる', 'ふくらます', '落ちつく', '食える', '祈る', '図る', '助かる', '容れる', '見逃す', '考え付く', '砕ける', 'どやす', 'てる', '気取る', '受け合う', '引っ込む', '吹かす', 'つかまえる', '安んずる', '聞き出す', '納まる', 'あてる', '抗する', 'やり過ごす', '巡る', '調子づく', 'がる', '釣る', '解く', '持ち切る', 'らっしゃる', '叶える', '命じる', '歩み寄る', '見離す', '開ける', '立ち上る', 'くる', '滑る', '綻びる', '倒れる', '舞う', 'やり込める', '買える', 'くずれる', 'すぎる', '振り返る', 'せき込む', 'つくす', '許す', '描く', 'すわる', '思い及ぶ', '設ける', 'たべる', '富む', '抜き取る', '慣れる', '仕込む', '合う', 'ととのう', '気づかう', 'みる', '取り乱す', 'あく', 'はちきれる', '取り違える', '寄る', 'しだす', '寄こす', '守る', 'たぎる', '失する', '飛び越える', '崇める', '写す', 'ざれる', '営む', '切り落す', '表する', '照らす', 'つかみ合う', '差支える', 'はずす', '捧ぐ', '思いやる', '申し渡す', '関す', '気が付く', '押し寄せる', '覚ます', 'ある', '履く', 'すまう', '蒔く', 'たつ', 'そらす', 'きる', '折る', '詰め込む', 'いたる', '消え失せる', 'そぐ', '切る', '纏う', '分る', 'どる', 'おろす', '目ざす', '探す', '朽ちる', '押しやる', '乱す', '越える', '逸す', '見棄てる', '詰める', 'ける', '儲かる', '抱く', '生きる', '引きあげる', '係わる', 'つむ', '捉える', '食い込む', 'ひねる', 'ごろつく', '心づく', '騒ぎ立てる', '振りかける', '焦れる', '読む', '吸い込む', '落ちつける', '盛る', '落ち着く', '離れる', '買い込む', '借りる', '結う', '評する', '魅入る', 'こぼれる', '割り込む', '就く', '沿う', 'こなす', '見下す', '分つ', '食べる', 'すてる', 'にたてる', '応ずる', '召す', '飛ぶ', '跳ね返す', '唱える', '這出る', 'やむをえる', '貰う', 'まつわる', 'くだける', '投げ出す', '号する', '出合う', '拭う', 'いらう', '繰返す', '逸する', '始まる', '教わる', '抜け出す', 'なりすます', '始める', '欠ける', '引き上げる', 'あるく', '拾える', '洩らす', '破れる', '下す', '行ける', 'せり出す', '引き取る', '埋る', '引き込む', '引き抜く', '断つ', 'くぐる', '面す', '怠る', '追い詰める', '陣取る', 'くう', 'かえす', '照り付ける', 'かきまぜる', '見向く', 'とりのける', '数える', 'すり抜ける', '飲み下す', 'よそう', '春めく', '染む', '答える', '傭う', '充ちる', '属する', '逃げ惑う', 'うたう', '押し込める', 'つづく', 'うてる', '尽きる', 'あきる', '出向く', '問い返す', 'つきつける', '眺める', '交ぜる', '滅入る', '躍る', '命ずる', 'あげる', '漕ぎつける', '注ぐ', '怒鳴る', '弁じる', 'がたつく', '遮る', '売れ残る', 'きく', '聳える', '織る', '分捕る', '拝する', '悟れる', '退ける', 'あばく', '応じる', '任せる', '削り取る', 'おくる', '蘇る', '隔てる', '謡う', '現われる', '控える', 'とる', 'のせる', '作り上げる', '圧す', '断る', 'くべる', '真面目くさる', 'ひろげる', '見下ろす', 'つかむ', 'いただく', 'しかる', '這入る', '見やる', 'しいる', '縺れる', '申す', 'ぶらさげる', '突き当る', 'しつくす', '証拠立てる', '信じる', 'あける', '冷める', 'やむ', '携える', '己惚れる', '訴える', 'ぶつ', 'れる', '構う', '恥づ', '歩く', 'とおる', '切り刻む', '浮く', '乾かす', '過ぎる', '感じ入る', '伏せる', '仰向く', '見積る', '書き流す', '掬う', 'しゃくう', '申し立てる', '漂う', '付ける', '流行る', '釣れる', '手伝う', '萌す', 'しらべる', '薫ずる', '積み込む', '捌ける', '寝つく', 'やっつける', 'してやる', '留る', 'いやす', 'あきらめる', '担ぐ', '描き出す', '帰る', '取り出す', 'うかがう', '在る', '奉じる', '引込む', '口走る', 'もがく', 'あきれ返る', 'ありがたがる', 'がする', '踊る', '見合わせる', '焦げる', '思い込む', 'なでる', '立ち返る', '期す', 'する', '舞い込む', 'つける', '冷える', '悩む', 'いう', '目する', '懸ける', '祝す', '殖える', '選ぶ', '漏る', '差し支える', 'す', 'きまる', 'ほのめかす', 'まします', '喰う', 'ぶら下げる', '澄ます', '見おろす', '立ち寄る', '害する', '附ける', 'やって来る', 'つぐ', '爛れる', '力む', '暴く', 'もったいぶる', '拗じる', 'ふる', '開け放す', '形づくる', 'ごねる', '整う', 'こく', '見届ける', '明く', '抜く', 'まする', 'ひるむ', 'しまう', '歴る', 'あう', '陳べる', '称す', '受け合える', '諦める', '炊く', '反す', 'めでる', '聞く', '掻い込む', '能う', '敷く', '覚る', '乗じる', '被う', '入る', 'ためす', '潰せる', '醒める', '降す', '廻れる', '吹き払う', 'いらっしゃる', '買う', '洩れる', '括る', '怒る', '表わす', '要する', '引く', '見つける', 'もらう', '思う', '合す', '満ちる', '読み出す', '添う', '刻む', '切り開く', 'したがう', '晴れ渡る', '剥げる', 'おどす', '借る', '投ずる', 'ちる', 'つまみ出す', '覚める', 'ならぶ', '試す', '切り抜ける', 'いく', '唱う', 'たらす', 'まえる', 'くむ', '飛びつく', '割る', '生える', 'ぬかる', '渡る', '洒落る', '吸取る', '引き起す', '組む', '嘲る', '択ぶ', '滑べる', 'かぐ', '打つ', '止す', 'かわす', '塞ぐ', '追っかける', '逐う', '磨く', '味わう', '代る', 'ねじる', '比べる', '被れる', '載る', 'たれる', '見下せる', '弁ずる', '納める', '超す', '追い廻す', 'なぐさむ', '釣り合う', 'つくばう', '落とす', '飛び下りる', '罹る', '平らげる', '持たす', '泊る', '反り返る', '茂る', '迷わす', 'におう', 'よこす', 'すます', 'すぼめる', '籠る', '候う', '暮れる', '称える', '凹ます', '押す', 'おどろかす', '鍛え上げる', '比する', '供える', '乱れる', '綴る', 'さばける', '引き下がる', '引き摺り込む', '飽き飽きする', '願う', '滑らす', '帯びる', '残す', '流れ込む', '事足る', '押し通す', '乞う', '衰える', 'はりつける', '引きずり出す', '持つ', 'つく', '覗く', '取り扱う', '絶つ', '注す', '眠れる', 'おえる', '決す', '証す', '知れ渡る', '結び付ける', '叩く', '申し合せる', 'まごつく', '畳む', '列ねる', '存する', '感じる', '迎える', '熾る', '値する', 'かざる', '繙く', '叩き付ける', '膨れる', '構える', '勧める', '送る', 'ともる', 'こする', '称する', '打ち解ける', '敬う', 'のべる', 'かためる', '略す', 'うける', 'ほめる', '起つ', 'まう', '湧く', '草臥れる', '飛び込める', '従う', 'いいかねる', '加わる', '待ち兼ねる', '余る', '飛ばす', 'のさばる', '寝ころぶ', '振い落す', '掻ける', '及ぼす', '怪しむ', '通り過ぎる', 'でる', '付き添う', 'あらそう', '蔽う', '見廻る', '移す', '鳴く', 'あたる', '届く', 'はらう', '抑える', 'もぎとる', '聞き合せる', '言い放つ', 'ねぶる', '糺す', '飲む', '論ずる', 'ねる', '打ち落す', '詫び入る', '読める', '洒落れる', '当てる', '隠れる', '取りはずす', '立ち上がる'}\n"
          ]
        }
      ]
    },
    {
      "cell_type": "markdown",
      "source": [
        "33"
      ],
      "metadata": {
        "id": "cSAI-fL4K0Xp"
      }
    },
    {
      "cell_type": "code",
      "source": [
        "def noun_phrase(sentence_dic):\n",
        "  noun_phrase=[]\n",
        "  for word in sentence_dic:\n",
        "    for i in range(2, len(word)):\n",
        "        #名詞+「の」+名詞の並びのものを調べる\n",
        "        if word[i-2]['pos'] == '名詞'and word[i-1]['surface'] == 'の' and word[i]['pos'] == '名詞':\n",
        "            noun_phrase.append(word[i-2]['surface'] +word[i-1]['surface'] +word[i]['surface'])\n",
        "\n",
        "  return noun_phrase\n",
        "\n",
        "noun_list = []\n",
        "noun_list = noun_phrase(sentence_dic)\n",
        "print(noun_list)"
      ],
      "metadata": {
        "colab": {
          "base_uri": "https://localhost:8080/"
        },
        "id": "3mK3nfLiKytR",
        "outputId": "582f1456-761b-416a-ef40-965a80a0a314"
      },
      "execution_count": null,
      "outputs": [
        {
          "output_type": "stream",
          "name": "stdout",
          "text": [
            "['彼の掌', '掌の上', '書生の顔', 'はずの顔', '顔の真中', '穴の中', '書生の掌', '掌の裏', '何の事', '肝心の母親', '藁の上', '笹原の中', '池の前', '池の上', '一樹の蔭', '垣根の穴', '隣家の三', '時の通路', '一刻の猶予', '家の内', '彼の書生', '以外の人間', '前の書生', 'おさんの隙', 'おさんの三', '胸の痞', '家の主人', '主人の方', '鼻の下', '吾輩の顔', '自分の住', '吾輩の主人', '家のもの', 'うちのもの', '彼の書斎', '本の上', '皮膚の色', '本の上', '彼の毎夜', '以外のもの', '主人の傍', '彼の膝', '膝の上', '経験の上', '飯櫃の上', '炬燵の上', 'ここのうち', '供の寝床', '彼等の中間', '供の一', '例の神経', '性の主人', '次の部屋', '自分の勝手', '吾輩の方', '台所の板の間', '吾輩の尊敬', '向の白', '玉のよう', 'そこの家', '家の書生', '裏の池', '親子の愛', 'もっともの議論', '刺の頭', '鰡の臍', '彼等のため', '軍人の家', '代言の主人', '教師の家', '猫の時節', '吾輩の家', '家の主人', 'だらけの英文', '胃弱の癖', '後架の中', '平の宗', '月の月給', '当分の間', '下のよう', '今更のよう', '主人の述懐', '彼の友', '金縁の眼鏡', '主人の顔', '内の想像', '訳のもの', '利の大家', '金縁の裏', '吾輩の後ろ', '彼の友', '吾輩の輪廓', '顔のあたり', '上乗の出来', '顔の造作', '他の猫', '不器量の吾輩', '吾輩の主人', '斯産の猫', '斑入りの皮膚', '主人の彩色', '一種の色', '身内の筋肉', '主人の予定', '座敷の中', '悪口の言いよう', '人の気', '彼の背中', 'こっちの便利', '自己の力量', '人間の不徳', '吾輩の家', '家の裏', '浩然の気', '小春の穏', '日の二', '茶の木の根', '西側の杉', '垣のそば', '他の庭', '純粋の黒', '彼の皮膚', '皮膚の上', '毛の間', '中の大王', '吾輩の倍', '嘆賞の念', '好奇の心', '彼の前', '小春の風', '垣の上', '梧桐の枝', '枚の葉', '枯菊の茂み', '真丸の眼', '人間の珍重', '双眸の奥', '吾輩の矮小', '額の上', '声の底', '吾輩の心臓', 'ここの教師', '教師の家', '良家の猫', '車屋の黒', '車屋の黒', '主義の的', '彼の名', '軽侮の念', '左の問答', '車屋の方', 'うちの主人', '車屋の猫', 'どこの国', '己の後', '教師の方', '車屋の黒', '相当の気焔', '畠の中', '黒の比較', '彼の鼻', '鼻の先', '彼の気焔', '自分の手柄', '墻壁の欠', '彼の答', '鼠の百', '掃除の時', 'うちの亭主', '石灰の袋', '椽の下', 'たちの野郎', '溝の中', '去年の臭気', '鼻の頭', '反対の結果', 'うちの亭主', '己の御蔭', '無学の黒', '背中の毛', '黒の子分', '以外の御馳走', '教師の家', '教師のよう', '吾輩の主人', '日の日記', '今日の会', '質の人', '人の妻君', '連中のうち', '吾輩の水彩', '屋の酒', '一廉の水彩', '吾輩の水彩', '野暮の方', '芸者の妻君', '愚劣の考', '自己の水彩', '知の明', '日の日記', '元の通り', '夢の裡', '画の未練', '夫子の所', '例の金縁', '眼鏡の美学', '君の忠告', '物の形', '色の精細', '今日のよう', '日記の事', '喜悦の体', '彼の今日', '今日の日記', '唯一の楽', '主人の情', '下のよう', '彼の一世', '会の演説', '時の傍聴', 'ハリソンの歴史', '小説の中', '僕の向う', '性の主人', '化の皮', '別の本', '金縁の眼鏡', '車屋の黒', '寺院の壁', '壁のしみ', '車屋の黒', '彼の光沢', '彼の眼', '吾輩の注意', '彼の元気', '元気の消沈', '例の茶園', '最後の日', 'たちの最後', '屋の天秤棒', '赤松の間', '段の紅', '紅白の山茶花', '半の南', '向の椽側', '冬の日脚', '吾輩の昼寝', '昼寝の時間', '教師の家', '無名の猫', '主人の許', '枚の絵', '彼の交友', '一の動物', '例の書斎', '窓の方', '鼻の先', '端書の色', '動物の正体', '自分の肖像', '主人のよう', '猫の中', '他の猫', '属の言語', '天の恵', '軽侮の口調', '人間の糟', '馬の糞', 'がちの事', '固有の特色', '猫の社会', '界の語', '髯の張り', '耳の立ち', '尻尾の垂れ', '無粋の数', '人間の眼', '吾輩の性質', '相貌の末', '猫の事', '吾輩の主人', '愛の第一義', '吾輩の肖像', '眼の前', '熊の画', '主人の膝', '膝の上', '二の絵', '舶来の猫', '内の一疋', '机の角', '西洋の猫', '日本の墨', '右の側', '猫の春', '猫の年', '三の端書', '吾輩の顔', '尊敬の意', '吾輩の御蔭', '門の格子', '屋の梅', '時のほか', '主人の膝', '玄関の方', '年賀の客', '酒の相手', '牡蠣の根性', '主人の所', '主人のよう', '去年の暮', '羽織の紐', 'どっちの方角', '木綿の紋付', '羽織の袖口', '椎茸の傘', '吾輩の頭', '車屋の黒', 'ピヤノの伴奏', '巌のよう', '実のところ', '大抵の婦人', '婦人の七', '失恋のため', '胃弱のせい', '明治の歴史', '君の女', '口取の蒲鉾', '所の令嬢', '御存じの方', '旅順の陥落', '女連の身元', '木綿の紋付', '兄の紀', '結城紬の綿', '針の目', '主人の服装', '失恋のため', '蒲鉾の残り', '一般の猫', '以後の猫', 'グレーの金魚', '車屋の黒', '蒲鉾の一切', '細君の留守', '前のこと', '麭の幾分', '卓の上', '壺の中', '匙の砂糖', '自分の皿', '皿の上', '分量の砂糖', '自分の皿', '皿の上', '皿の上', '両人の皿', '盛の砂糖', '壺の中', '匙の砂糖', '壺の中', '櫃の上', '櫃の上', '餅の切れ', '最後の一', '椀の中', '主人の威光', '汁の中', '餅の死骸', '袋戸の奥', '卓の上', '質のもの', '独言のよう', '対句のよう', 'ほかの病気', '本当のところ', '細君の肩', '主人の前', '膝の上', '書斎の椽側', '障子の隙', '人の本', '机の上', '下のよう', '池の端', '池の端', '端の待合', '待合の前', '裾模様の春着', 'うちの猫', '丹の角', '撫肩の恰好', '薄紫の衣服', '懐手のまま', '人間の心理', '主人の今', '今の心', '哲人の遺書', '一道の慰安', '無用のもの', '主人のよう', '自己の面目', '真正の日記', '胃の具合', '人間の日記', '日記の本', '彼の説', '胃病の源', '胃病の源', '大抵の胃病', '竜馬のよう', '臓腑の位置', '綿のよう', '腸の中', '胃の働き', '者の迷亭', '何等の功', '年来の胃弱', '限りの方法', '杯の正宗', '主人の心', '吾輩の眼球', '眼球のよう', '日記の上', '一種の見地', 'すべての病気', '父祖の罪悪', '自己の罪悪', '罪悪の結果', 'うちの主人', '自己の面目', '君の説', '自分の胃弱', '違いの挨拶', '胃弱の病人', '大抵のもの', '車屋の黒', '黒のよう', '横丁の肴', '新道の二絃琴', '二絃琴の師匠', '師匠の所', '所の三', '毛のよう', '経験のため', '大抵のもの', '教師の家', '大の贅沢', '口の贅沢', '文章の贅沢', '中の人間', '人間の名', '自分の苦心', '店先の看板', '屋の看板', 'マーカスの上', '友人の迷惑', '中の人間', '人間の名前', '吾輩のよう', '贅沢の結果', '通りの餅', '通りの色', '椀の底', '餅の上皮', '釜の底', '底の飯', '時のよう', 'ものの味', '一の真理', 'すべての動物', '底の様子', '供の足音', '雑煮の事', '椀の中', '全体の重量', '椀の底', '餅の角', '吾輩の主人', '煩悶の際', '二の真理', 'すべての動物', '事物の適', '餅の肉', '供の唱歌', '煩悶の極', '何等の功', '何等の関係', '前足の助け', '右の方', '口の周囲', '訳のもの', '餅の中', '餅の魔', '前足の運動', '三の真理', 'ところのもの', '餅の魔', '縮緬の紋付', '人間の同情', '在来の通り', '時のよう', '餅の中', 'すべての安楽', '四の真理', '新道の二絃琴', 'さんの所', '所の三', '物の情け', '三の険', '異性の朋友', '朋友の許', '女性の影響', '垣の隙', '曲線の美', '端正の態度', '吾輩の傍', '教師の家', '去年の暮', 'あなたのうち', '欣羨の意', '供のよう', '鼻の孔', 'あなたの所', '間の姫小松', '障子の内', '祐筆の妹', 'かさんの甥', '甥の娘', '祐筆の妹', '様の妹', '祐筆の妹', 'かさんの甥', '甥の娘', 'かさんの甥', '甥の娘', '様の何', '祐筆の妹', 'かさんの甥', '甥の娘', '理詰の虚言', '障子の中', '二絃琴の音', 'さんの声', '雑煮の元気', '例の茶園', '建仁寺の崩れ', '車屋の黒', '枯菊の上', '黒の性質', '教師の飯', '吾輩の有名', '子の向う', '罵詈の言語', '子の何とか', '参考のため', '手持無沙汰の体', '黒のうち', 'うちの神', '黒の畜生', '初春の長閑', '彼の足', '足の下', '鮭の骨', 'しゃけの一切', '車屋の黒', '腕まくりの代り', '右の前足', '肩の辺', '例の神', 'さんの大声', '注文の声', '四隣の寂寞', '挨拶のしよう', '自分のため', '本当の御馳走', '吾輩の頭', 'からだの泥', '西川の牛', '座敷の中', '主人の笑い声', '主人の傍', '木綿の紋付', '紋付の羽織', '小倉の袴', '体の男', '主人の手', '塗りの巻煙草', '客の名前', '君の友人', '主客の対話', '君の事', '客の前', '方の事', '膝の上', '吾輩の頭', 'ボイの方', '鴨のロース', '小牛のチャップ', '私の方', 'つもりのところ', 'なめくじのソップ', '蛙のシチュ', 'シチュの形容', '花瓶の水仙', '残念の気色', '何の気', '客の謝罪', '通りの西洋', '戦争の通信', 'トチメンボーの材料', '横浜の十', '当分の間', '私の方', '派の俳人', '敬服の至り', '飯の時刻', '吾輩の咽喉', '主客の耳', '承知の通り', '方面の研究', '去年の暮', '文章の類', '古人の作', '同人の創作', '古人の作', '白楽天の琵琶', '行のよう', '蕪村の春風', '曲の種類', '近松の心中', '浄瑠璃の近松', '家の近松', '吾輩の頭', '主人の顔色', '作中の人物', '時代の人', '顔の横手', '登場の人物', '明瞭の智識', '娼家の下婢', '茶屋の下女', '部屋の助役', '仲居の性格', '一定の場所', '男の人間', '主人の顔', '君のほか', '家の気', '何の役割', '会場の窓', '入会の上', '的の主人', '員の名簿', '紫の風呂敷', '版の帳面', '署名の上', '主人の膝', '膝の前', '連中の名', '念の体', '賛成の意', '謀叛の連判', '知名の学者', '無上の光栄', '返事の勢', '畳の上', '皿の中', '中のカステラ', '今朝の雑煮', '子の胃', '胃の中', '皿のカステラ', '机の上', '先生の手紙', '新年の御慶', '先生の手紙', '大兄の消極', '未曾有の新年', '程の多忙', '男の事', '一刻のひま', 'トチメンボーの御馳走', '払底の為', '例の通り', '男爵の歌留多', '協会の新年', '会の連発', '当分の間', '拝趨の礼', '光来の節', '何の珍味', '払底の為', '孔雀の舌', '承知の通り', '肉の分量', '小指の半ば', '大兄の胃', '羽の孔雀', '普通の鳥屋', '感謝の意', '孔雀の舌', '舌の料理', '全盛の砌', '風流の極度', '世紀の頃', '饗宴の図', '孔雀の料理', '近頃の如く', '胃弱の標準', '家の説', '方丈の食', '胃の人', '大兄の如く', '多量の滋味', '一の秘法', '種の方法', '廓清の功', 'かくの如く', '此等の事', '世紀の今日', '交通の頻繁', '宴会の増加', '国の国民', '嘔吐の術', '西洋の事情', '明治の社会', '諸家の著述', '発見の端緒', '残念の至', '孔雀の舌', '舌の御馳走', '小生の都合', '大兄の為', '白磁の水仙', '軸の梅', '障子の中', '鉢の葉蘭', '葉蘭の影', '人間の取扱', '自分の境遇', '猫の方', '猫の方', '私の脈', '膝の上', '猫の病気', '大事の猫', '吾輩のうち', '様の何とか', '様の何とか', '何とかの何とか', '何とかの下女', '頃のよう', '国事の秘密', '時のよう', '表通りの教師', '教師の所', '吾輩の主人', '何の呪い', '相応の作法', '毛の病気', 'あいつの御蔭', '書斎の中', '沈吟の体', 'さんの所', '無名氏の作', '僕の翻訳', '読本の中', '孔雀の舌', '舌の讐', '君のよう', '借金の催促', '近来の名文', '君の審美', '眼の本家', '本家のよう', '師の遺誡', 'いその巨人', '金縁の眼鏡', '眼鏡の奥', '平等の水彩', '画の比', '感服の至り', 'トチメンボーの亡魂', '君の紹介', '迷惑の事', '自分の姓名', '姓名のこと', '初対面の人', '自分の名前', '名前の講釈', '唐皮の煙草', '腹の底', '腹の底', '鼻の孔', '咽喉の出口', '知名の文士', '近松の世話物', '何の役', '孔雀の舌', 'トチメンボーの復讐', '行徳の俎', '行徳の俎', '教場の経験', '行徳の俎', '何の事', '床の方', '風呂の帰りがけ', '行徳の俎', '去年の暮', '行徳の俎', '先生の不思議', '暮の二', '例の東風', '参堂の上', 'ストーブの前', 'バリー・ペーンの滑稽', '静岡の母', '供のよう', 'いろいろの注意', '明治の文壇', '御国のため', 'お正月のよう', '僕の小学校', '時代の朋友', '今度の戦争', '母の手紙', '胃の具合', '町の方', '町の方', '神楽坂の方', '頭の中', '土手の上', '例の松', '松の真下', '例の松', '鴻の台', '鴻の台', '松の下', '土手の上', '他の松', '往来の方', 'あすこの所', '昔の希', '宴会の席', '首縊りの真似', '台の上', '縄の結び目', '他のもの', '元の所', '寒月の顔', '羽織の紐', '下の幽冥', '一種の因果', '火鉢の灰', '昨年の暮', '暮の事', '向島の知人', '知人の家', '近来の快事', '博士の夫人', '私のそば', '譫語のうち', '私の名', '時のよう', '周囲の空気', '頭の中', '当人の迷惑', '飛花落葉の感慨', '総身の活気', '花川戸の方', '橋の上', '提灯の火', 'ビールの処', '遥かの川上', '川上の方', '私の名', '水の面', '気のせい', '私の名', '遠くの方', '川の底', '子の声', '自分の声', '子の声', '私の耳', '浪の下', '水の下', '欄干の上', '糸のよう', '自分の鼻', '鼻の頭', '水の中', '橋の真中', '後ろの間', '羽織の紐', '僕の経験', '教授の材料', '人間の感応', 'さんの病気', '門の内', '沈思の体', '迷亭の眼中', '去年の暮', '暮の事', '去年の暮', '前歯のうち', '御歳暮の代り', '今日の語り物', '摂津の三', '詰の談判', '相当の席', '正当の手続き', '鈴木の君代', '正当の手続き', '鈴木の君代', '玉のよう', '度の願', '身上の苦労', '供の世話', '薪水の労', '枚の堵', 'ものの胸中', '無限の感慨', '女の事', '今の内', '有為転変の理', '生者必滅の道', '夫の妻', '西洋の諺', '御存じの癖', '学校の卒業生', '計画の腰', '僕の英語', '妻のよう', '生者必滅の理', '細君の英語', '何の気', '書斎の開き戸', '自分の妻', '縮緬の羽織', '僕の舌', '呑のよう', '格別の事', '細君の厳命', '僕の前', '胃の中', '茶の間の柱時計', '時の音', '何の苦', '先生の名医', '夢のよう', '細君の意見', '僕の義理', '自分の義務', '君のよう', '独り言のよう', '障子の蔭', '細君の咳払い', '吾輩の主人', '主人の我儘', '今の話', '何の所得', '太平の逸民', '競争の念', '日常の談笑', '穴の動物', '気の毒の至り', '普通の半可通', '形の厭味', '人の談話', '子の様子', 'さんの庭口', '流れの雲', '庭の面', '元日の曙光', '人の気合', '泥足のまま', '座蒲団の真中', '子の事', '障子のうち', '人間の位牌', '信女の誉', '誉の字', '蒲団の上', 'さんの声', '下女の声', '座蒲団の上', '木彫の猫', '猫のよう', '人様の事', '表通りの教師', '教師のうち', 'うちの野良猫', '我慢のしどころ', '毛のよう', '毛のよう', '下女の考え', '下女の顔', '毛の代り', '教師の所', '所の野良', '壺の中', '君の説明', '子の身代り', '誰のため', '本の毛髪', 'さんの近所', '吾輩の普通', '一般の猫', '主人の恩', '敬服の意', '吾輩の肖像', '楼門の柱', '日本のスタンラン', '吾輩の似顔', 'カンヴァスの上', '自己の不明', '寂寞の感', '主人の許', '吾輩の写真', '岡山の名産', '吾輩の名宛', '人間の方', '足の先生', '昨今のところ', '世界の一', '貧乏性の男', '猫の習癖', '黒の事', '同等の気位', '彼等の思想', '児の毛', '一言の挨拶', '残念の次第', '相互の見解', '猫の動作', '先生の評判', '天気の日曜', '吾輩の傍', '居士の事', '筆の穂', '丸の中', '彼の考', 'ほかの行', 'あとの句', '主人の鼻', '鼻の先', '鼻の穴', '天下の奇観', '紙の上', '種々の色', '指の股', '妻君の顔', '顔の前', '主人の手', '鼻毛の白髪', '紙の上', '画の蘭', '人の家', '自分の家', '居士の墓', '童子のよう', '例の曾呂', '崎の事', '僕の親友', '誰の所作', '名のよう', '相当のところ', '本堂の裏手', '力石のよう', '迷亭の返事', '先生の接待', '膝の上', '吾輩の襟髪', '室の妻君', '針仕事の手', '迷亭の前', '挨拶のしよう', '胃の加減', '先刻の不平', '供のよう', '胃病の薬', '大根卸の中', 'ジャムの損害', '細君の訴', '中の娘', '箪笥の上', '四つの女の子', 'ほかの道楽', '去年の暮', '学者の妻', '書籍の価値', '後学のため', '唐人の名', '馬の七', '代目の王様', 'タークイン・ゼ・プラウドの事', '王様の所', '人の女', '冊の内', '内の三', '本の内', '元の通り', '元の通り', '余りの三', '書物のありがた味', '一家の見識', '迷亭の返答', '君の評', '主人の評判', '君の文', '吾輩の眼', '眼の前', '不即不離の妙', '櫓の上', 'ハイカラの首実検', '首実検のよう', '君の苦', '月並の定義', '一流の論理', '自分の嫌い', '月並の処置', '物思いの間', '馬琴の胴', 'メジョオ・ペンデニスの首', '欧州の空気', '中学校の生徒', '白木屋の番頭', '迷亭の傍', '君の留守', '君の逸話', '吾輩の頭', '近頃の赤ん坊', '沙弥の家', '人の都合', 'こっちの趣向', '自身の要求', '君の家', '学の演説', '迷亭の専断', '首縊りの力学', '無言のまま', '吾輩の頭', '立ての白', '拍手の請求', '罪の刑', '自殺の方法', '罪人の死体', '鳥の餌食', 'ヘロドタスの説', '罪人の首', '師の云', 'オディセーの二', '彼のテレマカス', 'ペネロピーの十', '人の侍女', '二つの方法', '彼のテレマカス', 'リーシャスの援', '縄の一端', '縄の所々', '女の頭', '片方の端', '屋のシャツ', 'シャツのよう', '縄の一端', '他の一端', '別の縄', '結び目の輪', '女の頸', '女の足', '縄暖簾の先', '辺のところ', '一の場合', '人の女', '女の首', '縄の各部', '女の体重', '他人の場合', '御存じの平均', '二の方程式', '演説の首脳', '恐縮の体', 'ベオウルフの中', '罪の刑', 'ブラクストーンの説', '縄の具合', '同様の刑罰', 'ピヤース・プローマンの中', '主人の方', '演説の続き', '首縊りの生理', '風来坊のよう', '出来事の事', '日の午後', '東風の高輪', '陥落の号外', '平生の通り', '子の失策', '埒の方', '居士の再来', '前の日曜', '者のよう', '東風の勝手', '例の通り', '吾の蒔絵', '蒔絵の印籠', '東風の返事', '清廉の君子', '人の方', '掛矢の事', '西洋の鳶口', '教師の身の上', '初めの勢', '君の国', '君の方', '巻煙草の灰', '火桶の中', '格子戸のベル', '女の声', '主人のうち', '声の所有', '縮緬の二枚重ね', '十の上', '工事のよう', 'さの二', '切り通しの坂', '人の鼻', '顔の真中', '社の石', '先の方', '初めの勢', '初対面の挨拶', '板の木目', '鼎坐のまま', '話の口', '横丁の角屋敷', '館の倉', '金田の西洋', '金田の倉', '尊敬の度合', '会社の方', '子の先刻', '初対面の女', 'ここの主人', '尊敬の度', '中学校の先生', '先生の方', '家の恩顧', '人の利害', '他の方面', '方面の事', '畏服の念', '子の方', '天が下の一隅', '世の中の人間', '金田の妻', 'どこの会', '人の前', '私の家', '横丁の角屋敷', '僕の伯父', '伯父の友達', '君の伯父', '迷亭の方', '様の——', '娘の縁辺', '縁辺の事', 'こちらの身分', '主人の方', 'あなたの所', '寒月の事', '上の関係', '君の性行', '性行の一', '寒月の事', '双方の間', '団扇のよう', '心の裡', '寒月の方', '主人の鉄砲', '子の一言', '狐付きのよう', '御存じの事', '去年の暮', '向島の阿部', '入りの指', '膝の上', '病人のよう', '驚愕の箍', '持前の本態', '参考のため', '金田の奥さん', '車屋の神', 'さんの事', '車屋の神', 'さんの事', '寒月の事', '誰の事', '車屋の神', 'あなたの垣根', '垣根のそ', '向うの勝手', '新道の二絃琴', '二絃琴の師匠', '寒月の事', '子の言葉', '軍鶏の蹴合い', '悪口の交換', '子の敵', '寒月の方', '迷亭の救い', 'さんの方', '流の言葉', '博士の夫人', 'こっちの手', '博士の奥さん', 'さんの気', '君の事', '地球の磁気', '磁気の研究', 'ただの学士', 'ほかの事', '地球の——', '首縊りの力学', '研究の結果', '何の気', '首縊りの力学', '主人の方', 'これしきの事', '夫人の面目', '相手の顔色', '主人の顔', '団栗のスタビリチー', '天体の運行', '上の質問', '歯の性', '迷亭の機嫌', '内の二', '枚の絵葉書', '旧暦の歳', '歳の夜', '山の狸', '不平の体', '天女の鼻', '人の天文学', '者の死骸', '本当の噺', 'つきの爺', '何の事', '泊りの十', '荒磯の千鳥', '覚の千鳥', '波の底', '大抵の質問', '寒月の事', '自分の方', '方の事', '奥の部屋', '月並の標本', '顔の中央', '猫背の鼻', '奥の間', '車屋の神', '顔の讒訴', '子の鼻', '自分の容貌', '裏の車', '歳の高齢', 'あなたのよう', '主人の寿命', '木綿の羽織', 'だらけの着物', '金田の奥さん', 'さんの名前', '着物の咎', '贅沢の沙汰', '任意の庶境', '克己の力', 'ステッキの代り', '細君の方', '此年の春', '伯父の伯父', '国の新聞', '例の鉄扇', '棺の中', '例の山高帽子', 'ものの天下', '満足の体', '鉄扇の伯父', '灯の下', 'さっきの女', '主人の意見', '男爵の伯父', '女の方', '僕の法螺', '曰く付きの嘘', '天来の滑稽', 'コメディーの神様', '活眼の士', '角屋敷の金田', '主人の家', '主人の飯', '子の訪問', '令嬢の艶', '同情の至り', '博士の奥さん', '車屋の神', '二絃琴の天璋院', '君の方', '羽織の紐', 'したての理', '顔の中', '女の事', '訳の者', '首縊りの力学', '机の上', '学者の家', '一般の痴猫', '尻尾の先', '個人のため', '躁狂の沙汰', '人の許諾', '人の軒下', '有用の材', '道のため', '足の裏', '梅の花', '花の印', '三の迷惑', '吾輩の苦痛', '進化の極度', '力の発達', '中学の三', '咽喉の構造', '人間の言語', '敵の情勢', '肝心の寒月', '金剛石の日', '無用の長物', '正義のため', '人道のため', '男児の本懐', '適当のところ', '寸の舌頭', '相互の思想', '忍びの術', '金田の内幕', '通りの西洋', '何等の能', '込の中', '先生の台所', '台所の十', '伯の勝手', '例の車屋', '車屋の神', '桶の裏', 'うちの旦那', '旦那の名', '車夫の声', '旦那の事', '供の歳', '奥様の鼻', '自分の面', '焼の狸', 'あいつの垣根', '垣根の傍', 'こっちの姿', '勉強の邪魔', '悪口の三', '人の横', '猫の足', '醍醐の妙味', '詮のほか', '車屋の神', '夫人の旦那', '日本一の堪能', '猫又の血脈', '蟇の額', '夜光の明', '吾輩の尻尾', '満天下の人間', '相伝の妙薬', '家の廊下', '尻尾の御蔭', '吾輩の尊敬', '尻尾の方', '尻尾の方', '吾輩の手', '障子の裏', '子の声', '左右の耳', '教師の癖', '例の金切り声', '国のもの', '君の生国', '名前の人間', '英語の教師', '車屋の神', 'さんの話', '英語のリードル', '私の学校', '間の物笑い', 'ほかのもの', 'あいつの事', '伯父の牧山', '男爵の伯父', 'どこの馬の骨', '君の事', '向うの座敷', 'ベルの音', '当家の令嬢', '顔の真中', '談話の模様', '人の注意', '相手の声', '鶉の三', '鶉の三', '仰せの通り', '長吉の方', '何の返事', '椽の下', '二の剣突', 'さんの事', '三の剣突', '小間使の癖', '四の剣突', '行李の中', '相撲の番', '向うの座敷', '顔の中心', '例の忍び足', '主人の家', '洞窟の中', 'ほかの事', '部屋の装飾', '障子の具合', '住居の下等', '例の尻尾', '尻尾の先', '巻煙草の吸い殻', '火鉢の中', '天井の雨', '太平の逸民', '逸民の会合', '君の事', '婦人の名', '先方の迷惑', '羽織の紐', '紐の色', '時代のもの', '立葵の紋', '頭の髪', '迷亭の文句', '征伐の時', '首縊りの力学', '力学の演者', '売れ残りの旗本', '旗本のよう', '忠告の通り', '御存じの方', '隅田川の底', '君の名', '乾の方角', '横丁の鼻', '誰の事', '君の親愛', '久遠の女性', '金田の妻', '君の事', '君の様子', '例の通り', '紫の紐', '鼻の所有', '隣の室', '次の句', '焼の狸', '焼の狸', '表の方', '垣の隙', '足の音', '焼の狸', '上の見地', '両君の清聴', '演舌の真似', '無言のまま', '鼻の起源', '一の不審', '上の道具', '自分の鼻', '個の孔', '鼻の発達', '行為の結果', '承知の通り', '骨の左右', '点滴の石', '顱の頭', '臭の喩', '自身の局部', '護の恐れ', '天下の珍品', '古人のうち', 'サッカレーの鼻', '構造の上', '師のよう', '先日の復讐', '顔の権衡', '何等の相談', 'ジュリアス・シーザーの鼻', 'シーザーの鼻', '当家の猫', '猫の顔', '猫の額', '英雄の鼻柱', '碁盤の上', '奈良の大仏', '母堂の鼻', 'シーザーのそれ', '当家の猫', '眉の根', '迷亭の言葉', '裏の方', '車屋の神', '異性の傍聴', '点の艶', '望外の幸福', '淑女の眷顧', '上の問題', 'ツァイシングの黄金', '上の公式', '顔の平面', '平面の交叉', '鼻の重量', '演説の首脳', '料理のよう', '以上の公式', '諸家の説', '形体の遺伝', '必然の結果', '鼻の持主', '令嬢の鼻', '鼻の構造', '特別の異状', '気候の劇変', '母堂のそれ', '咄嗟の間', '迷亭の学理', '今の中', 'ものの娘', '賛成の意', 'あいつの娘', '人のうち', '垣根のそば', '塀の下', '逆鱗の体', '羽織の紐', '主人のあと', '垣の崩れ', '上の必要', '何のため', '血の道の薬', '吾輩の煙草', '間男のよう', '鰹の切身', '顔の中心', 'もってのほかの事', '君のため', '家の動静', 'ただの一', '猫の良心', '吾輩の考', '尺寸の手', '自分の所有', '自分の所有', '他の出入', '我の天', '彼の天', 'いくらの所有', '空気の切売', '空の縄張', '地面の私有', '南北の差別', '猫の議論', '車屋の黒', '屋の天秤棒', '権力の目', '人の邸', '一家の事情', '吾輩の眼', '吾輩の脳裏', '供の時分', '餓鬼大将のため', '時の顔', '後の今日', '鮪の刺身', '自分の禿頭', '君の観察', '勝手口の横', '築山の陰', '雪隠の横', '椽の下', '盛徳の君子', '吾輩のよう', '長範のよう', '盛徳の猫', '彼の邸', '家の門', '猫の脳裏', '例の築山', '築山の芝生', '芝生の上', '畳の客間', '弥生の春', '人の来客', '夫人の鼻', '吾輩の額', '額の上', '例の平坦', '鼻の在所', '色の口', '人の中', '普通の極', '平凡の堂', '俗の室', '憫然の至り', '明治の昭代', '椽の下', '男の所', '彼の顔面', '夫人の方', '人のうち', '専門の教師', 'ろの挨拶', '自分の働き', '彼等の財産', '恐悦の体', '本人のため', '宅の書生', '男の前', '僧の癖', '木像のよう', '人の期', '沙弥の所', '自炊の仲間', '水島の事', '人のうち', '知らん顔の半兵衛', 'ビールのよう', '君の声', '鮪の刺身', '椽の下', '禿頭の音', '木魚の音', '椽の下', '君の依頼', '君の世話', '牡丹餅の御馳走', '椽の下', '金田の娘', '奴の娘', 'どこの国', '車屋の神', '聞の通り', '通りの次第', 'ほかの事', 'はずの者', '一身上の便宜', '当人の損', '本人の損', '何の益', '変物の苦', 'わしの方', '生涯の幸福', '相当の教育', '沙弥の所', '水島の事', '今の始末', '本人の性行', 'ここの前', '天気の日', '塀のうち', '椽の下', '築山の陰', '座敷の椽', '太陽の光線', 'ペンペン草の目標', '君の客間', '白のつもり', '白の気', '以前の事', '白の時代', '変色の時期', '他の暗黒', '毛布の命', '横の筋', '僭上の沙汰', '毛の字', '主人の考え', '毛布の上', '右手の指', '指の股', 'だらけの頭', '頭の裏', '煙草の火', '吸口の方', '灰の棒', '毛布の上', '煙の行末', '細君の洗髪', '洗髪の根本', '細君の事', '相互の解釈', '細君の尻', '尻のところ', '主人の顔', '顔の先', '今日の天気', '緑の黒髪', '無言のまま', '供の袖', '唐縮緬の布団', '主人の方', '黒髪の間', '主人の眼', '腰の辺', '夫人の脳天', '脳天の真中', '時の主人', '主人の眼', '充分の驚き', '彼の脳裏', 'はかの家', '伝来の仏壇', '彼の一家', '幼少の時', '家の倉', '倉の中', '厨子の中', '真鍮の灯明', '時の印象', '細君の禿', '様の鳩', '鳩の事', '様の鳩', '細君の禿', '何等の関係', '主人の頭', '二つの間', '供の時分', '御前の頭', '仕事の手', '心の中', '自分の頭', '自分の頭', '右の手', '今のうち', '自分の頭', '人の事', '鼻の孔', '鼻の中', '中の白髪', '女の脳天', 'どこの国', '頭の試験', '主人の方', '門口のベル', '先生の臥竜', '鼠色の毛布', '何のため', '何のため', '君の名刺', '更紗の座布団', '床の前', '菴の贋物', '布団の上', '一疋の猫', '君の胸', '胸のうち', '君のため', '自分のため', '布団の上', '君の心', '心の平均', '一の条件', '謙遜の意', '畳の上', '自分の所有', '布団の上', '君の心', '心の平均', '二の条件', '猫の態度', '布団の上', '君の顔', '三の条件', '吾輩の頸', '自分の不平', '個の人間', '自己の体面', '心の故', '尺の童子', '君の股肱', '四方の真中', '人間の威厳', '憎悪の念', '吾輩の顔', '君の不平', '滑稽の念', '君の間', '名刺の影', '君の名前', '吾輩の襟', '東京の本社', '本社の方', '会社の方', '君の職業', '仕立のトウィード', '君の旧友', '我々のうち', '下の方', '家の所', '先の横丁', '君のよう', 'あすこの女房', '女房の鼻', '鼻の事', '僕のよう', 'マンの鼻', '鼻の恰好', '部下のもの', '鼻の事', 'パスカルの事', 'クレオパトラの鼻', '世界の表面', '君のよう', '君の所', '人の事', '類似の事', '君の事', '腹の内', '夏の夜', '一縷の冷風', '文明の産物', '這裏の消息', '鼻の娘', '何の罪', '家の片割れ', '没交渉の沙汰', '実の弟', '自己の態度', '寒月の所', '自身の意向', '君の挨拶', '君の事', 'さんの意向', '円転滑脱の鈴木', '狼狽の気味', '令嬢の方', '君の悪口', '人の悪口', 'どこの国', '人情の機微', '金田の妻君', '糸瓜のよう', 'さんの悪口', '心の中', '君の顔', '易者のよう', '相応の家', '万全の策', '通りの訳', '君の事', '博士の学位', '君の依頼', '君の意', '意のまま', '金田の娘', '普通の談話', '談話の際', '本人の随意', 'はずのもの', '君の事', '君の事', '男の口', '主人の代理', '迷亭の悪口', '陰の喩', '僕のよう', '沙弥のうち', '藤村の羊羹', '瞬時の光景', '無言の問答', '無言の芝居', '以心伝心の幕', '自炊の仲間', '例の金', '当世の才子', '大根の兄弟分', '主人の方', '迷亭の食い気', '皿の方', '的のもの', '羊羹の歯', '頭の男', '崎の当番', '当番の時', '前の不平', '記憶の底', '崎の親友', '沙弥の方', '汁粉の数', 'どこの国', '俺の汁粉', '裏の卵', '迷亭の旧悪', '様の頭', '安眠の妨害', '時の坊主', '坊主の怒り', '元のよう', '懺悔の意', '仏の意', '時の君', '君の風采', '雨上りの水', '溜りの中', '時の君', '君の言', '前の言', '上の原理', '君の言', '将来の参考', 'ものの口', 'だらけの手', '君の写生', '僕の有望', '人の話', '話の中', '寺の境内', '迷亭の答え', '神田の西洋', 'ものの内心', '輪の花', '相の手', '意志の一', '記憶の罪', '意志の罪', '意志の罪', '一流の特色', '時の語気', '人の特色', '孔雀の舌', '今日の珍', '真の珍', '論文の稿', '博士の夢', '寒月の名', '金田の娘', '娘の事', '近来の珍', '金田の娘', '寒月の博士', '自分のよう', 'いの木像', '屋の隅', '白木のまま', '君の合図', '首縊りの力学', '寒月の事', '鼻の恐縮', '不安の様子', 'トリストラム・シャンデーの中', '金田の鼻', '上の参考', '参考のため', '寒月の所', '者の子', '家の末席', '参考のため', 'ものの息女', '天下の秀才', '寒月の令夫人', '家の君', '奨励の策', '学者の智識', '何等の褒美', '研究の際', '多年の疑団', '地の至境', '迷亭の言葉', '上手者の鈴木', '象牙の箸', '皿の縁', '現象の説明', '暗黒の淵', '千載の下', '以来の学者', '彼の希', '臘の哲人', '派の元祖', '彼の説明', 'ところの賞与', '奨励の具', '以上の価値', '以上の珍宝', '智識の威厳', 'オリムパスの山', 'クリーサスの富', '相当の報酬', '智識の匹敵', '個の活動', '紙幣の娘', '最高の府', '倦怠の念', '時代の羽織', '羽織の紐', '団栗のスタビリチー', '身投げの芸', 'がちの発作', '智識の問屋', '一流の喩', '珊の弾丸', '竜頭蛇尾の感', '百獣の中', '迷亭の悪口', '主人のよう', '迷亭の鋭鋒', '要の口論', '時代の遺物', '人生の目的', '自己の思い', '人生の目的', '人生の目的', '夫婦の依頼', '普通の人間', '以外の心理', '明治の紳士', '鼻の主', '時の容子', '贔負の尊公', '僕の方', '敬服の至り', '独歩の評論', '学生の攻撃', '外出の際', '防禦の具', '巴里の大学', 'ゾラの小説', '大学の教師', 'ドルの先生', '大学の教師', 'ドルの教師', 'おもちゃの空気', '仲間の談話', '時代の友達', '日本橋の演芸', '時間の出来事', '猫の企て', '吾輩の主人', '雪の夜', '畳の間', '半の襖', '向の室', '駒下駄の音', '町の下宿', 'ぺんの煮汁', '猫の恋', '趣味の現象', '町内の同族', '共の夢', '的の活力', '在天の神', '万物の習い', '主義の張本', '君の令嬢', '川の富子', '千金の春宵', '満天下の雌', '煩悩の迷', '目下の状態', '供の布団', '布団の裾', '細君の隣', '布団の中', '主人の癖', '横文字の小本', '主人の主人', '主人の病気', '松風の音', '活版の睡眠', '主人の口', '髯の先', '主人の左', '左の手', '手の拇指', '本の間', 'ニッケルの袂', 'ための道具', '呼吸の用', '鼠の糞', '供の方', '姉の権利', '右の手', '妹の耳', '耳の上', '姉の腹', '腹の上', '時の姿勢', '春の灯火', '光景の裏', '室の中', '細君のいびき', '下女の歯軋り', '下女の系統', '台所の雨戸', '例の鼠', '主人の内', '内の鼠', '学校の生徒', '狼藉の練', '主人の夢', '主人の寝室', '主人の鼻', '鼻の頭', '勝手の上', '吾輩の背中', '背中の毛', '太平の空気', '茶の間の方面', '襖の音', '頭の中', '水車の勢', '何等の分別', '布団の裾', '主人の顔', '顔の先', '吾輩の鼻', '肝心の主人', '士の足音', '柳行李の間', '士の足音', '寝室の障子', '障子の前', '両方の眼', '士の御蔭', '障子の桟', '桟の三つ', '孔の向', '士の眼', '部屋の中', '柳行李の後', '行李の影', '寝室の障子', '叙述の順序', '不時の珍客', '古代の神', '耶蘇教の神', '世紀の今日', '全能の面', '俗人の考', '諸君の脳裏', '年来の観察', '神の全智', '顔の道具', '家の伎倆', '一代の画工', '人間の製造', '神の手際', '底の伎倆', '人間の観察', '猫の立場', '同一の事実', '神の無能力', '以上の能力', '人間の数', '多くの顔', '顔面の構造', '神の成功', '成功の紀', '失敗の痕', '人間の眼', '平面の上', '事物の半面', '彼等の社会', '製作の上', '聖母の像', '通りの筆法', '人間の用', '上の言語', '傚の能力', '純粋の模', '神の全能', '何の必要', 'がちの事', '寝室の障子', '敷居の上', '以上の感想', '吾輩の眼前', '士の顔', '神の製作', '無能の結果', '彼の眉目', '多くの知己', '行為の乱暴', '小鼻の左右', '天地の相違', '一の字', '君の写生', '鼻の下', '髯の芽生え', '入れの製作', '上の作用', '金田の令嬢', '君の眼', '同等の熱度', '君の代り', '満身の愛', '調和の実', '千古の良縁', '未来の事件', '事件の発展', '嬢のため', '天地の間', '嬢の生活', '唐桟の半纏', '納戸の博多', '博多の帯', '尻の上', 'むき出しのまま', '畳の上', '障子の影', '例の赤本', '知らずの寝言', '室内の動静', '夫婦の熟睡', '畳の上', '一穂の春', '畳の間', '士の影', '柳行李の辺', '吾輩の頭', '頭の上', '壁の半ば', '士の顔', '顔の影', 'さの三', '二の所', '頭の化け物', '細君の寝顔', '何のため', '君の模写', '細君の枕元', '角の一', '肥前の国', '唐津の住人', '場所の適', '山の芋の箱', '士の予期', '満足の体', '山の芋の箱', '縮緬の兵', '山の芋の箱', '安の股引', '股引の中', '股のあたり', '青大将の臨月', '主人の紬', '紬の上着', '風呂敷のよう', '細君の帯', '主人の羽織', '細君の帯', '主人の頭', '頭の先', '袋の中', '色のホヤ', '士の足音', '暫時の休養', '弥生の空', '寝室の方', '盗難の時刻', 'そこの雨戸', '座敷の真中', '女郎の出来', '縮緬の腹合せ', '腹合せの帯', '縮緬の腹合せ', '腹合せの帯', '糸織の羽織', '河野の叔母さん', '叔母さんの形', '今の糸織', '円の羽織', '泥棒のところ', 'すそのオタンチン・パレオロガス', '俺の着物', 'オタンチン・パレオロガスの意味', '品物の方', '針箱の前', '山の芋の寄贈', '家の書生', '会社の鉱山', '家の芽生', '君の後進', '以前の関係', '先生の草', '細君の前', 'ズボンのまま', '先生のごと', 'たまの日曜', '先日の約束', '君の顔', '唐津の山の芋', '山の芋の好き', '君の方', '私の顔', '君の頭', '頭の後部', 'さんの頭', 'さまのよう', '夕べの泥棒', '泥棒の頭', '妹の質問', 'さんの頭', '禿の事', '先生の書斎', '俺のジャム', 'うちのもの', '本の事', '犬の大', '書生のうち', '卒業の日', '個の法学', '会社の役員', '吾輩の驚愕', '世の行為', '君の御蔭', '合せの護身', '今のうち', '君の鍋', '鍋の中', '隅の方', '君の声', 'さんのよう', '良人の肩', '何の役', '性の笑', '望外の幸福', '銷沈の体', '半袖のシャツ', '胃のため', '手足の方', '詩の句', '細君のため', '心の裏', '主人の返事', '主人の方', '手のつけ', 'あなたの月給', '細君の質問', '会社の方', '線の株', '円の収入', '君のところ', 'ところの書生', '小石川の寺', '九州の炭坑', '朋友のよう', '主人のよう', '主義の人', '金銭の観念', '普通の人間', '家の利益', '先生のところ', '寒月の名', '君の特色', '水島の事', '行き当りばったりの多々良', 'あすこの団子', '辺の逸事', '探偵の必要', '万物の旻', '生息の義務', '何等の能', '五感の刺激', '何等の活動', '壁の隙', '大師の眼', '頭の中', '静坐の工夫', '一室の中', '躄の修行', '中の活力', '粛の態', '天下の凡眼', 'これらの知識', '仮死の庸', '無用の長物', '誹謗の声', 'これらの凡眼', '彼の多々良', '第一流の人物', '古今の書籍', '事物の真相', '雪の詩', '以外の活動', '霊の光輝', '金の事', '不明の結果', '君の膳', '来の猫', '千金の子', '身の危険', '自己の災', '日本の猫', '吾輩の事', '鼠の一疋', '春の日', '台所の腰障子', '腰障子の破れ', '手桶の中', '用のランプ', '八百屋の御用', '赤の銅', '吾輩の鮑', '貝の所在地', 'むき出しの棚', '鉢の中', '桶の尻', '吾輩の方', '木の交叉', '本の自在', '何のため', '猫の手', '人間の意地', '鼠の出口', '台所の真中', '大将のよう', '坂の団子', '山芋の夢', '台所の光景', '四辺の寂寞', '全体の感じ', '中の東郷', '一種の愉快', '愉快の底', '覚悟の前', '鼠賊の逸出', '三つの行路', '壺の影', '漆喰の穴', '釜の蓋', '蓋の上', '眼の下', '戸棚の戸', '戸の右', '右の下隅', '彼等の出入', 'ランプの光', '吾輩の手際', '手の付け', '車屋の黒', '吾輩の威厳', '吾輩の場合', '相当の論拠', '個の計略', '計略のうち', '自身の境遇', '困却の段', '全体の状況', '三の顔', 'ほかの部分', '勝手の戸', '俺のステッキ', '何のため', '水の壮士', '大戦の前', '主人の勝手', '引窓の代理', '竈の影', '揚板の上', '家内の容子', '柱時計の音', '戸棚の中', '小皿の縁', '穴の横', '皿の音', '吾輩の鼻', '穴の口', '穴の出口', '椀の中', '吾輩の鮑', '手桶の間', '流しの下', '歯磨の袋', '椽の下', '台所の真中', '君子の敵', '台所の真中', '軽蔑の極', '以上の径路', '風の吾', '戸棚の口', '吾輩の左', '左の耳', '吾輩の尻尾', '間の出来事', '何の目的', '満身の力', '尻尾の先', '吾輩の口', '屈竟の手懸り', '前歯の間', '揚板の上', '吾輩の鼻', '段の縁', '棚の上', '大幅の帯', '棚の上', '棚の縁', '尻尾の重み', '左の前足', '右の爪', 'ものの重み', '棚の上', '上の怪物', '吾輩の額', '棚の上', '吾輩の爪', '一縷のかかり', '三つの塊', '月の光', '次の段', '鉢の中', 'ジャムの空', '水甕の中', '板の間の上', '死物狂いの吾輩', '吾輩の魂', '相応の炯々', '貝の傍', '疋の怪物', '戸棚の中', '吉利のシドニー', '灰色の斑', '入の毛', '当分の中', 'さの感じ', '行水の一', '衣の上', '洗湯の暖簾', '猫のよう', '皮膚の上', '無能の結果', '直接の利害', '頭の毛', '当人のため', '何のため', '様の道具', '頭の毛', '頭蓋骨の上', '的の区劃', '贋造の芭蕉', '葉のよう', '垣根の写生', '頭の裏', '到来の棒鱈', '棒鱈のよう', '退屈のあまり', '吾輩のよう', '専売の昼寝', '社会の観察', '性の皮膚', '相の手', '主人のうち', '畳の上', '針箱の側', '狼狽の気味', '鼻の頭', '鼻の汗', '肩の上', '首の処置', '首の上', '髷の重み', '髷の恰好', '屋根の上', '玉子のフライ', '屋根の瓦', '八の字', '今年の気候', '気候の逆戻り', 'ハーキュリスの牛', '最前の倒行', 'ハーキュリスの牛', 'いろはの亭主', '時分の事', '臘のお話', '臘の英雄', 'ヴァルカンの子', '屋のせがれ', '牛の尻尾', '牛の足跡', '前の方', '屋のせがれ', '天気の話', '人の詩', '君のよう', '何の事', 'まあの中', '無言のまま', '細工の巻煙草', '向の隅', '迷亭の帽子', '細君の前', 'パナマの横', '釜の頭', '蕎麦のよう', '正一の手品', '左の袖口', '人さし指の先', '釜の底', '尻の下', '頭の恰好', '麦藁の奴', 'あなたのよう', 'パナマの価', '右の袂', '袂の中', '入りの鋏', '細君のため', '心のため', '迷亭の機転', '僥倖の仕合せ', '月形の欠け目', '紙の上', '定規の用', '刃の裏', '指の代用', 'こちらの表', '鋲の頭', '大抵の釘', '付の箱', 'こちらの刃', '刃の先', 'いの字', '蠅の眼', 'さの球', '例の蠅', '蠅の眼', '玉の所', '自分の眼', '障子の方', '裸体の美人', '個の笊蕎麦', '僕の自弁', '自弁の御馳走', '蒸籠の蓋', '人間の間', 'ツユの中', '蕎麦の味', '多くの分量', '初心の者', '口の内', '蕎麦の味', '本の尾', '蒸籠の底', '垂れの上', '相の手', '蕎麦の味', '茶碗の中', '尻尾の先', 'アーキミジスの理論', 'ツユの嵩', '茶碗の中', '迷亭の箸', '蕎麦の四半分', '迷亭の箸', '寸の上', '躇の体', '脱兎の勢', '箸の方', '箸の先', '先の蕎麦', '涙のよう', '迷亭の手際', '座の裏', '先刻のよう', '本気の沙汰', '本気の沙汰', '君の論文', '論文の問題', '蛙の眼球', '眼球の電動', '光線の影響', '蛙の眼球', '蛙の眼球', '眼球のレンズ', 'レンズの構造', '硝子の球', '硝子の球', '的のもの', '側の半径', '全体の形', 'さのもの', '学校の実験', '昼飯のとき', '目下のところ', '作りの博士', '反対の好例', '肝心の実験', '私の珠', '人の談話', '辟易の体', '霊の交換', '相思の情', '情の切', '夢のよう', '奥さんのよう', '君の所', '恋の何', '僕の艶聞', '方の記憶', '失恋の結果', '座の顔', '庭の方', '後学のため', '実のところ', '年の冬', '冬の事', '越後の国', '峠の真中', '僕の顔', '娘の顔', '曲者の魔力', '山の中', '文金の高島田', '畳の真中', '娘の爺さん', '越後の国', '鏡花の小説', '雪の中', '謹聴の態度', '時分の僕', '食いの隊長', '囲炉裏の上', '鍋の蓋', '囲炉裏の傍', '八の字', '鍋の蓋', '例の塊', '鍋の中', '息の穴', '蓋の穴', '隣の穴', '蛇の面', '鍋の中', '蛇の頭', '鍋の中', '蛇の骨抜き', '娘の顔', '旅の労', '細君の方', '裏の窓', '向うの筧', '筧の傍', '僕の初恋', '昨夜の娘', '天井の方', '石の上', '高島田の鬘', '失恋の果敢', '君の失恋', '千秋の恨事', '金縁の眼鏡', '念のため', '鼻の上', '家の話', '細君の批評', '迷亭の駄弁', '思いのほか', '次のよう', '僕の失恋', '生涯の目障り', '静岡の東西', 'そこの下女', '君の座敷', '君の何とか', '山盛りの水', 'さんの返事', '名前のドクトル', '腹の痛み', '事件の諾否', 'ミュッセの脚本', 'うちの人物', '馬の詩人', 'あなたのよう', '夫婦の真相', '昔の夫婦', '例の調子', '奥さんのよう', '喧嘩の一つ', '僕の母', 'おやじの前', '代々の戒名', '間の交際', '供の時分', '君のよう', '意中の人', '霊の交換', '時分の女', '今の女', '等の五', '歳の時', '唐茄子のよう', '君の国', '僕のおやじ', '丁目の角', '屋の前', '一の呉服', '帳場の所', '五の若い衆', '日の間', '屋の話', '世紀の今日', '年頃の女子', '女子の品性', '品性の比較', '源の前', '例の人', '女の子の仕舞', '籠の中', 'おやじの鼻', '鼻の先', '前の奴', 'こいつの方', '年の今日', '僕の考', '文明の御蔭', '女の品行', '頃の女', '学校の行き帰り', '文明の趨勢', '慶賀の意', '世紀の青年', '流の考', '敷島の煙', '先生の顔', '顔の方', '敷島の煙', '仰せの通り', '自信の念', '敬服の至り', '僕の近所', '近所の女学校', '女学校の生徒', '階の窓', '彼等の体操', '臘の婦人', 'Agnodiceの逸話', '典の法律', '女の名前', '目の暁', '隣の家', '男の着物', 'Hierophilusの講義', 'Agnodiceの世話', '塞翁の馬', '御上の御法度', '典の女連', '大概の事', '自分の馬鹿', '格子戸のベル', 'ご存じの越智', '主人の家', '吾輩の無聊', 'ほかの家', '門下の猫', '皮の前', '一騎当千の豪傑', '連の挙止', '千載一遇の光栄', '感謝の至り', '襖の陰', '君の顔', '緞帳役者のよう', '小倉の袴', '袴のゴワゴワ', '健吉の内弟子', '君の身体', '普通の人間', '自分の家', '春の朗読', '僕の創作', '君の創作', '本人の顔', '趣味の劇', '俳劇の二', '舞台の真中', '柳の幹', '本の枝', '右の方', '独り言のよう', '烏の足', '学校のモデル', '画の写生', '稽古のため', '入りの帽子', '透綾の羽織', '飛白の尻', '陸軍の御用達', '案の眼', '柳の影', '柳の枝', '女の行水', '行水の女', '君の説', '亡国の音', '亡国の音', '没交渉の沙汰', '女の行水', '枝の上', '烏の上', '談話の局面', '紫の袱紗', '紙の帳面', '主人の前', '世の人', '無言のまま', '婦人の一', '本来の字義', '世の人', '嬢の鼻', '鼻の下', '鼻の下', '無言のまま', '相思の煙', '前の詩', '今日の詩', '頃の詩', '何等の責任', '共の方', '私の友人', '詩人の特色', '仲間のうち', '私の詩', '私の苦心', '独特の伎倆', '書斎の方', '枚の半紙', '君の御作', '本気の沙汰', '居士の墓碑銘', '得意のもの', '手製の名文', 'やみのよう', '大和魂の演説', '大和魂の芝居', '以上の作', '屋の銀', '次の句', '天狗の類', '金田の令嬢', '令嬢の前', '一種の感', '当分のうち', '恋の詩', '異性の朋友', '感謝の意', '顔の奥', '家の寄合', '談話の火の手', '彼等の変化', '梧桐の緑', '猫の癖', '運動の何者', '天職のよう', '旦那の名誉', '海の中', '山の中', '輓近の病気', '衰弱の一族', '当時の有様', '浮世の風', '猫の一', '人間の十', '等の寿命', '短日月の間', '一疋の発達', '人間の年月', '猫の星霜', '智識の発達', '療養の歴史', '方寸のうち', 'これしきの事', '足の二', '運動の功', '海水浴の利益', '発明のよう', '魚の往生', '鳥の薨去', '人間の寂滅', '波の上', '魚の事', '海水浴の功', 'ブライトンの海水', '相当の時機', '前の日本人', '海水浴の功', '今日の猫', '海の中', '今日のよう', '進化の法則', '輩の機能', '適当の抵抗', '世紀の今日', '貧民のよう', '人の評価', '吾輩の眼', '吾輩の眼', '人間の品', '黒白の変化', '一物の上', '人間の融通', '吾輩の運動', '種類の運動', '二つの源', '鮪の切身', '本の足', '地球の引力', '主人の時', '運動の神聖', 'ただの運動', '刺激の下', '肝心の対象', '上の事', '台所の廂', '根の天辺', '花形の瓦', '瓦の上', '運動の一', '人間の相手', '書物の表紙', '手先の器用', '総身の筋肉', '新式のうち', '夏の半', '秋の始め', '上乗のもの', '匹の蟷螂', '君の傍', '相手の力量', '右の前足', '時の蟷螂', '君の表情', '君の後ろ', '君の羽根', '吉野紙のよう', '色の下着', '大概の場合', '庭の立木', '吾輩の力量', '蟷螂の羽根', '彼の首', '人間の英語', '無用の長物', '地面の上', '運動のため', '孔明の軍略', '地面の上', 'こっちの手', '最後の手段', '夏の末', '秋の初', '地面の上', '地面の上', '蟻の領分', '木の枝', '蝉の研究', '人間の猫', '人間の自ら', '本の足', '他の動物', '本の数学', '本職の猿', '猿の末孫', '何の択', '状態の生理', 'さのあまり', '敵の不意', 'ための方便', '烏賊の墨', 'ベランメーの刺', '論文の価値', '蝉のもっとも', '蝉のもっとも', '運動の妨害', '吾輩のため', '蝉の所在地', '叉の上', '二の機会', '叉の黒', '庭の敷石', '敷石の上', '樹の上', '取りの妙味', '世界の一', '口の内', '口の内', '取りの次', '登りの一', '両者の差', '最明寺の御馳走', '松の幹', 'ままの姿勢', '猫の爪', '鳶口のよう', '地上の者', '自然の傾向', '松樹の巓', '自然の傾向', '違のよう', '松の木の上', '吾輩の爪', '爪の力', '松の木越', '自分の体', '猫のうち', '主人の庭', '垣の上', '隣の屋根', '人の運動', '運動の妨', 'どこの烏', '人の塀', '真先の烏', '主人の庭', '垣根の竹', '分間の猶予', '垣の上', '真先の勘', '吾輩の威光', '地面の上', '何等の障害', '大勢の事', '天狗の啓', '子のよう', '最後の奴', '自己の邸', '吾輩の名前', '烏合の衆', '垣根の幅', '寸の距離', '余の顔', '垣根の下', '元の所', '吾輩の顔', '怒りの記号', '何等の反応', '烏の勘', '銀製の吾輩', '君の銅像', '飯の時刻', 'ぐたぐたの感', '秋の取り付き', '毛の根', '膏のよう', '脊髄の縦', '松の木の皮', '人間の吾輩', '膝の傍', '大抵の場合', '吾輩の毛', '一種の寄生虫', '虫のため', '愛の法則', '自己の利益', '二の方法', '毛の先', '本の毛', '天下の美', '車屋の黒', '灰色の毛', '皮のあたり', '吾輩の顔', '吾輩の毛並', 'うちの主人', '彼の朦朧', '主人のよう', '天下の蒼生', '人間のひま', '際の事', '自己のため', '異類の猫', '竹のよう', '章の五', '次のページ', '紳士の遺書', '世紀の猫', '左の方', '山のよう', '岡のよう', '山のよう', '岡のよう', 'いろいろの悪もの', '人間の声', '石炭の間', '諸君の意', '桶の南側', '尺の間', '鼻の先', '眼の下', '顔の前', 'うちの主人', '親の死目', '窓の中', '台湾の生蕃', '世紀のアダム', '衣装の歴史', '世紀の頃', 'バスの温泉', '学校の事', '像の模写', '学校の職員', '市の淑女', '当時の貴婦人', '方の考', '服装の動物', '猿の子分', '象の鼻', '学校の生徒', '兵隊の勇気', '獣類の人間', '貴女の品位', '種の装飾', '例の獣類', '獣類の人間', '馬の遺風', '時代の淫靡', '淫靡の風', '上の利害', '利害の関係', '服装の動物', '服装の動物', '北方の欧', '婦人の礼服', '猫の事', '婦人の礼服', '彼等の出で立ち', '普通の人間', '足の爪', '彼等の礼服', '一種の頓珍漢', '馬鹿の相談', '人間の歴史', '肉の歴史', '骨の歴史', '血の歴史', '衣服の歴史', '人間の本性', '赤裸のまま', '赤裸の一', '今日の車夫', '車夫の先祖', '蒙昧の世界', '猿股の発明', '車夫の智慧', '天下の大道', '負けん気の化物', '無用の長物', '猿股の勢力', '全盛の時代', '家の末流', '期の後', '羽織の癖', '化物の考案', '昔の武士', '今の官員', '燕の尾', 'たいの勇猛', 'さまざまの新形', '本質の一部分', '元の杢', '阿弥の公平', '狂人の沙汰', '狂人の名称', '人の目', '万の人口', '化物の域', '化物の競争', '人間の一', '棚の上', '本来の狂態', '環視の裡', '君子のため', '一般の湯', '湯の由', '色の上', '化物の記述', '桶の方', '腹の上', '胸のあたり', '左の方', '肺の方', '腰の辺', '時のよう', '自分の年', '十の時', '雲母のよう', '自分の廻り', '一般の化物', 'ところのよう', '竣功の期', '拍子抜けの気味', '自分の損', '屋の大将', '湯の方', '湯の中', '人の中', '槽の中', '左の隅', '厘の湯銭', '思いの吾輩', '窓の棚', '主人の一', '八の字', '背中の方', '列席の化物', 'わたしの国', '瓜のよう', '顔の所有', '湯槽の方', '溝の中', '師弟の関係', '介の代理', '本当の三', '形の桶', '旦那の肩', '右の足', '親指の股', '呉絽の垢擦り', 'こちらの方', '外国のよう', '内の時', '蝦夷の男', '義経のむすこ', '人の兵隊', '六の陰気', '股の所', '年の頃', '近所の書生', '尻の中', '背骨の節', '吾輩の手際', '入口の方', '木綿の着物', 'これらの裸体', '裸体の化物', 'こっちの記述', '立ての四つ', '本意の気味', '供の親', '戸の潜り', '潜りの所', '泥棒の無謀', '爺さんの方', '他の化物', '化物の事', '記憶の中', '板の間の中間', '主人の声', '熱湯の中', '長時間のあいだ', '咄嗟の際', '病気の所為', '何のため', '法外の胴間声', '逆上の結果', '人のうち', '尋常の答', '主人の思い', '逆上の気味', '気味の主人', '主人の怒号', '書生の席', '風の事', '人の桶', '主人の言動', '石炭のたき', '路の真中', '上の不便', '蒲鉾のよう', '主人の頑固', '文明の人間', '化物の団体', '肺の所', '普通の人類', '人類の生息', '板の間の境', '敷居の上', '円転滑脱の世界', '主人の事', '死の遠因', '一種の贅沢', '主人の事', '主人の身の上', '流しの方', '方の観察', '湯槽の方面', '一寸の余地', '初秋の日', '面の湯気', '化物の犇', '吾輩の耳', '頭の中', '何の役', '混乱の極度', '群の中', '彼の身の丈', '他の先生', '髯の中', '群衆の上', '中の大王', '化物の頭', '湯槽の後ろ', '姿の三', '竈の中', '竈の蓋', '介の半面', '介の後ろ', '煉瓦の壁', '赤裸々の中', '赤裸々の豪傑', '他の群小', '湯上がりの顔', '膳の上', '膳の傍', '無言のまま', '箸の上下', '顎の離合', '闔の具合', '猫の頭', '吾輩の頭', '何のため', '先方の目的', '場合のほか', '向うの事', 'こっちの事', '命令のうち', 'こっちの随意', '他人の人格', '主人の蛇蝎', '実のところ', '狡猾の極', '孑孑のよう', '目白の時', '時の鐘', '洗湯の逆上', '主人の自信', '世の中の奴', '近辺のもの', '家の頭脳', '猫の鳴き声', '猫の鳴き声', '例の肴', '軽蔑の調子', '前の関白', '酒の上', '火箸のよう', '一文の価値', '一流の批評', '一流の批評', '精一杯のところ', '塩焼の頭', '主人の庭', '竹垣の事', '竹垣の外', '隣の次郎', '付きの連中', '同志の親密', '垣の外', '間の空地', '野中の一軒家', '無名の猫', '江湖の処士', '檜の枝', '先生の居', '間の空地', '鉤の手', '窟の北面', '騒動の種', '家の二', '窟の主人', '窟内の霊', '桐の木', '学校の小使', '桐の俎', 'この間の枝', '宝の持ち腐れ', '家主の伝兵衛', '桐の方', '彼の悪口', '騒動の種', '一の不都合', '主人の家', '逆茂木の類', '空地の向う', '動物の種類', '君子の性質', '早計のよう', '警察の厄介', '警察の厄介', '私立の中学校', '百の君子', '円の月謝', 'そもそもの間', '館の君子', '主人のうち', '越しの当時', '例の空地', '館の君子', '車屋の黒', '笹の上', 'いろいろの事', '弁当の死骸', '竹の皮', '南側の方面', '沙漠の住民', '桐の木', '檜の方', '座敷の正面', '一両日の後', '彼等の大胆', '教育の結果', '座敷の正面', '三十一文字の類', '君子の才芸', '君子の事', '君子の談話', '三助の専門', '唯一の言語', '同一の現象', '流の言葉', '学校の植物', '亀の子', '子のよう', '君子の袖', '氏の時代', '畠の方', '教育の功', '人の職人', '主人の屋敷', '館の境', '君子の挙動', '挙動の変化', '吾輩のよう', '当家の令嬢', '館の君子', '二つの要素', '小犬の喧嘩', '駱駝の周囲', '何の気', '場合の適例', '虎のよう', '髯の数', '囚人の一', '無聊のあまり', '房の壁', '一種の娯楽', '人の気', '大名のよう', '頭の発達', '活気の使い道', '自己の優勢', '自己の優勢', '目的のとき', '自己の優勢', '必然の結果', '自分の勢力', '事実の上', '頭のうち', 'ただの一', '鰹節の一', '吾輩の考', '奥山の猿', '学校の教師', '学校の教師', '奥山の猿', '承知の通り', '奥山の猿', '館の教師', '館の生徒', '自己の鼻', '教育の功', '十分の休暇', 'これらの条件', '野暮の極', '抜の骨頂', '館の生徒', '目の間', '館の校長', '猫のため', '角の穴', '清国の奇術', '垣の功', '主人の論理', '呑舟の魚', '学校の生徒', '粗末の垣', '線の区域', '目垣の穴', '乱入の虞', '四角の目', '何の事', '北側の空地', '座敷の正面', '東の離れ', '北側の空地', '反対の方角', '鉤の手', '後架の窓', '窓の格子', '格子の中', '方の不利', '敵の声', '声の出所', '垣の内', '桐の木', '木の附近', '主人の眼', '逆上の頂点', '下の事件', '人の伝説', '人の体内', '種の液', '昔のよう', '血液の分量', '合の割合', 'その他の局部', '打の当時', '警察の逆上', '体内の各部', '主人の先君', '息災の徴', '坊主の慣用', '一所不住の沙門', '行脚の衲僧', '難行苦行のため', '石の上', '自然の順序', '何等の能', '違の異名', '彼等の仲間', '逆上の名', '彼等の肩', '種の逆上', '発明の売薬', '売薬のよう', '彼等のため', '蒲鉾の種', '観音の像', '南蛮の材料', '屋の牛鍋', '臨時の気', '臨時の気', '生涯の狂人', '学者の頭脳', '湯の中', '人の説', '酒の湯', '古人の真似', '人の態度', '酔っぱらいのよう', '酒飲みのよう', '本の間', '有名の大家', '大家の所作', '船の上', '文章の趣向', '今日のところ', '不可能の事', '時機の到来', '人文のため', '時機の一', '逆上の説明', '事件の前', '主人の逆上', '主人の逆上', '正銘の逆上', '種のダムダム弾', '十分の休暇', '北側の空地', '館の運動', '弾道のあまり', '旅順の戦争', '相当の功', '恐縮の結果', '敵の計', '頭の営養', '作家の頭', '自然の勢', '日の事', '例の頭', '例の頭', '例の頭', '間違いのもと', 'イスキラスの頭', '頭の上', '羽の鷲', '一疋の亀', '爪の先', '海老の鬼', '亀の子', '子の甲羅', '遥かの下界', 'ものの上', '亀の子', '亀の子', '頭の上', '作家の頭', '頭の方', '無惨の最後', '鷲の了見', '例の頭', '作家の頭', '館の敵', '主人の頭', 'イスキラスのそれ', '歴々の学者', '書物の上', '作家の同類', '主人の頭', '頭の上', '館の生徒', '例のダム', '主人の頭', '煩悶のため', '営養の不足', '週間の砲撃', '日の午後', '蕪の香の物', '雁の味', '山下の雁', '吾輩の前', '思いのほかの主人', '吾輩の横腹', '館の方', '虎の事', '彼の制帽', '足の姿勢', '根拠地の方', '主人の方', '垣の根元', '軍の中', '本校の生徒', '他の邸', '闘の壮観', '主人の壮', '虎の夢', '座敷の障子', '校舎の一室', '倫理の講義', '談判の衝', '夫子の道', '公徳の出所', '隣室のもの', '私の性分', '自分のよう', '人の邪魔', '人の妨害', '智慧の発達', '倫理の教師', 'ダムダム弾の乱射', '当分のうち', '世紀の今日', '他の教室', '教室の課業', '百の同勢', '何の容赦', '事件の発端', '蜂の陣立て', '普通の人', 'ヘクトーの死骸', 'トロイの城壁', '八の蛇', '曹操の軍', '当人の随意', '以外の戦争', '蒙昧の時代', '太平の今日', '帝都の中心', '交番の焼', '人の苦', '百の健児', '戦争の一', '陵の戦', '敵の陣', '蜂の陣立て', '蜂の陣立て', '目垣の外側', '吶喊の声', '場の方面', '形勝の地', '人の将官', '間の間隔', '擂粉木のあと', '人の説', 'ベースボールの練習', 'ベースボールの何', '以上の学校', '運動のうち', '迷惑の遊戯', '一種の運動', '純粋の遊戯', '砲撃の用', '吾輩の眼', '砲火の功', '慈善の名', '遊戯の下', '人の説明', '一般のベースボール', 'ベースボールの事', '特別の場合', '列の中', '中の一', '右の手', '擂粉木の所有', '石の団子', '団子のよう', '砲手の一', '人の手中', '例の擂粉木', '主人の頭', '攻撃の目的', '隊の砲手', '二つの割', '人の邸', '主人の邸', '目垣のうち', '苦心のあまり', '二の城壁', 'ニュートンの運動', '他の力', '均一の速度', '物体の運動', '主人の頭', '主人の頭', '運動の変化', '直線の方向', '何の事', '主人の頭', 'ニュートンの御蔭', '左の方', '笹の葉', '主人の邸', '肝心の目的', '弾の所在地', 'ライプニッツの定義', '現象の秩序', '柳の下', '人の邸', '者の眼', '座敷のうち', '倫理の講義', '敵の一', '主人の敵', '椽側の前', '敵の策略', '昨日の権幕', '館の名誉', '主人の恥辱', '敵の考', '普通の人間', '人間の考', '普通の人間', '勘定のうち', '普通の人間', '普通の人間', '人間の程度', '戦争の人質', '上家の仲間入り', '上級生の命令', '雑兵の役', '非常識の敵', '逆上の天才', '味方の恥辱', '主人の前', 'シャツの腕', '綿ネルの洗いざらし', '白の帆', '胸の真中', '丹波の国', '国家のため', '近火の手', '主人の前', '鼻の穴', '越後獅子の鼻', '時の恰好', '館の生徒', '館の生徒', '人の庭', '学校の徽章', '館の生徒', 'どこの何者', '館の生徒', '館の生徒', '奥の方', '庭前の光景', '使の趣', '事件の発展', 'こっちの肩', '使の主意', '例の倫理', '倫理の先生', '忠臣蔵のよう', '校の生徒', '倫理の先生', '主人の方', '学校の生徒', '倫理の先生', '庭の隅', '羊の群', '勘弁のしよう', '多人数の事', '学校の事', '竜頭蛇尾の挨拶', '倫理の先生', '丹波の笹山', '何のそれ', '強弩の末', '主人の特色', '文の材料', '事件の後', '篇の結び', '吾輩のかく', '出任せのいい加減', '句の裏', '宇宙の一大', '之の文', '薔薇の水', '吾輩の文', '金田の旦那', '鈴木の藤', '君の留守', '金田の邸', 'あちらの方角', '拝顔の栄', '両君の佇立', '両君の談話', '吾輩の罪', '主人の動静', 'らいの程度', '程度の良心', '君の談話', '両君の談話', '談話の方', '吾輩の耳', '耳の中', '都合のとき', '君の旧友', '自分の社会', '上の地位', '家の腕前', '自分の損', '学校の生徒', '家の勢力', '石炭の燃殻', '燃殻のよう', '苦悶の結果', '主人の頭', '滑りの難所', '同様の運命', '家の勢力', '何の作用', '金の功力', '金の威光', '家の御蔭', '窮措大の家', '家の御利益', '霊の主人', '彼の悟り', '主人の事', '金田の事', '昔の事', '銀の丼', '主人の動静', '表の門', '裏の書生', '裏の書生', '人の世の中', '自分の勉強', '毎日の業務', '骨折り損の草臥儲', '訪問の意', '逆上の峠', '主人の逆上', '事件の際', '中学校の隣', '医者の薬', '癪の源', 'かかりつけの甘木', '自分の逆上', '殊勝の志', '奇特の心得', '医者の薬', '温厚の長者', '私の胃病', '自分の胃', '胃の事', '理窟のもの', '座敷の隅', '主人の眼', '眼の上', '主人の眼', '普通の通り', '主人のうち', '主人の家', '嘘のよう', '珍客の事', '事件の余', '山羊のよう', '前後の男', '迷亭の美学', '迷亭のよう', '時の様子', '麩のよう', '華族の門前', '天稟の奇人', '円滑の意味', '泥の中', '普通の人間', '自分のよう', '自分の麺', '自分の勝手', '下手の裁縫', '洋服の方', 'こちらの骨格', '今の世', '君の前', '自分の心', '焼の狸', '者の前', '中学の生徒', '日本人の方', '人のやり方', 'とその向う', '向うの下宿', '次の家', '人の遣り口', '心の落着', '西洋の文明', '日本の文明', '以外の状態', '周囲の境遇', '仮定の下', '親子の関係', '人のよう', '親子の関係', '在来のまま', '関係の下', '君臣の間柄', '町人の区別', '自分の心', '館の生徒', '焼の狸', '心の修業', '消極の極', '風の積極', '君の権力', '金の問題', '無勢の問題', '君のよう', '君の不平', '不平の種', '鈴木の藤', '最後の珍客', '的の修養', '主人の随意', '同盟の今日', '後れの感', 'あばたの衰退', '人口の増殖', '上の統計', '交際の区域', '主人の顔', '何の因果', '世紀の空気', '鼻の頭', '頬の上', 'あばたの体面', '今のうち', '不振の際', '軽蔑の意', '不磨の穴', '穴の集合', '人の尊敬', '供のとき', '牛込の山伏', '法の名医', '養子の代', '老の当時', '主人のあばた', '老のかご', '落日のあばた', '世紀の紀', 'あばたの顔面', '不言の間', '主人のよう', '程度の労力', '主人の痘痕', '冥々の裡', '供の事', '今のよう', '顔の上', '玉のよう', '浅草の観音', '老のかご', '町の勧工場', '上野の公園', '彼の日記', '帰りの友人', '者の意見', '彼の忠告', '静坐の裡', '人間の癖', '猫の忠告', 'うちの主人', '書斎の入口', '室内の動静', '向きの六', '合のもの', '近所の建具', '稀代の品物', '一時の出来心', '種の精神病', '個の観念', '机の上', '机の前', 'メリンスの座布団', '煙草の火', '座布団の上', '足の裏', 'こないだの事', '下手の考', '机の上', '机の上', '何のため', '主人のうち', '主人のよう', '他の事', '炎熱の日', '左の方', '右の端', '精神病の徴候', '方のハイカラ', '彼のあばた', '彼の顔', 'とくの昔', '普通の人', '人のよう', '毛の根本', '細君の御意', '自己の非', 'こっちのあばた', '頭蓋骨の上', '主人の髪', '彼の髪', '何のため', '例の消極', '来の鏡', '部屋のなか', '当家の令嬢', '顔の前', '屋敷のまわり', '主人のよう', '自分の顔', '違の所作', '三の顔', '三の顔', '河豚の提灯', '提灯のよう', '元来の骨格', '時計のよう', '主人の方', '限りの空気', '右の手', '鼻の根', '不審の体', '右の人指しゆび', '指の頭', '机の上', '紙の上', '鼻の膏', '紙の上', '鼻の膏', '主人の事', '自覚の方便', '人間の研究', '自己の異名', '自己の研究', '古来の豪傑', '人のお蔭', '自分の代理', '方便の具', '法のうち', '道のうち', '自己の幽霊', '多くの影', '惚の醸造', '自慢の消毒', '虚栄の念', '事蹟の三', '鏡の所作', '革命の当時', '自我の萎縮', '人間の生涯', '自分の馬鹿', '馬鹿の前', '痘痕の銘', '心の賤', '人さし指の横', '鯛の眼', '北国の冬空', '冬空のよう', '彼の精神', '彼の眼', '眼窩の奥', '胎毒のため', '疱瘡の余波', '柳の虫', '赤蛙の厄介', '母親の丹精', '当時のまま', '疱瘡のため', '彼の眼', '溷濁の悲境', '彼の頭脳', '不明の実質', '濛の極', '形体の上', '彼の眼', '彼の心', '心の象徴', '彼の心', '彼の眼', '持主の迷惑', '熱心の功', '効の度', '髯の前途', '彼のアムビション', '陛下のよう', '向上の念', '念の熾', '上の方', '道楽のよう', '至当の事', '生徒の本性', '僕の手柄', '満腔の熱誠', '書斎の中', '入口の方', '八の字', '字の尾', '御釜の蓋', '露の戦役', '連勝の勢', '国民の歓喜', '宣戦の大詔', '万里の異境', '軍隊の凱旋', '有余の出征', '感謝の微衷', '本会の面目', '希望の至', '一過の後', '封の中', '凶作の義捐', '軍隊の歓迎', '様の勧誘', '活版の手紙', '大抵のもの', '秋冷の候', '隆盛の段', '承知の通り', '家の為', '辛の結果', '出版の義', '上の原理', '一般の家庭', '些少の利潤', '発達の一助', '僅少の利潤', '恐縮の至り', '購求の上', '侍女の方', '賛同の意', '籠の中', '君の九拝', '何の役', '風変りの光彩', '棒の看板', '江の水', '陌上の塵', '什麼の交渉', '親鸞の再来', '日蓮の分身', '干瓢の酢味噌', '干瓢の酢味噌', '天下の士', '汝の頭', '天地の裡', '人間の苦しまぎれ', '糞の凝結', '胡乱の言辞', '栄達の士', '他の吾', '吾の人', '他の吾', '平家の所為', '栄達の士', '金の依頼', '金の依頼', 'どこの雑誌', '頭脳の不透明', '思のほか', '天地の間', '主人のよう', '干瓢の酢味噌', '天下の士', '朝鮮の仁', '主人の愚', '大学の講義', '唯一の理由', '体の名筆', '迷亭のよう', '書斎のうち', '懐手のまま', '主人の役目', '座敷の方', '書斎の方', '空家のよう', '精神の修養', '懐手のまま', '何の気', '尺の床', '個の老人', '唐紙の傍', '挨拶のしようが', '堅気の人', '床の間の方', '床の間の講釈', '上段の間', '間の変化', '見ず知らずの年長', '先方の口上', '襖の影', '主人の尻', '前の方', '静岡の伯父', '参上の上', '棒の状袋', '瓦解の折', '滄桑の変', '明治の代', '明治の御代', '今日の総会', '赤十字の総会', '白髪のチョン', '評判の鉄扇', '膝の横', '修養の結果', '老人の服装', '迷亭の話', '自分のあばた', '研究の材料', '老人のチョン', '以上の価値', '鉄扇の由来', '京都の黒谷', '坊の太刀', '敵の目', '正成の甲', '時代の作', '物理の実験', '磁力の器械', '時代の鉄', '主人の方', '今の世', '世の学問', '形而下の学', '命懸けの商', '心の修業', '心の修業', '師の不動', '敵の身', '身の働', '敵の身', '身の働', '敵の太刀', '敵の太刀', '人の構', '人の構', '敵の身', '身の働', '敵の身', '身の働', '敵の太刀', '精神の修養', '東京の鰻', '他人の姓名', '蟆の事', 'ものの言葉', '君の伯父', '僕の伯父', '座蒲団の上', '胆力の据', '精神の修養', '今の学問', '流の学問', 'そのものの修業', '自説のよう', '君のよう', '君の受売', '先生の名', '髪の際', '主人の一夜作り', '仙の説', '男の説', '通りの恰好', '名前の独', '僕のところ', '例の通り', '的の修養', '僕の方', '君の鼻', '鼠の毒', '舶来の膏薬', '独逸の名医', '膏薬の下', '例の山羊', '流の消極', '寄宿の二', '禅の機鋒', '石火の機', 'ほかのもの', '階の窓', '修業の効', '坊主の寝言', '禅師の電光', '君のよう', '僕の近所', 'この間の白雨', '白雨の時', '庭先の松の木', '仙の御蔭', '仙の御蔭', '円覚寺の前', 'レールの上', '汽車の方', '金剛不壊のからだ', '寺内の蓮池', '道場の坊主', '何の事', '坊主のわる', '僕のうち', '僕の国', '仙の御蔭', '仙の勢力', '天道の権化', '狂の癖', '僕の所', '君の所', '天の道', '地の道', '仙の格言', '食物の事', '君の所', '海鼠の事', '書翰の差出人', 'つきの狂人', '最前の熱心', '無駄骨のよう', '病者の文章', '狂人の作', '心配の合併', '靴の音', '主人の尻', '三の取次', '隔ての中の間', '人のうち', '迷惑のよう', '人のうち', '普通の男', '座布団の上', '奥の方', '懐手のまま', 'ままのそり', 'そりのそり', '枚の名刺', '六の背', 'ずくめの男', 'せんだっての泥棒', '泥棒の方', '泥棒の方', '懐手のまま', '通例のもの', '当世の人間', '主人のおやじ', '場末の名主', '堤の分署', '三平の山の芋', '与太郎のよう', '明瞭の答', '着物の襟', 'ほかの物件', '署の管轄', '内の日本堤', 'ただの商売', 'ただの商売', '前の商売', '刑事の悪口', '人の所', '主人の価値', '当人の人物', '頑固の本人', '僕の学校', '静岡の伯父', 'ただの所', '逡巡の体', '下のよう', '人間のよう', '彼の唱道', 'ところの説', '人の気', '狂の子分', '文章の上', '驚嘆の余', '巣鴨の病院', '迷亭の記述', '天道の主宰', '狂の説', '境の壁', '自分の脳', '脳の作用', '勺の化学', '世間の邪魔', '消極の積極', '逆上の気味', '類似の点', '狂の領分', '反対の結果', 'コートの伯父', '天職のよう', '陽性の気', '金田の妻君', '君の番', '非凡の人間', '狂の異名', '躁狂の点', '豪のもの', '大抵のもの', '同類のよう', '狂の寄り', '細胞のよう', '普通の人', '健全の人間', '孤灯の下', '時の心的', '彼の頭脳', '頭脳の不透明', '常人の差別', '自己の思索', '何等の結論', '彼の結論', '結論の茫漠', '彼の鼻孔', '朝日の煙', '彼の議論', '唯一の特色', '猫の癖', '主人の心中', '人間の膝', '膝の上', '吾輩の柔', '人間の腹', '一道の電気', '彼の腹の中', '腹の中のいきさつ', '吾輩の心眼', '吾輩の頭', '猫の皮', '主人の頭', '頭のなか', '以上の思想', '吾輩の大', '条の径路', '男の癖', 'あかの他人', '他人の傾城', '一般の淑女', '年廻りのせい', '迷の種', '自覚の一助', '書斎の方', '掃除の目的', '運動のため', '遊戯のため', '掃除の役目', '吾輩の関知', 'ここの細君', '細君の掃除', '無意義のもの', '掃除のため', '畳の上', '掃除の源', '微塵の責任', 'ほこりの積', '主人のため', '多年の習慣', '的の連想', '両者の関係', '学の命題', '内容のいかん', '起の方', 'うちのもの', '猫の身分', '訳のもの', '汁の香', '貝の中', '頭の中', '心の願', '最後の失望', '事実の上', '貝の中', '初秋の日影', '立の飯', '鍋の中', '釜の周囲', '米の汁', '自分の望', '朝飯の催促', '居候の身分', '承知の上', 'こっちの手際', '悲壮の音', '天涯の遊子', '断腸の思', '猫の声', '輪のくせ', '野良犬の襲撃', '物置の家', '三の不人情', '時の神頼み', '恋のふみ', 'ベトヴェンのシンフォニー', '美妙の音', '何等の影響', '堅炭の四', '輪の角', '炭の粉', '汁の中', '個の炭', '鍋の尻', '輪の中', '吾輩のシンフォニー', '茶の間の方', '場の横', '上の二', '幼稚園の生徒', '姉の尻', 'バケツの中', '姉の手', 'ちゃんの手', '坊やの足', '膝のあたり', '何の事', '中形の模様', '子供の言葉', '茶の味噌', '味噌の女学校', '店の子', '棚の上', '白粉の瓶', '鼻の頭', '頬の上', 'ばの着物', '子の顔', '不満の体', '主人の寝室', '主人の頭', '半の甲', '夜具の裾', '亀の子', '子のよう', '書斎の掃除', '最前のよう', '襖の入口', '細君の襲撃', '夜具の中', '回の声', '敷居の上', '一間の間隔', '腹のうち', '以上の勢', '夜具のなか', '夜着の袖口', '裏の車屋', '車屋の子供', '車屋のかみさん', '辺の事情', 'んの寿命', '近所のゴロ', '何の苦', '主人の横っ面', '人間の代り', '彼等のうち', '西洋の故事', 'んの泣き声', '布団の上', '両方の手', '寝巻の襟', '勝手次第の方角', '鏡の手前', '陛下の真似', '本来の面目', '主人の一夜作り', '一夜作りの精神', '君の犬', '太古の眼', '向うの戸棚', '枚の袋戸', '下の方', '方の戸棚', '布団の裾', 'すれすれの距離', '車屋のかみさん', '不思議のよう', '陽性の癇癪', '最中の一つ', '女のうち', '主人の性質', '自炊の鍋', '袋戸の腸', '博文の逆', '布令の尻尾', '左の方', '下の方', '次の行', '警視庁の探偵', '人のもの', 'あくびの用意', '吠のよう', '例の通り', '例の通り', '主人の顔', '例の通り', '長火鉢の横', '欅の如輪', '洗髪の姉御', '黒柿の縁', '先生の長火鉢', '自分のもの', 'もののよう', '何の気', '人の金', '人の金', '自分の金', '金のよう', '人民の召使', '代理人のよう', '天下の人', '長火鉢の傍', '主人の三面', '茶の味噌', '味噌の学校', '女子の顔', '子の顔', '鉄の刀', '刀の鍔', '鍔のよう', '姉の面影', '塗の朱', '自分の子', '寺の筍', '自分の子', '人間の定義', '食事のとき', '小形の箸', '姉の茶碗', '姉の箸', '無才の小人', '箸の根元', '茶碗の底', '茶碗の中', '箸の力', '胸のあたり', '茶碗の底', '口の中', '畳の上', '打算の限り', '天下の勢力', '等の他', 'ばの茶碗', '等の口', '僅少のもの', '必然の勢', '自分の箸', '茶碗の上', '畳の上', 'ばの顔', 'ばの顔', '顔の掃除', '思のほか', '自分の口', '口のなか', '妹の顔', '立ての味噌汁', '味噌汁の中', '口の内', '口中の芋', '食卓の上', 'ばの前', '眼の前', '自分の飯', '自分の汁', '娘の教育', '自分の飯', '自分の汁', '今の世', '世の働き', '馬の眼', '未来の紳士', '日本の猫', '学校の恥辱', '国家の恥辱', '日本の人間', '吉原の近辺', '近辺の日本', '平生の通り', '吾輩の材料', '八の女学生', '紫色の袴', '珠のよう', '主人の姪', '学校の生徒', '名のお嬢さん', '針箱の横', '朝のうち', '夜具の中', '夜着の袖', '閻魔のよう', 'こっちの思い', '会社の人', '八の娘', '保険の必要', '会社の男', '人間の命', '自分の自由', '会社の方', '保険の掛金', '叔父さんのよう', 'さんの学校', '学校の先生', '会のとき', '様のよう', '椽側の方', 'さんの話し声', '人の子供', '竹垣の外', '外の空地', '人の姉さん', '姉の間', '前の方', 'ちゃんの話', 'さんの番', '当分の間', '先生の演説', '辻の真中', '町内のもの', '隅の方', '町内のもの', '重箱のなか', '地蔵の前', 'さんの前', '事のよう', '巡査の服', '様の前', '方のため', '今の世', '巡査の服', '大金持ちの服装', '今の世', '男爵のよう', '岩崎のよう', '地蔵の周り', '家の洒落', '洒落のよう', '法螺吹きの分際', '私の手際', '町内のもの', '様の周り', '様の方', '金の事', '馬鹿の癖', '様の前', '様の前', '町内のもの', '婦人の会', '明治の代', '文明の弊', '開化の業', '竹のよう', '夫婦の間', '姑の間', '葛藤の三', '不幸の源', '多くの婦人', '金田の富子', '金田の富子', 'さんの学校', 'かたのよう', 'さんの倍', '方の所', 'あなたのため', '無上の名誉', '心臓の形', '三角の中心', 'キューピッドの矢', '友達のうち', 'さんのとこ', '愛の方', '夫婦の関係', '青春の気', '細君の方', 'あまりの事', '車の音', '例の有名', '長火鉢の傍', '様のもの', '異様の陶器', 'さんの顔', '障子の方', '鉄の門', '教師の身', '日本の警察', '日本の警察', '私の帯', '帯の片側', '帯の片側', '大切の時間', '供の癖', '頃の女学生', '未来の考', '無用の長物', '無用の長物', '保険の必要', 'こないだのよう', '御前の学校', '人のもの', '竹の真似', '何の真似', '愚物の癖', '一掬の涙', '紫の袴', '袴の上', '袴の上', 'さんの顔', '学校の生徒', 'さんの泣顔', '研究のため', '大方の人', '大方の人', '作用のため', 'さんの紅涙', '現象の一つ', '不可測の心', '天下の女性', '主人のよう', '吾輩の毛', '旋毛曲りの奇特', '主人のあと', '舞台の役者', '猫の命', '命のうち', '多くの経験', '今度のお客', '地の隙', '顔の真中', '座敷の隅', '隅の方', '主人のよう', '主人の持説', 'ナポレオンのよう', '通例の書生', '畳の上', '泥棒のよう', '素足の責任', '目の足跡', '足跡の上', '頭のつんつるてん', 'つんつるてんの乱暴', '恭謙の君子', '盛徳の長者', '人の気', '鼻の先', '更紗の座布団', 'ための布団', '主人の顔', 'さんの法事', '法事の時', '時のほか', '足の先', '後ろの襖', '碗の茶', '妙齢の女性', '立ての小笠原', '苦悶の体', '先刻の無念', '一滴の紅涙', '紅涙のあと', '無言のまま', '今の名', '昔の名', '甲の組', 'わたしの監督', '入学の当時', '主人の眼', '自分の監督', '組の生徒', '心の裏', '自分の監督', '何のため', '主人の事', '学校の生徒', '来訪の主意', '人の家', '一身上の用事', '君の様子', '学校の事', '中学の二', 'バスの日本', '様のよう', '君の顔', '主人の方', '朝日の煙', '君の名前', '僕の名', '君の名', '何の事', '何の事', 'あすこの娘', '君の名前', '衛門の方', '僕の名', 'あすこの娘', '君の名', 'あすこのうち', '学校の名', '学校の名', '学校の名', '中学の名誉', '僕のおやじ', '襖の蔭', '生涯の大事', '自分の鼻', '自己の何', '万物の霊', '万物の霊', 'これしきの事実', '万物の霊', 'おれの鼻', '万物の霊', '外部の事件', '合の反響', '人間の心', '別々の音色', '君のおやじ', '近くの生徒', '衣食の途', '人の運命', '主人の朝夕', '見ず知らずの人', '人のため', '自然の傾向', '交際のため', '内部の冷淡', '這裏の消息', '主人のよう', '人間の本来', '本来の性質', '馬琴の小説', '主人の冷淡', '滑稽の領分', '仏陀の福音', '淑女の品性', '私の品性', '僕の顔', '君の心', '心配の権化', 'ナポレオンのそれ', 'さの余り', '分別の出所', '先生のところ', '人の家', '校長の命', '迷亭の叔父さん', '叔父さんの山高帽子', '山高帽子の種類', '監督の家', '一の真理', '真理のため', '本当の人間', '人の心配', '未来の武', '君のため', '人間の居住', '中学の退校', '玄関の障子', '障子の蔭', '棒のよう', '虎の鳴き声', '時代のため', '本人の弁解', '自転車の稽古', '多くの摩擦', '未来の細君', '恋の仇', '虎の鳴き声', '内の老木', '万丈の都会', '山の中', '園のうち', '何の事', '杉の葉', '虎の鳴き声', '君の哀願', '君の探検', '虎の話', '自分の身の上', 'アンチモニーの茶托', '茶托の上', '読売新聞の上', '読売新聞の上', '読売新聞の上', '茶碗の下', '新聞の上', '畳の目', 'こっちの方', '右の端', 'たてのところ', '普通のファンクション', '畳の上', '無言の裡', '訣別の意', '頭の吟', '令嬢のハイカラ', '頭の割', '今の様子', '金田の娘', '近頃の書生', '本の手紙', '金田の令嬢', '人前の西洋', '金田の娘', '娘の顔', '僕のうち', '華厳の滝', '虎の鳴き声', '床の間の前', '白雲の自然', '個中の味', '中の人物', '絃の素琴', '無線の電信', '自然の順序', '発明の定石', '黒白の石', '猫の前足', '草の庵', 'もとの野原', '最初の三', '石の並べ方', '前の先生', '人間の嗜好', '碁石の運命', '人間の性質', '人間の性質', '碁石の運命', '濶の世界', '自分の領分', '揃いの事', '最初のうち', '任意の行動', '盤の上', '竪の目盛り', '君の碁', '坊主の碁', '本因坊の流儀', '僕の間柄', '僕の方', '床の間の前', '座敷の入口', '君の前', '裸のまま', '畳の上', '鰹節の出処', '君の懐', '鰹節の上', '国の名産', '鼻の先', '鰹節の善悪', '船の中', '船の中', '袋のなか', 'ヴァイオリンの胴', '船の中', '寝床の中', '琵琶のだき', '上の事', '明治の秀才', '向うの方', 'こっちの談話', '生霊の機微', '新体詩の力', '釜中の章魚', '相手の独', '君の番', '君のヴァイオリン', '前の古物', '払いの方', '人間の古物', 'ヴァイオリンの古物', '人間の古物', 'さのせりふ', '秋の日', '君のよう', '君のよう', '向のまま', '君の番', '詩歌の趣味', '音楽の方', 'ヴァイオリンの箱', '西洋の音楽', '田舎の田舎', '学校の生徒', '足の皮', '夏蜜柑のよう', '僕の友人', '吐月峰の印', '裏の藪', '剛健の気風', '明治の屈原', '今世紀のウェルテル', '一代の才人', '君の方', '白の穴', '黒の穴', '口の内', '私の国', '国のもの', '県の生徒', '君の国', '国の書生', '紺の無地', '無地の袴', '肝心の話', '難の方', '目の差', '僕の妻', '天下の妻君', '弁護の労', '僕の考', '絶対の域', '二つの道', '二つの道', '夫婦の愛', '君の方', '絶対の境', '未婚の青年', '芸術の霊気', '向上の一路', '人生の意義', '君のヴァイオリン', '向上の一路', '宇宙の真理', '這裡の消息', '底の気魄', '人間の渇仰', '渇仰の極致', '僕のヴァイオリン', '通りの次第', 'ヴァイオリンの稽古', '当り前の事', '女学校の生徒', '小僧の手', '真の芸術', '国のもの', '県のもの', '制裁のため', '退校の処分', '訳のもの', '時の苦しみ', '種類のもの', '十一月の天長節', '天長節の前', '前の晩', '国のもの', '望みのヴァイオリン', '床の中', '夜具の中', '秋の日', '尺の障子', '上の方', '渋柿の皮', '渋柿の甘干し', '辺の柿', '秋の日', '尺の障子', '上の方', '甘干しの柿', 'もとのところ', '夜具の中', '秋の日', '尺の障子', '上の方', '甘干しの柿', '甘干しの柿', '最後の甘干し', '秋の日', '尺の障子', 'あしたの朝', '秋の日', 'あしたの朝', 'あさっての朝', '秋の日', '秋の日', '時の私', 'どころの騒ぎ', '先生の事', '村の下宿', '寒村の百姓', '蝸牛の庵', '迹の稀', '蝸牛の庵', '当夜の服装', '木綿の綿', '入の上', '釦の制服', '外套の頭巾', '人の目', '落葉の時節', '寺の森', '家の菩提所', '庚申山の麓', '私の宿', '例の天の河', '哇の方', '例のヴァイオリン', '秋の灯', '胴の丸み', '琴線の一部', '蝦蟇口の中', '肝心のところ', 'ただの人', '学校の生徒', 'クラスの底', '世の中の事', '床の間の前', '同様の速度', '学校の生徒', '友達のうち', '相当の時間', '千秋の思', '先生の方', '探偵のよう', '喪家の犬', '君の話', '家の伝', '同情の念', '先生の冗談', '県庁の前', '枯柳の数', '病院の横', '窓の灯', '橋の上', '秋の夜長', '学校の生徒', '町の名', '秋の日', '甘干しの渋柿', '約束の十', '善の前', '夜寒の頃', '目貫の両替', '下駄の音', '独り言のよう', '無言のまま', '火鉢の周囲', '私の顔', '右の手', '前の方', '私の顔', '例の店先', '蝦蟇口のなか', '店のもの', '私の顔', '外套の下', '善の角', 'はんの木村', '庚申山の裾', '僕の所', '戸袋のなか', 'ヴァイオリンの隠れ家', '従卒のよう', '安宅の関', 'ヴァイオリンの仲間入り', 'つづらの中', '僕の俳句', '組の頭領', '督の局', '小石川の御寺', '鈴木の藤', 'ビールの徳利', '鈴木の味', '君の事', '君の方', '人の味', 'ビールの徳利', '隅の方', '人形のよう', '機外の機', '碁盤の上', '子の温泉', '人のじじい', '東京の呉服', '屋の隠居', '山の中', '中の一軒屋', '不便の所', '人の前', '勘弁のしよう', '夢の枕', '獅子の洞', '煙草の持ち主', '室のなか', '週間の間', '爺さんの御馳走', '碁盤の上', '君の山羊', '迹のよう', '山上の白雲', '絃の素琴', '露地の白', 'つづらの蓋', 'つづらの底', '例のヴァイオリン', '自分の魂', '長夜の灯影', '時のよう', 'ランプの傍', 'つづらの底', '草の戸', '甘干しの柿', '遺憾の至り', '草履の所在地', '寺の鐘', '頭の中', '秋の夜長', '僕の事', '心の中', '庚申山の南側', '赤松の間', '絶の平地', '鵜の沼', '池のまわり', '山のなか', '池の近辺', '演習のため', '一枚岩の上', '腹の底', '人の心', '霊の気', '御殿のなか', '水晶の御殿', '御殿の中', '自分の腹の中', '水晶の御殿', 'あすの朝', '一枚岩の上', '自他の区別', '沼の奥', '満山の秋', '秋の梢', '今の音', '人の声', '鳥の声', '猿の声', '頭のなか', '歓迎の当時', '狂乱の態度', '総身の毛穴', '毛脛のよう', '肋骨の下', '麓の方', '君の話', '得意のよう', '男子のサンドラ・ベロニ', '君子の邦', 'サンドラ・ベロニの講釈', '思のほか', '風の歌', '森の中', '君の庚申山', '中の嫦娥', '沼の怪', '崇高の大差', '中止の姿', '誰の結婚', '金田の令嬢', '向うの勝手', '両君の写真', 'ぐるの栄', '僕のところ', '宝の持ち腐れ', '満腹の同情', '先生の所', '沢山のうち', '御国の女', '金田の方', '闇の中', '誰の鉢', '家の結婚式', '金田の方', '私の方', '下のよう', '議論のよう', '不用意の際', '人の懐中', '不用意の際', '人の胸中', '人の所有', '人の心', '畳の上', '人の金銭', '人の意志', '強盗の一族', '人の風上', '探偵の千', '強盗の同類', '何の同類', '横丁の長範', '世紀の人間', '探偵のよう', '文明の角', '金米糖のよう', '主人の番', '僕の解釈', '世人の探偵', '個人の自覚', '僕の自覚', '君の方', '悟道の類', '現代の文明', '矛盾の変', '君の事', '議論のあと', '今の人', '人の自覚', '他人の間', '利害の鴻', '鏡の前', '自己の影', '今日の趨勢', '人間の行為', '男女の心持ち', '今代の人', '人の目', '今の人', '一刻の安心', '今の人', '人の心', '文明の咒詛', '君の説明', '今の人', '太平の時', '今の人', '吉利のナイス', '英国の天子', '印度の王族', '天子の前', '自国の我流', '君の質問', '聯隊の士官', '人の下士官', '中の水', '下士官の健康', 'ンガー・ボールの水', '下士官の健康', '事の嫌', '宮廷の礼', '変物の事', '皇の後ろ', '大勢の侍従', '多勢の侍従', 'カーライルの事', '親切の方', '方の自覚', '殺伐の気', '個人の交際', '互の間', '土俵の真中', '当人の腹', '先生の頭', '頭の上', 'ベーコンの言葉', '自然の力', '今の喧嘩', 'ベーコンの格言', '柔術のよう', '敵の力', '電気のよう', '水の力', '君のよう', '敵のぺてん', '金田のよう', '小町のよう', '何の気', '君のよう', '面の鉄', '面の牛', '以後の事', '以前の民', '文明の不平', 'すべての錬金術', '二の問題', '二の問題', '二の問題', '衰弱の国民', '自然のまま', '考究の結果', '向後の趨勢', '脚本のなか', '年の後', 'もののよう', '館のよう', '倫理の代り', '先生の御名', '館の倫理', '倫理の先生', '野蛮の遺風', '世界の青年', '表の窮措大', '苦痛のよう', '諸君の義務', '開明の時節', '飛道具の類', '本人のため', '諸君の名誉', '人民の生命', '一の目的', '殺しのよう', '天下の公民', '今の人間', '時分の国民', '慈悲のため', '自殺の能力', '先生の冗談', '例の通り', '眼前の現象', '泡沫の夢幻', '永久の事実', '大鵬の志', '今昔の問題', 'そこの風習', '日暮れの鐘', '家々の女', '老若の別', '波の上', 'お寺の鐘', '股引の服装', '水の中', '秋の日', '橋の上', '眼前の習慣', '根本の原理', '眼前の習慣', '師の小説', '大家の幅', '名人の道具', '元信の幅', '客の間', '三の問答', '元信の幅', '払込の事', 'タイムスの百科全書', '年の歳月', '年の間', '利口のよう', '大学の貸費', '自分の恥', '一般の恥', '恥のよう', '僕の先刻', '文明の未来', '君のよう', '限りの事', '冗談のよう', '私の方', '今の世', '個人の人格', '人格の上', 'ものの方', '今の世', '人情の変遷', '君の未来', '辺の消息', '記の続き', '今の世', '竹槍の二', '後れの頑物', '烏金の長範', '僕の未来', '全体の運命', '文明の傾向', '将来の趨勢', '不可能の事', '結婚の不可能', '今の世', '中心の世', '以外の人間', 'ふたりの人', '心の中', '人の身の上', '人の間', '色々の方法', '一の方案', '山の中', '軒のうち', '文明の民', '親子の間', '両者の安全', '他人のよう', '息子の個性', 'ものの個性', '個性の発展', '尊敬の念', '最後の方案', '今の人', '人の考', '穴の狸', '夫の思い', '自然の勢', '苦しみの程度', '油のよう', '夫婦の間', '家のなか', '地震のよう', '互の損', '天下の夫婦', '夫婦の資格', '明治の御代', '失恋の結果', '記の続き', '人の哲学', '破天荒の真理', '個性の動物', '人間の意義', '自然の傾向', '個性の発達', '蒙昧の時代', '文明の今日', '開化の高潮', '個の個性', '親密の程度', '教育の青年', '一時の劣情', '人道のため', '文明のため', '男女の個性', '保護のため', '私の考', '両者の御蔭', '人の情操', '両者の御蔭', 'いつの世', '二つのもの', '二つの者', '音楽の形式', '人類の地球', '地球の表面', '個性の発展', '個性の自由', '個性の自由', '者の間', '個性の一致', '君の詩', '君の新体詩', '明治の今日', '人文の発達', '例の一大', '特別の個性', '英国の小説', '僕の間', '個性の自由', '互の間', '男の理想', '理想のよう', '個性の発展', '精進の声', '痛憤の音', '紙の力', '書物の上', 'ニーチェの時代', '書物の上', '西洋の文明', '心の修行', '発展の結果', '王者の民', '句の価値', '語の馬鹿', '説のよう', '参考のため', '頃の本', '世紀の著書', '私の妻', '妻の悪口', '女の悪口', '君の妻', '古来の賢哲', '独身の僕', '君の妻君', 'いずれの時', '樽の中', '臘の哲学', '人間の最大', 'しその敵', '策の得', '家庭の風波', '彼等の術中', '友愛の敵', '必然の害', '自然の誘惑', '愚妻のわる', '帰りの刻限', '茶の間の方', '世紀のナッシ', '君の説', '座敷の唐紙', '君の顔', '立てのフロック', '右の手', '本の麦酒', '鰹節の傍', '前の日曜', '浩然の気', '海の上', '誰彼の容赦', '海の上', '私のよう', '家の令嬢', '新体詩の種', '結婚の時', '披露のとき', '会のとき', '君の作', '落第の候補', 'ヴァイオリンの妙手', '私の御馳走', '銭のシャンパン', '袋のなか', '枚の写真', '畳の上', '妙齢の女子', '博士の姪', '知事の娘', 'いそのビール', '角の酒屋', '東風の五', '君の艶', '私の一生', '度の大礼', 'たるの栄', 'シャンパンの三々九度', '春の宵', '鈴木の藤', 'ただの人間', '御両人の前', '秋の日', '巻煙草の死骸', '火鉢のなか', 'とくの昔', '呑気の連中', 'あとのよう', '寒の襦袢', '襦袢の襟', '洗い晒しの不断', '心の底', '君の足', '地面のほか', '君の世の中', '事の非', '鈴木の藤', '人の世', '見ず知らずの同族', '挨拶のしるし', '匹の肴', '吾輩のよう', '金田のじいさん', '秋の木の葉', '万物の定', '先生の説', '人間の運命', '君のビール', '盆の上', '茶色の水', '硝子の中', '中のもの', '夜寒の月影', '液体の事', '墓場の影', '舌の先', '何の酔', '口癖のよう', '三平のよう', '空前の儲け', '近所の猫', '杯のビール', '盆の上', '自分の動静', '眼のふち', '金田のじいさん', '妻君の鼻', '甕の中', '烏の勘', '烏の代り', '吾輩の足', '水の面', '甕の縁', '甕のふち', '年の間', '自然の力', '水の中', '座敷の上', '不可思議の太平']\n"
          ]
        }
      ]
    },
    {
      "cell_type": "markdown",
      "source": [
        "34"
      ],
      "metadata": {
        "id": "KL_xFfyuTLN5"
      }
    },
    {
      "cell_type": "code",
      "source": [
        "def noun_concatenation(sentence_dic):\n",
        "  noun_con=[]\n",
        "  for word in sentence_dic:\n",
        "    cnt = 0\n",
        "    noun_phrase = ''\n",
        "    for i in range(len(word)):\n",
        "        #名詞の場合\n",
        "        if word[i]['pos'] == '名詞':\n",
        "            cnt += 1\n",
        "            noun_phrase += word[i]['surface']\n",
        "        #名詞以外 cntが２以上でnoun_conにappend\n",
        "        else:\n",
        "            if cnt >= 2:                                 \n",
        "                noun_con.append(noun_phrase)\n",
        "            cnt = 0\n",
        "            noun_phrase = ''           \n",
        "\n",
        "  return noun_con\n",
        "\n",
        "noun_con_list = []\n",
        "noun_con_list = noun_concatenation(sentence_dic)\n",
        "print(noun_con_list)"
      ],
      "metadata": {
        "colab": {
          "base_uri": "https://localhost:8080/"
        },
        "id": "l9Jb0jv1On6D",
        "outputId": "26bba40b-e157-4c82-9d91-6a82a94771a4"
      },
      "execution_count": null,
      "outputs": [
        {
          "output_type": "stream",
          "name": "stdout",
          "text": [
            "['人間中', '一番獰悪', '時妙', '一毛', 'その後猫', '一度', 'ぷうぷうと煙', '邸内', '三毛', '書生以外', '四五遍', 'この間おさん', '三馬', '御台所', 'まま奥', '住家', '終日書斎', '勉強家', '勉強家', '勤勉家', '二三ページ', '主人以外', '限り吾輩', '朝主人', '一番心持', '二人', '一つ床', '一人', '最後大変', '——猫', '神経胃弱性', '物指', '尻ぺたをひどく', '言語同断', '家内総がかり', '筋向', '白君', '度毎', '白君', '先日玉', '四疋', '三日目', '四疋', '白君', '我等猫族', '家族的生活', '三毛君', '所有権', '我々同族間', '目刺', '一番先', '彼等人間', '我等', '吾人', '白君', '三毛君', '間違いだらけ', '後架先生', '宗盛', '宗盛', '月給日', '水彩絵具', '毎日毎日書斎', '人の', '自ら筆', '眼鏡越', '一室内', '以太利', '大家アンドレア・デル・サルト', '露華', '寒鴉', 'これ一幅', '活画', '翌日吾輩', '一分', '辛棒', '今吾輩', '今吾輩', '波斯産', '上不思議', '盲猫', '心中ひそか', 'いくらアンドレア・デル・サルト', '一分', 'あと大', '壊わし', '馬鹿野郎', '馬鹿野郎', '辛棒', '馬鹿野郎呼わり', '平生吾輩', '馬鹿野郎', 'みんな増長', '先どこ', '数倍', '十坪', '腹加減', '穏かな日', '二時頃', '昼飯後', '運動かたがた', '一本一本', '杉垣', '前後不覚', '庭内', '忍び入り', '黒猫', '柔毛', '出ずるよう', '猫中', '杉垣', '二三枚', 'ぐべき力', '険呑', '時吾輩', '言葉付', '誰だい', '乱暴猫', '同盟敬遠主義', '一体車屋', '大分強そう', 'おれなんざ', '茶畠', '箆棒め', 'あらら', 'その後吾輩', '車屋相当', '不徳事件', '日例', '茶畠', '何匹', '近付', '事彼', '手柄話', '欠所', '三四十', '二百', '一人', '何鼠', 'こん畜生', '泥溝', '奴め最後っ屁', '二三遍', '百年目', '考げ', '——一', '五銭', '壱円五十銭', '胡魔化', '鼠以外', '水彩画', '十二月一日', '大分放蕩', '元来放蕩家', '放蕩家', '水彩画', '料理屋', '水彩画家', '水彩画', '通人論', '水彩画', '批評眼', '二日', '十二月四日', '水彩画', '通り下手', '水彩画', '水彩画家', '所謂通人', '水彩画', '翌日例', '金縁眼鏡', '美学者', '結果今日', '美学者', '美学者', 'アンドレア・デル・サルト事件', '情線', '滑稽的美感', '仏国革命史', '日本文学会', '演説会', '傍聴者', '百名', '皆熱心', '文学者', '歴史小説セオファーノ', '歴史小説', '女主人公', '鬼気人', '僕同様', '神経胃弱性', '差支', 'ただ化', '美学者', '時ゃ別', 'けらけら', '美学者', '美学者', '模様画', '君注意', '半分降参', 'その後跛', '眼脂', '一杯', '最後屁', '肴屋', '二三段', '三間半', '南向', '木枯', '毎日学校', '水彩画', '功能', '一枚', '絵端書', '年始状', '険呑', '絵端書', '絵端書', '吾輩猫属', '粗末簡便', '一列一体', '自家固有', '十人十色', '人間界', '鼻付', '張り具合', '立ち按排', '垂れ加減', '粋無粋', '同類相', '面構', '征露', '二年目', '大方熊', '絵端書', '四五疋', '春一日', '不思議そう', '絵端書', '乍恐縮', '伝声', '願上候', '明らさま', '眼付', '一個', '眼付', 'チリン', 'チリン', '肴屋', '梅公', '顔付', '寒月さん', 'さそう', '牡蠣的主人', '黒木綿', '紋付羽織', 'べら者', '五分', '寒月君', '一枚', '君歯', 'なんざ', '例の', '寒月君', '賞め', '近頃大分', '自慢そう', '賞め', '一昨夜', '合奏会', '寒月君', '三挺', '三挺', '二人', '枯木寒巌', '顔付', '七割弱', '諷刺的', '牡蠣的生涯', '吾輩猫', '寒月君', '女連れ', '寒月君', '半分前歯', 'なに二人', '余所余所', '寒月君', '黒木綿', '紋付羽織', '紀念', '二十年来着', '綿入', 'ふだん着', '余所ゆき', '寒月君', '普通一般', '桃川如燕以後', '偸ん', '吾等猫族', '留守中', '四五日前', '二人', '主人夫婦', '毎朝主人', '麺麭', '砂糖壺', '一匙', 'らく両人', '一杯', '一杯', '一杯', '一杯一杯一杯', '山盛', '一匙', '利己主義', '山盛', '甞め', '寒月君', '翌日食卓', '九時頃', '六切', '七切', '一切れ', '廻わし', 'あなた澱粉質', '大変功能', 'せんだってじゅう', '毎日毎日', 'こないだうち', '功能', '辛防', '五六分', '日記帳', '神田辺', 'さそう', '喜多床', '宝丹', '一人芸者', '源ちゃん昨夕', '旅鴉', '源ちゃん', '物外', '一日記', '暗室内', '我等猫属', '行屎送尿', '二三杯', '本色', '二三日朝飯', '功能', '是非香の物', 'すべて胃病', '源因', '一週間', '按腹揉療治', '普通の', '皆川流', '一二度', '安井息軒', '按摩術', '坂本竜馬', '癒ら', '昏睡病', '一度', '是非固形体', '一日牛乳', '横膈膜', '五六分', '横膈膜', '美学者', '功能', 'すべて駄目', '昨夜寒月', '三杯', '毎晩二三杯', '永持', '上日記', '大分研究', '見当違い', '虚栄心', '今朝雑煮', '昨夜寒月君', '肴屋', '三毛', '麺麭', 'ため沢庵', '二切', '小説家', '贅沢屋', '贅沢屋', '小説家', '日自分', '小説中', '目付よう', '巴理', '裁縫屋', 'Z.Marcus', '一人', '小説中', '一日巴理', '牡蠣的主人', '一辺', '奥座敷', '兎さん', '椀底', '一辺', '歯答え', '歯答え', '美学者迷亭先生', '尽未来際方', '際吾輩', '直覚的', '適不適', '極尻尾', '功能', '振り損', '立て損', '事これ', '辛防', '左右交', '一度', '後足二本', '顔中', '一つ所', '台所中あちら', '一生懸命餅', 'あら猫', '馬鹿野郎', '大分見聞', '通り四つ這', '眼付', '寒月君', '情け容赦', '奥座敷', '事気', '師匠さん', '三毛子', '三毛子', '美貌家', '一通り', '険突', '杉垣', '三毛子', 'さ加減', '静粛端正', '関ら', '天鵞毛', '三毛子さん三毛子さん', '三毛子', 'あら先生', '鈴がちゃらちゃらと', 'あら先生', '吾等猫属間', '三毛子', '三毛子', '先生先生', '師匠さん', 'たちゃらちゃら', 'ゃらちゃらちゃらちゃら続け様', '師匠さん', '大変あなた', '吾身', '三毛子', '咽喉仏', '師匠さん', '師匠さん', '御身分', '師匠さん', '三毛子', '全体何', '師匠さん', '師匠さん', '六十二', '六十二', '天璋院様', '先きの', '天璋院様', '天璋院様', '天璋院様', '天璋院様', '祐筆の', '先きの', 'ところ天璋院様', '天璋院様', '先きの', '師匠さん', '三毛', '三毛', '三毛子', '師匠さん', 'あなた大変色', '心配そう', '認むるや否や', '面ら', '人つけ', '黒君', '変元気', 'なんざあ年', '向う面め', '手め', '正月野郎', '正月野郎', 'まま無言', '神さん', '俗了', '一切れ二銭三厘', '泥だらけ', '感投詞', '二切', 'びった事', '黒君', '神さん', '西川さん', '西川さん', '一斤', '一斤', '牛肉注文', 'へん年', '一遍牛肉', '牛肉一斤', '四つ足', '一斤', '驚ろ', '真面目そう', '書生体', '春慶塗り', '巻煙草入れ', '越智東風君', '紹介致候水島寒月', '寒月君', '美学者迷亭君', '是非いっしょ', '西洋料理', '午飯', 'アンドレア・デル・サルト事件', '君何', '誂ら', '君仏蘭西', '英吉利', '天明調', '万葉調', '西洋料理', '——全体', '何迷亭', '客はさ', '好奇的', '感投詞', 'めんぼう', 'おいトチメンボー', '二人前', 'メンチボー', 'メンチボー', '西洋通', '気の毒様', '生憎様', 'メンチボー', '二人前', '二十銭銀貨', '料理番', '大変トチメンボー', '迷亭先生', '日本新聞', '意気込', '前め', '十五番', '生憎様', '気の毒そう', '内材料', '日本派', 'えさよう', '気の毒様', 'アハハハそれ', '自分一人', '二人', '橡面坊', '午飯', '大変空腹', '東風君', '文学美術', '朗読会', '毎月一回会合', '一回', '朗読会', '詩歌文章', '琵琶行', '春風馬堤曲', '心中物', '二人', '戯曲家', '藪睨み', '東風子', '一人', '嬢さん', '一回', '心中物', '東風子', '東風子', '朗読家', '法学士', '口髯', '心配そう', '東風子', '文芸家', '一回', '東風子', '東風子', '四五人下宿', '朗読会', '窓下', '耐ら', '一度', '驚ろいた事', '驚ろ', 'るい事', 'それ限り', '一回', '朗読会', '咽喉仏', '二回', '消極的', '賛助員', '大事そう', '小菊版', '現今知名', '文学博士', '文学士連中', '勢揃', '賛成員', '牡蠣先生', '掛念', '連判状', '顔付', '東風子', '菓子皿', '一口', '雑煮事件', '東風子', '菓子皿', '東風子', '迷亭先生', '申納候', '迷亭先生', '其後別', '艶書', '候間', '休心可', '下候', '年始状', '世間的', '一寸参堂', '消極主義', '限り積極的方針', '此千古未曾有', '毎日毎日目', '推察願上候', '迷亭君', '東風子', '候処', '材料払底', '為め其意', '遺憾千万', '存候', '歌留多会', '審美学協会', '新年宴会', '其明日', '鳥部教授歓迎会', '其又明日', '謡曲会', '俳句会', '短歌会', '新体詩会等', '幕無し', '候為め', '得已賀状', '候段', '下度候', '度心得', '御座候', '寒厨何', '心掛居候', '材料払底', '為め', '兼候', '申候', '通り孔雀一羽', '舌肉', '胃嚢', '是非共二三十羽', '可ら', '存候', '所孔雀', '動物園', '浅草花屋敷等', '鳥屋抔', '苦心此事', '御座候', '此孔雀', '往昔羅馬全盛', '一時非常', '候もの', '豪奢風流', '居候次第', '諒察可', '下候', '十六七世紀', 'レスター伯', '候節', '候様記憶致候', '候饗宴', '儘卓上', '横わり', '料理史', 'さそう', '如く御馳走', '歴史家', '羅馬人', '二度三度', '候由', '二度', '三度', '食饌', '健胃', '消化機能', 'の必要', '入浴致候', '入浴後一種', '浴前', '胃内', '胃内廓清', '吐出致候', '愚考致候', '廿世紀', '今日交通', '軍国多事征露', '二年', '候折柄', '吾人戦勝国', '是非共羅馬人', '此入浴嘔吐', '候事', '自信致候', '切角', '胃病患者', '此際吾人西洋', '古史伝説', '所謂禍', 'の功徳', '平素逸楽', '存候', '此間中', 'モンセン', 'スミス等諸家', '存候', '候事', '嘔吐方', '候次第', '発見次第', '報道可', '承知可', '下候', '申上候トチメンボー', '右発見後', '存候草々不備', '新年匆々', 'ひま人', '四五日', '青軸', '一両度三毛子', '師匠さん', '手水鉢', '三毛', '私共', '一日', '医者様', '三毛', '診察場', '三毛', '天璋院様', '天璋院様', '馬鹿叮嚀', '旧幕時代', '毎朝無作法', '朝風呂場', '一日', '吾等猫', '維新前', '屋敷町', '一人', '野良猫さ', '三毛', '三毛子', '師匠さん', '当分多忙', '年始状', '迷亭君', '今翻訳', '文章だい', '全体どこ', '二読本', '二読本', '二読本', '二読本', '口髯', '先生近頃名文', '催促状', '審美眼', '迷亭先生', '審美眼', '禅坊主', '燈国師', '巨人引力', '巨人引力', 'め念', '三度', '巨人引力', '巨人引力', '巨人引力', '巨人引力', 'それぎりかい', '驚ろ', '降参降参', '一人', '一人', '喋舌', '本もの', '水彩画', '差別黒白平等', '水彩画', '疳違い', '寒月君', '迷亭先生', '越智東風', '越智東風', '是非紹介', 'んだい', '迷亭君', '大変気', '迷亭先生', '金唐皮', '煙草入', '越智東風', '越智こ', '文学熱', '迷亭先生', '戸迷い', '朗読会', 'それそれ', '迷亭先生', '険呑', '朗読会', 'せんだってトチメンボー', '二回', '金色夜叉', '是非出席', '寒月君', '笑い方', '一度', '迷亭君', '永年教師', '胡魔化', '社交上', '迷亭先生', '二十七日', '上是非文芸上', '滑稽物', '夜間外出', '冷水浴', '迷亭先生', '仕合せ者', '働ら', '節季師走', '——僕', '小学校時代', '一番仕舞', '今度限り', 'なおのこと気', '晩飯', '十二三行', '六尺以上', '十行内外', '一日', '富士見町', '土手三番町', '土手下', '無常迅速', '何だい', '断句', '台の', '土手三番町の', '何十本', '二三', '希臘人', '一人', '約束通り', '拠処差支え', 'んだい', '一足違い', '意識下', '幽冥界', '現実界', '因果法', '空也餅', '私の', '空也餅', '忘年会兼合奏会', '十五六人令嬢', '○子さん', '三日前', '通りどこ', '驚ろ', '迷亭先生', '睡眠剤', '否や一種いや', '固形体', '○○子さん', '○子さん', 'すべて曖', '一杯', '一度', '吾妻橋', '一台馳', '札幌ビール', '今時分人', '一足二足', '三度目', '○子', '○子', '間違', 'ハハハハこれ', 'ゼームス教授', '写生文', '○子さん', '迷亭先生', '二三日前年始', 'んだい', '僕の', 'みんな去年', '空也餅', 'いや日', '二十日頃', '三味線もの', '三十三間堂', '三十三間堂', '三十三間堂', '手詰', '眼付', '君代さん', '晩飯', '四時', '四時', '君代さん', '四時', '君不思議', 'なに細君', '風船玉', '一度', '一度', '洒掃薪水', '四五枚', '堵物', '靴脱', '四時前', '甘木医学士', '二時頃', '帰り次第', '杏仁水', '四時前', '顔付', '四時', '四時', \"manyaslip'twixtthecupandthelip\", '耶蘇学校', '君等', '通り風呂場', '甘木君', '三時', '四時', '一時間', 'ぴかついて黒縮緬', '有形無形', '一ぷくふかしているとようやく甘木先生', '注文通り', '甘木先生', '険呑', '三時', '三十分', '薬取り', '四時十五分前', '四時', '十五分', '四時十五分前頃', '四時', '四時', '愚図愚図', '四時', '四時十分頃', '甘木先生', '顔付', '四時', '十五分', '甘木先生', '十五分の差', '語り了', '三人', '言葉数', '慾気', '談笑中', '一歩', '俗骨共', '一つ穴', '言語動作', '文切り形', '三人', '三毛子', '師匠さん', '門松注目飾り', '十日', '一流れ', '四海天下', '一度', '十坪', '師匠さん', '師匠さん', '三毛子', 'まま椽側', '転ろ', '三毛子', '師匠さん', '仏師屋', '三毛', '猫誉信女', 'どれどれ', '三毛子', 'チーン', '猫誉信女', '南無阿弥陀仏南無阿弥陀仏', '師匠さん', 'チーン', '猫誉信女南無阿弥陀仏南無阿弥陀仏', '甘木さん', '甘木さん', '三毛', '三毛子', '甘木先生', '三毛', '三毛', '三毛', '二人', '二匹', '種族もの', '吾等猫属', '三毛', '火消壺', '白君', '三毛子', '月桂寺さん', 'なに猫', '野良野良', 'その後野良', '何百遍', '八万八千八百八十本', 'その後二絃琴', '師匠さん', '師匠さん自身', '月桂寺さん', '無性猫', '放逐論', '普通一般', '左甚五郎', '彼等鈍瞎漢', '三毛子', '名産吉備団子', '二本足', '人間世界', '一人', '三毛子', '人間同等', '評隲', '一般猫児', '吉備団子', '上天気', '原稿用紙', '腹這', '香一', '香一', '香一', '天然居士', '甞め', '天然居士', '言文一致体', '一本', '二本引き三本', '併行線', '八本', '麺麭', '幾缶', '五六円', '一本一本丁寧', '原稿紙', '粘着力', '一本真白', '経済問題', '天然居士', '香一', '天然居士', '原稿紙', '文人画', '一字', '天然居士噫', '意味不明', '気兼', '時どこ', '巨人引力', 'まま主人', '巨人引力', '天然居士', '墓銘', '天然居士', '偶然童子', '変出鱈目', '偶然童子', '偶然童子', '天然居士', '天然居士', 'んだい', '曾呂崎', '空間論', '曾呂崎', '曾呂崎', '天然居士', '所作だい', '天然居士', '天然居士噫', '天然居士相当', '墓銘', '沢庵石', '天然居士', '迷亭先生', '接待掛り', 'イヨー大分', 'あと足', '鼠どころ', '迷惑そう', '退屈様', '甘木さん', '甘木さん', '甘木さん', '甞め', '甞め', '甞め', '驚ろ', '——たま', '二三日前', '趣向ずくめ', 'なに趣向', '転婆', '上腹の中', '辛防', '上の分', '沙弥君', '世帯向き', '何冊', '月々の', 'なあに書物', '書籍費', '羅馬', '好奇心', '何ん', '羅馬', '樽金', '樽金', '樽金', '七代目', '七代目樽金', '七代目樽金', '七代目樽金', '羅馬', '七代目', '一人', '九冊', '九冊', '三冊', '九冊', '六冊', '六冊', '通り一文', '三冊', '三冊', '九冊分', '九冊', '六冊', '六冊', '三冊', '通り一厘', '三冊', '三冊', '力味むのですけれど', '矢鱈', '文学雑誌', '苦沙弥君', 'なあに二三行', '沙弥君', 'それぎりですか', '——出ずる', '賞め', '心元', '賞め', '商買道具', '妙答', 'あなた外套', '火燵櫓', '——私', '沙弥君', '苦沙弥君', '月並月並', '——さよう', 'さそう', '女人一流', '論理法', '二八', '二九', '天気晴朗', '墨堤', '一二年欧州', 'まま納得', '万事あれ', '今君', '留守中', '甞め', 'それ以来', '午後一時', '苦沙弥', 'んだい', 'なあに今日の', '寒月先生自身', '先生何', '理学協会', '苦沙弥', '——なあに君', 'ひま人', '——差支え', '物理学', '乾燥無味', '脱俗超凡', '僕なんざあ', 'まま吾輩', '七分', '注文通り寒月君', '白襟', '二割方', '二人', '寒月君', '寒月君', '徐ろ', 'アングロサクソン民族間', '太人中', '旧約全書', '肉食鳥', '太人', '夜中死骸', 'エジプト人', '波斯人', '寒月君首縊り', '辛防', '波斯人', '退屈そう', '沙弥君', '講釈師', '云い草', '演舌家', '迷亭先生', '寒月君', '迷亭の', '寒月君', '弥次馬', '二十二巻目', '十二人', '希臘語', '四百六十五行', '四百七十三行', '希臘語云々', '希臘語', '沙弥君', '希臘語', '三句', '西洋洗濯屋', '何本', '足台', '提灯玉', '間違', '提灯玉', '——それ', '力学的', '一番地面', '二人', '１α２', '多角形', '平均性理論', '十二', 'T1cos', '1=T2cos', '(1)T2cos', '2=T3cos', '(2)', '寒月君', '力学的研究', '絞首架', 'ガルガ', '二度', '一度', '千七百八十六年', '一度目', '損い', '間違', 'だい苦沙弥', '寒月君', '寒月君', '生理作用', '珍語', '寒月君', 'よう訳', '二三日', '午後二時頃', '迷亭先生', '偶然童子', '越智東風', '高輪事件', '旅順陥落', '通り陰気', '東風子', '失策物語', '全体不埒', 'ハハハハハ不埒', '天然居士', '東風子', '高輪泉岳寺', '一今時泉岳寺', '田舎者', '勝手さ', '寺内', '義士遺物保存会', '驚ろ', '大変東風', '江戸っ子', '天然居士', '展覧場', '独逸人', '夫婦連', '先生例', '通り独逸語', '二口三口', '——あと', '独逸人', '大鷹源吾', '時東風', '大分景気', '独逸人', '先生何', '独逸人', '先生大', 'んだい', '西洋人', '東風子', '西洋人', '西洋人', '折柄格子戸', '女客', '所有主', '四十', '堤防工事', '二分の一', '三坪', '招魂社', '石灯籠', '鍵鼻', 'ひと度', 'かく著', '鼻子鼻子', '鼻子', '座敷中', '鼻子', '三人鼎坐', 'まま無言', '鼻子', '鼻子', '向う横丁', '西洋館', '西洋館', '金田夫人', '大変忙', '眼付', '鼻子', '言葉遣い', '顔付', '大学教授', '実業家', '実業家', 'おらん', '実業家', '金満家', '覚束', '諦らめ', '勢力家', '財産家', '学者社会', '実業界', '尊敬畏服', '鼻子', '金田夫人', '金田さん', 'この間なんざ園遊会', '伯父さん', '誰だい', '牧山男爵', '鼻子', '古渡更紗', '牧山様', '牧山様', '言葉使', '二人', '牧山さま', '鼻子', '水島寒月', '婚儀上', '寒月君', '一斑', '大変都合', '鼻子', '鼻子', '銀煙管', '軍配団扇', '婦人鉄砲', '——寒月さん', '行司気取り', '鼻子', '好奇心', '嬢さん', '一人', '二人', '鼻子', '馬鹿気', '御両人共御存じ', '鼻子', '一度', '暮向島', '阿部さん', '演奏会', '寒月さん', '晩帰り', '——あれ', '金剛石入り', '指環', '不意撃', '一度', '鼻子', '嬢さん', '沙弥君', '鼻子', '寒月君', 'おい苦沙弥君', '驚ろ', '一人', '喋舌', '鼻子', '神さん', '黒猫', '寒月さん', '寒月さん', '神さん', '苛い', '寒月さん', '——全体', '神さん', '一人', '鼻子', '大分いろいろ', '寒月さん', '馬鹿野郎', '御門違い', '鼻子', '言葉使い', '鉄枴仙人', '鼻子', '嬢さん', '迷亭君', '嬢さん', '始め病気', '金田夫人', '直線流', '言葉使い', '寒月さん', '寒月君', '葉堀', '手障り', '沙弥君——奥さん', '苦沙弥', '寒月君', '——そう', '鼻子', '言葉使い', '寒月さん', '理学士', '鼻子', '不愉快そう', '鼻子', '僕等', '——何', '二三日前', '理学協会', '金田夫人', 'せんだって団栗', '寒月君', '鼻子', '学問上', '二枚', '空也餅', '吾縄張内', '空也餅引掛所', '前歯欠成', '鼻子', '三四十枚', '沢山拝見', '二三枚', 'どれどれ僕', '迷亭先生', '一枚', 'どれ拝見', '鼻子', '御山婦美', '鼻子', '一枚', '一人', '天文学者', '天文学者', '天文学者', 'うそつき', '理学士', '文芸倶楽部', 'さそう', '寒月君', '十六', '船乗り波', 'ほかの', '一人', '鼻子', '寒月さん', '得手勝手', '一切寒月', '内御礼', '何だい', '何だい', '奥さん奥さん', '十九世紀', '二十世紀', '神さん', '——それ', '鼻子', '迷亭君', '大分引き', '全体教師', '車屋', '了見さ', '九十四歳', '百歳', '八十', '妙詩', '——甘木さん', '——元来御前', '皺苦茶', '黒木綿', 'つぎだらけ', '迷亭さん', '伯父さん', '伯父さん', '伯父さ', '十九世紀', '主人夫婦', '恐縮しま', '四時間', '四時間以上', '睡眠時間', '四時間', '永年修業', '随処任意', '六十七', 'んだい', 'せんだって妙', '差し合', 'フロックコート', '驚ろ', '老人自身', '二十三日', '祝捷会', '命令中', 'さの', '当日牧山翁', 'フロックコート', '大間違', '山高帽子さ', '候間', '帽子屋', '下度候', '申上候', '不思議そう', '伯父さま', 'なあに漢学者', '時聖堂', '電気灯', '牧山男爵', '心配そう', '顔付', '女の', 'みんな魂胆', '猿智慧', '滑稽趣味', '実業家', '鼻子', '艶美', '寒月君', '神さん', '寒月君', '卒業したて', '理学士', '偶然童子', '敵城', '世間一般', '愚猫', '義侠心', '寒月君', '血気躁狂', '天晴', '経ずし', '吾妻橋事件', 'ごろつき書生', '日雇婆', '頓馬', '国家有用', '——猫', '霜解', '勇猛精進', '脳力', '三年生', '金田邸', '寒月君', '迷亭先生', '上り口', '一度', '時黒雲共隣国', '無駄死', '苦沙弥', '三寸', '技倆', 'それ自身', '吾一箇', '向う横町', '西洋館', '角地面', '吾物顔', '西洋館', 'ただ人', '二階作り', '植込', '苦沙弥先生', '十倍', 'せんだって日本新聞', '大隈伯', '模範勝手', '二坪', '神さん', '水桶', '飯焚', '金田さん', '抱え車夫', '神さん', '金田さん', '——そりゃあ', '今戸焼', '——あれ', '一人前', '苦沙弥先生', '飯焚', 'さっき奥様', '神さん', '三分の一', '沙弥先生', '三人', 'きがごと', '洞裏', '甞め', '言詮', '冷暖', '西洋館', '模範勝手', '神さん', '飯焚', '嬢さま', '鼻子夫人', '旦那様', '明珠', '神祇釈教恋無常', '一家相伝', '金田家', '仁王様', '時吾輩', '普段大事', '尻尾大明神', 'ニャン運長久', '三拝', '三寸裏', '霊物', '事七度び半', '鼻子', '貧乏教師', '津木ピン助', '福地キシャゴ', '金田君', '金田君', '神さん', '先生番茶', 'Savagetea', '教員間', 'ん奴', '牧山男爵', 'んざ', '大変残念そう', '寒月君', '評判記', '鼻子', '令嬢寒月君', '未遂入水', '惜哉障子越し', '喋舌', '——なに', '——何', '——いや', '全体御前', '誰だい', '神さん', '電話口', '——なに', '——お前', '——金田', '——なに', '——毎度', '——何', '——仰せ', '驚ろ', '折柄廊下', '近く足音', '嬢様', '旦那様', '水島寒月さん', '——大嫌い', '戸迷い', '寒月君', '留守中', '嬢様', '——鶯茶', '番附', 'んだい', 'んだい', '事局', '金田君', '電話室', '十二分の成績', '探険中', '実業家', '迷亭先生', '寒月君', '寒月君', '当時秘密', '博士夫人', '寒月君', '天保調', '金田事件', '日露戦争時代', '織田信長', '聟入', 'とき頭', '長州征伐', '寒月君', '理学士水島寒月君', '——」「誰だい', '——」「御存じ', '誰だい', '横合', 'さそう', '向う横丁', '僕等二人', '沙弥君', '母堂様', '寒月君', '通り静か', '所有主', 'おい君', '俳体詩', '鼻祭り', '神酒供え', 'それぎりしか', '寒月君', '穴二つ幽か', '今戸焼', '狸今戸焼', '四五人', '驚ろ', '今戸焼', '何だい', '不思議そう', '寒月君', '美学上', '一斑', 'まま迷亭', '実用上', '二個', '状体', 'かく著明', '通り鼻汁', '是非鼻', '進化論', 'ため他', '——そう自由', '一足飛', '理学士', '寒月君', '通り骨', '賓頭顱', '不思議薫不思議臭', '演者自身', '回護', '寒月君', '素晴', 'ゴールドスミス', '美的価値', '迷亭自身', '愉快そう', '——」「先生', '講釈師', '寒月君', '一言論及', '鼻論', '鼻——鞍馬山', '展覧会', '一等賞', '美的価値', '英姿颯爽', '顔面的条件', '八字', '上げら', '神さん', '傍聴者', '宛転', '一点', '艶味', '通俗的', '佳人淑女', '力学上', '婦人方', '辛防', '寒月君', '黄金律', '力学上', '寒月君', '理学士', '不思議そう', '当り前さ結論', '西洋料理', '両君能', 'ワイスマン諸家', '先天的形体', '心意的状況', '後天性', '寒月君', '金田令嬢', '何時気候', '学理的論証', '猫又殿', '寒月君', '大変熱心', '二声', '寒月君', '先生方', '——」「ハハハハハ艶罪', '三四人', '一人', '一人', '一人', '蔭弁慶', '一人', '金田邸', '二度', '二度', '三度', '好奇心', '心理的特権', '三度以上', '生活上', '金田邸', '恥かし気', '金田邸', '金田邸', '眼鼻', '痙攣的', '狆君', '——何探偵', '——もってのほか', '寒月君', '義侠心', '一度', '金田家', '一遍', '——そん', 'ため大地', '大空大地', '彼等人類', '手伝', '棒杭', '某々所有地', '一坪いくら', '所有権', '我等', '一尺立方', '如是観', '如是法', '東西南北', '肴屋', '我理', '邸内', '金田邸', '自然金田君一家', '留むる', '鼻子夫人', '富子令嬢', '阿倍川餅', '金田君自身', '——金田君', '顔全体', '時分喧嘩', '四十年後', '平かな顔', '金田君', '熊坂長範', '金田君', '実業家', '熊坂長範', '五尺三寸', '邸内', '金田家', '十五畳', '金田夫婦', '一人', '話最中', '鼻子夫人', '池越し', '金田君', '代り鼻', '胡麻塩色', '口髯', '滑かな顔', '客さん', '三人', '一番普通', '極平凡', '庸俗', '面構', '金田君', '言葉使', '平板尨大', '水島さん', 'ずくめの', '客さん', '客さん', '鼻子夫人', '鼻子', '鼻嵐', '十年一日', 'リードル専門', '客さん', 'ほろろ', 'ん訳', '上貧乏', '客さん', '言語同断', '必竟世間', '客さん', '金田君', '鈴木さん', '福地さん', '津木さん', '——三十面', '客さん', '跣足', '髯面', '客さん', '金田君', '三人', '酔興人', '変梃', '男の', '矢鱈', 'あなた真面目', '私ゃ剛腹', '一ダース', '——言い草', '客さん', '金田君', '馬鹿者', '見えようはず', '近来大分聞', '——今度東京勤務', '客さん', '金田君', '客さん', '金田君', '偶然方丈', '金田君', '鼻子そう', '寒月君', '神さん', '鈴木君', '次第さ', '学生時代', '苦沙弥', '君当人', '通り愚', '——水島', '苦沙弥', '先生先生', '苦沙弥', '苦沙弥', '水島さん', '鼻子夫人', '水島さん', '苦沙弥', '苦沙弥', 'せんだって妻', '性行学才等', '一丁', '黒塀', '鼻子', 'さそう', '黒塀', '一軒', '鈴木君', '大丈夫沢山', '白毛布', '腹這', '金田君', '唐物屋', '十二三年以前', '暗黒色', '万遍', '竪横', '一年', '二年', '五年', '十年', '通り腹這', '——なに失礼', '解釈次第', '結婚後一ヵ年', '礼儀作法', '超然的夫婦', '麩海苔', '髪毛', '是非共眼', '——主人', '得顔', '一彼', '家伝来', '灯明皿', '身分不相応', '灯明皿', '灯明皿', '灯明皿', '供心', '何遍', '灯明皿', '一分', '観音様', '観音様', '一皿', '文久二つ', '模範妻君', '結婚後新た', 'んざどうだって', '四十', '甘木さん', '時頭', '承知さ', '——あなた', 'よっぽど人', '返答次第', '滋養分', '鈴木君', '苦沙弥先生', '臥竜窟', '倉皇針箱', '驚ろ', '顔付', 'まま後架', '鈴木藤十郎君', '名刺君', '鈴木君', '花開万国春', '木菴', '京製', '時鈴木君', '間顔色', '鈴木君', '鈴木君', '鈴木君', '早晩自分', '鈴木君', '気の毒そう', '誰だい', '鈴木君', '頸根っこ', 'さそう', '鈴木君', '鈴木君', '一個', '自重心', '三尺', '金田君', '鈴木藤十郎', '二尺四方', '猫大明神', '座席争い', '鈴木君', '鈴木君', '鈴木君', '無言劇', '鈴木藤十郎君', '無期徒刑', '厄運', '鈴木君', '十年近く', 'なにその後時', '十年', '鈴木君', '鈴木君', '英国仕立', '金鎖', '沙弥君', '鈴木君', '金鎖', '十八金', '鈴木君', '大分年', '一人', '二人', '三人', '三人', '先幾人', 'ハハハ教師', '三日', 'さそう', '実業家', '実業家', 'かん猪口', '実業家', '学校時代', '素町人', '実業家', '——そう', '——今', '実業家', '三角術', '——義理', '実業界', '何ん', '三角術', 'せんだって僕', '俳体詩', '何だい俳体詩', '俳体詩', '駄目さ', '君シャーレマン', 'んだい', '君パスカル', 'んだい', '水島——', '寒月寒月', '結婚事件', '今日金田', '沙弥さん', '迷亭君', '一遍僕', '当人同士', '——それ', '御苦労様', '当人同士', '頑固光沢消し', '冷酷不人情', '先日鼻', '実業家', '実業家', '金田某', '鈴木君', '当人同志', '——苦沙弥先生', '当人同志', '確め', '娘自身', '——何', '——何', '鈴木君', '寒月君', '嬢さん', '鈴木君', 'これゃちょっと僕', '——細君', '寒月君', 'ん奴', '一それ', '寒月さん', '鈴木君', '大道易者', '鈴木君', '——いや身分', '——財産', '寒月君', '鈴木君', '代り当人', '——資格', '——博士', '——誤解', 'せんだって細君', '迷亭君', '賞め', '迷亭君', '水島君', '博士論文', 'なあに——金田', '鈴木君', '依頼通り', '鈴木君', '今度寒月', '博士論文', '一番近道', '——なに気', '迷亭君', '今度寒月君', '迷亭君', '迷亭先生例', '苦沙弥', '苦沙弥', '十年', '一遍', '鈴木君', '無言劇', '一生旅烏', '鈴木君', '十年', '迷亭君', '鈴木君', '金鎖', '神経的', '君電気鉄道', '鈴木君', '——これ', '街鉄', '六十株', '八百八十八株半', '大方虫', '十株', '千年', '苦沙弥', '菓子皿', '万事積極的', '真似ら', '曾呂崎', '一度', '歯痕', '曾呂崎', '天然居士', '沢庵石', '曾呂崎', '鈴木君', '一番下手', '曾呂崎', '僕あいつ', '曾呂崎', '鈴木君', '十年前', '苦沙弥', '曾呂崎', '毎晩いっしょ', '慢性胃弱', '苦沙弥', '曾呂崎', '毎晩竹刀', '卵塔婆', 'アハハハそうそう坊主', '仏様', '僕の', '鈴木将軍の', '手暴', '大小三個', '怒り方', '是非元', 'いかん懺悔', '水溜り', '苛い', '言草', '十年前', '言草', '帰泉院殿黄鶴', '居士安永五年辰正月', '美学上', 'ゴシック趣味', '言草', '——吾輩', '天地間', '泥だらけ', '写生帖', '法螺吹', '二人', '美学原論', '西洋料理', '西洋料理', '先生一', '七日', '二十日', '一枚', '一輪', '当人平気', '西洋料理', '契約履行', '鈴木君', '君方', '剛情', '一枚', '迷亭君自身', '時君', '一点', '何人', '一歩', '美学原論', '西洋料理', '迷亭君一流', '鈴木君', '気の毒様', '一大珍報', '珍報', '齎ら', '珍報', '珍報', '正札付一厘', '珍報', '君寒月', '博士論文', '博士論文', '是非通知', '団栗博士', '鈴木君', 'さっき鈴木君', '先日喧嘩', '博士論文', '迷亭先生自賛', '珍報', '珍報', '珍報', '損い', '仏師屋', '一日', '鈴木君', 'ぐる男', '鈴木君', 'その後鼻', '頃トリストラム・シャンデー', '鼻論', '鼻名', '果つる', '不憫千万', '今度ここ', '美学上', '喋舌', '鈴木君', '鈴木君', '顔付', '鼻恋', '鼻恋', '実業家', '一人', '金田某', '秀才水島寒月', '我々朋友たる者', '実業家', '十年前', '鈴木君', '胡麻化そう', '希臘人', '百方奨励', '鈴木君', '三日前', '美学研究', '一度', '漆桶', '歓天喜地', '鈴木君', '顔付', '菓子皿', '吾人', '希臘', '逍遥派', '元祖アリストートル', '曰くさ——おい菓子皿', '——彼等希臘人', '何物', '智識以上', '智識以上', '黄白青銭', '十分理解', '時事問題', '金田某', '何だい紙幣', '眼鼻', '一個', '活動紙幣', '活動紙幣', '活動切手', '寒月君', '学問最高', '一位', '長州征伐時代', '日夜団栗', '吾妻橋', '発作的所為', '問屋たる', '迷亭一流', '寒月君', '活動図書館', '二十八珊', '一たび時機', '——爆発', '——」迷亭', '迷亭一流', '活動切手', '何千万枚', '沙弥君', '菓子皿', '鈴木君', '揚句ここ', '鈴木君', '利口者', '封建時代', '思い通り', '極楽流', '鈴木君', '卒業後', '極楽主義', '極楽主義', '金時計', '極楽主義', '金田夫婦', '極楽主義', '沙弥君', '当該事件', '人間以外', '心理作用', '極楽主義', '極楽主義', '鈴木藤十郎君', '極楽主義', '鈴木藤十郎君', '言葉寡なに上品', '実業家贔負', '沙弥君', '君大', '愚図愚図', '古今独歩', '評論家', '巴里大学', 'ため外出', '君ゃ大学', 'リードル', 'リードル', '空気銃', '鈴木君', '鈴木君', '金田事件', '一息つき', '十年振り', '君等', '我々仲間', '書生時代', '一番遠慮', '迷亭君', '鈴木君', '演芸矯風会', '二十四時間', '二十四時間', '写生文', '二六時中精細', '奇言奇行', '関ら', '鈴木君', '迷亭君', '六畳', '一間半', '南向', '数え年三つ', 'めん子さん', '隣町', '耳底', '半ぺん', '鮑貝', '俳諧趣味', '同族共', '心的変化', '宇宙的', '神ジュピター', '吾輩ども', '風流気', '三毛子', '三角主義', '張本金田君', '令嬢阿倍川', '寒月君', '雌猫雄猫', '迷の', '吾輩目下', '二頁', 'さそう', 'ご苦労千万', '三四冊', 'せんだってじゅう', '毎晩ウェブスター', '竜文堂', '睡眠剤', '口髯', '五六行', '袂時計', '乳呑児', '一尺', '元来口', 'ため鼻', '結果鼻', '一天井', '時危険', '双方共', '九十度', '何時', '紳士淑女', '——夜', '今頃人', '乱暴狼藉', '練修', '今の', '戸締', '外ずし', '迷亭先生', '鈴木君', '泥棒陰士', '陰士', '陰士', '二足', '三足目', '頃揚板', '靴刷毛', '陰士', '時吾輩', '蹲踞まり', '陰士', '——足音', '陰士', 'それぎり音', '主人夫婦', '二三度', '陰士', '諦らめ', '間身', '陰士', '已む', '陰士', '三つ目', '向側', '陰士', '何物', '一分', '陰士', '泥棒陰士', '際諸君', '全智全能', '二十世紀', '全智全能', '全智全能', '智無能', '天地開闢以来吾輩', '虚栄心', '是非共ここ', '人間諸君', '天地万有', '人間自身', '数千年来', '玄妙不思議', '全智全能', '一人', '関ら', '一人', '製造家', '独創的', '想像力', '十二三種以外', '人間社会', '全能的伎倆', '観察点', '人間以上', '彼等顔面', '紀念', '痕迹', '彼等人間', '視線内', '日夜間断', '本人逆', '悟りよう', '模傚', '二枚かけ', '二枚', '模傚主義', '彼等人間', '実用上', '十年二十年', '模傚', '模傚', '彼等人間', '曝ら', '事さ', '泥棒陰士', '陰士', '——平常神', '出来栄', '好男子水島寒月君', '瓜二つ', '一銭銅貨', '毬栗頭', '陰士', '字眉', '二十六七歳', '寒月君', '二個製造', '寒月君自身', '寒月君', 'しった好男子', '活動小切手', '金田富子嬢', '念入れ', '製作物', '陰士', '引力上', '寒月君', '一歩', '寒月君', '眼付', '泥棒君', '寒月君', '琴瑟調和', '寒月君', '陰士', '富子嬢', '泥棒君', '富子嬢', '一大要件', '陰士', '先刻主人', '時寝返り', '陰士', '二本', 'まま微か', '我知らず', '陰士', 'まま室内', '主人夫婦', '春灯', '六畳', '陰士', '二分', '陰士', '三分の二', '八つ頭', '陰士', '寒月君', '四寸角', '一尺五六寸', '大事そう', '住人多々良三平君', '先日帰省', '適不適', '陰士', '陰士', '陰士', '大分目方', '陰士', '兵古帯', '陰士', '二枚', '陰士', '雑物', '帯上げ', '一本', '乳色', '陰士', '主人夫婦', '喋舌', '主人夫婦', 'あなた方', '睡眠中', '何時頃', '主人夫婦', '何時頃', '夕べ何時', '何時', '七時半', '何時頃', '夜なか', '何時頃', '形式的', '主人夫婦', '明治三十八年何月何日戸締り', 'どこそこ', 'どこそこ', '何点', '右告訴及候也', '羽織何点代価いくら', '——いや', '盗難告訴', '細帯', 'ままどっか', '宿場女郎', '出来損', '宿場女郎', '何本', '黒繻子', '黒繻子', '帯一筋——価', '六円', '一円五十銭', '女房なんど', '自分さい', '形身', '十五円', '十五円', '黒足袋', '御前の', '二十七銭', '一箱', 'とろろ汁', '十二円五十銭', '十二円五十銭', '十二円五十銭', '十二円五十銭', '——俺', '盗難告訴', '廃そう', '両人共十分間', '寄贈者多々良三平君', '多々良三平君', '法科大学', '鉱山部', '実業家', '鈴木藤十郎君', '後進生', '三平君', '草廬', '一日', '唐津訛り', '多々良さん', 'ごと勉強', 'そればってん', '三平君', '座敷中', '嬢さん', '半分妻君', '多々良さん', '三平君', '否や催促', '多々良君', '嬢さん喰', '三平君', '東京の', '三平君', '国自慢', '多々良さんせんだって', '誂ら', '夕べ泥棒', 'そげん山の芋', '三平君大', '夕べ泥棒', '——泥棒', '多々良君', '多々良さん', '気の毒そう', 'ハハハハ私', '多々良君', '直径一寸', '一カ月前', '多々良さん', '母さま', '多々良君', '御前さん達', '多々良さん', 'みんなバクテリヤ', 'わたしの', 'バクテリヤ', '奥さん意地張り', 'バクテリヤ', '——奥さん', '勘定違い', '嬢さん', '多々良さん', '——それ', 'ハハハハそう', '不断着', '奥さん犬', '是非一丁', '——猫', '一匹', '多々良さん', '野蛮人', '平生眷顧', '多々良君', '一個', '法学士', '六つ井物産会社', '二世', '猫食い', '多々良君', '表裏二枚合せ', '護身服', '皆事', '多々良君', '最前細君', '一反書斎', '多々良君', '先生泥棒', 'ゅ愚', '劈頭一番', '多々良さん', '一番賢', '一番愚', '——先生', '胃弱性', '多々良君', '綿入', '二枚', '先生教師', 'たちゃとうていあかんですばい', '——一丁今', '実業家', '実業家', '多々良君', '実業家', '先生学校', '何年', '九年目', '九年', '郎君独寂寞', '中学時代', '実業家', '多々良君柄', '一番嫌', 'つけよう', '実業家', '五十円', '三十円', '毎月五円宛会社', '——奥さん小遣銭', '外濠線', '三四個月', '二倍', '三倍', '実業家', '三四百円', '——先生', '鈴木藤十郎', '工学士', '時先生', '苦沙弥君', '苦沙弥君', '近頃東京', 'こないだ東京詰', '——先生', '二百五十円', '平均四五百円', 'リーダー専門', '十年一狐裘', '馬鹿気', '馬鹿気', '超然主義', '多々良君', '実業家', '水島寒月', '大変学問', 'ホホホホ多々良さん', '多々良君真面目', '多々良君', '寒月以上', '多々良君', '博士論文', '多々良さん', '蔭弁慶', '鈴木さん', '袷一枚', '多々良君', '芋坂', '先生あすこ', '奥さん一', '沓脱', '多々良君', '芋坂', '幾皿', 'その間休養', '旻天', '日曜以外', '自弁休養', '多感多恨', '日夜心神', '主人以上', '先刻多々良君', '休養以外', '刺激以外', '形骸以外', '渉らんの', '働ら', '眼口', '脳中', '外見上', '沈静端粛', '知識巨匠', '昏睡仮死', '庸人', '皆形', '多々良三平君', '三平君', '乾屎', '三平君', '猫鍋', '一歩', '陽春白雪', '形体以外', '己霊', '必竟無理', '社会的動物', '社会的動物', '自ら標置', '三平連', '吾輩相当', '結果皮', '三味線屋', '多々良君', '古今来', '堂陲', '徒ら', '吾身', '動物園', '糞豚', '鴻雁', '擒ら', '雛鶏', '庸人', '庸猫', '庸猫', '——吾輩', 'せんだってじゅう', '日本贔負', '混成猫旅団', '露西亜兵', '元気旺盛', '二疋', '人当時有名', '勝手用', '大手柄', 'うちじゅう', '戦闘線', '畳数', '四畳敷', '一畳', '酒屋八百屋', '貧乏勝手', '銅壺', '羽目板の間', '二尺', '鮑貝', '六尺', '膳椀皿小鉢', '摺鉢', '摺鉢', '摺小木', '火消壺', '樽木', '一本', '作戦計画', '一人', '東郷大将', 'さっき湯', '芋坂', '——細君', '大方居眠り', '猫中', '東郷大将', '一大心配', '何疋来', '火消壺', '風呂場', '時上', '半月形', '横合', '三方', '二口', '三口', '本能的', '付けよう', '一番安心', '聟殿', '玉椿千代', '三面攻撃', '三面攻撃', '三個', 'うちいずれ', '自ら明瞭', '吾輩これ', '風呂場', '東郷大将', 'バルチック艦隊', '津軽海峡', '今吾輩', '吾輩自身', '東郷閣下', '東郷閣下', 'ゅうする者', '判然眸底', '戸締', '易水', '幅一尺', '夏冬', '驚ろ', '二三度耳', 'ことこと', 'ごとごと', '一匹', '戸一枚向う', '現在敵', '旅順椀', '舞踏会', '鮑貝', 'ことり', 'そー', '風呂場', 'がい茶碗', '五寸近く', '先天的鼠', '風呂場', '三方面共', '十五六回', '奔走努力', '一度', '東郷大将', '馬鹿気', '張り合', '敵中', '横向', '一塊', '器械的', '護謨管', '釣り段', '五尺', '二三分', '棚板', '爪一本', '吾輩の', '廻わる', '覘い', '投ぐる', '塊まり', '摺鉢', '摺鉢', '空缶', '一塊', '火消壺', '寝ぼけ眼', '身分相応', '鮑貝', '二疋', '英吉利', '斑入', '毛衣', '中質', '春夏秋冬一枚看板', '一度', '毛衣', '綿畠', '生存上直接', '一頭', '鋸様', '七分三分の割合', '人為的', '芭蕉葉', '植木屋', '杉垣根', 'ほか五分刈', '三分刈', '一分刈', 'マイナス一分刈', 'マイナス三分刈', '四本', '二本', '四本', '二本', '二本', '廻わる', '二十通り', '毛衣', '毛衣', '一手専売', '人間社会', '酔興', '暑中休暇後', '張合', '胃弱性', '風呂場', 'ざあざあ水', '一杯', '今日半日', '先生汗', '苦沙弥君', '隣座敷', 'ワンワン', '驚ろ', '扇使い', '風呂場', '三日', '私なんざ', '沙弥君', '迷亭君いつ', 'んざ首', 'ホホホ口', '土用中', 'せんだってじゅう', 'あとびさりをするんですよ', '変ちきりん', '希臘', '牛肉屋', '一軒', '希臘', 'お話しな', '希臘', '希臘', '希臘', '——」「あらいや', '鍛冶屋', '鍛冶屋', '鍛冶屋', '迷亭先生', '支那人', '苦沙弥君', '一あなた', '迷亭先生', '——それ', '誂ら', '一つここ', '驚ろ', '欠伸交', '鳳眠', '坐りたまえ', 'まま座', '寄木細工', '巻煙草入', '一本', '君帽子', '大変目', '横ッ腹', '突ッ', '帰天斎正一', '君大丈夫', '事心配そう', '壊わし', 'まま細君', '沙弥君', '価段', '迷亭君', 'ケース入り', '十四通り', 'パナマ責め', '好奇心', '厄運', '十四通り', '迷亭君', '三日月形', 'ぷつりと口', '度盛', '物指', '螺旋鋲', '釘付', 'んざあ苦', '損い', '眼玉', '覚束', '眼玉', '眼玉', '時急', '美くし', '客さま', '二個', '奥さんこれ', 'なあに大丈夫', '辛らい', '心配そう', 'むざと突き', '二寸', '奥さん蕎麦', '一尺', '迷亭先生', '十二三本', '簀垂れ', 'さ加減', '三分一', '八分目', '一杯', '五寸', 'ゅうと音', '咽喉笛', '一二度上下', '迷亭君', '一二滴眼尻', '二三度', '奥さん笊', '大抵三口半', '四口', '寒月君', '冬帽', '埃だらけ', '迷亭君', '衆人環座', '平げ', '食方', '蒸籠二つ', '寒月君博士論文', '金田令嬢', '早々呈出', '寒月君', '薄気味', '寒月流', '比較的', '電動作用', '紫外光線', '寒月先生', '沙弥君', '論文脱稿前', '金田家', '寒月君', '一蛙', 'ガラス屋', '寒月先生', '幾何学的', '理想的', '現実世界', '実験上', '寒月君', 'こっち側', '大変今度', '向側', 'ガラス玉', '大小六個', 'んだい', '実験室', '毎日日曜', '珠作り', '先日僕', '梅君', '卒業後図書館', '先生妙', 'なに本', '梅君', '迷亭君例', '毎日毎日珠', '十年', '寒月君', '十年', '十年', '廿年', '一日', '安心さ', '寒月君', '二三日前', '三人', '金田さん', '家族中', '不審そう', '寒月君', '迷亭君', '横合', '先月大磯', '三日前東京', '神秘的', '沙弥君', '生涯恋', '何物たる', 'さそう', 'みんな七十五日以上経過', '君方', '一順列座', '寒月君', '懐旧談', '僕の', '大分神秘的', '小泉八雲先生', '張合', '事——', '——何年前', '——面倒', '十五六年前', '大変物覚え', '寒月君', '蒲原郡筍谷', '蛸壺峠', '会津領', 'これこれ', '裸蝋燭', '八畳', '四人', '客さま', '蛇飯', 'なんぼ越後', '寒月君', '悪もの食い', '蛇飯', '爺さん囲炉裏', '大小十個', '源因', '一分', '驚ろ', '鍋中蛇', '面だらけ', 'んだい', '寒月君', '事骨抜', '矢鱈', '蛇飯', '一遍', '薬缶頭', '驚ろ', '島田さ', '丸薬缶', '寒月君', '寒月君', '迷亭君', '寒月君', '丸薬缶', '蛇飯', '蛇飯', '全体どこ', '神秘的', 'んだい', '神秘さ', '迷亭君', '最後生涯', '険呑', '寒月君', '異見めいた事', '寒月君', '顔付', '梅君', 'んだい', '昔静岡', '東西館', '——それ', '夏さん', '梅君', '夏さん', '何とか峠', '夏さん', '水瓜', '夏さん', '水瓜', '夏さん', 'なんぼ静岡', '水瓜', '水瓜', '梅君', '水瓜', '夏さん', '夏さん', '夏さん', 'なんぼ静岡', '千字文', '十五分前', '夏さん', '結婚事件', '夏さん', '水瓜', 'きり顔', '梅君', '僕同様失恋', 'せんだってミュッセ', '羅馬', '——羽', '力味', '弁難攻撃', '賞め', '布衍', '口返答', '一人', '一つ二つ', '二十年', '先祖代々', '男女間', '寒月君', '朦朧体', '気の毒様', '寒月君', '気の毒さ', '奥さん近頃', 'なに昔', '沙弥君', '僕等', '五六歳', '寒月君', '本当ら', '時僕', '油町', '通町', '僕等', '二丁目', '伊勢源', '呉服屋', '伊勢源', '十間', '五つ戸前', '呉服屋', '三日前', '甚兵衛君', '初さん', '二十四五', '初さん', '雲照律師', '三七二十一日', '間蕎麦湯', '初さん', '昨日火事', 'どんと併', '呉服屋', '伊勢源', '奇譚', '二十世紀', '——それ', '伊勢源', '旦那女の子', '仕舞物', '一人後ろ', '一人両方', '二歳', 'これぎりかいと', '散々価', '末おやじ', '間違', '価段', '供心', '明治三十八年', '険呑', '泰西文明', '寒月君', '寒月君', '咳払', '合奏会', '托販売', '独立心', '一人', '五十', '六十', '寒月君', '二十世紀', '当世流', '迷亭先生', '通り方今', '自尊自信', '二階', '古代希臘', '希臘', '希臘', '美学者', '希臘', '物知り顔', '寒月君', '当時亜典', '女さ', '三日三晩手', '三日目', '暁方', '豁然大悟', 'みんなAgnodice', '人間万事塞翁', '亜典', '一同連署', '無罪放免', '産婆営業勝手', '細君相形', '客様', '越智東風君', '東風君', '生涯人間中', '先生方', '一人', '苦沙弥先生門下', '猫児', '朝夕虎皮', '事迷亭', '豪傑連', '挙止動作', '毛袋', '東風君', '鹿爪', '榊原健吉', '東風君', '出掛', '通りたまえ', '迷亭先生', '朗読会ぎりだったね', '朗読会', '盛かね', 'その後御宮', '君気', '七八両月', '東風君僕', '寒月君', '寒月君', '三人', '東風君', '寒月先生', 'なに喜劇', 'ものだい', '俳句趣味', '二字', '東風君', '俳句趣味', '毒悪', '一幕物', '一本', '一本', '一羽', '何わけ', '行水盥', '一誰', 'んだい', '何これ', '美術学校', '裸体画', '写生なんざ出', '先生方', '寒月君', '東風君', '俳人高浜虚子', '灯心入り', '薩摩飛白', '句案', '句案', '一羽', '虚子先生大', '五十秒', '一句朗吟', '東風君', '顔付', '上田敏君', '消極的', '敏君', '上田君', '一劇', '消極的', '寒月君', '実験室', '二百', '寒月君', '消極的', '積極的', '虚子先生', '積極的', '理学士', '心理的', '必竟自分', '虚子自身', '癇違い', '癇違い', '文学的', '積極的', '積極主義', '東風君', '東風さん', '東風君', '近日詩集', '——稿本', '袱紗包', '五六十枚', '原稿紙', '一頁', '富子嬢', '二行', '神秘的', '一頁', '横合', '何だい新体詩', '東風君', '富子嬢', '賞め', '不思議そう', '東風さん', '前迷亭先生', '朗読会', '一人', '苦沙弥君', '二十世紀', '東風君', '全体何', '富子嬢', '三字', '大変感じ', '東風君', '一頁', '一章', '香裏', '東風君', '十年前', '詩界', '詩界', '分りよう', '訓義', '私共', '送籍君', '東風君', '痕迹', '十七味調唐辛子調', '東風君独特', '一枚', '東風君', '天然居士', '二三遍拝聴', '東風さん', '是非伺', '寒月君', '六十余字', '苦沙弥先生', '肺病やみ', '寒月君', '新聞屋', '天然居士以上', '迷亭先生', '東郷大将', '肴屋', '銀さん', '詐偽師', '先生そこ', '五六間', '東風君', 'それ天狗', '一結杳然', '三人', 'それぎりですか', '一巻', '先刻細君', 'ちょきちょき', '寒月君', '東風君', '春朗読会', '寒月君', '駄弁家', '大分下火', '斑ら', '一雨', '何者たる', '無事是貴人', '当分霞', '神経衰弱', '一歳', '風中', '一年', '十年', '吾等', '二倍', '三倍', '猫一疋', '一歳何ヵ月', '三女', '転地療養', '驚ろ', '二本', '野呂間', '野呂間', '功能', '一海水', '何疋', 'みんな健全', '印度洋', '一匹', '——呼吸', '——潮', '古往今来一匹', '功能', '一七五〇年', '四百四病即席全快', 'みんな鎌倉あたり', '維新前', '功能', '帰宅せん間', '吾等猫輩', '狂瀾怒濤', '抵抗力', '——換言', '——容易', '二十世紀', '今日運動', '吾人', '眼玉', '眼玉', '品隲', '寸方', '股倉', '千古万古セクスピヤ', '股倉', '文界', '源因', '四本', '力学的', 'す者', '鰹節競争', '対象物', '懸賞的興奮剤', '家根', '家根', '梅花形', '四本足', '事——これ', '——これ', '三度', '事——これ', '——これ', '旧式運動', '蟷螂狩り', '——蟷螂狩り', '鼠狩り', '一匹', '一匹', '二匹', '蟷螂君', '身構', 'ぐにゃり横', '蟷螂君', '平生大事', '御苦労千万', '時君', '一本', '野蛮的蟷螂', '覘いす', '二三尺', '二三度飛鳥', '蟷螂君', '五六寸', '手向い', '一大活躍', '装飾用', '独逸語', '一大活躍', '功能', 'よう訳', '時蟷螂君', 'まま仆', '七擒七縦孔明', '三十分', '滋養分', '蟷螂狩り', '蝉取り', '油野郎', '八つ口', 'しょ風邪', '頃熾', '蝉取り運動', '解釈次第', '研究上', '蝉取り運動上', '四本', '二本', '四本', '数学的智識', '木登り', '大分吾輩', '蝉取り運動上', '蟷螂君', '一たび', '木登り', '択むところなしと', '心理的状態', '生理的器械', '刺物', '羅甸語', '蝉学上忽', 'ざる問題', '博士論文', 'もっとも集', '——集注', '集注', '——蝉', 'もっとも集', '漢名', '皆団扇', '蝉取り運動', 'ただ声', '注文通り二叉', '一休息', '葉裏', '一羽', '二叉', '樹寂', '蝉気', '黒甜郷裡', '二叉', '黒甜郷裡', '手答', '蝉取り', '蝉世界', '一偉観', '美術的演芸', '蝉取り', '松滑り', '松滑り', '木登り', '一種', '蝉取り', '松滑り', '以来今日', '——換言', '二法', '一はさかさ', '君等', 'みんな後ろ', '今吾輩', '元来地上', '許さん', '義経流', '体量', '通り鵯越', '松滑り', '垣巡り', '八九間', '双方共四間', '今吾輩', '垣巡り', '三羽', '次の', '三羽目', '三分間', '勘左衛門', '勘左衛門', '勘左衛門', '右向', '左向', '勘左衛門', '三羽', '一そう', '大分労', '芸当兼運動', '障害物', '三個', '自ら運動', '口嘴', '万一落ち', '左向', '次の', '鄭寧', '阿呆阿呆', '二声', '一自己', '邸内', '烏輩', '三羽', '五六寸', '事先鋒', '五六寸', '勘左衛門', '羽搏', '一二尺', '外ずし', '三羽共元', '象徴詩', '勘公', '実業家', '主人苦沙弥先生', '西郷隆盛君', '勘公', '晩飯', '運動中', '毛ごろ', '矢鱈', '摩擦術', '二者', '——猫なで声', '近来吾輩', '毛中', '二千疋', '人間世界', '一条', '——自己', '——人間', '松皮摩擦法', '利害相', '一たび', 'バルチック艦隊', '五本', '十本', '十本', '三十本', '茶人的猫', '美猫', '毛衣', '頓痴奇', '二方法共実行', '一工夫', '結果病気', '三四十分', '一歳何', 'ひま潰し', '功験', '洪量', '気の毒様', '嫉妬半分', '紳士養成方', '二巻', '一章', '五ページ', '自身徳', '二十世紀', '八寸', '松薪', '悪もの食い', 'がんがらがんの', '向側', '松薪', '硝子窓', '本意千万', '桶諸君', '四五尺', '間板', '一メートル', '一週三度', '洗湯界', '三十分', '四十分', '是非見物', '硝子窓', '二十世紀', 'トイフェルスドレック君', '——人間', '十八世紀', '英国バス', '温泉場', '浴場内', '男女共肩', '事六十年前これ', '図案学校', '図案学校', '裸体画', '裸体像', '開校式', '当局者', '初め学校', '開校式', '貴婦人方', '模写模型', '妾等', '職員共', '東西両国', '一種', '装飾品', '米舂', '志願兵', '開校式', 'ざる化装道具', '呉服屋', '黒布', '三十五反八分七', '裸体画裸体画', '一日', '希臘', '羅馬', '文芸復興時代', '希臘人', '羅馬人', '風教上', '英吉利', '一たび服装', '裸体動物', '欧洲人こと', '欧洲人', '裸体画', '裸体像', '西洋婦人', '西洋婦人', '十四世紀頃', '術師流', '風態', '得々たる', '爪一本', '頓珍漢的作用', '日中', '裸体信者', '西洋人', '西洋人', '西洋人', '馬鹿気', '以下略', '人間自身', '一人', '十年間', '十年', '十何年', '十年', '我物顔', '横行濶歩', '六年間工夫', '羽織全盛', '生薬屋', '呉服屋', '発明家', '猿股期', '羽織期', '袴期', '武士今', '種属', '化物共', '勝ちたい', '勇猛心', '一大発見', 'これ等', '杢阿弥', '公平時代', '開明人', '世界何億万', '今吾輩', '一団体', '衆目環視', '先刻一', '三尺', '一間半', '膏ぎって', '一週間', '一度', '普通一般', '天水桶', '大分骨', '天水桶', '二人', 'ざぶざぶ腹', '双方共色', '大分逞', '一人', '金さん', '金さん', '胃さ', '左肺', '金さん', '二十五六', '鉄気', '五分刈', '双方共頭', '駄目さ', '百二十', '百二十', '百三十', '百三十', '普通一般', '模様画', '岩見重太郎', '重太郎先生', '箆棒', '温るい', '一人', '重太郎先生', 'やあ親方', '民さん', '民さん', 'んざあ腰', 'ぱし腕', '——つまり自分', '白銀町', '煉瓦屋', 'えな者', '民さん', 'んざあ', '民さん', '天水桶', '一人', '一週間', '苦沙弥先生', '誰か路', '二銭五厘', '一軒', 'なあにこれ', '凸凹頭', '黄瓜', '所有者', '丈夫そう', '三日目', '四日目', '今日等', '物知り顔', '奇体', '驚ろ', '関係上三介', '三介', '小判形', 'ざあと旦那', '談議', '和唐内', '和唐内', '清和源氏', '大変学', '三代将軍', '三千人', '三代様', '——何', '——それ', '二年', '和唐内', '二十五六', '十七八', '喋舌', '十六', '四個', '十六', '一斑', '浅黄木綿', '七十', 'どなた様', '毎日相', '——番頭さん', '湯加減', '番頭さん', '和唐内', '愛嬌もの', '商買', '驚ろ', '上り立て', '源さん', '近江屋', '行ん', '巡りさん', '一人', '捉ら', 'あなた方', 'ただ一人', '苦沙弥先生', '驚ろ', 'あいだ我慢', 'ため逆上', '咎むる事', '充分本心', '生意気書生', '万人', '一人', '高山彦九郎', '当人自身', '思い通り', '席そのもの', '馬鹿野郎', '時心中', '学校教員', 'たき殻', 'むかしハンニバル', 'アルプス山', '通行上', '不便邪魔', '功能', '何百人', '何十年', '規常道', '和唐内', '清和源氏', '民さん', '一たび流し', '歓言愉色', '一飯君恩', '胸一杯', '柘榴口', '一面', '籠め', '一種名状', '浴場内', '一歩', '一大長漢', '先生方', '三寸', '浴場全体', '男一人', '魔中', '頭梁', '三介', '一塊', '三介', '三介', 'テラテラ', '今頃どこ', '二三品', '昨日あたり', '台場近辺', '残喘', '顔付', 'まま箸', '離合開闔', '二度', '顔付', '一度', '二度', '三度', '事それ自身', '失敬千万', '金田君', 'ところ主人', '注文通り', '感投詞', '近所合壁有名', '神経病', '神経病', '神経病', 'ため必要', '朝食前', '神経病', '感投詞', '馬鹿気', '国語家', '比較研究', '芋の', '——御前世界', '関白太政大臣', '——御酒', 'Archaiomelesidonophrunicherata', '希臘語', '六寸三分', '二杯', '四杯', '二杯', '一杯', '大町桂月', '現今一流', '批評家', '批評家', '飯茶椀', '三ぜん', '夜豚肉三片', '垣巡り', '南隣', '次郎ちゃんとこ', '苦沙弥先生', '次郎ちゃん', 'ちゃん付き', '垣一重', '五六間', '五六本併', '往む先生', '群鶴館', '群鶴館', '臥竜窟', '幅五六間', '十間', '臥竜窟', '二側', '臥竜窟', '霊猫', '七八本行列', '周囲一尺', '下駄屋', 'せんだって学校', '一本', '俎下駄', '主人家族', '下駄屋', '屋賃', '珍譚', 'これぎり', '通行御免天下', '源因', '源因', '種類如何', '大抵君子', '間違', '落雲館', '中学校——八百', '毎月二円', '落雲館', '間違', '群鶴館', '臥竜窟', '主人苦沙弥君', '気違', '落雲館', '風流漢', '三日', '引き越し', '落雲館', '桐畠', '——いろいろ', '大概ここ', '後彼等', '驚ろ', '彼等君子', '君等', '二三度', '維新前', '専門的知識', '二十世紀', '今日歓迎', '君子流', '一人', '植物園', '邸内', '桐畠', '功果', '一書', '落雲館校長', '二三人', '落雲館', 'さ三尺', '四つ目垣', '全体人', '落雲館', '沙弥先生', 'この間主人', '動物園', 'ひまつぶし', '一人', '馬鹿大名', '恃むもの', '恃みたいもの', '恃め', '柔術使', '一折', '一番手頃', '——猿', '通り奥山', '落雲館', '落雲館', '功果', '休暇中', '間抜', '落雲館', '四つ目垣', '落雲館', '四つ目垣', '繞ら', '四寸角', '奇術師張世尊', '功能', '分界線', '四つ目垣', '乗り踰', '幾人', '敵地', '密猟船', '張り番', '方専門', '主人方', '——吾輩', '後架後架', '迷惑千万', '一二人', '何度', '何度', '大概逆上', '一人', '古来欧洲人', '吾人', '四種', '鈍液', '壮ん', 'その後人文', '鈍液', '憂液', '大抵一人前', '付五升五合', '五升五合', '交番焼打', '当時巡査', '警察署', '一人', '医学上', '濡れ手拭', '延命息災', '傷寒論', '濡れ手拭', '長寿法', '一日', 'ざる者', '沙門雲水行脚', '樹下石上', '樹下石上', '六祖', '大分発明', '一日', '気違', '気違', '勿体そう', '一寸八分の朽木', '鴨南蛮', '下宿屋', '気違', '臨時気違', '気違', '一生涯', '向う間', '気違', '逆上術', '毎日渋柿', '十二個', 'かん徳利', '鉄砲風呂', '葡萄酒', '功能', '態度動作', '心的状態', '線香一本', '間我慢', '快走船', '逆上受合', '腹這', '人為的逆上', '早晩随意', '一日', '歴史家', '弊竇', '天晴', '張り合', '落雲館', '敵軍', '一種', '任意これ', '敵中', 'ダムダム', '落雲館', '運動場', '間接射撃', '功果', '一発', '軍力', '威嚇性', '希臘', '学者作家', '学者作家', '営養不足', '学者作家', '学者作家', 'みんな営養不足', '金柑頭', '先生例', '頭——頭', '時イスキラス', '一羽', '希臘時代', '甲羅つき', '鬼殻焼', '折柄', '時鷲', '禿岩', '落雲館', '六畳敷', '学者作家', '落雲館', 'ダムダム丸', '二週間継続', '銅壺', '二週間', '銅壺', '苦沙弥先生', '雁鍋', '誂ら', '塩煎餅', '茶羅ッ鉾', '雁鍋', '一斤', '椽側一杯', '落雲館', '十八九', '一人', '四ツ目垣', '韋駄天', '主人自ら', '通り主人', '逆上家', '夫子自身', '今一歩', 'うの領分', '敵軍', 'こと出馬', '邸内', '虎闘', '散文的', '結了', '腹這', '防禦策', '落雲館', '授業中', '運動場', '昨日敵中', '英吉利', 'らん国', '昔人', '道一以', '唐詩選', '高声', '皮肉家', '冷評的分子', '教師たる者', '永久ダムダム弾', 'うち頭', '漸次回復', '濡れ手拭', '樹下石上', '二十世紀', '一度', '八百', '一尺', '沙河', '野蛮人', 'アキリス', '三匝', '燕ぴ', '張飛', '長坂橋', '丈八', '蛇矛', '軍百万人', 'それ以外', '太古蒙昧', '馬鹿気', '日本国帝都', '野蛮的行動', '焼打以上', '臥竜窟主人', '苦沙弥先生', '落雲館裏八百', '東京市', '左氏', '陣勢', '陣立ていかん', '四つ目垣', '一隊', '戦闘線内', '縦隊総がかり', '運動場', '砲隊', '臥竜窟', '一人', '五六間', '一人', '一人', '臥竜窟', '戦闘準備', '何物たる', '文盲漢', '今日中学程度以上', '砲隊', '近所迷惑', '米国人', '運動遊戯', '使いよう', '運動術', '働ら', '世間一般', '今吾輩', '攻城的砲術', 'たる砲列', '一人', '所有者', '局外者', '鄭寧', '一人', '一人', 'ポカン', '神経性胃弱', '周囲附近', '弥次馬兼援兵', '三度', '臥竜窟邸内', '近来諸所', '大抵一隊', 'たま拾', '一部隊', '落ち場所', '邸内', '邸内', '邸内', '邸内', '邸内', '四つ目垣', '四つ目垣', 'あまり頭', '敵軍', '一弾', '四つ目垣', '運動律', '一則', '二則', '二則', '曰く運動', '邸内', '廻わる音', 'すべて敵', '邸内', 'ダムダム弾以上', '夕月', '毎日毎日ボール', '邸内', '必竟ずる', '消極的', 'さっき座敷', '一人', '十四五', '時万一逃げ', '事面倒', '一年生', '二年生', '愚図愚図理窟', '落雲館', '程度以上', '車引き', '見境い', '中学一年生', '敵将', '敵軍', '我もと四つ目垣', '庭中', '一ダース', '上衣もちょっ着', '白シャツ', '帆木綿', '洒落者', '手伝', 'ぎり黙然', '間双方共', '貴様等', '落雲館', '落雲館', '庭宅', '落雲館', 'ん奴', '以後注意', '邸内', '落雲館', '落雲館', '何年生', '三年生', '埼玉生れ', '落雲館', '逆上的敏腕', 'ところ自分', '校長さん', 'ただ今邸内', '一通り', 'みんな学校', '君等', '教育上必要', '代り向後', '連れ帰り', '落雲館', '末勢', '滑稽文', '十四五', '大町桂月', '余瀾', 'すべて吾輩', 'かく事', '一字一句', '一大哲理', '一字一句', '首尾相', '前後相', '瑣談繊話', '忽然豹変', '五行ごと', '一度', '柳宗元', '吾輩自ら余瀾', '余瀾', '藤さん', '金田君', '鈴木君', '金田君', '邸内', '自然両君', '金田君', '偶然君', '藤さん', '鄭寧', '——それ', '事件以来胸糞', '苦沙弥', '剛慢', '社会上', '実業家', '実業家', '大分弱', '驚ろ', '一人', 'なに訳', '意気銷沈', '実業家', '結果主人', '蠅滑り', '実業家', '実業家諸君', '一人', '実業家', '実業家', '冥頑不霊', '冥頑不霊', '鈴木君', '悟り具合', '愚図愚図', '鈴木君', '鈴木君', '世間話', '一番毒', '希臘', '哲学者', '昔しだ', '——適宜', '——そう', '鈴木君', '落雲館', '碌々勉強', '文部大臣', 'ハハハ大分', '失敬千万', 'んだい', '源因', '十六', '自分一人', '鈴木君', '鈴木君', '大概訪問', '甘木先生', '逆上家', '竜頭蛇尾たる', '晩書斎', '落雲館', '平生かかりつけ', '甘木先生', '甘木先生', '一体医者', '甘木先生', '驚ろ', 'いくら薬', '甘木先生', 'どれ一つ拝見', 'せんだって催眠術', '催眠術', '催眠術', 'なに訳', 'なに大丈夫', '催眠術', '心ひそか', '上瞼', '摩擦法', '三四分', '甘木先生', '甘木先生', '催眠術', '甘木先生', '——主人', '余瀾', '余瀾', 'ただ顔', '四十前後', '美学者', '哲学者', '哲学者', '哲学者', '両人共応対振り', '金魚麩', 'せんだって友人', '——そう', '代り考', '金魚麩', '——あれ', '世間的', '金時計', '円滑円滑', '金魚麩', '何だい', 'なに普通', '麺麭', '一番都合', '仕立屋', '着たて', '裁縫屋', '駄目さ', '出来損こ', '毎日喧嘩', '一人喧嘩', '全体何', 'んだい', '落雲館事件', '今戸焼', 'ぴん助', '哲学者', '哲学者先生', 'ぴん助', 'なに妨害', '西洋人', '西洋人', '積極的積極的', '一積極的', '積極的', '下宿屋', '下宿屋', '西洋人', 'みんなこれ', '一人', '法庭', '法庭', '間違', '寡人政治', '代議政体', '代議政体', '永久満足', 'ものどこ', '積極的', '積極的', '進取的', '自分以外', '根本的', '一大仮定', '欧洲人', '夫婦君臣', '武士町人', '——山', '根本的', '落雲館', '今戸焼', 'ぴん助', '馬鹿野郎', '時電光影裏', '霊活', '西洋人風', '積極主義', '積極主義', '積極的', '積極的', '恃む', '一人', '積極的', '藤さん', '甘木先生', '催眠術', '消極的', '痘痕面', '維新前', '日英同盟', '時候後れ', '医学上', '現今地球上', '何人', '区域内', '一匹', '一人', '一人', '二十世紀', 'さそう', 'あばた自身', '党勢不振', '顔一面', '万古不磨', '集合体', '吾人', '山伏町', '浅田宗伯', '漢法', '宗伯老', '葛根湯', '東京市中', '宗伯老', '宗伯老', 'ざる事', '宗伯老', '漢法医', '孤城落日', '毎日登校', 'リードル', '紀念', '授業以外', '彼等生徒', '吾人', '埃及人', '顔一面', '顔中', '観音様', '西洋人', '保証人', 'もの主人', '宗伯老', '度毎', 'あばた面', '今日何人あばた', '小川町', '洋行帰り', '君西洋人', '哲学者', '落雲館', 'その後書斎', '霊活', '消極的', '英書', '喇叭節', '五六日', '七日目', '一七日', 'じい勢', '結跏', '南向き', '六畳', 'さ六尺', '幅三尺八寸高', '建具屋', '寝台兼机', '一種', '精神病者', '吾人', '二個', 'それ以来', 'こま結び', '二三度瞬', '風呂場', '朝風呂場', '毎朝顔', '——主人', '五分刈', '二寸', '御大そう', '五分刈', '三分刈', '何十', '曝くに', '——これ', '風呂場', '風呂場', '離魂病', '風呂場', '消極的修養', '驚ろ', '風呂場', '大分物騒', '一張来', '元来鏡', '深夜蝋燭', '一人鏡', '三度馳', 'あまり気味', '気違', '一歩', '吾身', '徹骨徹髄', 'ぷうっと頬', '二三度', '時吾輩', '河豚提灯', '両方共紛失', '万遍', '多角性', '骨格通り', '六角時計', 'ぺたをふくらませたる彼', '通り手のひら', '頬ぺた', '独り語', '奇体', '大分感心', '——顔', '三寸', '右眼', '蒟蒻問答的', '見性自覚', 'すべて人間', '誰人', '自己以外', '自己以外', 'みんな自力', '梧前灯下', '五車', '鵜呑', '己惚', '醸造器', '消毒器', '浮華虚栄', 'うた事蹟', '三分の二', '仏国革命', '当時物好き', '医者さん', '改良首きり器械', '妍醜瞭然', '生涯中', '期節', '自覚性馬鹿', '軽侮嘲笑', '賤しき', '哲学者', '大分充血', '慢性結膜炎', '塩鯛', '眼玉', '黒眼', '不得要領底', '吾輩ひそか', '眼玉', '晦渋溷濁', '透不明', '憺溟濛', '個人主義', '迷惑はさ', '限り系統的', '功果', '成効', '前途有望', '独逸皇帝陛下', '横向', '十把一', '当局者', '教育者', '多角性', '一信', '活版ずり', '多祥奉賀候回顧', '日露', '連戦連勝', '平和克復', '吾忠勇義烈', '過半万歳声裡', '歓喜何もの', '大詔煥発', '義勇公', '一意戦闘', 'ざる所', '二十五日', '区内一千有余', '出征将校下士卒', '区民一般', '一大凱旋祝賀会', '軍人遺族', '為め熱誠之', '聊感謝', '度就', '此盛典', '存候間', '只管希望', '華族様', '黙読一過', 'せんだって東北凶作', '義捐金', '二円', '三円', '人毎', '華族様', '華族様', '二信', '時下秋冷', '候処貴家益', '段奉賀上候陳', '本校儀', '通り一昨々年以来二三野心家', '為め', '一時其極', '候得共是', '不肖針作', '自ら警むる所', '臥薪甞胆', '苦辛', '独力以', '校舎新築費', '候其', '別冊裁縫秘術綱要', '書冊出版', '御座候本書', '不肖針作', '多年苦心研究', '工芸上', '原理原則', '法とり', '御座候', '製本実費', '一面斯道発達', '一面', '校舎建築費', 'つる心算', '御座候', '本校建築費中', '成下', '呈供', '候秘術綱要一部', '成下候', '表章', '成下度', '日本女子裁縫', '縫田針作', '屑籠', '針作君', '臥薪甞胆', '紅白の', '珍野苦沙弥先生虎皮下', '八分体', '太さん', '西江', '其胆力', '其勇気', '沙弥先生', '頭中', '汝何', '臭骸', '恃むまじきを恃', '酔漢漫', '灯自ら', '何物', '沙弥先生', '得たる', '馬鹿野郎', '発作的', '此発作的活動', '先生何', '天道公平', '針作君', '寄附金', '七拝', '寄附金', '寸断寸断', '苦沙弥先生', 'るいの', '七日間', 'コロンバス', '三日三晩', '仁参', 'グード・モーニング流', '意味深長', '天晴', '大変賞賛', '喋舌', '道徳経', '易経', '臨済録', '——主人', '八分体', 'まま懐手', '冥想', '先刻洗濯石鹸', '沓脱', '敷台', '二三度あけ', 'おい冗談', '客さん', '云えん事', '僕一人', '客さん', 'んだい', '是非君', '誰だい', '六尺', '一個', '双方共挨拶', '昔堅気', '礼義', '三年前', 'わる所', '年長者', '上座どころ', '精神修養', '迷亭君', '苦沙弥君これ', '伯父さんこれ', '沙弥君', '毎度迷亭', 'いつか参上', '御礼旁', '今後共', '朝鮮仁参', '——迷亭', '入国以来三百年', '通り将軍家', '迷亭先生面倒', '伯父さん将軍家', '宮様', '通り今日', '宮殿下', '東京見物', '沙弥君', '今度赤十字', '今日いっしょ', '通り先日僕', 'フロックコート', 'フロックコート', 'フロックコート', '上白シャツ', '白襟', '咽喉仏', 'チョン髷', '精神修養', '話以上', '歴史的研究', 'チョン髷', 'それ以上', '甲割り', '苦沙弥君', '伯父さん', '参詣人', '蓮生坊', '苦沙弥先生', 'まま老人', '鉄扇鉄扇', '甲割', '——敵', '楠正成時代', '伯父さん', '甲割', '誰の', '建武時代', '建武時代', '寒月君', '沙弥君', '実験室', '甲割', '建武時代', 'いくら性', 'ガラス球', '玉人', 'すべて今', '皆形而下', '皆命懸け', '商買', 'ゃろうがなかなか玉', '伯父さん心', '求放心', '邵康節', '中峯和尚', '具不退転', '沢菴禅師', '不動智神妙録', '我太刀', '伯父さん', '沙弥君', '伯父さん苦沙弥君', '毎日書斎', '——御前', '伯父さん', '忙中自ら閑', '閑中自ら忙', '苦沙弥さん', '伯父さん', '竹葉', '間違', 'なに妙', '名目読み', '名目よみ', '蝦蟆', '驚ろ', '蝦蟆', '名目読み', '透垣', '茎立', '田舎もの', 'なに厭', 'わし一人', '一人', 'チョン髷頭', '山高帽', '伯父さん', '伯父さん', 'ハハハ豪傑', '伯父さん', '君驚ろ', '迷亭君', '驚ろか', '伯父さん', '六十', '一今', '東洋流', '消極的', '心そのもの', 'せんだって哲学者', '八木独仙君', '八木独仙', '驚ろ', 'せんだって臥竜窟', '説服', '哲学者', '八木独仙君', '鹿爪', '八木独仙君', '容髪', '君独仙', '十年前学校', '独仙', '一八木', '寄宿舎時代', '独仙', '通り消極的', '先生気楽', '消極論', '晩鼠', '独仙君', '夜なか', '近来独逸', '印度人', '独仙君', '糸屑', '山羊髯', '一週間', '独仙流', '消極説', '時大', '独仙', '君九年前', '時寄宿', '二階', '独仙君', '当人大分説', '峻峭', '二階', '惜みの', '苦沙弥先生', '時禅宗坊主', '電光影裏', '十年前', '覚禅師', '寄宿舎中誰', '電光影裏', '春風影裏', 'いたずらもの', 'いたずら者', '禅坊主', '南蔵院', '八十', '時寺内', '和尚泰然', '独仙', '一人', '独仙', '二人', '気狂', '一人', '理野陶然', '独仙', '気狂', '代り今度', 'その後東京', '万年漬', '独仙', '顔付', '独仙', '一人同窓中', '誰だい', '梅君', '独仙', '君本物', '何だい', '事だい', '独仙', '豚仙さ', '禅坊主', 'わる意地', '君表', '二三日', '豚仙', '気狂', '独仙', '独仙', '自大狂', '自ら天道公平', '天道公平', '天道公平', '気狂', '孔平', '四五通', '不足税', '二度', '豚仙', '気狂', '気狂', '朝鮮仁参', '朝鮮仁参', '朝鮮仁参', '気狂', 'それっきり', '沙弥先生', '天道公平君万歳', '迷亭先生', '反覆読誦', '金箔つき', '瘋癲病者', '顔付', 'あらら', '沓脱', '書生同様取次', '客さん', '客さん', '苦沙弥先生', '沙弥先生', '迷亭君', '一枚', '警視庁刑事巡査吉田虎蔵', '虎蔵君', '二十五六', '唐桟ずくめ', 'この間深夜', '泥棒君', '刑事巡査', '鄭寧', '虎蔵君', '驚ろ', '理論上', '自分達', '昔場末', '上の者', '午前九時', '日本堤', '——盗難品', '盗難品', '先生たいがい', '多々良三平', '盗難品', '一人前', '盗難品', '山の芋一箱', '——九時', '日本堤分署', '——浅草警察署', '管轄内', '日本堤分署', '——それ', '泥棒君', 'アハハハ君', '大変尊敬', '鄭寧', 'あたり前', 'ハハハそれ', '間あいつ', '自信家', '時以後人', '豚的幸福', '九時', '八時', '東京通', 'ハハハ日本堤分署', '君ただ', '迷亭君', '力味', '迷亭君', '一波瀾', '刑事事件', '日暮れ方', '晩飯', '八木独仙君', '瘋癲的系統', '二人', '気狂', '系統内', '天道公平事実名立町', '棒大', '瘋癲院中', '擅まま', '自ら任ずる', '同気相', '同類相', '気狂', '文章言辞', '——自分', '気狂', '同型中', '一重', '同室内', 'このほどじゅう', '奇上', '変傍', '脳漿一勺', '化学的変化', '舌上', '腋下', '狂臭', '筋頭', '出かさん', '東京市民', '積極の', '気狂', '気狂', '気狂', 'フロックコート', '伯父さん', '弁当持参', '気狂', '四はと', '毒悪', '金田君', '金田君', '琴瑟調和', '気狂', '落雲館', '天晴', 'みんな気狂', '寄り合', '気狂', '瘋癲院', '瘋癲院', '気狂', '気狂', '気狂', '気狂', '気狂', '当夜煢', '沈思熟慮', '心的作用', '八字髯', '思索力', '脳力', '毛衣', '当夜主人', '気狂', '何条', '七時', '襖越し', 'ぎり返事', '間違', '世間一般', '異性間', '際こと', '考え違', 'ぱたぱた書斎中', '一体掃除', '掃除法', '一通り障子', '源因', '毎日奇麗', '告朔', '毎日毎日御苦労', '器械的', '形式論理学', '鮑貝', '自ら事実', '鮑貝', '七輪', '幾条', 'さそう', '望通り', '怨ずる', '思あらしむる', '声盲', '声盲', 'この間しめ出し', '家根', '終夜顫えつ', 'これ等', 'ゃごおうにゃごおうと三度目', '一枚', '四寸', '一本', '七輪', '三個', '七輪', '風呂場', '三人', '二人', '三番目', '濡れ雑巾', '顔中', '廻わし', '八木独仙君', 'がい茶碗', '坊やちゃん', '坊やちゃん', '自信家', '坊やちゃん', '時姉', '坊やちゃん', '坊やちゃん', '喋舌', '言葉ちがい', '間違', 'わたしゃ藁店', '藁店', '間違', '——当人', '——元禄', '騒動中', '一本', 'かたまり', '坊ば', '代り十文半', '一本', '二歩', '時主人', '首もろ', '一回', '三尺', '驚ろ', '倍以上', '九時', '我儘者', '一度', '時裏', '怒り出し', '最後朝', '金田君', '天道公平君', '金田君', 'ゴロツキ', '今戸焼', '犯罪者', '所刑', '国境外', '落雲館', 'ほか苦手', '町内中', '精神修養', '八木独仙', '頭中', '一ヵ月', '驚ろ', '一本一本', '独乙皇帝陛下', '一晩', '精神修養', '野猪的本領', '金田君', '金田君', '天道公平君', '時主人', '昨日紹介', 'さ一間', '上下共', '二枚', '天然自然ここ', '活版摺', '反古紙', '癇癪持ち', '襖一', '五六人', '元来意地', '伊藤博文', '明治十一年九月廿八日', '韓国統監', '大蔵卿', '大蔵卿', '大蔵卿横', '木板', '二字', '二字', 'それぎれで手掛り', '気狂', '大分県', '伊藤博文', '大分県', '風呂場', '通り掃除', '十年一日', '先日紹介', 'げーげー', '西洋手拭', '如輪木', '沙弥先生', '元来不明瞭', '当分留守番', 'その後一戸', '隠居所', '銀行家', '毎日人', '委托', '毎日事務', '長火鉢事件', 'みんな泥棒根性', '先刻雑巾', '白粉罎', '勢揃', '三女子', '南蛮鉄', '琉球塗', '朱盆', '坊ば', '独り異彩', '子の', '禅寺', '三令嬢', '坊ば', '坊ば', '三歳', '三歳', '坊ば', '無能無才', '坊ば', '勢暴威', '坊ば', '二本いっしょ', '八分通り', '一面', '三十度', '坊ば', '坊ば', '米粒', '米粒', 'ぺたと顋', '金田君', '勢力家', '公等', '坊ば', '公等', '米粒', '戸迷', '敏腕家', '坊ば', '一杯', '三口', 'ちの方', '四膳', '五杯目', 'ちの蓋', 'さそう', 'ゃもじの上', 'まま畳', '驚ろ', '鄭寧', 'ちの中', '坊ば', '一大活躍', '坊ば', 'あら坊ばちゃん', 'ぜん粒だらけ', '坊ば', '驚ろ', '大分群', '二十粒', '一粒', '顔中', '時ただ今', 'ん子', '盛り立て', '二三片', '坊ば', '坊ば', '専心自分', '絶体的放任主義', '三人', '海老茶式部', '鼠式部', '三人', '眼玉', 'ごろつき手', '一人', '関ら', 'ごろつき手', '日本堤分署', '日本堤', '日本堤', '欠勤届', '驚ろ', '通り針箱', 'その後三十分間', '家内平穏', '十七八', '算盤珠', '一二町', '叔母さん今日', '八時半頃', 'かいらしった', 'なあに品物', '昨日巡査', '七時', '二度目', '神経衰弱', 'なに学校', '蒟蒻閻魔', '蒟蒻閻魔', '蒟蒻閻魔', '思い通り', 'こないだ蝙蝠傘', 'こないだ保険会社', '——いろいろ訳', '一時間', '三人', '不安心', '十七八', '保険会社', '大丈夫僕', '是非及第', '保険社員', '保険会社', '一人', '鈴木さん', '鈴木さん', 'みんな逆', '八木さん', '八木さん', '大分閉口', '昨日迷亭さん', '——こないだ学校', '八木さん', '八木さん', '雪江さん', '淑徳婦人会', '天神様', 'みんな感心', '雪江さん', '三人', 'あら雪江さん', '二人', 'みんな静か', '雪江さん', '雪江さん何', '坊ば', '三女', '坊ば', '坊ばちゃん', '坊ば', '雪江さん', '坊ば', '坊ばちゃん', '雪江さん', '坊たん', '坊たん', 'わたち', '稲刈', '坊ば', '坊ばちゃん', 'それぎりなの', '雪江さん', '雪江さん', 'それぎり当分', '八木先生', '雪江さん', '石地蔵', '大変賑やか', '石地蔵', 'そりゃ訳', '一人', '石地蔵', '一番利口', '地蔵さん', '三時間', '雪江さん', '地蔵様', '二度共', 'ば取り', '地蔵様', '付け髯', '地蔵様', '地蔵様', '地蔵様', '法螺吹', '付け髯', '紙屑籠', '岩崎男爵', '地蔵様', '殿下さま', '殿下さま', '八木先生', '殿下様', '一不敬', '殿下さま', '殿下さま', '殿下さま', '殿下さま', 'ゴロツキ', '地蔵様', '地蔵様', '夜昼交替', '御苦労様', '地蔵様', '毎日毎日', '大分みんな', 'ゴロツキ', '幾日', '雪江さん', 'ホホホホいや', '子さん', '——それ', '毎日毎晩', '時町内', '馬鹿竹', '何年', '地蔵一つ', '馬鹿竹', 'ゴロツキ', '地蔵様', '雪江さん飄然', '馬鹿竹', '雪江さん', '多々良三平さん', '多々良さん', '多々良さん', '——それ', '馬鹿竹', '地蔵様', '地蔵様', '地蔵様', '地蔵様', '八木先生', '女性的', 'これ等', '畸形児', '馬鹿竹', 'あなた方', '馬鹿竹', '嫁姑', '三分一', '平均男子', '馬鹿竹', '雪江さん', '馬鹿竹', '馬鹿竹', '富子さん', '富子さん', 'ハイカラさん', '雪江さん', '婦人会', '驚ろ', '雪江さん', '金田さん', '馬鹿竹', '新体詩集', '東風さん', '物数奇', '東風さん', '大変真面目', '——それ', '此間だれ', '艶書', '宗教家', '三人', '寒月さん', '寒月さん', '寒月さん', '寒月さん', '雪江さん', '雪江さん', '結婚事件', '雪江さん', '招魂社', '水道橋', '雪江さん', '招魂社', '招魂社', 'わたし一人', '坊ば', '坊ばさん', '招魂社', '三人', '招魂社', '日本堤分署', '風呂敷包', '雪江さん', '徳利様', '徳利様', '一種異様', 'らしった', '雪江さん', '雪江さん', '油壺', '油壺', '花活', '花活', '油壺', '油壺', '風呂敷包', '皿眼', '盗難品', '驚ろ', '洗い張', '油壺', '日本堤界隈', '賤業婦', '驚ろ', '元来九時', '十一時', '三時間', '日本服', '油壺', '油壺', 'らしった', '石地蔵', '女大学', '二百', '驚ろ', '没分暁', '論理学', '馬鹿竹', '雪江さん', '言ここ', '心理作用', '雪江さん', '敷居越', 'お客さま', '生徒さん', '雪江さん', '種取り兼人間研究', '張合', '神秘的作用', '吾輩猫共', '雪江さん', '雪江さん', 'うちはさ', '油壺', '死竜', '蒸汽喞筒', '二六時中間断', '灼然炳乎', '奇特家', '吾知らず', '旦那様', '大分多く', '十七八', '雪江さん', '伊予絣', '袖短', '四つ目', '窮屈そう', '毬栗頭', '乱暴者', '三十分', '運動場', '一人', '幾分', '塵積', '一生徒', '排斥運動', 'ばかよう', '自ら襖', '苟め', '毬栗先生', '毬栗君', '祖父さん', '毬栗坊主', '下宿屋', '気兼', '否大', '働らく', 'るい毬栗坊主', '雪江さん', '一碗', '主人一人', '小笠原流', '雪江さん', '雪江さん', '双方無言', '辛防', '古井何とか', '古井武右衛門', '古井武右衛門——', '四年生', '三年生', '二年生', '二年乙組', '監督組', '古井武右衛門君', '辞職勧告', '武右衛門君', '用事相談', '武右衛門君', '本人自身', '君遊び', '武右衛門君下', '武右衛門君', '二年生', '脳力', '喋舌', '乙組中鏘', 'せんだってコロンバス', '日本訳', '武右衛門君', '姫様', '云わく', '武右衛門君', '武右衛門君', '毬栗頭', '浜田平助', '下宿料', 'たんだい', 'んだい', '艶書', '投函役', 'んだい', '艶書', '艶書', '艶書', 'んだい', '艶書', '実業家', '事だい', '艶書', '——浜田', '古井武右衛門', '——それ', '艶書', 'んだい', '夜あすこ', '三人', '二三日', '文明中学二年生古井武右衛門', '文明中学', 'おやじさん', '武右衛門君', '雪江さん', '何物', '際武右衛門君', '細君及雪江嬢', '鉢合', '個々別々', '一主人', '武右衛門君', 'おやじさん', '驚ろか', '驚ろ', '武右衛門君', '千人近く', 'みんな退校', '古井武右衛門君一人', '賦税', 'ごまかし性表情', '大分骨', '芸術的良心', '大変珍重', '武右衛門君', '冷淡以上', 'それ以上', '向う三軒両隣', '一歩向', '武右衛門君', '艶書事件', '武右衛門君', '諸君女', 'はかよう', '武右衛門先生', '間違', '武右衛門君', '心行き', '功名心', '顔面神経', '反射作用', '鉄砲丸', '塊まり', '三日処置', '平生学校', '雪江さん', '武右衛門君', '武右衛門君', '武右衛門君', '金田君', '金田令夫人', '武右衛門君', '金田君', '居住地以外', '文明中学', '退校どころ', '武右衛門君', '筋違', '寒月君', '寒月君', '顔半分', 'んだい', 'んだい', '寒月君', '談判不調', '武右衛門君', '方々散歩', '夜十一時頃', '公園内', '紅塵万丈', 'んだい', '動物園', '理科大学', '深夜闃寂', '四望人', '鬼気肌', '魑魅鼻', '魑魅鼻', '事だい', '夜なか', '武右衛門君', '寒月君', '武右衛門君', '寒月君', '京焼', '雪江さん', '憚りさま', '驚ろ', '雪江さん', '寒月さん', '一字', '雪江さん', 'あら人', 'それ御覧', '雪江さん', '寒月君', '先生障子', '嬢さん', '寒月君障子', '張りたて', '超絶的曲線', '理学者', '武右衛門君', '武右衛門君', '巌頭', '華厳滝', '金田令嬢', '武右衛門君', '一人', '二人', '寒月君', 'こないだコロンバス', 'なあに好い加減', '政治家', 'なに愚', '艶書', '驚ろ', '艶書', '艶書', '驚ろ', '三人', '三人', '一本', '一人前', '西洋料理', '三人', '一人', '一人', '一人', '一番愚', '間違', 'なに金田', '一番心配', '一人', '大分迷亭', '時代思潮', '艶書', 'たいがい常識', '僧共', '二三日中', '当分どこ', '是非いっしょ', '——それ', '雪江さん', 'けらけら', '迷亭君', '独仙君', '迷亭君', '独仙君', '山羊髯', '清戯', '俗了', '一局', '列仙伝中', '新奇発明', '一尺四方', '三四十目', '天下わけ目', '天空海濶', '両足以外', '小刀細工', '迷亭君', '禅機', '独仙君', '各自任意', '横竪', '一手ごと', '禅機', '迷亭君', '禅坊主', '臣死', '薫風南', '殿閣微涼', '八幡鐘', '一剣天', '大変大変', 'Doyouseetheboy', '——なに君', '君さっき', '春風影裏', '春風影裏', '電光影裏', '君の', '生死事大', '無常迅速', '迷亭先生今度', '迷亭君', '独仙君', '寒月君', '東風君', '寒月君', '三本', 'まま畳', '寒月君', '東風君', '寒月君', '四日', '方々馳', '一本', 'なに大丈夫', '全体どこ', 'んだい', 'なに鼠', 'だき心', 'かい巻', '東風君', '迷亭先生', '東風君', '調戯', '章魚同然手', '独仙君', '——こっち', '——こっち', '一目打ちたまえ', '——それ', '——寒月君', '以太利亜', '三百年前', '迷亭君', '同一視', '金田某', '独仙君', 'いまさ', 'ッぱり駄目', '当り前さ', '君の', '本因坊流', '金田流', '当世紳士流', '——おい苦沙弥先生', '独仙君', '万年漬', '後ろ向', '迷亭君', '独仙君', '東風君', '寒月君', '恃むところがあるんだが', '高等学校時代', '——先生私', '高等学校時代', 'なあに先生', '寒月君', '寒月君', '高等学校生', '麻裏草履', '一人', '独仙君', '二三箇所', '禅学者', '——寒月君', '高等学校', '兵式体操', '一個', '一個', '元気旺盛', '独仙君', '質朴剛健', '灰吹きが', '頃吐月峰', '一個', '質朴剛健', '美譚', '独仙君', '——僕', '楚辞', '寒月君', '——なに石', '勘定所', '才人ウェルテル君', '寒月君', '独仙君', '寒月君', '土地柄', '土地柄', '一あれ', '塩風', '迷亭君', '一人', '一国中', '沙弥君', '己惚', '一国中', '東風君', '迷亭先生', 'なに大丈夫', '東風君', '寒月君', '迷亭君', '独仙君', '妻君難', '四六二十四', '二十五', '二十六', '二十七', '四十六目', '十八目', '——何', '妻君難', 'アハハハハ別段難', '独仙君', '独仙君', '寒月君', '寒月君', '是非結婚', '東風君', '迷亭君', '御名論', '我々未婚', '寒月君', '経験譚', 'ウェルテル君', 'ヴァイオリン物語', '迷亭君', '遊戯三昧', '独仙君', '東風君', '東風君', '望み通り僕', 'ヴァイオリン談', '大分苦心', '麻裏草履', '東風君', '天才呼ばわり', '毎日散歩', '一日', '東風君', '独仙君', '毎日ヴァイオリン', '二三梃いっしょ', '水癲癇', '人癲癇', '君の', 'ヴァイオリン癲癇', '迷亭君', '芸術家', '天才肌', '東風君', '奇体', 'その後今日', '独仙君', '毎日毎日店頭', '三度', '三度目', '鉄拳制裁', '——、これ', '音楽会', '東風君', '——それ', '一人', '偽病', '迷亭君', '六尺', '一面', '東風君', '三四時間', '六尺', '三四時間夜具', '六尺', '一面', '東風君', '六尺', '一面', 'んだい', '迷亭君', '独仙君', '寒月君', 'いつ頭', '今あなた方', '東風君', '芸術家', '本来多情多恨', '東風君', '独仙君', '性来', '人迹稀', '百姓家', '人迹', '写生的', '迷亭君', '東風君', '独仙君', '何里', '四五丁', '独仙君', '百姓家', '一人', '二人', '人迹稀', '正面攻撃', '人迹', '手織木綿', '綿入', '金釦', '制服外套', '折柄柿落葉', '南郷街道', '一杯', '一歩', '東嶺寺', '東嶺寺', '松平家', '一丁', '筋違', '——末', '布哇', '布哇', '迷亭君', '南郷街道', '二丁', '鷹台町', '古城町', '仙石町', '喰代町', '通町', '一丁目', '二丁目', '三丁目', '尾張町', '名古屋町', '鯱鉾町', '蒲鉾町', '金善', '金子善兵衛方', '金善方', '一度', '二度', '通り一', '東風君', '独仙君', '五円札', '二枚', 'ヴァイオリン一梃', '二百', '三百', '二千', '沈澱党', 'さそう', '寒月君', '一冊', '腹這', '独仙君', '一人相撲', '一人', '二人', '東風君', '迷亭先生', '寒月君', '東風君', '金善', '金善', '十時頃', '十時頃', '二時間', '三時間', 'の何', '——千秋', '迷亭先生', '芸術家', '東風君', '寒月君', '徒町', '百騎町', '両替町', '鷹匠町', '紺屋橋', '二本', '十時', '——紺屋橋', '三人', '芝居がかり', '音楽学校', 'みんな罪人', '罪人さ', '好男子寒月君', '十時', '三ダース', '十時', '寒月先生', '十時', '十時', '金善', '両替町', '金善', '薄気味', '時主人', '東風君', '独仙君', 'ままヴァイオリン', '四五人小僧', '二度目', '一番前', '覚束', '三四梃一度', '五円二十銭', 'みんな丈夫', '拵ら', '五円札', '二十銭', '事風呂敷包', '幸誰', '一丁', '二三人', '町内中', '金善', '濠端', '薬王師道', '二時十分前', '東風君', '気の毒そう', '迷亭君', '根気負け', '仏作', '随意さ', '沙弥先生', '東風君', '張合', '大分人', '天井裏', '東風君', '百姓家', '東風君', '寒月君', '迷亭君', 'のだい', '二行', '君羅甸語', '羅甸語', 'のだい', '平生羅甸語', '迷亭君', '何だい', '羅甸語', '寒月君', '寒月君それ', '寒月君', '祖母さん', '祖母さん', '東風君', '天井裏', '寒月君', '東風先生', '先生今日', '大分俳句', '子規子', '驚ろ', '子規さん', '東風君', '無線電信', '肝胆相', '東風先生', '寒月君', '木槿垣', '一重', '沈澱組', '東風君', '気の毒そう', '証拠音', '僕等', '藤さん', '藤さん', '大変味淋', '味淋', '一人', '日藤さん', '苦沙弥君', '味淋', '——両君', '沙弥先生元来酒', '味淋', '顔中真赤', '二目', 'さまさ', '羅甸語', '藤さん', '半分以上', '大将隅', '朱泥', '三人', '独り独仙君', '姥子', '一人', '呉服屋', '呉服屋', '古着屋', '姥子', '三日目', '姥子', '一杯煙草', '邯鄲夢', '洞入り', 'びらかす', '衣装道具', 'びらかす', '偸ん', '奴さん手拭', '一それ', '失敬さ', 'ハハハハじじい', '二日間', '悪事千里', '五六十本半紙', '湯壺', '江戸趣味', '江戸趣味', '呉服屋趣味', '肝胆相', '二週間', '二週間中爺さん', '先生——', '独仙先生', '——独仙先生', '独仙君', '独仙君', '山羊髯', '一筋長', '苦沙弥君', '寒月君', 'きいきい', '寒月君近所', '白牛', '寒月君', '珍語', '一日', '東風君', '迷亭君', '刀屋', '迷亭君', '鞘払', '東風君', '迷亭君', '独仙君', '顔付', '裏表共', '五分間', '——幸いヴァイオリン', '一句毎', 'おい諸君', '謹聴謹聴', 'まま二三歩草', '東風君一人', '東風君', '二三歩', 'とき三円二十銭', '赤毛布', 'んだい', '事草履', '柿落葉', '赤毛布', '東嶺寺', 'ボーン', '九時', '一人', '山道八丁', '一杯', '——そう', '百坪', '八畳敷', '三抱え', '一軒', 'ため道', '空霊', '二十分', '一人', '一人', '僕の', '——いや', '迷亭君', '独仙君', 'ようす', '東風君', '迷亭君', '大死一番乾坤新', '独仙君', '寒月君', '庚申山一面', '紛然雑然糅', 'コンノート殿下歓迎', '都人士狂乱', 'ステテコ', '山道八丁', '東風君', '寒月君', 'ハハハハこれ', '苦心惨憺', '東方君子', '迷亭君', '以太利亜風', '月中', '驚ろか', '怪狸', '一人', '寒月君', '全体山の上', '鬼窟裏', '独仙君', 'すべて独仙君', '寒月君', '寒月君', '寒月君', '矢張り学校', '迷亭先生', 'こないだうち', '暫時中止', '一件', '一件', '鼻事件', '天下一般', '万朝', '花聟花嫁', '掲ぐる', '東風君', '鴛鴦歌', '一大長篇', '三箇月前', '寒月君', '東風君そう', '秘密結婚', '沙弥さん', '通り寒月君', '予審判事', '今日先生', '結婚祝', '三本', 'なに沢山', '三本', '気だい', '鴛鴦歌', '東風君', 'なに鴛鴦歌', '金田家', '——なあに', '十人', '二十人', '所有品', '偸むの', 'ダンビラ', 'なに大丈夫', '千人', '二千人', '名人理学士水島寒月', '新婚学士', '元気旺盛', '沙弥さん', '金田君', '熊坂長範', '慾張り屋', '寒月君用心', '寒月君', '宝生流', '二十世紀', '独仙君', '独仙君', '時局問題', '寒月君', '芸術趣味', '東風君', '迷亭君', '探偵的傾向', '自覚心', '自覚心', '独仙君', '沙弥君', '刑事巡査', 'スリ泥棒', '変怪', '父母未生以前', '自覚心', '鴻溝', '自覚心', '一日一日', '自然天然', '行為言動', '人工的', '探偵的', '泥棒的', '勢自覚心', '勢自覚心', '勢探偵泥棒', '自覚心', '二六時中キョトキョト', '独仙君', '独仙君', '苦沙弥君', '昔しの人', '二六時中己', '二六時中太平', '焦熱地獄', '三更月下', '英吉利', '存外自覚心', '二本指', '英吉利趣味', '寒月君', '一人', '硝子鉢', '硝子鉢', '聯隊長', '水盃', '迷亭君', '侍従官女', 'みんな椅子', '寒月君', '自覚心', '独仙君', '自覚心', '自覚心', '平穏至極', '自覚心', '迷亭先生', '格言通り', '斃す事', '水力電気', '寒月君', '独仙君', '貧時', '富時', '喜時', '苦沙弥君', '癇癪持ち', '迷亭君', '苦沙弥君', 'みんな一度', '——娘', '卒塔婆小町', '東風君', '応無所住而生其心', '独仙君', '電光影裏', '寒月君', 'みんな心配', '迷亭君', '幸福さ', '独仙君', '出世間的', '禅語', '鉄牛面', '鉄牛心', '牛鉄面', '牛鉄心', '神経衰弱', '神経衰弱以前', '独仙', '寒月東風二君', '錬金術以前', '自殺クラブ', '神経衰弱', '世界向後', '自殺者', '自殺者', '独創的', '大分物騒', '哲学者', '千年', 'みんな実行', '万年', '大分研究', '落雲館', '自殺学', '正科', '迷亭先生', '沙弥先生', '御名論', '落雲館', '諸君公徳', 'むところはこれを人', '一歩展開', '窮措大珍野苦沙弥氏', '大分苦痛', 'ため功徳', '生命財産', '犬殺し', '大概自殺', '不具者', '張札', '志望通り', '東風君', '独仙君', '通り山羊髯', '現象世界', '寒月君', '独仙君', '顔付', '賤老若', '一人', '交ら', '暮色蒼然', '東風君', 'コルドヴァさ', '趣向だい', '迷亭君', '鐘つき番', '一時間前', 'めいめい河岸', 'ざぶりざぶりと水', '詐欺師', '書画骨董店', '道具類', '正直正銘', '上等品', '上等品', 'みんな高価', '物数奇', '客さん', '六百円', '六百円', '六百円', '迷亭君', 'なに代', '十円', '五円', '二三', '狩野法眼元信', '六百円', '月賦十円払込', '僕の', 'たまえ月十円', '六百円', '何年', '寒月君', '五年', '五年', '五年', '独仙君', '一念万年', '万年一念', '五年', '間毎月十円', '六十回', '六十回', '六十一回', '十円', '六十二回', '十円', '六十二回六十三回', '十円', '何度', '十円', '毎月得', '寒月君', '毎月毎月勘定', '人間一般', '未来記', '六十回', '寒月君', '東風君', '青年諸君', '六十回限り', '寒月君', '独仙君', '寒月君', '苦沙弥君', '迷亭君', '世態人情', '迷亭君', '未来記', '未来記', '独仙君', '二三百本', '時代後れ', '頑物——', '長範先生', '——僕', '未来記', '当座間に合せ', '人間全体', '社会的現象', '目下文明', '通り今', '個性中心', '一郡', '一国', '代表者以外', '生存者', '半毛', '親子別居', '一家一門', '一軒', '欧洲', '親子同居', '下宿料', '早晩日本', '是非輸入', '親子兄弟', 'ょにいるためにはいっしょにいるに充分', '異体同心', '夫婦二人', '一人前', '一つ穴', '束髪姿', '思い通り', '勢夫', '賢妻', '賢妻', '双方共苦しみ', '水平線', '働ら', '夫婦雑居', '寒月君', 'みんな分', '寒月君', '未来記', '一二歩', '近眼者', '未来記', '時一人', '哲学者', '人間自然', '弊竇', '高潮度', '二個', '普通以上', '関ら', '青年男女', '挙ぐる', '悖徳没倫', '吾人', '彼等青年男女', '個性保護', '先生私', '東風君', '吾人', '吾人', '現実世界', '哲学者', 'なに芸術', '芸術家', '享受者', '新体詩家', '一人', '鴛鴦歌', 'いく篇', '一大哲学者', '結婚論', 'よみ手', '人々個々', '現今英国', '小説家中', '直覚的', '直覚的', '曲覚的', '曲覚的', '独仙君', '不平さ', '十九世紀', '心置', '勇猛精進', '怨恨痛憤', '一人', '天下翕然', '一人', '一人', '幾人', '吾人', '結果不自由', '個性発展', '結果みんな神経衰弱', '民蕩々', 'アルコール中毒', '先生方', '大分厭世的', '寒月君', '迷亭君', '間違', '最前書斎', '寒月君', '十六世紀', '驚ろ', '是非君', '女性観', 'アリストートル曰く女', '寒月君', 'これ最大奇蹟', '曰く青年', '先生樽', 'ピサゴラス曰く天下', '曰く火', '曰く水', '曰く女', '希臘', '哲学者', '独仙君', '迷亭先生', '最大難事', '云えり', 'デモスセニス曰く人', '得たる', '二大厄', 'つて書', '友某', '曰く天下', '皇天憐', '曰く女子', '棄つる', 'わる口', '四五ページ', '迷亭先生', '今の', '十六世紀', 'ナッシ君', '寒月君', '迷亭君', '多々良三平君', '三平君今日', '卸立て', '四本', '縄ぐるみ', '先生胃病', '先生顔色', '一艘', '——私', '乗り廻わし', '迷亭君', '寒月君', '文学者', '文学者', '一番大切', '先生私', '埃及煙草', 'なかばってん', '大変信用', '寒月君', '軽便信用', '三平君', '寒月さん', '金田家', '寒月さん', '寒月君', 'さっき僕', '聟さん', '東風君新体詩', '迷亭君', '三平君', '東風君', '君シャンパン', '——先生披露会', '東風君', '候補者寒月君', '一瓶四円', '五円', '君一つ譜', '一瓶二十銭', '七八枚', '先生候補者', '寒月君', '東風君', 'うちどれ', '一枚寒月君', '是非周旋', '一枚', '是非周旋', '十七', '——これ', '持参金', '千円', '——こっちの', '一人', '君一夫多妻主義', '多妻主義', '肉食論者', '三平君', '一枚一枚', '独仙', '五君', '三平君', '艶福', '三平君', '披露会', '一度', '癒らん', 'そげん頑固', '媒酌人たる', '——なに仲人', '藤さん', '二人', '一竿風月閑生計', '人釣白蘋紅蓼間', '唐詩選', '寒月君', '東風君', '先生私', '一杯ビール', '一人', '独仙君', '肌寒', '不断着', '独仙君', '迷亭君', '寒月君', '東風君', '今十年', '三平君', '生涯三鞭酒', '藤さん', '二年越し', '見識家', '先達てカーテル・ムル', '百年前', '好奇心', '一匹', '不孝もの', '一世紀', '何有郷', '早晩胃病', '大概落ち', '定業', '三平君', '火消壺', '酔興', '一度', '良薬口', '儲け者', '一杯', '一杯目', '二杯目', '腹内', '独仙', '月様今晩', 'そこかしこ', '驚ろか', 'ぐにゃりと前', '矢鱈', '手応', '水葵', 'その後烏', '勘公', '大分減', '吾輩自身', '四寸余', '三寸', '五寸', '百年', '間身', '馬鹿気', 'これぎりご免', '楽そのもの', '粉韲', '南無阿弥陀仏南無阿弥陀仏']\n"
          ]
        }
      ]
    },
    {
      "cell_type": "markdown",
      "source": [
        "35"
      ],
      "metadata": {
        "id": "BbSx175OUY-q"
      }
    },
    {
      "cell_type": "code",
      "source": [
        "!pip install japanize-matplotlib"
      ],
      "metadata": {
        "colab": {
          "base_uri": "https://localhost:8080/"
        },
        "id": "OU-EDr7Lhgtq",
        "outputId": "6bbcf5aa-6693-45f7-e5b7-90751d26783e"
      },
      "execution_count": null,
      "outputs": [
        {
          "output_type": "stream",
          "name": "stdout",
          "text": [
            "Requirement already satisfied: japanize-matplotlib in /usr/local/lib/python3.7/dist-packages (1.1.3)\n",
            "Requirement already satisfied: matplotlib in /usr/local/lib/python3.7/dist-packages (from japanize-matplotlib) (3.2.2)\n",
            "Requirement already satisfied: python-dateutil>=2.1 in /usr/local/lib/python3.7/dist-packages (from matplotlib->japanize-matplotlib) (2.8.2)\n",
            "Requirement already satisfied: pyparsing!=2.0.4,!=2.1.2,!=2.1.6,>=2.0.1 in /usr/local/lib/python3.7/dist-packages (from matplotlib->japanize-matplotlib) (3.0.6)\n",
            "Requirement already satisfied: numpy>=1.11 in /usr/local/lib/python3.7/dist-packages (from matplotlib->japanize-matplotlib) (1.19.5)\n",
            "Requirement already satisfied: kiwisolver>=1.0.1 in /usr/local/lib/python3.7/dist-packages (from matplotlib->japanize-matplotlib) (1.3.2)\n",
            "Requirement already satisfied: cycler>=0.10 in /usr/local/lib/python3.7/dist-packages (from matplotlib->japanize-matplotlib) (0.11.0)\n",
            "Requirement already satisfied: six>=1.5 in /usr/local/lib/python3.7/dist-packages (from python-dateutil>=2.1->matplotlib->japanize-matplotlib) (1.15.0)\n"
          ]
        }
      ]
    },
    {
      "cell_type": "code",
      "source": [
        "def word_counter(sentence_dic):\n",
        "  counter_dic={}\n",
        "  for line in sentence_dic:\n",
        "    for word in line:\n",
        "        #出現しない言語は新しく保存\n",
        "        if not word['surface'] in counter_dic:\n",
        "            counter_dic[word['surface']] = 1\n",
        "        #出現する場合はcounterを増やす\n",
        "        else:\n",
        "           cnt = counter_dic[word['surface']]\n",
        "           cnt += 1\n",
        "           counter_dic[word['surface']] = cnt\n",
        "\n",
        "  return sorted(counter_dic.items(), reverse=True, key=lambda x : x[1])\n"
      ],
      "metadata": {
        "id": "XSgBiCtNUZni"
      },
      "execution_count": null,
      "outputs": []
    },
    {
      "cell_type": "markdown",
      "source": [
        "36"
      ],
      "metadata": {
        "id": "mSLcfiMGvD2o"
      }
    },
    {
      "cell_type": "code",
      "source": [
        "def plt_create(n,dic):\n",
        "  import japanize_matplotlib\n",
        "  import numpy as np\n",
        "  import matplotlib.pyplot as plt\n",
        "\n",
        "  x = [one_dic[0] for one_dic in dic[0:n]]\n",
        "  y = [one_dic[1] for one_dic in dic[0:n]]\n",
        "  plt.figure()\n",
        "  plt.bar(x, y)\n",
        "  plt.show()"
      ],
      "metadata": {
        "id": "AYy8es-AZ1xa"
      },
      "execution_count": null,
      "outputs": []
    },
    {
      "cell_type": "code",
      "source": [
        "word_counter_dic = {}\n",
        "word_counter_dic = word_counter(sentence_dic)\n",
        "plt_create(10, word_counter_dic)"
      ],
      "metadata": {
        "colab": {
          "base_uri": "https://localhost:8080/",
          "height": 264
        },
        "id": "C5PoKphBc_li",
        "outputId": "3526e78f-f06d-48e5-e266-ee40228f7508"
      },
      "execution_count": null,
      "outputs": [
        {
          "output_type": "display_data",
          "data": {
            "image/png": "[encoded data removed]",
            "text/plain": [
              "<Figure size 432x288 with 1 Axes>"
            ]
          },
          "metadata": {
            "needs_background": "light"
          }
        }
      ]
    },
    {
      "cell_type": "markdown",
      "source": [
        "37"
      ],
      "metadata": {
        "id": "leFyeVmriFjE"
      }
    },
    {
      "cell_type": "code",
      "source": [
        "def cooccurrence_list(word_dic):\n",
        "    cooccurrence_list = []\n",
        "    for sentence in word_dic:\n",
        "        # surfaceに猫が含まれていたらlistに追加する。\n",
        "        word_list = [word['surface'] for word in sentence]\n",
        "        if \"猫\" in word_list:\n",
        "            cooccurrence_list.extend([word for word in word_list if word != \"猫\"])\n",
        "    return cooccurrence_list\n",
        "\n",
        "def word_cooccurrence_counter(list):\n",
        "    counter_dic={}\n",
        "    for word in list:\n",
        "        #出現しない言語は新しく保存\n",
        "        if not word in counter_dic:\n",
        "            counter_dic[word] = 1\n",
        "        #出現する場合はcounterを増やす\n",
        "        else:\n",
        "           cnt = counter_dic[word]\n",
        "           cnt += 1\n",
        "           counter_dic[word] = cnt\n",
        "\n",
        "    return sorted(counter_dic.items(), reverse=True, key=lambda x : x[1])"
      ],
      "metadata": {
        "id": "yp2RqcCOikcE"
      },
      "execution_count": null,
      "outputs": []
    },
    {
      "cell_type": "code",
      "source": [
        "cat_list = cooccurrence_list(sentence_dic)\n",
        "word_counter_dic = {}\n",
        "word_counter_dic = word_cooccurrence_counter(cat_list)\n",
        "\n",
        "plt_create(10, word_counter_dic)"
      ],
      "metadata": {
        "colab": {
          "base_uri": "https://localhost:8080/",
          "height": 264
        },
        "id": "AXgar4ZynJ-S",
        "outputId": "44298e8a-7826-4fd8-a74f-5376ec6e29d5"
      },
      "execution_count": null,
      "outputs": [
        {
          "output_type": "display_data",
          "data": {
            "image/png": "[encoded data removed]",
            "text/plain": [
              "<Figure size 432x288 with 1 Axes>"
            ]
          },
          "metadata": {
            "needs_background": "light"
          }
        }
      ]
    },
    {
      "cell_type": "markdown",
      "source": [
        "38"
      ],
      "metadata": {
        "id": "KghA1NU7AZUt"
      }
    },
    {
      "cell_type": "code",
      "source": [
        "def plt_create_hist(dic):\n",
        "   import matplotlib.pyplot as plt\n",
        "\n",
        "   y = [one_dic[1] for one_dic in dic]\n",
        "   plt.hist(y, bins=20, range=(1,50))\n",
        "   plt.show()"
      ],
      "metadata": {
        "id": "HcOiQn78AZ78"
      },
      "execution_count": null,
      "outputs": []
    },
    {
      "cell_type": "code",
      "source": [
        "word_counter_dic = {}\n",
        "word_counter_dic = word_counter(sentence_dic)\n",
        "plt_create_hist(word_counter_dic)"
      ],
      "metadata": {
        "colab": {
          "base_uri": "https://localhost:8080/",
          "height": 267
        },
        "id": "YDSkksfxVMNG",
        "outputId": "0e95c19f-9c8e-4777-ac50-1ad0a9316352"
      },
      "execution_count": null,
      "outputs": [
        {
          "output_type": "display_data",
          "data": {
            "image/png": "[encoded data removed]",
            "text/plain": [
              "<Figure size 432x288 with 1 Axes>"
            ]
          },
          "metadata": {
            "needs_background": "light"
          }
        }
      ]
    },
    {
      "cell_type": "markdown",
      "source": [
        "39"
      ],
      "metadata": {
        "id": "Bc_CYcSvAaj2"
      }
    },
    {
      "cell_type": "code",
      "source": [
        "def plt_create_zipf(dic):\n",
        "  import matplotlib.pyplot as plt\n",
        "\n",
        "  plt.xscale('log')\n",
        "  plt.yscale('log')\n",
        "\n",
        "\n",
        "  x = [one_dic[0] for one_dic in dic]\n",
        "  y = [one_dic[1] for one_dic in dic]\n",
        "\n",
        "  plt.xlabel('ランク')\n",
        "  plt.ylabel('出現頻度')\n",
        "\n",
        "\n",
        "\n",
        "  plt.scatter(x=range(1, len(x)+1), y=y, s=2)"
      ],
      "metadata": {
        "id": "97fiNltgSGK-"
      },
      "execution_count": null,
      "outputs": []
    },
    {
      "cell_type": "code",
      "source": [
        "word_counter_dic = {}\n",
        "word_counter_dic = word_counter(sentence_dic)\n",
        "plt_create_zipf(word_counter_dic)"
      ],
      "metadata": {
        "colab": {
          "base_uri": "https://localhost:8080/",
          "height": 283
        },
        "id": "s96kKSruSlJH",
        "outputId": "744110a0-14a5-45b4-e360-f9de7fc2917f"
      },
      "execution_count": null,
      "outputs": [
        {
          "output_type": "display_data",
          "data": {
            "image/png": "[encoded data removed]",
            "text/plain": [
              "<Figure size 432x288 with 1 Axes>"
            ]
          },
          "metadata": {
            "needs_background": "light"
          }
        }
      ]
    }
  ]
}