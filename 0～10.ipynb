{
  "nbformat": 4,
  "nbformat_minor": 0,
  "metadata": {
    "colab": {
      "name": "0～10.ipynb",
      "provenance": [],
      "authorship_tag": "ABX9TyNiAb+jcrx1vtZ9eb2/MbNp",
      "include_colab_link": true
    },
    "kernelspec": {
      "name": "python3",
      "display_name": "Python 3"
    },
    "language_info": {
      "name": "python"
    }
  },
  "cells": [
    {
      "cell_type": "markdown",
      "metadata": {
        "id": "view-in-github",
        "colab_type": "text"
      },
      "source": [
        "<a href=\"https://colab.research.google.com/github/hirokiyamauch/NLP_100knock/blob/%E7%AC%AC%E4%B8%80%E7%AB%A0/0%EF%BD%9E10.ipynb\" target=\"_parent\"><img src=\"https://colab.research.google.com/assets/colab-badge.svg\" alt=\"Open In Colab\"/></a>"
      ]
    },
    {
      "cell_type": "markdown",
      "metadata": {
        "id": "BFw1zoaIoo4c"
      },
      "source": [
        "00\n"
      ]
    },
    {
      "cell_type": "code",
      "metadata": {
        "colab": {
          "base_uri": "https://localhost:8080/"
        },
        "id": "3B51JTkip6Yd",
        "outputId": "999e8587-ace1-44aa-b9b0-7578a2c1f7c2"
      },
      "source": [
        "x = \"stressed\"\n",
        "print(x)\n",
        "\n",
        "#負の値を指定することで、後ろから順番に抽出\n",
        "y = x[::-1]\n",
        "print(y)\n",
        "\n",
        "#reversedで文字列を逆順に並べ替えを行う\n",
        "y = \"\"\n",
        "for i in reversed(x):\n",
        " y += i\n",
        "print(y)"
      ],
      "execution_count": null,
      "outputs": [
        {
          "output_type": "stream",
          "name": "stdout",
          "text": [
            "stressed\n",
            "desserts\n",
            "desserts\n"
          ]
        }
      ]
    },
    {
      "cell_type": "markdown",
      "metadata": {
        "id": "Q5eN91I5qwmk"
      },
      "source": [
        "01"
      ]
    },
    {
      "cell_type": "code",
      "metadata": {
        "colab": {
          "base_uri": "https://localhost:8080/"
        },
        "id": "4zpRsimNsXYH",
        "outputId": "6b319c7d-6575-4d0b-f00c-2c215186420e"
      },
      "source": [
        "x = \"パタトクカシーー\"\n",
        "print(x)\n",
        "\n",
        "#正の値では、とびとびの文字の指定を行う\n",
        "y = x[::2]\n",
        "print(y)\n",
        "\n",
        "#if文で該当の文字列を抽出\n",
        "y = \"\"\n",
        "n = 0\n",
        "for i in x:\n",
        " if n % 2 == 1:\n",
        "   y  += i\n",
        " n = n + 1\n",
        "print(y)"
      ],
      "execution_count": null,
      "outputs": [
        {
          "output_type": "stream",
          "name": "stdout",
          "text": [
            "パタトクカシーー\n",
            "パトカー\n",
            "タクシー\n"
          ]
        }
      ]
    },
    {
      "cell_type": "markdown",
      "metadata": {
        "id": "4rZuEL7xtJl4"
      },
      "source": [
        "02"
      ]
    },
    {
      "cell_type": "code",
      "metadata": {
        "colab": {
          "base_uri": "https://localhost:8080/"
        },
        "id": "w9WQBJ9AtNGK",
        "outputId": "a527e59e-c325-46e9-d45a-225a3db49070"
      },
      "source": [
        "x1 = \"パトカー\"\n",
        "x2 = \"タクシー\"\n",
        "print(x1)\n",
        "print(x2)\n",
        "\n",
        "y =\"\"\n",
        "for i in range(len(x1)):\n",
        "  y += x1[i]+x2[i]\n",
        "print(y) "
      ],
      "execution_count": null,
      "outputs": [
        {
          "output_type": "stream",
          "name": "stdout",
          "text": [
            "パトカー\n",
            "タクシー\n",
            "パタトクカシーー\n"
          ]
        }
      ]
    },
    {
      "cell_type": "markdown",
      "metadata": {
        "id": "6bm1g-zuvZ8j"
      },
      "source": [
        "03\n"
      ]
    },
    {
      "cell_type": "code",
      "metadata": {
        "colab": {
          "base_uri": "https://localhost:8080/"
        },
        "id": "wwQltqeDvauE",
        "outputId": "08b61949-4279-439c-bc63-27226e7596bb"
      },
      "source": [
        "#replaceで,.を取り除いたのちに、splitで空白ごとに分割を行う\n",
        "x = \"Now I need a drink, alcoholic of course, after the heavy lectures involving quantum mechanics.\"\n",
        "y = x.replace(',', '')\n",
        "y = y.replace('.', '')\n",
        "y1 = y.split(' ')\n",
        "print(y1)\n",
        "\n",
        "list = []\n",
        "for i in y1:\n",
        " list.append(len(i))\n",
        "\n",
        "print(list)"
      ],
      "execution_count": null,
      "outputs": [
        {
          "output_type": "stream",
          "name": "stdout",
          "text": [
            "['Now', 'I', 'need', 'a', 'drink', 'alcoholic', 'of', 'course', 'after', 'the', 'heavy', 'lectures', 'involving', 'quantum', 'mechanics']\n",
            "[3, 1, 4, 1, 5, 9, 2, 6, 5, 3, 5, 8, 9, 7, 9]\n"
          ]
        }
      ]
    },
    {
      "cell_type": "markdown",
      "metadata": {
        "id": "Bl7VVjebPN5o"
      },
      "source": [
        "04\n"
      ]
    },
    {
      "cell_type": "code",
      "metadata": {
        "colab": {
          "base_uri": "https://localhost:8080/"
        },
        "id": "dpoI1eGFPNZf",
        "outputId": "056fdf90-26dc-4105-f382-c00531939f4c"
      },
      "source": [
        "x = \"Hi He Lied Because Boron Could Not Oxidize Fluorine. New Nations Might Also Sign Peace Security Clause. Arthur King Can.\"\n",
        "y = x.replace(',', '')\n",
        "y = y.replace('.', '')\n",
        "y1 = y.split(' ')\n",
        "d = {}\n",
        "for i in range(0, len(y1)):\n",
        " a = i + 1\n",
        " if a == 1 or a== 5 or a== 6 or a== 7 or a== 8 or a== 9 or a== 15 or a== 16 or a== 19:\n",
        "   d[y1[i][0]] = a\n",
        " else:\n",
        "   d[y1[i][:2]] = a\n",
        "\n",
        "print(d)"
      ],
      "execution_count": null,
      "outputs": [
        {
          "output_type": "stream",
          "name": "stdout",
          "text": [
            "{'H': 1, 'He': 2, 'Li': 3, 'Be': 4, 'B': 5, 'C': 6, 'N': 7, 'O': 8, 'F': 9, 'Ne': 10, 'Na': 11, 'Mi': 12, 'Al': 13, 'Si': 14, 'P': 15, 'S': 16, 'Cl': 17, 'Ar': 18, 'K': 19, 'Ca': 20}\n"
          ]
        }
      ]
    },
    {
      "cell_type": "markdown",
      "metadata": {
        "id": "6Z6YkPnd6lLL"
      },
      "source": [
        "05\n"
      ]
    },
    {
      "cell_type": "code",
      "metadata": {
        "id": "pQ1Ez-mkTTtP"
      },
      "source": [
        "def n_gram(x, n, ty):\n",
        "  sum = int(n)\n",
        "  tan = []\n",
        "  mozi = []\n",
        "  #文字列\n",
        "  if (type(x) is str) :\n",
        "   y = x.replace(',', '')\n",
        "   y = y.replace('.', '')\n",
        "   #文字bigram\n",
        "   if ty == 0:\n",
        "    for i in range(0,len(y)):\n",
        "      if i+n > len(y):\n",
        "        return mozi\n",
        "      mozi.append(y[i:i+n])\n",
        "   #単語bigram\n",
        "   if ty == 1:\n",
        "    y1 = y.split(' ')\n",
        "    for i in range(len(y1)):\n",
        "      tan_n = \"\"\n",
        "      if i+n > len(y1):\n",
        "        return tan\n",
        "      for k in range(n):\n",
        "        tan_n += y1[i+k]\n",
        "      tan.append(tan_n)\n"
      ],
      "execution_count": null,
      "outputs": []
    },
    {
      "cell_type": "code",
      "metadata": {
        "colab": {
          "base_uri": "https://localhost:8080/"
        },
        "id": "UquHKkcTWgWz",
        "outputId": "b9bc28e2-ca46-4f00-ad46-2e1c34c1d775"
      },
      "source": [
        "x = \"I am an NLPer\"\n",
        "tan = []\n",
        "mozi = []\n",
        "print(n_gram(x, 2, 0))\n",
        "print(n_gram(x, 2, 1))"
      ],
      "execution_count": null,
      "outputs": [
        {
          "output_type": "stream",
          "name": "stdout",
          "text": [
            "['I ', ' a', 'am', 'm ', ' a', 'an', 'n ', ' N', 'NL', 'LP', 'Pe', 'er']\n",
            "['Iam', 'aman', 'anNLPer']\n"
          ]
        }
      ]
    },
    {
      "cell_type": "markdown",
      "metadata": {
        "id": "NrR05KsQ8K1D"
      },
      "source": [
        "06"
      ]
    },
    {
      "cell_type": "code",
      "metadata": {
        "colab": {
          "base_uri": "https://localhost:8080/"
        },
        "id": "KIEKUoVWb98m",
        "outputId": "afbbe9e4-6a76-4e5a-a662-9ad28fb83b62"
      },
      "source": [
        "x1 = \"paraparaparadise\"\n",
        "x2 = \"paragraph\"\n",
        "tan1 = []\n",
        "tan2 = []\n",
        "tan1 = n_gram(x1, 2, 0)\n",
        "tan2 = n_gram(x2, 2, 0)\n",
        "x3 = tan1 + tan2\n",
        "#和集合\n",
        "print(set(x3))\n",
        "#積集合\n",
        "x4 = []\n",
        "for i in range(len(tan1)):\n",
        " if tan1[i] in tan2:\n",
        "      x4.append(tan1[i])\n",
        "print(set(x4))\n",
        "#差集合\n",
        "x5 = []\n",
        "for i in range(len(tan1)):\n",
        " if tan1[i] not in tan2:\n",
        "      x5.append(tan1[i])\n",
        "for i in range(len(tan2)):\n",
        " if tan2[i] not in tan1:\n",
        "      x5.append(tan2[i])\n",
        "print(set(x5))\n",
        "print('seがXに含まれる:' + str('se' in x1))\n",
        "print('seがYに含まれる:' + str('se' in x2))"
      ],
      "execution_count": 6,
      "outputs": [
        {
          "output_type": "stream",
          "name": "stdout",
          "text": [
            "{'is', 'ag', 'ph', 'di', 'ar', 'ap', 'se', 'gr', 'pa', 'ad', 'ra'}\n",
            "{'ar', 'ap', 'ra', 'pa'}\n",
            "{'ag', 'ph', 'di', 'se', 'gr', 'is', 'ad'}\n",
            "seがXに含まれる:True\n",
            "seがYに含まれる:False\n"
          ]
        }
      ]
    },
    {
      "cell_type": "markdown",
      "metadata": {
        "id": "-0w86-KYDEo-"
      },
      "source": [
        "07"
      ]
    },
    {
      "cell_type": "code",
      "metadata": {
        "colab": {
          "base_uri": "https://localhost:8080/"
        },
        "id": "lWsVWeRMDGCz",
        "outputId": "245fddb4-b51d-491d-812d-2da96ecf3b15"
      },
      "source": [
        "def clock(x,y,z):\n",
        "  sen = (str(x) + \"時の\" + y + \"は\"+ str(z))\n",
        "  return sen\n",
        "\n",
        "print(clock(12,\"気温\",22.4))"
      ],
      "execution_count": null,
      "outputs": [
        {
          "output_type": "stream",
          "name": "stdout",
          "text": [
            "12時の気温は22.4\n"
          ]
        }
      ]
    },
    {
      "cell_type": "markdown",
      "metadata": {
        "id": "7KE7YvJDEIHF"
      },
      "source": [
        "08"
      ]
    },
    {
      "cell_type": "code",
      "metadata": {
        "colab": {
          "base_uri": "https://localhost:8080/"
        },
        "id": "iu0f8q_eEJGb",
        "outputId": "b881c9c1-5a91-4027-b434-f28e731f3d4e"
      },
      "source": [
        "def cipher(x):\n",
        "  y = []\n",
        "  result = \"\"\n",
        "  for i in x:\n",
        "    if i.islower():\n",
        "      y += chr(219 - ord(i))\n",
        "    else:\n",
        "      y += i\n",
        "  for j in range(0, len(y)):\n",
        "    result += y[j]\n",
        "  return result\n",
        "x = \"Hi He Lied Because Boron Could Not Oxidize Fluorine. New Nations Might Also Sign Peace Security Clause. Arthur King Can.\"\n",
        "print(cipher(x))"
      ],
      "execution_count": null,
      "outputs": [
        {
          "output_type": "stream",
          "name": "stdout",
          "text": [
            "Hr Hv Lrvw Bvxzfhv Blilm Clfow Nlg Ocrwrav Foflirmv. Nvd Nzgrlmh Mrtsg Aohl Srtm Pvzxv Svxfirgb Cozfhv. Aigsfi Krmt Czm.\n"
          ]
        }
      ]
    },
    {
      "cell_type": "markdown",
      "metadata": {
        "id": "2LaUgu3bJdiY"
      },
      "source": [
        "09"
      ]
    },
    {
      "cell_type": "code",
      "metadata": {
        "colab": {
          "base_uri": "https://localhost:8080/"
        },
        "id": "54vvGYcRJc9E",
        "outputId": "a2c2b979-b769-4ebd-863a-8278a42d99c9"
      },
      "source": [
        "def random_pass(x):\n",
        " import random\n",
        " x1 = x.replace(',', '')\n",
        " x1 = x1.replace('.', '')\n",
        " x1 = x1.split(' ')\n",
        " y = \"\"\n",
        " for i in range(0, len(x1)):\n",
        "   #5文字以上\n",
        "   if len(x1[i]) > 4:\n",
        "     m = x1[i][0]\n",
        "     w = \"\"\n",
        "     #中の文字をとりだす\n",
        "     for j in range(1, len(x1[i])-1):\n",
        "       w += x1[i][j]\n",
        "     #ランダムに中の文字を入れ替える \n",
        "     w1 = \"\".join(random.sample(w, len(w)))\n",
        "     m += w1\n",
        "     m += x1[i][len(x1[i])-1]\n",
        "     y += m\n",
        "   #4文字以下\n",
        "   else:\n",
        "     y += x1[i]\n",
        "   y += \" \"\n",
        "\n",
        " return y\n",
        "\n",
        "x = \"I couldn’t believe that I could actually understand what I was reading : the phenomenal power of the human mind .\"\n",
        "print(random_pass(x))\n"
      ],
      "execution_count": null,
      "outputs": [
        {
          "output_type": "stream",
          "name": "stdout",
          "text": [
            "I conld’ut beeivle that I cuold aluatlcy unntrsdead what I was rdniaeg : the pahoennmel pweor of the haumn mind  \n"
          ]
        }
      ]
    }
  ]
}